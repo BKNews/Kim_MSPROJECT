{
 "cells": [
  {
   "cell_type": "code",
   "execution_count": 1,
   "metadata": {},
   "outputs": [
    {
     "name": "stderr",
     "output_type": "stream",
     "text": [
      "/Users/lisakim/.pyenv/versions/3.8.2/lib/python3.8/site-packages/pandas/compat/__init__.py:120: UserWarning: Could not import the lzma module. Your installed Python is incomplete. Attempting to use lzma compression will result in a RuntimeError.\n",
      "  warnings.warn(msg)\n"
     ]
    }
   ],
   "source": [
    "import pandas as pd\n",
    "import numpy as np\n",
    "\n",
    "pd.set_option(\"display.max_columns\", 200)\n",
    "pd.set_option(\"display.max_colwidth\", 200)"
   ]
  },
  {
   "cell_type": "markdown",
   "metadata": {},
   "source": [
    "# Step 1: Clean median income data"
   ]
  },
  {
   "cell_type": "code",
   "execution_count": 2,
   "metadata": {},
   "outputs": [],
   "source": [
    "import os\n",
    "os.chdir(\"MedianIncomeData\")"
   ]
  },
  {
   "cell_type": "code",
   "execution_count": 3,
   "metadata": {},
   "outputs": [
    {
     "name": "stdout",
     "output_type": "stream",
     "text": [
      "ACSDT5Y2019.B19013_data_with_overlays_2021-03-28T171056 2.xlsx\r\n",
      "ACSDT5Y2019.B19013_data_with_overlays_2021-03-28T171056.csv\r\n",
      "ACSDT5Y2019.B19013_metadata_2021-03-28T171056.csv\r\n",
      "ACSDT5Y2019.B19013_table_title_2021-03-28T171056.txt\r\n",
      "Burglary2021.csv\r\n",
      "Burglary_NarrowDown.csv\r\n",
      "GrandLarceny2021.csv\r\n",
      "NYC_IncomeLevels.xlsx\r\n",
      "NYC_MajorFelony_CrimeStats_New4.xlsx\r\n",
      "OLD_df_MI_P1.csv\r\n",
      "PCT_GrandLarceny.csv\r\n",
      "ShootingsPercentChange.csv\r\n",
      "VehicleTheft2021.csv\r\n",
      "ZipCode_Income.xlsx\r\n",
      "ZipCode_Income2.xlsx\r\n",
      "ZipCode_Income3.csv\r\n",
      "carTheft_Pct.csv\r\n",
      "change_19_20.csv\r\n",
      "change_20_21.csv\r\n",
      "df_MI.csv\r\n",
      "df_MI_P1.xlsx\r\n",
      "df_MI_Precincts.xlsx\r\n",
      "df_MI_Precincts_New.xlsx\r\n",
      "dfinal_new\r\n",
      "drop_19_20.csv\r\n",
      "drop_20_21.csv\r\n",
      "lowerIncome.csv\r\n",
      "lowerMiddleIncome.csv\r\n",
      "rise_19_20.csv\r\n",
      "rise_20_21.csv\r\n",
      "upperIncome.csv\r\n",
      "upperMiddleIncome.csv\r\n",
      "~$ACSDT5Y2019.B19013_data_with_overlays_2021-03-28T171056 2.xlsx\r\n"
     ]
    }
   ],
   "source": [
    "!ls"
   ]
  },
  {
   "cell_type": "code",
   "execution_count": 4,
   "metadata": {},
   "outputs": [],
   "source": [
    "df_MI = pd.read_csv(\"ACSDT5Y2019.B19013_data_with_overlays_2021-03-28T171056.csv\")"
   ]
  },
  {
   "cell_type": "code",
   "execution_count": 5,
   "metadata": {},
   "outputs": [
    {
     "data": {
      "text/html": [
       "<div>\n",
       "<style scoped>\n",
       "    .dataframe tbody tr th:only-of-type {\n",
       "        vertical-align: middle;\n",
       "    }\n",
       "\n",
       "    .dataframe tbody tr th {\n",
       "        vertical-align: top;\n",
       "    }\n",
       "\n",
       "    .dataframe thead th {\n",
       "        text-align: right;\n",
       "    }\n",
       "</style>\n",
       "<table border=\"1\" class=\"dataframe\">\n",
       "  <thead>\n",
       "    <tr style=\"text-align: right;\">\n",
       "      <th></th>\n",
       "      <th>GEO_ID</th>\n",
       "      <th>NAME</th>\n",
       "      <th>B19013_001E</th>\n",
       "      <th>B19013_001M</th>\n",
       "    </tr>\n",
       "  </thead>\n",
       "  <tbody>\n",
       "    <tr>\n",
       "      <th>0</th>\n",
       "      <td>id</td>\n",
       "      <td>Geographic Area Name</td>\n",
       "      <td>Estimate!!Median household income in the past 12 months (in 2019 inflation-adjusted dollars)</td>\n",
       "      <td>Margin of Error!!Median household income in the past 12 months (in 2019 inflation-adjusted dollars)</td>\n",
       "    </tr>\n",
       "    <tr>\n",
       "      <th>1</th>\n",
       "      <td>8600000US06390</td>\n",
       "      <td>ZCTA5 06390</td>\n",
       "      <td>61125</td>\n",
       "      <td>8799</td>\n",
       "    </tr>\n",
       "    <tr>\n",
       "      <th>2</th>\n",
       "      <td>8600000US10001</td>\n",
       "      <td>ZCTA5 10001</td>\n",
       "      <td>92840</td>\n",
       "      <td>8971</td>\n",
       "    </tr>\n",
       "    <tr>\n",
       "      <th>3</th>\n",
       "      <td>8600000US10002</td>\n",
       "      <td>ZCTA5 10002</td>\n",
       "      <td>36982</td>\n",
       "      <td>2384</td>\n",
       "    </tr>\n",
       "    <tr>\n",
       "      <th>4</th>\n",
       "      <td>8600000US10003</td>\n",
       "      <td>ZCTA5 10003</td>\n",
       "      <td>118161</td>\n",
       "      <td>10235</td>\n",
       "    </tr>\n",
       "    <tr>\n",
       "      <th>5</th>\n",
       "      <td>8600000US10004</td>\n",
       "      <td>ZCTA5 10004</td>\n",
       "      <td>190223</td>\n",
       "      <td>49426</td>\n",
       "    </tr>\n",
       "    <tr>\n",
       "      <th>6</th>\n",
       "      <td>8600000US10005</td>\n",
       "      <td>ZCTA5 10005</td>\n",
       "      <td>189702</td>\n",
       "      <td>15832</td>\n",
       "    </tr>\n",
       "    <tr>\n",
       "      <th>7</th>\n",
       "      <td>8600000US10006</td>\n",
       "      <td>ZCTA5 10006</td>\n",
       "      <td>179044</td>\n",
       "      <td>16237</td>\n",
       "    </tr>\n",
       "    <tr>\n",
       "      <th>8</th>\n",
       "      <td>8600000US10007</td>\n",
       "      <td>ZCTA5 10007</td>\n",
       "      <td>224063</td>\n",
       "      <td>45620</td>\n",
       "    </tr>\n",
       "    <tr>\n",
       "      <th>9</th>\n",
       "      <td>8600000US10009</td>\n",
       "      <td>ZCTA5 10009</td>\n",
       "      <td>63717</td>\n",
       "      <td>4878</td>\n",
       "    </tr>\n",
       "  </tbody>\n",
       "</table>\n",
       "</div>"
      ],
      "text/plain": [
       "           GEO_ID                  NAME  \\\n",
       "0              id  Geographic Area Name   \n",
       "1  8600000US06390           ZCTA5 06390   \n",
       "2  8600000US10001           ZCTA5 10001   \n",
       "3  8600000US10002           ZCTA5 10002   \n",
       "4  8600000US10003           ZCTA5 10003   \n",
       "5  8600000US10004           ZCTA5 10004   \n",
       "6  8600000US10005           ZCTA5 10005   \n",
       "7  8600000US10006           ZCTA5 10006   \n",
       "8  8600000US10007           ZCTA5 10007   \n",
       "9  8600000US10009           ZCTA5 10009   \n",
       "\n",
       "                                                                                    B19013_001E  \\\n",
       "0  Estimate!!Median household income in the past 12 months (in 2019 inflation-adjusted dollars)   \n",
       "1                                                                                         61125   \n",
       "2                                                                                         92840   \n",
       "3                                                                                         36982   \n",
       "4                                                                                        118161   \n",
       "5                                                                                        190223   \n",
       "6                                                                                        189702   \n",
       "7                                                                                        179044   \n",
       "8                                                                                        224063   \n",
       "9                                                                                         63717   \n",
       "\n",
       "                                                                                           B19013_001M  \n",
       "0  Margin of Error!!Median household income in the past 12 months (in 2019 inflation-adjusted dollars)  \n",
       "1                                                                                                 8799  \n",
       "2                                                                                                 8971  \n",
       "3                                                                                                 2384  \n",
       "4                                                                                                10235  \n",
       "5                                                                                                49426  \n",
       "6                                                                                                15832  \n",
       "7                                                                                                16237  \n",
       "8                                                                                                45620  \n",
       "9                                                                                                 4878  "
      ]
     },
     "execution_count": 5,
     "metadata": {},
     "output_type": "execute_result"
    }
   ],
   "source": [
    "df_MI.head(10)"
   ]
  },
  {
   "cell_type": "code",
   "execution_count": 6,
   "metadata": {},
   "outputs": [],
   "source": [
    "df_MI.columns = df_MI.iloc[0]\n",
    "df_MI = df_MI[1:]"
   ]
  },
  {
   "cell_type": "code",
   "execution_count": 7,
   "metadata": {},
   "outputs": [
    {
     "data": {
      "text/html": [
       "<div>\n",
       "<style scoped>\n",
       "    .dataframe tbody tr th:only-of-type {\n",
       "        vertical-align: middle;\n",
       "    }\n",
       "\n",
       "    .dataframe tbody tr th {\n",
       "        vertical-align: top;\n",
       "    }\n",
       "\n",
       "    .dataframe thead th {\n",
       "        text-align: right;\n",
       "    }\n",
       "</style>\n",
       "<table border=\"1\" class=\"dataframe\">\n",
       "  <thead>\n",
       "    <tr style=\"text-align: right;\">\n",
       "      <th></th>\n",
       "      <th>id</th>\n",
       "      <th>Geographic Area Name</th>\n",
       "      <th>Estimate!!Median household income in the past 12 months (in 2019 inflation-adjusted dollars)</th>\n",
       "      <th>Margin of Error!!Median household income in the past 12 months (in 2019 inflation-adjusted dollars)</th>\n",
       "    </tr>\n",
       "  </thead>\n",
       "  <tbody>\n",
       "    <tr>\n",
       "      <th>1</th>\n",
       "      <td>8600000US06390</td>\n",
       "      <td>ZCTA5 06390</td>\n",
       "      <td>61125</td>\n",
       "      <td>8799</td>\n",
       "    </tr>\n",
       "    <tr>\n",
       "      <th>2</th>\n",
       "      <td>8600000US10001</td>\n",
       "      <td>ZCTA5 10001</td>\n",
       "      <td>92840</td>\n",
       "      <td>8971</td>\n",
       "    </tr>\n",
       "  </tbody>\n",
       "</table>\n",
       "</div>"
      ],
      "text/plain": [
       "0              id Geographic Area Name  \\\n",
       "1  8600000US06390          ZCTA5 06390   \n",
       "2  8600000US10001          ZCTA5 10001   \n",
       "\n",
       "0 Estimate!!Median household income in the past 12 months (in 2019 inflation-adjusted dollars)  \\\n",
       "1                                                                                        61125   \n",
       "2                                                                                        92840   \n",
       "\n",
       "0 Margin of Error!!Median household income in the past 12 months (in 2019 inflation-adjusted dollars)  \n",
       "1                                                                                                8799  \n",
       "2                                                                                                8971  "
      ]
     },
     "execution_count": 7,
     "metadata": {},
     "output_type": "execute_result"
    }
   ],
   "source": [
    "df_MI.head(2)"
   ]
  },
  {
   "cell_type": "code",
   "execution_count": 8,
   "metadata": {},
   "outputs": [],
   "source": [
    "df_MI = df_MI.rename(columns={\"Estimate!!Median household income in the past 12 months (in 2019 inflation-adjusted dollars)\": \"Median household income2019\", \"Margin of Error!!Median household income in the past 12 months (in 2019 inflation-adjusted dollars)\": \"Margin of Error\"})"
   ]
  },
  {
   "cell_type": "code",
   "execution_count": 9,
   "metadata": {},
   "outputs": [],
   "source": [
    "df_MI = df_MI.rename(columns={\"Geographic Area Name\": \"Zip Code\"})"
   ]
  },
  {
   "cell_type": "code",
   "execution_count": 10,
   "metadata": {},
   "outputs": [],
   "source": [
    "df_MI['Zip Code'] = df_MI['Zip Code'].str.replace(\"ZCTA5 \", \"\")"
   ]
  },
  {
   "cell_type": "code",
   "execution_count": 11,
   "metadata": {},
   "outputs": [
    {
     "data": {
      "text/html": [
       "<div>\n",
       "<style scoped>\n",
       "    .dataframe tbody tr th:only-of-type {\n",
       "        vertical-align: middle;\n",
       "    }\n",
       "\n",
       "    .dataframe tbody tr th {\n",
       "        vertical-align: top;\n",
       "    }\n",
       "\n",
       "    .dataframe thead th {\n",
       "        text-align: right;\n",
       "    }\n",
       "</style>\n",
       "<table border=\"1\" class=\"dataframe\">\n",
       "  <thead>\n",
       "    <tr style=\"text-align: right;\">\n",
       "      <th></th>\n",
       "      <th>id</th>\n",
       "      <th>Zip Code</th>\n",
       "      <th>Median household income2019</th>\n",
       "      <th>Margin of Error</th>\n",
       "    </tr>\n",
       "  </thead>\n",
       "  <tbody>\n",
       "    <tr>\n",
       "      <th>1</th>\n",
       "      <td>8600000US06390</td>\n",
       "      <td>06390</td>\n",
       "      <td>61125</td>\n",
       "      <td>8799</td>\n",
       "    </tr>\n",
       "    <tr>\n",
       "      <th>2</th>\n",
       "      <td>8600000US10001</td>\n",
       "      <td>10001</td>\n",
       "      <td>92840</td>\n",
       "      <td>8971</td>\n",
       "    </tr>\n",
       "  </tbody>\n",
       "</table>\n",
       "</div>"
      ],
      "text/plain": [
       "0              id Zip Code Median household income2019 Margin of Error\n",
       "1  8600000US06390    06390                       61125            8799\n",
       "2  8600000US10001    10001                       92840            8971"
      ]
     },
     "execution_count": 11,
     "metadata": {},
     "output_type": "execute_result"
    }
   ],
   "source": [
    "df_MI.head(2)"
   ]
  },
  {
   "cell_type": "code",
   "execution_count": null,
   "metadata": {},
   "outputs": [],
   "source": []
  },
  {
   "cell_type": "code",
   "execution_count": 12,
   "metadata": {},
   "outputs": [],
   "source": [
    "# https://www1.nyc.gov/assets/doh/downloads/pdf/ah/zipcodetable.pdf"
   ]
  },
  {
   "cell_type": "code",
   "execution_count": 13,
   "metadata": {},
   "outputs": [],
   "source": [
    "df_MI['Precinct'] = df_MI['Zip Code'].replace(\"10463\", \"50\", regex=False)\n",
    "df_MI['Precinct'] = df_MI['Precinct'].replace(\"10471\", \"50\", regex=False)\n",
    "\n",
    "df_MI['NeighName'] = df_MI['Zip Code'].str.replace(\"10463\", \"Kingsbridge - Riverdale\", regex=False)\n",
    "df_MI['NeighName'] = df_MI['NeighName'].str.replace(\"10471\", \"Kingsbridge - Riverdale\", regex=False)"
   ]
  },
  {
   "cell_type": "code",
   "execution_count": 14,
   "metadata": {},
   "outputs": [],
   "source": [
    "df_MI['Precinct'] = df_MI['Precinct'].replace(\"10466\", \"49, 45\", regex=False)\n",
    "df_MI['Precinct'] = df_MI['Precinct'].replace(\"10469\", \"49, 45\", regex=False)\n",
    "df_MI['Precinct'] = df_MI['Precinct'].replace(\"10470\", \"49, 45\", regex=False)\n",
    "df_MI['Precinct'] = df_MI['Precinct'].replace(\"10475\", \"49, 45\", regex=False)\n",
    "\n",
    "df_MI['NeighName'] = df_MI['NeighName'].str.replace(\"10466\", \"Northeast Bronx\", regex=False)\n",
    "df_MI['NeighName'] = df_MI['NeighName'].str.replace(\"10469\", \"Northeast Bronx\", regex=False)\n",
    "df_MI['NeighName'] =df_MI['NeighName'].str.replace(\"10470\", \"Northeast Bronx\", regex=False)\n",
    "df_MI['NeighName'] =df_MI['NeighName'].str.replace(\"10475\", \"Northeast Bronx\", regex=False)"
   ]
  },
  {
   "cell_type": "code",
   "execution_count": 15,
   "metadata": {},
   "outputs": [],
   "source": [
    "df_MI['Precinct'] = df_MI['Precinct'].replace(\"10458\", \"52, 46\", regex=False)\n",
    "df_MI['Precinct'] = df_MI['Precinct'].replace(\"10467\", \"52, 46\", regex=False)\n",
    "df_MI['Precinct'] = df_MI['Precinct'].replace(\"10468\", \"52, 46\", regex=False)\n",
    "\n",
    "df_MI['NeighName'] = df_MI['NeighName'].str.replace(\"10458\", \"Fordham - Bronx Park\", regex=False)\n",
    "df_MI['NeighName'] = df_MI['NeighName'].str.replace(\"10467\", \"Fordham - Bronx Park\", regex=False)\n",
    "df_MI['NeighName'] = df_MI['NeighName'].str.replace(\"10468\", \"Fordham - Bronx Park\", regex=False)"
   ]
  },
  {
   "cell_type": "code",
   "execution_count": 16,
   "metadata": {},
   "outputs": [],
   "source": [
    "df_MI['Precinct'] = df_MI['Precinct'].replace(\"10461\", \"45\", regex=False)\n",
    "df_MI['Precinct'] = df_MI['Precinct'].replace(\"10462\", \"45\", regex=False)\n",
    "df_MI['Precinct'] = df_MI['Precinct'].replace(\"10464\", \"45\", regex=False)\n",
    "df_MI['Precinct'] = df_MI['Precinct'].replace(\"10465\", \"45\", regex=False)\n",
    "df_MI['Precinct'] = df_MI['Precinct'].replace(\"10472\", \"45\", regex=False)\n",
    "df_MI['Precinct'] = df_MI['Precinct'].replace(\"10473\", \"45\", regex=False)\n",
    "\n",
    "df_MI['NeighName'] = df_MI['NeighName'].str.replace(\"10461\", \"Southeast Bronx\", regex=False)\n",
    "df_MI['NeighName'] = df_MI['NeighName'].str.replace(\"10462\", \"Southeast Bronx\", regex=False)\n",
    "df_MI['NeighName'] = df_MI['NeighName'].str.replace(\"10464\", \"Southeast Bronx\", regex=False)\n",
    "df_MI['NeighName'] = df_MI['NeighName'].str.replace(\"10465\", \"Southeast Bronx\", regex=False)\n",
    "df_MI['NeighName'] = df_MI['NeighName'].str.replace(\"10472\", \"Southeast Bronx\", regex=False)\n",
    "df_MI['NeighName'] = df_MI['NeighName'].str.replace(\"10473\", \"Southeast Bronx\", regex=False)"
   ]
  },
  {
   "cell_type": "code",
   "execution_count": 17,
   "metadata": {},
   "outputs": [],
   "source": [
    "df_MI['Precinct'] = df_MI['Precinct'].replace(\"10453\", \"48, 42\", regex=False)\n",
    "df_MI['Precinct'] = df_MI['Precinct'].replace(\"10457\", \"48, 42\", regex=False)\n",
    "df_MI['Precinct'] = df_MI['Precinct'].replace(\"10460\", \"48, 42\", regex=False)\n",
    "\n",
    "df_MI['NeighName'] = df_MI['NeighName'].str.replace(\"10453\", \"Central Bronx\", regex=False)\n",
    "df_MI['NeighName'] = df_MI['NeighName'].str.replace(\"10457\", \"Central Bronx\", regex=False)\n",
    "df_MI['NeighName'] = df_MI['NeighName'].str.replace(\"10460\", \"Central Bronx\", regex=False)\n"
   ]
  },
  {
   "cell_type": "code",
   "execution_count": 18,
   "metadata": {},
   "outputs": [],
   "source": [
    "df_MI['Precinct'] = df_MI['Precinct'].replace(\"10451\", \"44\", regex=False)\n",
    "df_MI['Precinct'] = df_MI['Precinct'].replace(\"10452\", \"44\", regex=False)\n",
    "df_MI['Precinct'] = df_MI['Precinct'].replace(\"10456\", \"44\", regex=False)\n",
    "\n",
    "df_MI['NeighName'] = df_MI['NeighName'].str.replace(\"10451\", \"High Bridge - Morrisania\", regex=False)\n",
    "df_MI['NeighName'] = df_MI['NeighName'].str.replace(\"10452\", \"High Bridge - Morrisania\", regex=False)\n",
    "df_MI['NeighName'] = df_MI['NeighName'].str.replace(\"10456\", \"High Bridge - Morrisania\", regex=False)\n"
   ]
  },
  {
   "cell_type": "code",
   "execution_count": 19,
   "metadata": {},
   "outputs": [],
   "source": [
    "df_MI['Precinct'] = df_MI['Precinct'].replace(\"10454\", \"41, 40\", regex=False)\n",
    "df_MI['Precinct'] = df_MI['Precinct'].replace(\"10455\", \"41, 40\", regex=False)\n",
    "df_MI['Precinct'] = df_MI['Precinct'].replace(\"10459\", \"41, 40\", regex=False)\n",
    "df_MI['Precinct'] = df_MI['Precinct'].replace(\"10474\", \"41, 40\", regex=False)\n",
    "\n",
    "df_MI['NeighName'] = df_MI['NeighName'].str.replace(\"10454\", \"Hunts Point - Mott Haven\", regex=False)\n",
    "df_MI['NeighName'] = df_MI['NeighName'].str.replace(\"10455\", \"Hunts Point - Mott Haven\", regex=False)\n",
    "df_MI['NeighName'] = df_MI['NeighName'].str.replace(\"10459\", \"Hunts Point - Mott Haven\", regex=False)\n",
    "df_MI['NeighName'] = df_MI['NeighName'].str.replace(\"10474\", \"Hunts Point - Mott Haven\", regex=False)\n"
   ]
  },
  {
   "cell_type": "code",
   "execution_count": 20,
   "metadata": {},
   "outputs": [],
   "source": [
    "df_MI['Precinct'] = df_MI['Precinct'].replace(\"11211\", \"94\", regex=False)\n",
    "df_MI['Precinct'] = df_MI['Precinct'].replace(\"11222\", \"94\", regex=False)\n",
    "\n",
    "df_MI['NeighName'] = df_MI['NeighName'].str.replace(\"11211\", \"Greenpoint\", regex=False)\n",
    "df_MI['NeighName'] = df_MI['NeighName'].str.replace(\"11222\", \"Greenpoint\", regex=False)\n"
   ]
  },
  {
   "cell_type": "code",
   "execution_count": 21,
   "metadata": {},
   "outputs": [],
   "source": [
    "df_MI['Precinct'] = df_MI['Precinct'].replace(\"11201\", \"78\", regex=False)\n",
    "df_MI['Precinct'] = df_MI['Precinct'].replace(\"11205\", \"78\", regex=False)\n",
    "df_MI['Precinct'] = df_MI['Precinct'].replace(\"11215\", \"78\", regex=False)\n",
    "df_MI['Precinct'] = df_MI['Precinct'].replace(\"11217\", \"78\", regex=False)\n",
    "df_MI['Precinct'] = df_MI['Precinct'].replace(\"11231\", \"78\", regex=False)\n",
    "\n",
    "df_MI['NeighName'] = df_MI['NeighName'].str.replace(\"11201\", \"Northwest Brooklyn\", regex=False)\n",
    "df_MI['NeighName'] = df_MI['NeighName'].str.replace(\"11205\", \"Northwest Brooklyn\", regex=False)\n",
    "df_MI['NeighName'] = df_MI['NeighName'].str.replace(\"11215\", \"Northwest Brooklyn\", regex=False)\n",
    "df_MI['NeighName'] = df_MI['NeighName'].str.replace(\"11217\", \"Northwest Brooklyn\", regex=False)\n",
    "df_MI['NeighName'] = df_MI['NeighName'].str.replace(\"11231\", \"Northwest Brooklyn\", regex=False)\n"
   ]
  },
  {
   "cell_type": "code",
   "execution_count": 22,
   "metadata": {},
   "outputs": [],
   "source": [
    "# Bedford Stuyvesant - Crown Heights 77 81 71\n",
    "# 11213, 11212, 11216, 11233, 11238\n",
    "\n",
    "df_MI['Precinct'] = df_MI['Precinct'].replace(\"11213\", \"77, 81, 71\", regex=False)\n",
    "df_MI['Precinct'] = df_MI['Precinct'].replace(\"11212\", \"77, 81, 71\", regex=False)\n",
    "df_MI['Precinct'] = df_MI['Precinct'].replace(\"11216\", \"77, 81, 71\", regex=False)\n",
    "df_MI['Precinct'] = df_MI['Precinct'].replace(\"11233\", \"77, 81, 71\", regex=False)\n",
    "df_MI['Precinct'] = df_MI['Precinct'].replace(\"11238\", \"77, 81, 71\", regex=False)\n",
    "\n",
    "df_MI['NeighName'] = df_MI['NeighName'].str.replace(\"11213\", \"Central Brooklyn\", regex=False)\n",
    "df_MI['NeighName'] = df_MI['NeighName'].str.replace(\"11212\", \"Central Brooklyn\", regex=False)\n",
    "df_MI['NeighName'] = df_MI['NeighName'].str.replace(\"11216\", \"Central Brooklyn\", regex=False)\n",
    "df_MI['NeighName'] = df_MI['NeighName'].str.replace(\"11233\", \"Central Brooklyn\", regex=False)\n",
    "df_MI['NeighName'] = df_MI['NeighName'].str.replace(\"11238\", \"Central Brooklyn\", regex=False)\n"
   ]
  },
  {
   "cell_type": "code",
   "execution_count": 23,
   "metadata": {},
   "outputs": [],
   "source": [
    "# East New York 75 11207, 11208\n",
    "df_MI['Precinct'] = df_MI['Precinct'].replace(\"11207\", \"75\", regex=False)\n",
    "df_MI['Precinct'] = df_MI['Precinct'].replace(\"11208\", \"75\", regex=False)\n",
    "\n",
    "df_MI['NeighName'] = df_MI['NeighName'].str.replace(\"11207\", \"East New York\", regex=False)\n",
    "df_MI['NeighName'] = df_MI['NeighName'].str.replace(\"11208\", \"East New York\", regex=False)\n"
   ]
  },
  {
   "cell_type": "code",
   "execution_count": 24,
   "metadata": {},
   "outputs": [],
   "source": [
    "# Sunset Park 72 68 \n",
    "# 11220, 11232\n",
    "df_MI['Precinct'] = df_MI['Precinct'].replace(\"11220\", \"72, 68\", regex=False)\n",
    "df_MI['Precinct'] = df_MI['Precinct'].replace(\"11232\", \"72, 76\", regex=False)\n",
    "\n",
    "df_MI['NeighName'] = df_MI['NeighName'].str.replace(\"11220\", \"Sunset Park\", regex=False)\n",
    "df_MI['NeighName'] = df_MI['NeighName'].str.replace(\"11232\", \"Sunset Park\", regex=False)"
   ]
  },
  {
   "cell_type": "code",
   "execution_count": 25,
   "metadata": {},
   "outputs": [],
   "source": [
    "# Borough Park 66 \n",
    "# 11204, 11218, 11219, 11230\n",
    "\n",
    "df_MI['Precinct'] = df_MI['Precinct'].replace(\"11204\", \"66\", regex=False)\n",
    "df_MI['Precinct'] = df_MI['Precinct'].replace(\"11218\", \"66\", regex=False)\n",
    "df_MI['Precinct'] = df_MI['Precinct'].replace(\"11219\", \"66\", regex=False)\n",
    "df_MI['Precinct'] = df_MI['Precinct'].replace(\"11230\", \"66\", regex=False)\n",
    "\n",
    "df_MI['NeighName'] = df_MI['NeighName'].str.replace(\"11204\", \"Borough Park\", regex=False)\n",
    "df_MI['NeighName'] = df_MI['NeighName'].str.replace(\"11218\", \"Borough Park\", regex=False)\n",
    "df_MI['NeighName'] = df_MI['NeighName'].str.replace(\"11219\", \"Borough Park\", regex=False)\n",
    "df_MI['NeighName'] = df_MI['NeighName'].str.replace(\"11230\", \"Borough Park\", regex=False)\n"
   ]
  },
  {
   "cell_type": "code",
   "execution_count": 26,
   "metadata": {},
   "outputs": [],
   "source": [
    "# East Flatbush - Flatbush 67 70\n",
    "# 11203, 11210, 11225, 11226\n",
    "\n",
    "df_MI['Precinct'] = df_MI['Precinct'].replace(\"11203\", \"67, 70\", regex=False)\n",
    "df_MI['Precinct'] = df_MI['Precinct'].replace(\"11210\", \"67, 70\", regex=False)\n",
    "df_MI['Precinct'] = df_MI['Precinct'].replace(\"11225\", \"67, 70\", regex=False)\n",
    "df_MI['Precinct'] = df_MI['Precinct'].replace(\"11226\", \"67, 70\", regex=False)\n",
    "\n",
    "df_MI['NeighName'] = df_MI['NeighName'].str.replace(\"11203\", \"East Flatbush - Flatbush\", regex=False)\n",
    "df_MI['NeighName'] = df_MI['NeighName'].str.replace(\"11210\", \"East Flatbush - Flatbush\", regex=False)\n",
    "df_MI['NeighName'] = df_MI['NeighName'].str.replace(\"11225\", \"East Flatbush - Flatbush\", regex=False)\n",
    "df_MI['NeighName'] = df_MI['NeighName'].str.replace(\"11226\", \"East Flatbush - Flatbush\", regex=False)\n"
   ]
  },
  {
   "cell_type": "code",
   "execution_count": 27,
   "metadata": {},
   "outputs": [],
   "source": [
    "# Canarsie - Flatlands 69 63\n",
    "# 11234, 11236, 11239\n",
    "df_MI['Precinct'] = df_MI['Precinct'].replace(\"11234\", \"69, 63\", regex=False)\n",
    "df_MI['Precinct'] = df_MI['Precinct'].replace(\"11236\", \"69, 63\", regex=False)\n",
    "df_MI['Precinct'] = df_MI['Precinct'].replace(\"11239\", \"69, 63\", regex=False)\n",
    "\n",
    "df_MI['NeighName'] = df_MI['NeighName'].str.replace(\"11234\", \"Canarsie - Flatlands\", regex=False)\n",
    "df_MI['NeighName'] = df_MI['NeighName'].str.replace(\"11236\", \"Canarsie - Flatlands\", regex=False)\n",
    "df_MI['NeighName'] = df_MI['NeighName'].str.replace(\"11239\", \"Canarsie - Flatlands\", regex=False)\n"
   ]
  },
  {
   "cell_type": "code",
   "execution_count": 28,
   "metadata": {},
   "outputs": [],
   "source": [
    "# Bensonhurst - Bay Ridge 68 62\n",
    "# 11209, 11214, 11228\n",
    "\n",
    "df_MI['Precinct'] = df_MI['Precinct'].replace(\"11209\", \"68, 62\", regex=False)\n",
    "df_MI['Precinct'] = df_MI['Precinct'].replace(\"11214\", \"68, 62\", regex=False)\n",
    "df_MI['Precinct'] = df_MI['Precinct'].replace(\"11228\", \"68, 62\", regex=False)\n",
    "\n",
    "df_MI['NeighName'] = df_MI['NeighName'].str.replace(\"11209\", \"Southwest Brooklyn\", regex=False)\n",
    "df_MI['NeighName'] = df_MI['NeighName'].str.replace(\"11214\", \"Southwest Brooklyn\", regex=False)\n",
    "df_MI['NeighName'] = df_MI['NeighName'].str.replace(\"11228\", \"Southwest Brooklyn\", regex=False)\n"
   ]
  },
  {
   "cell_type": "code",
   "execution_count": 29,
   "metadata": {},
   "outputs": [],
   "source": [
    "# Coney Island - Sheepshead Bay 61\n",
    "# 11223, 11224, 11229, 11235\n",
    "\n",
    "df_MI['Precinct'] = df_MI['Precinct'].replace(\"11223\", \"61\", regex=False)\n",
    "df_MI['Precinct'] = df_MI['Precinct'].replace(\"11224\", \"61\", regex=False)\n",
    "df_MI['Precinct'] = df_MI['Precinct'].replace(\"11229\", \"61\", regex=False)\n",
    "df_MI['Precinct'] = df_MI['Precinct'].replace(\"11235\", \"61\", regex=False)\n",
    "\n",
    "df_MI['NeighName'] = df_MI['NeighName'].str.replace(\"11223\", \"Southern Brooklyn\", regex=False)\n",
    "df_MI['NeighName'] = df_MI['NeighName'].str.replace(\"11224\", \"Southern Brooklyn\", regex=False)\n",
    "df_MI['NeighName'] = df_MI['NeighName'].str.replace(\"11229\", \"Southern Brooklyn\", regex=False)\n",
    "df_MI['NeighName'] = df_MI['NeighName'].str.replace(\"11235\", \"Southern Brooklyn\", regex=False)"
   ]
  },
  {
   "cell_type": "code",
   "execution_count": 30,
   "metadata": {},
   "outputs": [],
   "source": [
    "# Williamsburg - Bushwick 83 \n",
    "# 11206, 11221, 11237\n",
    "\n",
    "df_MI['Precinct'] = df_MI['Precinct'].replace(\"11206\", \"83\", regex=False)\n",
    "df_MI['Precinct'] = df_MI['Precinct'].replace(\"11221\", \"83\", regex=False)\n",
    "df_MI['Precinct'] = df_MI['Precinct'].replace(\"11237\", \"83\", regex=False)\n",
    "\n",
    "df_MI['NeighName'] = df_MI['NeighName'].str.replace(\"11206\", \"Williamsburg - Bushwick\", regex=False)\n",
    "df_MI['NeighName'] = df_MI['NeighName'].str.replace(\"11221\", \"Williamsburg - Bushwick\", regex=False)\n",
    "df_MI['NeighName'] = df_MI['NeighName'].str.replace(\"11237\", \"Williamsburg - Bushwick\", regex=False)\n"
   ]
  },
  {
   "cell_type": "code",
   "execution_count": 31,
   "metadata": {},
   "outputs": [],
   "source": [
    "# Washington Heights - Inwood 33 34\n",
    "# 10031, 10032, 10033, 10034, 10040\n",
    "\n",
    "df_MI['Precinct'] = df_MI['Precinct'].replace(\"10031\", \"33, 34\", regex=False)\n",
    "df_MI['Precinct'] = df_MI['Precinct'].replace(\"10032\", \"33, 34\", regex=False)\n",
    "df_MI['Precinct'] = df_MI['Precinct'].replace(\"10033\", \"33, 34\", regex=False)\n",
    "df_MI['Precinct'] = df_MI['Precinct'].replace(\"10034\", \"33, 34\", regex=False)\n",
    "df_MI['Precinct'] = df_MI['Precinct'].replace(\"10040\", \"33, 34\", regex=False)\n",
    "\n",
    "df_MI['NeighName'] = df_MI['NeighName'].str.replace(\"10031\", \"Washington Heights - Inwood\", regex=False)\n",
    "df_MI['NeighName'] = df_MI['NeighName'].str.replace(\"10032\", \"Washington Heights - Inwood\", regex=False)\n",
    "df_MI['NeighName'] = df_MI['NeighName'].str.replace(\"10033\", \"Washington Heights - Inwood\", regex=False)\n",
    "df_MI['NeighName'] = df_MI['NeighName'].str.replace(\"10034\", \"Washington Heights - Inwood\", regex=False)\n",
    "df_MI['NeighName'] = df_MI['NeighName'].str.replace(\"10040\", \"Washington Heights - Inwood\", regex=False)"
   ]
  },
  {
   "cell_type": "code",
   "execution_count": 32,
   "metadata": {},
   "outputs": [],
   "source": [
    "# Central Harlem - Morningside Heights 26 28\n",
    "# 10026, 10027, 10030, 10037, 10039\n",
    "\n",
    "df_MI['Precinct'] = df_MI['Precinct'].replace(\"10026\", \"26, 28\", regex=False)    \n",
    "df_MI['Precinct'] = df_MI['Precinct'].replace(\"10027\", \"26, 28\", regex=False) \n",
    "df_MI['Precinct'] = df_MI['Precinct'].replace(\"10030\", \"26, 28\", regex=False) \n",
    "df_MI['Precinct'] =df_MI['Precinct'].replace(\"10037\", \"26, 28\", regex=False) \n",
    "df_MI['Precinct'] = df_MI['Precinct'].replace(\"10039\", \"26, 28\", regex=False) \n",
    "\n",
    "df_MI['NeighName'] = df_MI['NeighName'].str.replace(\"10026\", \"Central Harlem - Morningside Heights\", regex=False)\n",
    "df_MI['NeighName'] = df_MI['NeighName'].str.replace(\"10027\", \"Central Harlem - Morningside Heights\", regex=False)\n",
    "df_MI['NeighName'] = df_MI['NeighName'].str.replace(\"10030\", \"Central Harlem - Morningside Heights\", regex=False)\n",
    "df_MI['NeighName'] =df_MI['NeighName'].str.replace(\"10037\", \"Central Harlem - Morningside Heights\", regex=False)\n",
    "df_MI['NeighName'] = df_MI['NeighName'].str.replace(\"10039\", \"Central Harlem - Morningside Heights\", regex=False)"
   ]
  },
  {
   "cell_type": "code",
   "execution_count": 33,
   "metadata": {},
   "outputs": [],
   "source": [
    "# East Harlem 25 23\n",
    "# 10029, 10035\n",
    "\n",
    "df_MI['Precinct'] = df_MI['Precinct'].replace(\"10029\", \"25, 23\", regex=False) \n",
    "df_MI['Precinct'] = df_MI['Precinct'].replace(\"10035\", \"25, 23\", regex=False) \n",
    "\n",
    "df_MI['NeighName'] = df_MI['NeighName'].str.replace(\"10029\", \"East Harlem\", regex=False)\n",
    "df_MI['NeighName'] =df_MI['NeighName'].str.replace(\"10035\", \"East Harlem\", regex=False)"
   ]
  },
  {
   "cell_type": "code",
   "execution_count": 34,
   "metadata": {},
   "outputs": [],
   "source": [
    "# Upper West Side 20 24\n",
    "# 10023, 10024, 10025\n",
    "\n",
    "df_MI['Precinct'] = df_MI['Precinct'].replace(\"10023\", \"20, 24\", regex=False)\n",
    "df_MI['Precinct'] = df_MI['Precinct'].replace(\"10024\", \"20, 24\", regex=False)\n",
    "df_MI['Precinct'] = df_MI['Precinct'].replace(\"10025\", \"20, 24\", regex=False)\n",
    "\n",
    "df_MI['NeighName'] = df_MI['NeighName'].str.replace(\"10023\", \"Upper West Side\", regex=False)\n",
    "df_MI['NeighName'] = df_MI['NeighName'].str.replace(\"10024\", \"Upper West Side\", regex=False)\n",
    "df_MI['NeighName'] = df_MI['NeighName'].str.replace(\"10025\", \"Upper West Side\", regex=False)"
   ]
  },
  {
   "cell_type": "code",
   "execution_count": 35,
   "metadata": {},
   "outputs": [],
   "source": [
    "# Upper East Side 19\n",
    "# 10021, 10028, 10044, 10128, 10065\n",
    "\n",
    "df_MI['Precinct'] = df_MI['Precinct'].replace(\"10021\", \"19\", regex=False)\n",
    "df_MI['Precinct'] = df_MI['Precinct'].replace(\"10028\", \"19\", regex=False)\n",
    "df_MI['Precinct'] = df_MI['Precinct'].replace(\"10044\", \"19\", regex=False)\n",
    "df_MI['Precinct'] = df_MI['Precinct'].replace(\"10128\", \"19\", regex=False)\n",
    "df_MI['Precinct'] = df_MI['Precinct'].replace(\"10065\", \"19\", regex=False)\n",
    "df_MI['Precinct'] = df_MI['Precinct'].replace(\"10075\", \"19\", regex=False)\n",
    "\n",
    "df_MI['NeighName'] = df_MI['NeighName'].str.replace(\"10021\", \"Upper East Side\", regex=False)\n",
    "df_MI['NeighName'] = df_MI['NeighName'].str.replace(\"10028\", \"Upper East Side\", regex=False)\n",
    "df_MI['NeighName'] = df_MI['NeighName'].str.replace(\"10044\", \"Upper East Side\", regex=False)\n",
    "df_MI['NeighName'] = df_MI['NeighName'].str.replace(\"10128\", \"Upper East Side\", regex=False)\n",
    "df_MI['NeighName'] = df_MI['NeighName'].str.replace(\"10065\", \"Upper East Side\", regex=False)\n",
    "df_MI['NeighName'] = df_MI['NeighName'].str.replace(\"10075\", \"Upper East Side\", regex=False)"
   ]
  },
  {
   "cell_type": "code",
   "execution_count": 36,
   "metadata": {},
   "outputs": [],
   "source": [
    "# Chelsea - Clinton 10\n",
    "# 10001, 10011, 10018, 10019, 10020, 10036\n",
    "\n",
    "df_MI['Precinct'] = df_MI['Precinct'].replace(\"10001\", \"10\", regex=False)\n",
    "df_MI['Precinct'] = df_MI['Precinct'].replace(\"10011\", \"10\", regex=False)\n",
    "df_MI['Precinct'] = df_MI['Precinct'].replace(\"10018\", \"10\", regex=False)\n",
    "df_MI['Precinct'] = df_MI['Precinct'].replace(\"10019\", \"10\", regex=False)\n",
    "df_MI['Precinct'] = df_MI['Precinct'].replace(\"10020\", \"10\", regex=False)\n",
    "df_MI['Precinct'] = df_MI['Precinct'].replace(\"10036\", \"10\", regex=False)\n",
    "\n",
    "df_MI['NeighName'] = df_MI['NeighName'].str.replace(\"10001\", \"Chelsea - Clinton\", regex=False)\n",
    "df_MI['NeighName'] = df_MI['NeighName'].str.replace(\"10011\", \"Chelsea - Clinton\", regex=False)\n",
    "df_MI['NeighName'] = df_MI['NeighName'].str.replace(\"10018\", \"Chelsea - Clinton\", regex=False)\n",
    "df_MI['NeighName'] = df_MI['NeighName'].str.replace(\"10019\", \"Chelsea - Clinton\", regex=False)\n",
    "df_MI['NeighName'] = df_MI['NeighName'].str.replace(\"10020\", \"Chelsea - Clinton\", regex=False)\n",
    "df_MI['NeighName'] = df_MI['NeighName'].str.replace(\"10036\", \"Chelsea - Clinton\", regex=False)"
   ]
  },
  {
   "cell_type": "code",
   "execution_count": 37,
   "metadata": {},
   "outputs": [],
   "source": [
    "# Gramercy Park - Murray Hill 13 17\n",
    "# 10010, 10016, 10017, 10022\n",
    "\n",
    "df_MI['Precinct'] = df_MI['Precinct'].replace(\"10010\", \"13, 17\", regex=False)\n",
    "df_MI['Precinct'] = df_MI['Precinct'].replace(\"10016\", \"13, 17\", regex=False)\n",
    "df_MI['Precinct'] = df_MI['Precinct'].replace(\"10017\", \"13, 17\", regex=False)\n",
    "df_MI['Precinct'] = df_MI['Precinct'].replace(\"10022\", \"13, 17\", regex=False)\n",
    "\n",
    "df_MI['NeighName'] = df_MI['NeighName'].str.replace(\"10010\", \"Gramercy Park - Murray Hill\", regex=False)\n",
    "df_MI['NeighName'] = df_MI['NeighName'].str.replace(\"10016\", \"Gramercy Park - Murray Hill\", regex=False)\n",
    "df_MI['NeighName'] = df_MI['NeighName'].str.replace(\"10017\", \"Gramercy Park - Murray Hill\", regex=False)\n",
    "df_MI['NeighName'] = df_MI['NeighName'].str.replace(\"10022\", \"Gramercy Park - Murray Hill\", regex=False)"
   ]
  },
  {
   "cell_type": "code",
   "execution_count": 38,
   "metadata": {},
   "outputs": [],
   "source": [
    "# Greenwich Village - SoHo 6 \n",
    "# 10012, 10013, 10014\n",
    "\n",
    "df_MI['Precinct'] = df_MI['Precinct'].replace(\"10012\", \"6\", regex=False)\n",
    "df_MI['Precinct'] = df_MI['Precinct'].replace(\"10013\", \"6\", regex=False)\n",
    "df_MI['Precinct'] = df_MI['Precinct'].replace(\"10014\", \"6\", regex=False)\n",
    "\n",
    "df_MI['NeighName'] = df_MI['NeighName'].str.replace(\"10012\", \"Greenwich Village - SoHo\", regex=False)\n",
    "df_MI['NeighName'] = df_MI['NeighName'].str.replace(\"10013\", \"Greenwich Village - SoHo\", regex=False)\n",
    "df_MI['NeighName'] = df_MI['NeighName'].str.replace(\"10014\", \"Greenwich Village - SoHo\", regex=False)"
   ]
  },
  {
   "cell_type": "code",
   "execution_count": 39,
   "metadata": {},
   "outputs": [],
   "source": [
    "# Union Square - Lower East Side 7 9\n",
    "# 10002, 10003, 10009\n",
    "\n",
    "df_MI['Precinct'] = df_MI['Precinct'].replace(\"10002\", \"7, 9\", regex=False)\n",
    "df_MI['Precinct'] = df_MI['Precinct'].replace(\"10003\", \"7, 9\", regex=False)\n",
    "df_MI['Precinct'] = df_MI['Precinct'].replace(\"10009\", \"7, 9\", regex=False)\n",
    "\n",
    "df_MI['NeighName'] = df_MI['NeighName'].str.replace(\"10002\", \"Union Square - Lower East Side\", regex=False)\n",
    "df_MI['NeighName'] = df_MI['NeighName'].str.replace(\"10003\", \"Union Square - Lower East Side\", regex=False)\n",
    "df_MI['NeighName'] = df_MI['NeighName'].str.replace(\"10009\", \"Union Square - Lower East Side\", regex=False)"
   ]
  },
  {
   "cell_type": "code",
   "execution_count": 40,
   "metadata": {},
   "outputs": [],
   "source": [
    "# Lower Manhattan 1 5\n",
    "# 10004, 10005, 10006, 10007, 10038, 10280\n",
    "    \n",
    "df_MI['Precinct'] = df_MI['Precinct'].replace(\"10004\", \"1, 5\", regex=False)\n",
    "df_MI['Precinct'] = df_MI['Precinct'].replace(\"10005\", \"1, 5\", regex=False)\n",
    "df_MI['Precinct'] = df_MI['Precinct'].replace(\"10006\", \"1, 5\", regex=False)\n",
    "df_MI['Precinct'] = df_MI['Precinct'].replace(\"10007\", \"1, 5\", regex=False)\n",
    "df_MI['Precinct'] = df_MI['Precinct'].replace(\"10038\", \"1, 5\", regex=False)\n",
    "df_MI['Precinct'] = df_MI['Precinct'].replace(\"10280\", \"1, 5\", regex=False)\n",
    "\n",
    "df_MI['NeighName'] = df_MI['NeighName'].str.replace(\"10004\", \"Lower Manhattan\", regex=False)\n",
    "df_MI['NeighName'] = df_MI['NeighName'].str.replace(\"10005\", \"Lower Manhattan\", regex=False)\n",
    "df_MI['NeighName'] = df_MI['NeighName'].str.replace(\"10006\", \"Lower Manhattan\", regex=False)\n",
    "df_MI['NeighName'] = df_MI['NeighName'].str.replace(\"10007\", \"Lower Manhattan\", regex=False)\n",
    "df_MI['NeighName'] = df_MI['NeighName'].str.replace(\"10038\", \"Lower Manhattan\", regex=False)\n",
    "df_MI['NeighName'] = df_MI['NeighName'].str.replace(\"10280\", \"Lower Manhattan\", regex=False)"
   ]
  },
  {
   "cell_type": "code",
   "execution_count": 41,
   "metadata": {},
   "outputs": [],
   "source": [
    "# Long Island City - Astoria 108 114\n",
    "# 11101, 11102, 11103, 11104, 11105, 11106\n",
    "\n",
    "df_MI['Precinct'] = df_MI['Precinct'].replace(\"11101\", \"108, 114\", regex=False)\n",
    "df_MI['Precinct'] = df_MI['Precinct'].replace(\"11102\", \"108, 114\", regex=False)\n",
    "df_MI['Precinct'] = df_MI['Precinct'].replace(\"11103\", \"108, 114\", regex=False)\n",
    "df_MI['Precinct'] = df_MI['Precinct'].replace(\"11104\", \"108, 114\", regex=False)\n",
    "df_MI['Precinct'] = df_MI['Precinct'].replace(\"11105\", \"108, 114\", regex=False)\n",
    "df_MI['Precinct'] = df_MI['Precinct'].replace(\"11106\", \"108, 114\", regex=False)\n",
    "\n",
    "df_MI['NeighName'] = df_MI['NeighName'].str.replace(\"11101\", \"Long Island City - Astoria\", regex=False)\n",
    "df_MI['NeighName'] =df_MI['NeighName'].str.replace(\"11102\", \"Long Island City - Astoria\", regex=False)\n",
    "df_MI['NeighName'] = df_MI['NeighName'].str.replace(\"11103\", \"Long Island City - Astoria\", regex=False)\n",
    "df_MI['NeighName'] = df_MI['NeighName'].str.replace(\"11104\", \"Long Island City - Astoria\", regex=False)\n",
    "df_MI['NeighName'] = df_MI['NeighName'].str.replace(\"11105\", \"Long Island City - Astoria\", regex=False)\n",
    "df_MI['NeighName'] = df_MI['NeighName'].str.replace(\"11106\", \"Long Island City - Astoria\", regex=False)"
   ]
  },
  {
   "cell_type": "code",
   "execution_count": 42,
   "metadata": {},
   "outputs": [],
   "source": [
    "# West Queens 103\n",
    "# 11368, 11369, 11370, 11372, 11373, 11377, 11378\n",
    "\n",
    "df_MI['Precinct'] = df_MI['Precinct'].replace(\"11368\", \"103\", regex=False)\n",
    "df_MI['Precinct'] = df_MI['Precinct'].replace(\"11369\", \"103\", regex=False)\n",
    "df_MI['Precinct'] = df_MI['Precinct'].replace(\"11370\", \"103\", regex=False)\n",
    "df_MI['Precinct'] = df_MI['Precinct'].replace(\"11372\", \"103\", regex=False)\n",
    "df_MI['Precinct'] = df_MI['Precinct'].replace(\"11373\", \"103\", regex=False)\n",
    "df_MI['Precinct'] = df_MI['Precinct'].replace(\"11377\", \"103\", regex=False)\n",
    "df_MI['Precinct'] = df_MI['Precinct'].replace(\"11378\", \"103\", regex=False)\n",
    "\n",
    "df_MI['NeighName'] = df_MI['NeighName'].str.replace(\"11368\", \"West Queens\", regex=False)\n",
    "df_MI['NeighName'] = df_MI['NeighName'].str.replace(\"11369\", \"West Queens\", regex=False)\n",
    "df_MI['NeighName'] = df_MI['NeighName'].str.replace(\"11370\", \"West Queens\", regex=False)\n",
    "df_MI['NeighName'] =df_MI['NeighName'].str.replace(\"11372\", \"West Queens\", regex=False)\n",
    "df_MI['NeighName'] = df_MI['NeighName'].str.replace(\"11373\", \"West Queens\", regex=False)\n",
    "df_MI['NeighName'] = df_MI['NeighName'].str.replace(\"11377\", \"West Queens\", regex=False)\n",
    "df_MI['NeighName'] = df_MI['NeighName'].str.replace(\"11378\", \"West Queens\", regex=False)"
   ]
  },
  {
   "cell_type": "code",
   "execution_count": 43,
   "metadata": {},
   "outputs": [],
   "source": [
    "# Flushing - Clearview 109\n",
    "# 11354, 11355, 11356, 11357, 11358, 11359, 11360\n",
    "\n",
    "df_MI['Precinct'] = df_MI['Precinct'].replace(\"11354\", \"109\", regex=False)\n",
    "df_MI['Precinct'] =df_MI['Precinct'].replace(\"11355\", \"109\", regex=False)\n",
    "df_MI['Precinct'] = df_MI['Precinct'].replace(\"11356\", \"109\", regex=False)\n",
    "df_MI['Precinct'] = df_MI['Precinct'].replace(\"11357\", \"109\", regex=False)\n",
    "df_MI['Precinct'] = df_MI['Precinct'].replace(\"11358\", \"109\", regex=False)\n",
    "df_MI['Precinct'] = df_MI['Precinct'].replace(\"11359\", \"109\", regex=False)\n",
    "df_MI['Precinct'] = df_MI['Precinct'].replace(\"11360\", \"109\", regex=False)\n",
    "\n",
    "df_MI['NeighName'] = df_MI['NeighName'].str.replace(\"11354\", \"Flushing - Clearview\", regex=False)\n",
    "df_MI['NeighName'] = df_MI['NeighName'].str.replace(\"11355\", \"Flushing - Clearview\", regex=False)\n",
    "df_MI['NeighName'] = df_MI['NeighName'].str.replace(\"11356\", \"Flushing - Clearview\", regex=False)\n",
    "df_MI['NeighName'] = df_MI['NeighName'].str.replace(\"11357\", \"Flushing - Clearview\", regex=False)\n",
    "df_MI['NeighName'] = df_MI['NeighName'].str.replace(\"11358\", \"Flushing - Clearview\", regex=False)\n",
    "df_MI['NeighName'] = df_MI['NeighName'].str.replace(\"11359\", \"Flushing - Clearview\", regex=False)\n",
    "df_MI['NeighName'] = df_MI['NeighName'].str.replace(\"11360\", \"Flushing - Clearview\", regex=False)"
   ]
  },
  {
   "cell_type": "code",
   "execution_count": 44,
   "metadata": {},
   "outputs": [],
   "source": [
    "# Bayside - Little Neck 111\n",
    "# 11361, 11362, 11363, 11364\n",
    "\n",
    "df_MI['Precinct'] = df_MI['Precinct'].replace(\"11361\", \"111\", regex=False)\n",
    "df_MI['Precinct'] =df_MI['Precinct'].replace(\"11362\", \"111\", regex=False)\n",
    "df_MI['Precinct'] = df_MI['Precinct'].replace(\"11363\", \"111\", regex=False)\n",
    "df_MI['Precinct'] = df_MI['Precinct'].replace(\"11364\", \"111\", regex=False)\n",
    "\n",
    "df_MI['NeighName'] = df_MI['NeighName'].str.replace(\"11361\", \"Bayside - Little Neck\", regex=False)\n",
    "df_MI['NeighName'] = df_MI['NeighName'].str.replace(\"11362\", \"Bayside - Little Neck\", regex=False)\n",
    "df_MI['NeighName'] = df_MI['NeighName'].str.replace(\"11363\", \"Bayside - Little Neck\", regex=False)\n",
    "df_MI['NeighName'] = df_MI['NeighName'].str.replace(\"11364\", \"Bayside - Little Neck\", regex=False)"
   ]
  },
  {
   "cell_type": "code",
   "execution_count": 45,
   "metadata": {},
   "outputs": [],
   "source": [
    "# Ridgewood - Forest Hills 112 104\n",
    "# 11374, 11375, 11379, 11385\n",
    "\n",
    "df_MI['Precinct'] = df_MI['Precinct'].replace(\"11374\", \"112, 104\", regex=False)\n",
    "df_MI['Precinct'] = df_MI['Precinct'].replace(\"11375\", \"112, 104\", regex=False)\n",
    "df_MI['Precinct'] = df_MI['Precinct'].replace(\"11379\", \"112, 104\", regex=False)\n",
    "df_MI['Precinct'] = df_MI['Precinct'].replace(\"11385\", \"112, 104\", regex=False)\n",
    "\n",
    "df_MI['NeighName'] = df_MI['NeighName'].str.replace(\"11374\", \"Ridgewood - Forest Hills\", regex=False)\n",
    "df_MI['NeighName'] = df_MI['NeighName'].str.replace(\"11375\", \"Ridgewood - Forest Hills\", regex=False)\n",
    "df_MI['NeighName'] = df_MI['NeighName'].str.replace(\"11379\", \"Ridgewood - Forest Hills\", regex=False)\n",
    "df_MI['NeighName'] = df_MI['NeighName'].str.replace(\"11385\", \"Ridgewood - Forest Hills\", regex=False)"
   ]
  },
  {
   "cell_type": "code",
   "execution_count": 46,
   "metadata": {},
   "outputs": [],
   "source": [
    "# Fresh Meadows 107 111\n",
    "# 11365, 11366, 11367\n",
    "\n",
    "df_MI['Precinct'] = df_MI['Precinct'].replace(\"11365\", \"107, 111\", regex=False)\n",
    "df_MI['Precinct'] = df_MI['Precinct'].replace(\"11366\", \"107, 111\", regex=False)\n",
    "df_MI['Precinct'] = df_MI['Precinct'].replace(\"11367\", \"107, 111\", regex=False)\n",
    "\n",
    "df_MI['NeighName'] = df_MI['NeighName'].str.replace(\"11365\", \"Fresh Meadows\", regex=False)\n",
    "df_MI['NeighName'] = df_MI['NeighName'].str.replace(\"11366\", \"Fresh Meadows\", regex=False)\n",
    "df_MI['NeighName'] = df_MI['NeighName'].str.replace(\"11367\", \"Fresh Meadows\", regex=False)"
   ]
  },
  {
   "cell_type": "code",
   "execution_count": 47,
   "metadata": {},
   "outputs": [],
   "source": [
    "# Southwest Queens 108\n",
    "# 11414, 11415, 11416, 11417, 11418, 11419, 11420, 11421\n",
    "\n",
    "df_MI['Precinct'] = df_MI['Precinct'].replace(\"11414\", \"108\", regex=False)\n",
    "df_MI['Precinct'] = df_MI['Precinct'].replace(\"11415\", \"108\", regex=False)\n",
    "df_MI['Precinct'] = df_MI['Precinct'].replace(\"11416\", \"108\", regex=False)\n",
    "df_MI['Precinct'] = df_MI['Precinct'].replace(\"11417\", \"108\", regex=False)\n",
    "df_MI['Precinct'] = df_MI['Precinct'].replace(\"11418\", \"108\", regex=False)\n",
    "df_MI['Precinct'] = df_MI['Precinct'].replace(\"11419\", \"108\", regex=False)\n",
    "df_MI['Precinct'] = df_MI['Precinct'].replace(\"11420\", \"108\", regex=False)\n",
    "df_MI['Precinct'] = df_MI['Precinct'].replace(\"11421\", \"108\", regex=False)\n",
    "\n",
    "df_MI['NeighName'] = df_MI['NeighName'].str.replace(\"11414\", \"Southwest Queens\", regex=False)\n",
    "df_MI['NeighName'] = df_MI['NeighName'].str.replace(\"11415\", \"Southwest Queens\", regex=False)\n",
    "df_MI['NeighName'] = df_MI['NeighName'].str.replace(\"11416\", \"Southwest Queens\", regex=False)\n",
    "df_MI['NeighName'] = df_MI['NeighName'].str.replace(\"11417\", \"Southwest Queens\", regex=False)\n",
    "df_MI['NeighName'] = df_MI['NeighName'].str.replace(\"11418\", \"Southwest Queens\", regex=False)\n",
    "df_MI['NeighName'] = df_MI['NeighName'].str.replace(\"11419\", \"Southwest Queens\", regex=False)\n",
    "df_MI['NeighName'] = df_MI['NeighName'].str.replace(\"11420\", \"Southwest Queens\", regex=False)\n",
    "df_MI['NeighName'] = df_MI['NeighName'].str.replace(\"11421\", \"Southwest Queens\", regex=False)"
   ]
  },
  {
   "cell_type": "code",
   "execution_count": 48,
   "metadata": {},
   "outputs": [],
   "source": [
    "# Jamaica 103 113\n",
    "# 11412, 11423, 11432, 11433, 11434, 11435, 11436\n",
    "\n",
    "df_MI['Precinct'] = df_MI['Precinct'].replace(\"11412\", \"103, 113\", regex=False)\n",
    "df_MI['Precinct'] = df_MI['Precinct'].replace(\"11423\", \"103, 113\", regex=False)\n",
    "df_MI['Precinct'] =df_MI['Precinct'].replace(\"11432\", \"103, 113\", regex=False)\n",
    "df_MI['Precinct'] = df_MI['Precinct'].replace(\"11433\", \"103, 113\", regex=False)\n",
    "df_MI['Precinct'] = df_MI['Precinct'].replace(\"11434\", \"103, 113\", regex=False)\n",
    "df_MI['Precinct'] = df_MI['Precinct'].replace(\"11435\", \"103, 113\", regex=False)\n",
    "df_MI['Precinct'] = df_MI['Precinct'].replace(\"11436\", \"103, 113\", regex=False)\n",
    "\n",
    "df_MI['NeighName'] = df_MI['NeighName'].str.replace(\"11412\", \"Jamaica\", regex=False)\n",
    "df_MI['NeighName'] = df_MI['NeighName'].str.replace(\"11423\", \"Jamaica\", regex=False)\n",
    "df_MI['NeighName'] = df_MI['NeighName'].str.replace(\"11432\", \"Jamaica\", regex=False)\n",
    "df_MI['NeighName'] = df_MI['NeighName'].str.replace(\"11433\", \"Jamaica\", regex=False)\n",
    "df_MI['NeighName'] = df_MI['NeighName'].str.replace(\"11434\", \"Jamaica\", regex=False)\n",
    "df_MI['NeighName'] = df_MI['NeighName'].str.replace(\"11435\", \"Jamaica\", regex=False)\n",
    "df_MI['NeighName'] = df_MI['NeighName'].str.replace(\"11436\", \"Jamaica\", regex=False)"
   ]
  },
  {
   "cell_type": "code",
   "execution_count": 49,
   "metadata": {},
   "outputs": [],
   "source": [
    "# Southeast Queens 105 113\n",
    "# 11004, 11005, 11411, 11413, 11422, 11426, 11427, 11428, 11429\n",
    "\n",
    "df_MI['Precinct'] = df_MI['Precinct'].replace(\"11004\", \"105, 113\", regex=False)\n",
    "df_MI['Precinct'] = df_MI['Precinct'].replace(\"11005\", \"105, 113\", regex=False)\n",
    "df_MI['Precinct'] = df_MI['Precinct'].replace(\"11411\", \"105, 113\", regex=False)\n",
    "df_MI['Precinct'] = df_MI['Precinct'].replace(\"11413\", \"105, 113\", regex=False)\n",
    "df_MI['Precinct'] = df_MI['Precinct'].replace(\"11422\", \"105, 113\", regex=False)\n",
    "df_MI['Precinct'] = df_MI['Precinct'].replace(\"11426\", \"105, 113\", regex=False)\n",
    "df_MI['Precinct'] = df_MI['Precinct'].replace(\"11427\", \"105, 113\", regex=False)\n",
    "df_MI['Precinct'] = df_MI['Precinct'].replace(\"11428\", \"105, 113\", regex=False)\n",
    "df_MI['Precinct'] = df_MI['Precinct'].replace(\"11429\", \"105, 113\", regex=False)\n",
    "\n",
    "df_MI['NeighName'] = df_MI['NeighName'].str.replace(\"11004\", \"Southeast Queens\", regex=False)\n",
    "df_MI['NeighName'] = df_MI['NeighName'].str.replace(\"11005\", \"Southeast Queens\", regex=False)\n",
    "df_MI['NeighName'] = df_MI['NeighName'].str.replace(\"11411\", \"Southeast Queens\", regex=False)\n",
    "df_MI['NeighName'] = df_MI['NeighName'].str.replace(\"11413\", \"Southeast Queens\", regex=False)\n",
    "df_MI['NeighName'] = df_MI['NeighName'].str.replace(\"11422\", \"Southeast Queens\", regex=False)\n",
    "df_MI['NeighName'] = df_MI['NeighName'].str.replace(\"11426\", \"Southeast Queens\", regex=False)\n",
    "df_MI['NeighName'] = df_MI['NeighName'].str.replace(\"11427\", \"Southeast Queens\", regex=False)\n",
    "df_MI['NeighName'] = df_MI['NeighName'].str.replace(\"11428\", \"Southeast Queens\", regex=False)\n",
    "df_MI['NeighName'] = df_MI['NeighName'].str.replace(\"11429\", \"Southeast Queens\", regex=False)"
   ]
  },
  {
   "cell_type": "code",
   "execution_count": 50,
   "metadata": {},
   "outputs": [],
   "source": [
    "# IMPORTANT precincts 105, 113 span a large area"
   ]
  },
  {
   "cell_type": "code",
   "execution_count": 51,
   "metadata": {},
   "outputs": [],
   "source": [
    "# Rockaway 100 101\n",
    "# 11691, 11692, 11693, 11694, 11695, 11697\n",
    "\n",
    "df_MI['Precinct'] = df_MI['Precinct'].replace(\"11691\", \"100, 101\", regex=False)\n",
    "df_MI['Precinct'] = df_MI['Precinct'].replace(\"11692\", \"100, 101\", regex=False)\n",
    "df_MI['Precinct'] = df_MI['Precinct'].replace(\"11693\", \"100, 101\", regex=False)\n",
    "df_MI['Precinct'] = df_MI['Precinct'].replace(\"11694\", \"100, 101\", regex=False)\n",
    "df_MI['Precinct'] = df_MI['Precinct'].replace(\"11695\", \"100, 101\", regex=False)\n",
    "df_MI['Precinct'] = df_MI['Precinct'].replace(\"11697\", \"100, 101\", regex=False)\n",
    "\n",
    "df_MI['NeighName'] = df_MI['NeighName'].str.replace(\"11691\", \"Rockaway\", regex=False)\n",
    "df_MI['NeighName'] = df_MI['NeighName'].str.replace(\"11692\", \"Rockaway\", regex=False)\n",
    "df_MI['NeighName'] = df_MI['NeighName'].str.replace(\"11693\", \"Rockaway\", regex=False)\n",
    "df_MI['NeighName'] = df_MI['NeighName'].str.replace(\"11694\", \"Rockaway\", regex=False)\n",
    "df_MI['NeighName'] = df_MI['NeighName'].str.replace(\"11695\", \"Rockaway\", regex=False)\n",
    "df_MI['NeighName'] = df_MI['NeighName'].str.replace(\"11697\", \"Rockaway\", regex=False)"
   ]
  },
  {
   "cell_type": "code",
   "execution_count": 52,
   "metadata": {},
   "outputs": [],
   "source": [
    "# Port Richmond 121\n",
    "# 10302, 10303, 10310\n",
    "\n",
    "df_MI['Precinct'] =df_MI['Precinct'].replace(\"10302\", \"121\", regex=False)\n",
    "df_MI['Precinct'] = df_MI['Precinct'].replace(\"10303\", \"121\", regex=False)\n",
    "df_MI['Precinct'] = df_MI['Precinct'].replace(\"10310\", \"121\", regex=False)\n",
    "\n",
    "df_MI['NeighName'] = df_MI['NeighName'].str.replace(\"10302\", \"Port Richmond\", regex=False)\n",
    "df_MI['NeighName'] = df_MI['NeighName'].str.replace(\"10303\", \"Port Richmond\", regex=False)\n",
    "df_MI['NeighName'] = df_MI['NeighName'].str.replace(\"10310\", \"Port Richmond\", regex=False)"
   ]
  },
  {
   "cell_type": "code",
   "execution_count": 53,
   "metadata": {},
   "outputs": [],
   "source": [
    "# Stapleton - St. George 120\n",
    "# 10301, 10304, 10305\n",
    "\n",
    "df_MI['Precinct'] = df_MI['Precinct'].replace(\"10301\", \"120\", regex=False)\n",
    "df_MI['Precinct'] = df_MI['Precinct'].replace(\"10304\", \"120\", regex=False)\n",
    "df_MI['Precinct'] = df_MI['Precinct'].replace(\"10305\", \"120\", regex=False)\n",
    "\n",
    "df_MI['NeighName'] = df_MI['NeighName'].str.replace(\"10301\", \"Stapleton - St. George\", regex=False)\n",
    "df_MI['NeighName'] = df_MI['NeighName'].str.replace(\"10304\", \"Stapleton - St. George\", regex=False)\n",
    "df_MI['NeighName'] = df_MI['NeighName'].str.replace(\"10305\", \"Stapleton - St. George\", regex=False)"
   ]
  },
  {
   "cell_type": "code",
   "execution_count": 54,
   "metadata": {},
   "outputs": [],
   "source": [
    "# Willowbrook 121\n",
    "# 10314\n",
    "\n",
    "df_MI['Precinct'] = df_MI['Precinct'].replace(\"10314\", \"121\", regex=False)\n",
    "df_MI['NeighName'] =df_MI['NeighName'].str.replace(\"10314\", \"Willowbrook\", regex=False)"
   ]
  },
  {
   "cell_type": "code",
   "execution_count": 55,
   "metadata": {},
   "outputs": [],
   "source": [
    "# South Beach - Tottenville 122 123\n",
    "# 10306, 10307, 10308, 10309, 10312\n",
    "\n",
    "df_MI['Precinct'] = df_MI['Precinct'].replace(\"10306\", \"122, 123\", regex=False)\n",
    "df_MI['Precinct'] = df_MI['Precinct'].replace(\"10307\", \"122, 123\", regex=False)\n",
    "df_MI['Precinct'] = df_MI['Precinct'].replace(\"10308\", \"122, 123\", regex=False)\n",
    "df_MI['Precinct'] = df_MI['Precinct'].replace(\"10309\", \"122, 123\", regex=False)\n",
    "df_MI['Precinct'] = df_MI['Precinct'].replace(\"10312\", \"122, 123\", regex=False)\n",
    "\n",
    "df_MI['NeighName'] = df_MI['NeighName'].str.replace(\"10306\", \"South Beach - Tottenville\", regex=False)\n",
    "df_MI['NeighName'] = df_MI['NeighName'].str.replace(\"10307\", \"South Beach - Tottenville\", regex=False)\n",
    "df_MI['NeighName'] = df_MI['NeighName'].str.replace(\"10308\", \"South Beach - Tottenville\", regex=False)\n",
    "df_MI['NeighName'] = df_MI['NeighName'].str.replace(\"10309\", \"South Beach - Tottenville\", regex=False)\n",
    "df_MI['NeighName'] = df_MI['NeighName'].str.replace(\"10312\", \"South Beach - Tottenville\", regex=False)"
   ]
  },
  {
   "cell_type": "code",
   "execution_count": 56,
   "metadata": {},
   "outputs": [],
   "source": [
    "#Split Precinct column by comma\n",
    "\n",
    "df_MI = pd.concat([df_MI, df_MI.Precinct.str.split(', ', expand=True)], axis=1)"
   ]
  },
  {
   "cell_type": "code",
   "execution_count": 57,
   "metadata": {},
   "outputs": [],
   "source": [
    "df_MI = df_MI.rename(columns={0: 'Precinct_1', 1: 'Precinct_2', 2:'Precinct_3'})"
   ]
  },
  {
   "cell_type": "code",
   "execution_count": 58,
   "metadata": {},
   "outputs": [
    {
     "data": {
      "text/html": [
       "<div>\n",
       "<style scoped>\n",
       "    .dataframe tbody tr th:only-of-type {\n",
       "        vertical-align: middle;\n",
       "    }\n",
       "\n",
       "    .dataframe tbody tr th {\n",
       "        vertical-align: top;\n",
       "    }\n",
       "\n",
       "    .dataframe thead th {\n",
       "        text-align: right;\n",
       "    }\n",
       "</style>\n",
       "<table border=\"1\" class=\"dataframe\">\n",
       "  <thead>\n",
       "    <tr style=\"text-align: right;\">\n",
       "      <th></th>\n",
       "      <th>id</th>\n",
       "      <th>Zip Code</th>\n",
       "      <th>Median household income2019</th>\n",
       "      <th>Margin of Error</th>\n",
       "      <th>Precinct</th>\n",
       "      <th>NeighName</th>\n",
       "      <th>Precinct_1</th>\n",
       "      <th>Precinct_2</th>\n",
       "      <th>Precinct_3</th>\n",
       "    </tr>\n",
       "  </thead>\n",
       "  <tbody>\n",
       "    <tr>\n",
       "      <th>1</th>\n",
       "      <td>8600000US06390</td>\n",
       "      <td>06390</td>\n",
       "      <td>61125</td>\n",
       "      <td>8799</td>\n",
       "      <td>06390</td>\n",
       "      <td>06390</td>\n",
       "      <td>06390</td>\n",
       "      <td>None</td>\n",
       "      <td>None</td>\n",
       "    </tr>\n",
       "    <tr>\n",
       "      <th>2</th>\n",
       "      <td>8600000US10001</td>\n",
       "      <td>10001</td>\n",
       "      <td>92840</td>\n",
       "      <td>8971</td>\n",
       "      <td>10</td>\n",
       "      <td>Chelsea - Clinton</td>\n",
       "      <td>10</td>\n",
       "      <td>None</td>\n",
       "      <td>None</td>\n",
       "    </tr>\n",
       "    <tr>\n",
       "      <th>3</th>\n",
       "      <td>8600000US10002</td>\n",
       "      <td>10002</td>\n",
       "      <td>36982</td>\n",
       "      <td>2384</td>\n",
       "      <td>7, 9</td>\n",
       "      <td>Union Square - Lower East Side</td>\n",
       "      <td>7</td>\n",
       "      <td>9</td>\n",
       "      <td>None</td>\n",
       "    </tr>\n",
       "    <tr>\n",
       "      <th>4</th>\n",
       "      <td>8600000US10003</td>\n",
       "      <td>10003</td>\n",
       "      <td>118161</td>\n",
       "      <td>10235</td>\n",
       "      <td>7, 9</td>\n",
       "      <td>Union Square - Lower East Side</td>\n",
       "      <td>7</td>\n",
       "      <td>9</td>\n",
       "      <td>None</td>\n",
       "    </tr>\n",
       "    <tr>\n",
       "      <th>5</th>\n",
       "      <td>8600000US10004</td>\n",
       "      <td>10004</td>\n",
       "      <td>190223</td>\n",
       "      <td>49426</td>\n",
       "      <td>1, 5</td>\n",
       "      <td>Lower Manhattan</td>\n",
       "      <td>1</td>\n",
       "      <td>5</td>\n",
       "      <td>None</td>\n",
       "    </tr>\n",
       "    <tr>\n",
       "      <th>6</th>\n",
       "      <td>8600000US10005</td>\n",
       "      <td>10005</td>\n",
       "      <td>189702</td>\n",
       "      <td>15832</td>\n",
       "      <td>1, 5</td>\n",
       "      <td>Lower Manhattan</td>\n",
       "      <td>1</td>\n",
       "      <td>5</td>\n",
       "      <td>None</td>\n",
       "    </tr>\n",
       "    <tr>\n",
       "      <th>7</th>\n",
       "      <td>8600000US10006</td>\n",
       "      <td>10006</td>\n",
       "      <td>179044</td>\n",
       "      <td>16237</td>\n",
       "      <td>1, 5</td>\n",
       "      <td>Lower Manhattan</td>\n",
       "      <td>1</td>\n",
       "      <td>5</td>\n",
       "      <td>None</td>\n",
       "    </tr>\n",
       "    <tr>\n",
       "      <th>8</th>\n",
       "      <td>8600000US10007</td>\n",
       "      <td>10007</td>\n",
       "      <td>224063</td>\n",
       "      <td>45620</td>\n",
       "      <td>1, 5</td>\n",
       "      <td>Lower Manhattan</td>\n",
       "      <td>1</td>\n",
       "      <td>5</td>\n",
       "      <td>None</td>\n",
       "    </tr>\n",
       "    <tr>\n",
       "      <th>9</th>\n",
       "      <td>8600000US10009</td>\n",
       "      <td>10009</td>\n",
       "      <td>63717</td>\n",
       "      <td>4878</td>\n",
       "      <td>7, 9</td>\n",
       "      <td>Union Square - Lower East Side</td>\n",
       "      <td>7</td>\n",
       "      <td>9</td>\n",
       "      <td>None</td>\n",
       "    </tr>\n",
       "    <tr>\n",
       "      <th>10</th>\n",
       "      <td>8600000US10010</td>\n",
       "      <td>10010</td>\n",
       "      <td>132988</td>\n",
       "      <td>7749</td>\n",
       "      <td>13, 17</td>\n",
       "      <td>Gramercy Park - Murray Hill</td>\n",
       "      <td>13</td>\n",
       "      <td>17</td>\n",
       "      <td>None</td>\n",
       "    </tr>\n",
       "  </tbody>\n",
       "</table>\n",
       "</div>"
      ],
      "text/plain": [
       "                id Zip Code Median household income2019 Margin of Error  \\\n",
       "1   8600000US06390    06390                       61125            8799   \n",
       "2   8600000US10001    10001                       92840            8971   \n",
       "3   8600000US10002    10002                       36982            2384   \n",
       "4   8600000US10003    10003                      118161           10235   \n",
       "5   8600000US10004    10004                      190223           49426   \n",
       "6   8600000US10005    10005                      189702           15832   \n",
       "7   8600000US10006    10006                      179044           16237   \n",
       "8   8600000US10007    10007                      224063           45620   \n",
       "9   8600000US10009    10009                       63717            4878   \n",
       "10  8600000US10010    10010                      132988            7749   \n",
       "\n",
       "   Precinct                       NeighName Precinct_1 Precinct_2 Precinct_3  \n",
       "1     06390                           06390      06390       None       None  \n",
       "2        10               Chelsea - Clinton         10       None       None  \n",
       "3      7, 9  Union Square - Lower East Side          7          9       None  \n",
       "4      7, 9  Union Square - Lower East Side          7          9       None  \n",
       "5      1, 5                 Lower Manhattan          1          5       None  \n",
       "6      1, 5                 Lower Manhattan          1          5       None  \n",
       "7      1, 5                 Lower Manhattan          1          5       None  \n",
       "8      1, 5                 Lower Manhattan          1          5       None  \n",
       "9      7, 9  Union Square - Lower East Side          7          9       None  \n",
       "10   13, 17     Gramercy Park - Murray Hill         13         17       None  "
      ]
     },
     "execution_count": 58,
     "metadata": {},
     "output_type": "execute_result"
    }
   ],
   "source": [
    "df_MI.head(10)"
   ]
  },
  {
   "cell_type": "code",
   "execution_count": 59,
   "metadata": {},
   "outputs": [],
   "source": [
    "df_MI['Median household income2019'] = df_MI['Median household income2019'].replace(\"-\", \"\", regex=False)"
   ]
  },
  {
   "cell_type": "code",
   "execution_count": 60,
   "metadata": {},
   "outputs": [],
   "source": [
    "df_MI2 = df_MI[df_MI['Median household income2019'].notna()]"
   ]
  },
  {
   "cell_type": "code",
   "execution_count": 61,
   "metadata": {},
   "outputs": [],
   "source": [
    "# extract for df w/ NeighName \n",
    "df_MI2 = df_MI[df_MI.NeighName.str.contains(r\"[A-Za-z]\", regex=True)]"
   ]
  },
  {
   "cell_type": "code",
   "execution_count": 62,
   "metadata": {},
   "outputs": [],
   "source": [
    "df_MI2.to_excel(\"ZipCode_Income.xlsx\",index=False)"
   ]
  },
  {
   "cell_type": "code",
   "execution_count": 63,
   "metadata": {},
   "outputs": [],
   "source": [
    "# manually filling in median household income for zipcodes 10020, 11359"
   ]
  },
  {
   "cell_type": "code",
   "execution_count": 64,
   "metadata": {},
   "outputs": [
    {
     "name": "stdout",
     "output_type": "stream",
     "text": [
      "ACSDT5Y2019.B19013_data_with_overlays_2021-03-28T171056 2.xlsx\r\n",
      "ACSDT5Y2019.B19013_data_with_overlays_2021-03-28T171056.csv\r\n",
      "ACSDT5Y2019.B19013_metadata_2021-03-28T171056.csv\r\n",
      "ACSDT5Y2019.B19013_table_title_2021-03-28T171056.txt\r\n",
      "Burglary2021.csv\r\n",
      "Burglary_NarrowDown.csv\r\n",
      "GrandLarceny2021.csv\r\n",
      "NYC_IncomeLevels.xlsx\r\n",
      "NYC_MajorFelony_CrimeStats_New4.xlsx\r\n",
      "OLD_df_MI_P1.csv\r\n",
      "PCT_GrandLarceny.csv\r\n",
      "ShootingsPercentChange.csv\r\n",
      "VehicleTheft2021.csv\r\n",
      "ZipCode_Income.xlsx\r\n",
      "ZipCode_Income2.xlsx\r\n",
      "ZipCode_Income3.csv\r\n",
      "carTheft_Pct.csv\r\n",
      "change_19_20.csv\r\n",
      "change_20_21.csv\r\n",
      "df_MI.csv\r\n",
      "df_MI_P1.xlsx\r\n",
      "df_MI_Precincts.xlsx\r\n",
      "df_MI_Precincts_New.xlsx\r\n",
      "dfinal_new\r\n",
      "drop_19_20.csv\r\n",
      "drop_20_21.csv\r\n",
      "lowerIncome.csv\r\n",
      "lowerMiddleIncome.csv\r\n",
      "rise_19_20.csv\r\n",
      "rise_20_21.csv\r\n",
      "upperIncome.csv\r\n",
      "upperMiddleIncome.csv\r\n",
      "~$ACSDT5Y2019.B19013_data_with_overlays_2021-03-28T171056 2.xlsx\r\n"
     ]
    }
   ],
   "source": [
    "!ls"
   ]
  },
  {
   "cell_type": "code",
   "execution_count": 65,
   "metadata": {},
   "outputs": [],
   "source": [
    "df_MI3 = pd.read_excel(\"ZipCode_Income2.xlsx\")"
   ]
  },
  {
   "cell_type": "code",
   "execution_count": 66,
   "metadata": {},
   "outputs": [],
   "source": [
    "# IMPORTANT\n",
    "df_MI3.to_csv(\"ZipCode_Income3.csv\", index=False)"
   ]
  },
  {
   "cell_type": "code",
   "execution_count": 67,
   "metadata": {},
   "outputs": [
    {
     "data": {
      "text/plain": [
       "(177, 9)"
      ]
     },
     "execution_count": 67,
     "metadata": {},
     "output_type": "execute_result"
    }
   ],
   "source": [
    "df_MI3.shape"
   ]
  },
  {
   "cell_type": "code",
   "execution_count": null,
   "metadata": {},
   "outputs": [],
   "source": []
  },
  {
   "cell_type": "markdown",
   "metadata": {},
   "source": [
    "## reading with df w/ zip code & population info"
   ]
  },
  {
   "cell_type": "code",
   "execution_count": 68,
   "metadata": {},
   "outputs": [],
   "source": [
    "os.chdir(\"..\")"
   ]
  },
  {
   "cell_type": "code",
   "execution_count": 69,
   "metadata": {},
   "outputs": [],
   "source": [
    "os.chdir(\"Sources\")"
   ]
  },
  {
   "cell_type": "code",
   "execution_count": 70,
   "metadata": {},
   "outputs": [],
   "source": [
    "df_zclist = pd.read_csv(\"nyc_zip_borough_neighborhoods_pop.csv\")"
   ]
  },
  {
   "cell_type": "code",
   "execution_count": 71,
   "metadata": {},
   "outputs": [
    {
     "data": {
      "text/html": [
       "<div>\n",
       "<style scoped>\n",
       "    .dataframe tbody tr th:only-of-type {\n",
       "        vertical-align: middle;\n",
       "    }\n",
       "\n",
       "    .dataframe tbody tr th {\n",
       "        vertical-align: top;\n",
       "    }\n",
       "\n",
       "    .dataframe thead th {\n",
       "        text-align: right;\n",
       "    }\n",
       "</style>\n",
       "<table border=\"1\" class=\"dataframe\">\n",
       "  <thead>\n",
       "    <tr style=\"text-align: right;\">\n",
       "      <th></th>\n",
       "      <th>zip</th>\n",
       "      <th>borough</th>\n",
       "      <th>post_office</th>\n",
       "      <th>neighborhood</th>\n",
       "      <th>population</th>\n",
       "      <th>density</th>\n",
       "    </tr>\n",
       "  </thead>\n",
       "  <tbody>\n",
       "    <tr>\n",
       "      <th>0</th>\n",
       "      <td>10001</td>\n",
       "      <td>Manhattan</td>\n",
       "      <td>New York, NY</td>\n",
       "      <td>Chelsea and Clinton</td>\n",
       "      <td>21102</td>\n",
       "      <td>33959</td>\n",
       "    </tr>\n",
       "    <tr>\n",
       "      <th>1</th>\n",
       "      <td>10002</td>\n",
       "      <td>Manhattan</td>\n",
       "      <td>New York, NY</td>\n",
       "      <td>Lower East Side</td>\n",
       "      <td>81410</td>\n",
       "      <td>92573</td>\n",
       "    </tr>\n",
       "    <tr>\n",
       "      <th>2</th>\n",
       "      <td>10003</td>\n",
       "      <td>Manhattan</td>\n",
       "      <td>New York, NY</td>\n",
       "      <td>Lower East Side</td>\n",
       "      <td>56024</td>\n",
       "      <td>97188</td>\n",
       "    </tr>\n",
       "    <tr>\n",
       "      <th>3</th>\n",
       "      <td>10004</td>\n",
       "      <td>Manhattan</td>\n",
       "      <td>New York, NY</td>\n",
       "      <td>Lower Manhattan</td>\n",
       "      <td>3089</td>\n",
       "      <td>5519</td>\n",
       "    </tr>\n",
       "    <tr>\n",
       "      <th>4</th>\n",
       "      <td>10005</td>\n",
       "      <td>Manhattan</td>\n",
       "      <td>New York, NY</td>\n",
       "      <td>Lower Manhattan</td>\n",
       "      <td>7135</td>\n",
       "      <td>97048</td>\n",
       "    </tr>\n",
       "  </tbody>\n",
       "</table>\n",
       "</div>"
      ],
      "text/plain": [
       "     zip    borough   post_office         neighborhood  population  density\n",
       "0  10001  Manhattan  New York, NY  Chelsea and Clinton       21102    33959\n",
       "1  10002  Manhattan  New York, NY      Lower East Side       81410    92573\n",
       "2  10003  Manhattan  New York, NY      Lower East Side       56024    97188\n",
       "3  10004  Manhattan  New York, NY      Lower Manhattan        3089     5519\n",
       "4  10005  Manhattan  New York, NY      Lower Manhattan        7135    97048"
      ]
     },
     "execution_count": 71,
     "metadata": {},
     "output_type": "execute_result"
    }
   ],
   "source": [
    "df_zclist.head()"
   ]
  },
  {
   "cell_type": "code",
   "execution_count": 72,
   "metadata": {},
   "outputs": [],
   "source": [
    "df_zclist = df_zclist.rename(columns={'zip':'Zip Code'})"
   ]
  },
  {
   "cell_type": "code",
   "execution_count": 73,
   "metadata": {},
   "outputs": [
    {
     "data": {
      "text/plain": [
       "(177, 6)"
      ]
     },
     "execution_count": 73,
     "metadata": {},
     "output_type": "execute_result"
    }
   ],
   "source": [
    "df_zclist.shape"
   ]
  },
  {
   "cell_type": "code",
   "execution_count": null,
   "metadata": {},
   "outputs": [],
   "source": []
  },
  {
   "cell_type": "markdown",
   "metadata": {},
   "source": [
    "# Step 2: Income range by precinct"
   ]
  },
  {
   "cell_type": "code",
   "execution_count": 74,
   "metadata": {},
   "outputs": [],
   "source": [
    "df_MI4 = df_MI3"
   ]
  },
  {
   "cell_type": "code",
   "execution_count": 75,
   "metadata": {},
   "outputs": [],
   "source": [
    "df_MI4['Median household income2019'] = df_MI4['Median household income2019'].astype(str).astype(int)"
   ]
  },
  {
   "cell_type": "code",
   "execution_count": 76,
   "metadata": {},
   "outputs": [
    {
     "data": {
      "text/html": [
       "<div>\n",
       "<style scoped>\n",
       "    .dataframe tbody tr th:only-of-type {\n",
       "        vertical-align: middle;\n",
       "    }\n",
       "\n",
       "    .dataframe tbody tr th {\n",
       "        vertical-align: top;\n",
       "    }\n",
       "\n",
       "    .dataframe thead th {\n",
       "        text-align: right;\n",
       "    }\n",
       "</style>\n",
       "<table border=\"1\" class=\"dataframe\">\n",
       "  <thead>\n",
       "    <tr style=\"text-align: right;\">\n",
       "      <th></th>\n",
       "      <th>id</th>\n",
       "      <th>Zip Code</th>\n",
       "      <th>Median household income2019</th>\n",
       "      <th>Margin of Error</th>\n",
       "      <th>Precinct</th>\n",
       "      <th>NeighName</th>\n",
       "      <th>Precinct_1</th>\n",
       "      <th>Precinct_2</th>\n",
       "      <th>Precinct_3</th>\n",
       "    </tr>\n",
       "  </thead>\n",
       "  <tbody>\n",
       "    <tr>\n",
       "      <th>0</th>\n",
       "      <td>8600000US10001</td>\n",
       "      <td>10001</td>\n",
       "      <td>92840</td>\n",
       "      <td>8971</td>\n",
       "      <td>10</td>\n",
       "      <td>Chelsea - Clinton</td>\n",
       "      <td>10</td>\n",
       "      <td>NaN</td>\n",
       "      <td>NaN</td>\n",
       "    </tr>\n",
       "  </tbody>\n",
       "</table>\n",
       "</div>"
      ],
      "text/plain": [
       "               id  Zip Code  Median household income2019 Margin of Error  \\\n",
       "0  8600000US10001     10001                        92840            8971   \n",
       "\n",
       "  Precinct          NeighName  Precinct_1  Precinct_2  Precinct_3  \n",
       "0       10  Chelsea - Clinton          10         NaN         NaN  "
      ]
     },
     "execution_count": 76,
     "metadata": {},
     "output_type": "execute_result"
    }
   ],
   "source": [
    "df_MI4.head(1)"
   ]
  },
  {
   "cell_type": "code",
   "execution_count": 77,
   "metadata": {},
   "outputs": [],
   "source": [
    "df_MI4['Precinct_1'] = df_MI4['Precinct_1'].astype(str).astype(int)"
   ]
  },
  {
   "cell_type": "code",
   "execution_count": 78,
   "metadata": {},
   "outputs": [],
   "source": [
    "P1 = df_MI4.groupby('Precinct_1').agg({'Median household income2019':['median', 'min', 'max']})\n",
    "P1 = P1.reset_index()"
   ]
  },
  {
   "cell_type": "code",
   "execution_count": 79,
   "metadata": {},
   "outputs": [
    {
     "data": {
      "text/html": [
       "<div>\n",
       "<style scoped>\n",
       "    .dataframe tbody tr th:only-of-type {\n",
       "        vertical-align: middle;\n",
       "    }\n",
       "\n",
       "    .dataframe tbody tr th {\n",
       "        vertical-align: top;\n",
       "    }\n",
       "\n",
       "    .dataframe thead tr th {\n",
       "        text-align: left;\n",
       "    }\n",
       "</style>\n",
       "<table border=\"1\" class=\"dataframe\">\n",
       "  <thead>\n",
       "    <tr>\n",
       "      <th></th>\n",
       "      <th>Precinct_1</th>\n",
       "      <th colspan=\"3\" halign=\"left\">P1_household_income</th>\n",
       "    </tr>\n",
       "    <tr>\n",
       "      <th></th>\n",
       "      <th></th>\n",
       "      <th>median</th>\n",
       "      <th>min</th>\n",
       "      <th>max</th>\n",
       "    </tr>\n",
       "  </thead>\n",
       "  <tbody>\n",
       "    <tr>\n",
       "      <th>0</th>\n",
       "      <td>1</td>\n",
       "      <td>186231.0</td>\n",
       "      <td>95702</td>\n",
       "      <td>224063</td>\n",
       "    </tr>\n",
       "    <tr>\n",
       "      <th>1</th>\n",
       "      <td>6</td>\n",
       "      <td>113191.0</td>\n",
       "      <td>106467</td>\n",
       "      <td>133501</td>\n",
       "    </tr>\n",
       "    <tr>\n",
       "      <th>2</th>\n",
       "      <td>7</td>\n",
       "      <td>63717.0</td>\n",
       "      <td>36982</td>\n",
       "      <td>118161</td>\n",
       "    </tr>\n",
       "    <tr>\n",
       "      <th>3</th>\n",
       "      <td>10</td>\n",
       "      <td>113138.0</td>\n",
       "      <td>92840</td>\n",
       "      <td>138272</td>\n",
       "    </tr>\n",
       "    <tr>\n",
       "      <th>4</th>\n",
       "      <td>13</td>\n",
       "      <td>132016.5</td>\n",
       "      <td>126628</td>\n",
       "      <td>150718</td>\n",
       "    </tr>\n",
       "    <tr>\n",
       "      <th>5</th>\n",
       "      <td>19</td>\n",
       "      <td>122569.0</td>\n",
       "      <td>104808</td>\n",
       "      <td>148441</td>\n",
       "    </tr>\n",
       "    <tr>\n",
       "      <th>6</th>\n",
       "      <td>20</td>\n",
       "      <td>132605.0</td>\n",
       "      <td>91624</td>\n",
       "      <td>143623</td>\n",
       "    </tr>\n",
       "    <tr>\n",
       "      <th>7</th>\n",
       "      <td>25</td>\n",
       "      <td>31759.5</td>\n",
       "      <td>29799</td>\n",
       "      <td>33720</td>\n",
       "    </tr>\n",
       "    <tr>\n",
       "      <th>8</th>\n",
       "      <td>26</td>\n",
       "      <td>46263.0</td>\n",
       "      <td>42278</td>\n",
       "      <td>59691</td>\n",
       "    </tr>\n",
       "    <tr>\n",
       "      <th>9</th>\n",
       "      <td>33</td>\n",
       "      <td>53660.0</td>\n",
       "      <td>49677</td>\n",
       "      <td>63093</td>\n",
       "    </tr>\n",
       "    <tr>\n",
       "      <th>10</th>\n",
       "      <td>41</td>\n",
       "      <td>25775.0</td>\n",
       "      <td>21447</td>\n",
       "      <td>29284</td>\n",
       "    </tr>\n",
       "    <tr>\n",
       "      <th>11</th>\n",
       "      <td>44</td>\n",
       "      <td>29579.0</td>\n",
       "      <td>27917</td>\n",
       "      <td>30349</td>\n",
       "    </tr>\n",
       "    <tr>\n",
       "      <th>12</th>\n",
       "      <td>45</td>\n",
       "      <td>56291.5</td>\n",
       "      <td>33498</td>\n",
       "      <td>96366</td>\n",
       "    </tr>\n",
       "    <tr>\n",
       "      <th>13</th>\n",
       "      <td>48</td>\n",
       "      <td>29136.0</td>\n",
       "      <td>27545</td>\n",
       "      <td>29767</td>\n",
       "    </tr>\n",
       "    <tr>\n",
       "      <th>14</th>\n",
       "      <td>49</td>\n",
       "      <td>59829.5</td>\n",
       "      <td>51951</td>\n",
       "      <td>65399</td>\n",
       "    </tr>\n",
       "    <tr>\n",
       "      <th>15</th>\n",
       "      <td>50</td>\n",
       "      <td>73565.0</td>\n",
       "      <td>58408</td>\n",
       "      <td>88722</td>\n",
       "    </tr>\n",
       "    <tr>\n",
       "      <th>16</th>\n",
       "      <td>52</td>\n",
       "      <td>37804.0</td>\n",
       "      <td>35423</td>\n",
       "      <td>39372</td>\n",
       "    </tr>\n",
       "    <tr>\n",
       "      <th>17</th>\n",
       "      <td>61</td>\n",
       "      <td>54334.5</td>\n",
       "      <td>32549</td>\n",
       "      <td>64631</td>\n",
       "    </tr>\n",
       "    <tr>\n",
       "      <th>18</th>\n",
       "      <td>66</td>\n",
       "      <td>53081.5</td>\n",
       "      <td>40683</td>\n",
       "      <td>73470</td>\n",
       "    </tr>\n",
       "    <tr>\n",
       "      <th>19</th>\n",
       "      <td>67</td>\n",
       "      <td>59038.5</td>\n",
       "      <td>54457</td>\n",
       "      <td>69385</td>\n",
       "    </tr>\n",
       "    <tr>\n",
       "      <th>20</th>\n",
       "      <td>68</td>\n",
       "      <td>72902.0</td>\n",
       "      <td>56911</td>\n",
       "      <td>77917</td>\n",
       "    </tr>\n",
       "    <tr>\n",
       "      <th>21</th>\n",
       "      <td>69</td>\n",
       "      <td>70793.0</td>\n",
       "      <td>29172</td>\n",
       "      <td>85807</td>\n",
       "    </tr>\n",
       "    <tr>\n",
       "      <th>22</th>\n",
       "      <td>72</td>\n",
       "      <td>55695.5</td>\n",
       "      <td>50191</td>\n",
       "      <td>61200</td>\n",
       "    </tr>\n",
       "    <tr>\n",
       "      <th>23</th>\n",
       "      <td>75</td>\n",
       "      <td>40892.5</td>\n",
       "      <td>39382</td>\n",
       "      <td>42403</td>\n",
       "    </tr>\n",
       "    <tr>\n",
       "      <th>24</th>\n",
       "      <td>77</td>\n",
       "      <td>44905.0</td>\n",
       "      <td>26521</td>\n",
       "      <td>91846</td>\n",
       "    </tr>\n",
       "    <tr>\n",
       "      <th>25</th>\n",
       "      <td>78</td>\n",
       "      <td>119375.0</td>\n",
       "      <td>58872</td>\n",
       "      <td>132091</td>\n",
       "    </tr>\n",
       "    <tr>\n",
       "      <th>26</th>\n",
       "      <td>83</td>\n",
       "      <td>53303.0</td>\n",
       "      <td>39753</td>\n",
       "      <td>56900</td>\n",
       "    </tr>\n",
       "    <tr>\n",
       "      <th>27</th>\n",
       "      <td>94</td>\n",
       "      <td>87358.0</td>\n",
       "      <td>81228</td>\n",
       "      <td>93488</td>\n",
       "    </tr>\n",
       "    <tr>\n",
       "      <th>28</th>\n",
       "      <td>100</td>\n",
       "      <td>60569.0</td>\n",
       "      <td>46819</td>\n",
       "      <td>105750</td>\n",
       "    </tr>\n",
       "    <tr>\n",
       "      <th>29</th>\n",
       "      <td>103</td>\n",
       "      <td>62927.0</td>\n",
       "      <td>54184</td>\n",
       "      <td>81608</td>\n",
       "    </tr>\n",
       "    <tr>\n",
       "      <th>30</th>\n",
       "      <td>105</td>\n",
       "      <td>88300.0</td>\n",
       "      <td>55313</td>\n",
       "      <td>98987</td>\n",
       "    </tr>\n",
       "    <tr>\n",
       "      <th>31</th>\n",
       "      <td>107</td>\n",
       "      <td>67642.0</td>\n",
       "      <td>63546</td>\n",
       "      <td>84301</td>\n",
       "    </tr>\n",
       "    <tr>\n",
       "      <th>32</th>\n",
       "      <td>108</td>\n",
       "      <td>74420.5</td>\n",
       "      <td>67751</td>\n",
       "      <td>79883</td>\n",
       "    </tr>\n",
       "    <tr>\n",
       "      <th>33</th>\n",
       "      <td>109</td>\n",
       "      <td>68848.0</td>\n",
       "      <td>40786</td>\n",
       "      <td>85818</td>\n",
       "    </tr>\n",
       "    <tr>\n",
       "      <th>34</th>\n",
       "      <td>111</td>\n",
       "      <td>90612.5</td>\n",
       "      <td>82028</td>\n",
       "      <td>101019</td>\n",
       "    </tr>\n",
       "    <tr>\n",
       "      <th>35</th>\n",
       "      <td>112</td>\n",
       "      <td>79611.5</td>\n",
       "      <td>66795</td>\n",
       "      <td>84713</td>\n",
       "    </tr>\n",
       "    <tr>\n",
       "      <th>36</th>\n",
       "      <td>120</td>\n",
       "      <td>62052.0</td>\n",
       "      <td>54199</td>\n",
       "      <td>79742</td>\n",
       "    </tr>\n",
       "    <tr>\n",
       "      <th>37</th>\n",
       "      <td>121</td>\n",
       "      <td>71645.0</td>\n",
       "      <td>66096</td>\n",
       "      <td>91505</td>\n",
       "    </tr>\n",
       "    <tr>\n",
       "      <th>38</th>\n",
       "      <td>122</td>\n",
       "      <td>97407.0</td>\n",
       "      <td>80834</td>\n",
       "      <td>109457</td>\n",
       "    </tr>\n",
       "  </tbody>\n",
       "</table>\n",
       "</div>"
      ],
      "text/plain": [
       "   Precinct_1 P1_household_income                \n",
       "                           median     min     max\n",
       "0           1            186231.0   95702  224063\n",
       "1           6            113191.0  106467  133501\n",
       "2           7             63717.0   36982  118161\n",
       "3          10            113138.0   92840  138272\n",
       "4          13            132016.5  126628  150718\n",
       "5          19            122569.0  104808  148441\n",
       "6          20            132605.0   91624  143623\n",
       "7          25             31759.5   29799   33720\n",
       "8          26             46263.0   42278   59691\n",
       "9          33             53660.0   49677   63093\n",
       "10         41             25775.0   21447   29284\n",
       "11         44             29579.0   27917   30349\n",
       "12         45             56291.5   33498   96366\n",
       "13         48             29136.0   27545   29767\n",
       "14         49             59829.5   51951   65399\n",
       "15         50             73565.0   58408   88722\n",
       "16         52             37804.0   35423   39372\n",
       "17         61             54334.5   32549   64631\n",
       "18         66             53081.5   40683   73470\n",
       "19         67             59038.5   54457   69385\n",
       "20         68             72902.0   56911   77917\n",
       "21         69             70793.0   29172   85807\n",
       "22         72             55695.5   50191   61200\n",
       "23         75             40892.5   39382   42403\n",
       "24         77             44905.0   26521   91846\n",
       "25         78            119375.0   58872  132091\n",
       "26         83             53303.0   39753   56900\n",
       "27         94             87358.0   81228   93488\n",
       "28        100             60569.0   46819  105750\n",
       "29        103             62927.0   54184   81608\n",
       "30        105             88300.0   55313   98987\n",
       "31        107             67642.0   63546   84301\n",
       "32        108             74420.5   67751   79883\n",
       "33        109             68848.0   40786   85818\n",
       "34        111             90612.5   82028  101019\n",
       "35        112             79611.5   66795   84713\n",
       "36        120             62052.0   54199   79742\n",
       "37        121             71645.0   66096   91505\n",
       "38        122             97407.0   80834  109457"
      ]
     },
     "execution_count": 79,
     "metadata": {},
     "output_type": "execute_result"
    }
   ],
   "source": [
    "P1 = P1.rename(columns={'Median household income2019': 'P1_household_income'})\n",
    "P1"
   ]
  },
  {
   "cell_type": "code",
   "execution_count": 80,
   "metadata": {},
   "outputs": [
    {
     "name": "stderr",
     "output_type": "stream",
     "text": [
      "/Users/lisakim/.pyenv/versions/3.8.2/lib/python3.8/site-packages/pandas/core/reshape/merge.py:643: UserWarning: merging between different levels can give an unintended result (1 levels on the left,2 on the right)\n",
      "  warnings.warn(msg, UserWarning)\n",
      "/Users/lisakim/.pyenv/versions/3.8.2/lib/python3.8/site-packages/pandas/core/generic.py:3887: PerformanceWarning: dropping on a non-lexsorted multi-index without a level parameter may impact performance.\n",
      "  obj = obj._drop_axis(labels, axis, level=level, errors=errors)\n"
     ]
    }
   ],
   "source": [
    "df_MI_1 = pd.merge(df_MI4, P1, on='Precinct_1')"
   ]
  },
  {
   "cell_type": "code",
   "execution_count": 81,
   "metadata": {},
   "outputs": [
    {
     "data": {
      "text/plain": [
       "(177, 12)"
      ]
     },
     "execution_count": 81,
     "metadata": {},
     "output_type": "execute_result"
    }
   ],
   "source": [
    "df_MI_1.shape"
   ]
  },
  {
   "cell_type": "code",
   "execution_count": 82,
   "metadata": {},
   "outputs": [],
   "source": [
    "df_MI_1.to_excel(\"df_MI_P1.xlsx\",index=False)"
   ]
  },
  {
   "cell_type": "code",
   "execution_count": 83,
   "metadata": {},
   "outputs": [
    {
     "data": {
      "text/html": [
       "<div>\n",
       "<style scoped>\n",
       "    .dataframe tbody tr th:only-of-type {\n",
       "        vertical-align: middle;\n",
       "    }\n",
       "\n",
       "    .dataframe tbody tr th {\n",
       "        vertical-align: top;\n",
       "    }\n",
       "\n",
       "    .dataframe thead th {\n",
       "        text-align: right;\n",
       "    }\n",
       "</style>\n",
       "<table border=\"1\" class=\"dataframe\">\n",
       "  <thead>\n",
       "    <tr style=\"text-align: right;\">\n",
       "      <th></th>\n",
       "      <th>id</th>\n",
       "      <th>Zip Code</th>\n",
       "      <th>Median household income2019</th>\n",
       "      <th>Margin of Error</th>\n",
       "      <th>Precinct</th>\n",
       "      <th>NeighName</th>\n",
       "      <th>Precinct_1</th>\n",
       "      <th>Precinct_2</th>\n",
       "      <th>Precinct_3</th>\n",
       "    </tr>\n",
       "  </thead>\n",
       "  <tbody>\n",
       "    <tr>\n",
       "      <th>0</th>\n",
       "      <td>8600000US10001</td>\n",
       "      <td>10001</td>\n",
       "      <td>92840</td>\n",
       "      <td>8971</td>\n",
       "      <td>10</td>\n",
       "      <td>Chelsea - Clinton</td>\n",
       "      <td>10</td>\n",
       "      <td>NaN</td>\n",
       "      <td>NaN</td>\n",
       "    </tr>\n",
       "    <tr>\n",
       "      <th>1</th>\n",
       "      <td>8600000US10002</td>\n",
       "      <td>10002</td>\n",
       "      <td>36982</td>\n",
       "      <td>2384</td>\n",
       "      <td>7, 9</td>\n",
       "      <td>Union Square - Lower East Side</td>\n",
       "      <td>7</td>\n",
       "      <td>9.0</td>\n",
       "      <td>NaN</td>\n",
       "    </tr>\n",
       "    <tr>\n",
       "      <th>2</th>\n",
       "      <td>8600000US10003</td>\n",
       "      <td>10003</td>\n",
       "      <td>118161</td>\n",
       "      <td>10235</td>\n",
       "      <td>7, 9</td>\n",
       "      <td>Union Square - Lower East Side</td>\n",
       "      <td>7</td>\n",
       "      <td>9.0</td>\n",
       "      <td>NaN</td>\n",
       "    </tr>\n",
       "    <tr>\n",
       "      <th>3</th>\n",
       "      <td>8600000US10004</td>\n",
       "      <td>10004</td>\n",
       "      <td>190223</td>\n",
       "      <td>49426</td>\n",
       "      <td>1, 5</td>\n",
       "      <td>Lower Manhattan</td>\n",
       "      <td>1</td>\n",
       "      <td>5.0</td>\n",
       "      <td>NaN</td>\n",
       "    </tr>\n",
       "    <tr>\n",
       "      <th>4</th>\n",
       "      <td>8600000US10005</td>\n",
       "      <td>10005</td>\n",
       "      <td>189702</td>\n",
       "      <td>15832</td>\n",
       "      <td>1, 5</td>\n",
       "      <td>Lower Manhattan</td>\n",
       "      <td>1</td>\n",
       "      <td>5.0</td>\n",
       "      <td>NaN</td>\n",
       "    </tr>\n",
       "  </tbody>\n",
       "</table>\n",
       "</div>"
      ],
      "text/plain": [
       "               id  Zip Code  Median household income2019 Margin of Error  \\\n",
       "0  8600000US10001     10001                        92840            8971   \n",
       "1  8600000US10002     10002                        36982            2384   \n",
       "2  8600000US10003     10003                       118161           10235   \n",
       "3  8600000US10004     10004                       190223           49426   \n",
       "4  8600000US10005     10005                       189702           15832   \n",
       "\n",
       "  Precinct                       NeighName  Precinct_1  Precinct_2  Precinct_3  \n",
       "0       10               Chelsea - Clinton          10         NaN         NaN  \n",
       "1     7, 9  Union Square - Lower East Side           7         9.0         NaN  \n",
       "2     7, 9  Union Square - Lower East Side           7         9.0         NaN  \n",
       "3     1, 5                 Lower Manhattan           1         5.0         NaN  \n",
       "4     1, 5                 Lower Manhattan           1         5.0         NaN  "
      ]
     },
     "execution_count": 83,
     "metadata": {},
     "output_type": "execute_result"
    }
   ],
   "source": [
    "df_MI4.head()"
   ]
  },
  {
   "cell_type": "code",
   "execution_count": 84,
   "metadata": {},
   "outputs": [],
   "source": [
    "P2 = df_MI4.groupby('Precinct_2').agg({'Median household income2019':['median', 'min', 'max']})\n",
    "P2 = P2.reset_index()"
   ]
  },
  {
   "cell_type": "code",
   "execution_count": 85,
   "metadata": {},
   "outputs": [
    {
     "data": {
      "text/html": [
       "<div>\n",
       "<style scoped>\n",
       "    .dataframe tbody tr th:only-of-type {\n",
       "        vertical-align: middle;\n",
       "    }\n",
       "\n",
       "    .dataframe tbody tr th {\n",
       "        vertical-align: top;\n",
       "    }\n",
       "\n",
       "    .dataframe thead tr th {\n",
       "        text-align: left;\n",
       "    }\n",
       "</style>\n",
       "<table border=\"1\" class=\"dataframe\">\n",
       "  <thead>\n",
       "    <tr>\n",
       "      <th></th>\n",
       "      <th>Precinct_2</th>\n",
       "      <th colspan=\"3\" halign=\"left\">P2_household_income</th>\n",
       "    </tr>\n",
       "    <tr>\n",
       "      <th></th>\n",
       "      <th></th>\n",
       "      <th>median</th>\n",
       "      <th>min</th>\n",
       "      <th>max</th>\n",
       "    </tr>\n",
       "  </thead>\n",
       "  <tbody>\n",
       "    <tr>\n",
       "      <th>0</th>\n",
       "      <td>5.0</td>\n",
       "      <td>186231.0</td>\n",
       "      <td>95702</td>\n",
       "      <td>224063</td>\n",
       "    </tr>\n",
       "    <tr>\n",
       "      <th>1</th>\n",
       "      <td>9.0</td>\n",
       "      <td>63717.0</td>\n",
       "      <td>36982</td>\n",
       "      <td>118161</td>\n",
       "    </tr>\n",
       "    <tr>\n",
       "      <th>2</th>\n",
       "      <td>17.0</td>\n",
       "      <td>132016.5</td>\n",
       "      <td>126628</td>\n",
       "      <td>150718</td>\n",
       "    </tr>\n",
       "    <tr>\n",
       "      <th>3</th>\n",
       "      <td>23.0</td>\n",
       "      <td>31759.5</td>\n",
       "      <td>29799</td>\n",
       "      <td>33720</td>\n",
       "    </tr>\n",
       "    <tr>\n",
       "      <th>4</th>\n",
       "      <td>24.0</td>\n",
       "      <td>132605.0</td>\n",
       "      <td>91624</td>\n",
       "      <td>143623</td>\n",
       "    </tr>\n",
       "    <tr>\n",
       "      <th>5</th>\n",
       "      <td>28.0</td>\n",
       "      <td>46263.0</td>\n",
       "      <td>42278</td>\n",
       "      <td>59691</td>\n",
       "    </tr>\n",
       "    <tr>\n",
       "      <th>6</th>\n",
       "      <td>34.0</td>\n",
       "      <td>53660.0</td>\n",
       "      <td>49677</td>\n",
       "      <td>63093</td>\n",
       "    </tr>\n",
       "    <tr>\n",
       "      <th>7</th>\n",
       "      <td>40.0</td>\n",
       "      <td>25775.0</td>\n",
       "      <td>21447</td>\n",
       "      <td>29284</td>\n",
       "    </tr>\n",
       "    <tr>\n",
       "      <th>8</th>\n",
       "      <td>42.0</td>\n",
       "      <td>29136.0</td>\n",
       "      <td>27545</td>\n",
       "      <td>29767</td>\n",
       "    </tr>\n",
       "    <tr>\n",
       "      <th>9</th>\n",
       "      <td>45.0</td>\n",
       "      <td>59829.5</td>\n",
       "      <td>51951</td>\n",
       "      <td>65399</td>\n",
       "    </tr>\n",
       "    <tr>\n",
       "      <th>10</th>\n",
       "      <td>46.0</td>\n",
       "      <td>37804.0</td>\n",
       "      <td>35423</td>\n",
       "      <td>39372</td>\n",
       "    </tr>\n",
       "    <tr>\n",
       "      <th>11</th>\n",
       "      <td>62.0</td>\n",
       "      <td>72902.0</td>\n",
       "      <td>56911</td>\n",
       "      <td>77917</td>\n",
       "    </tr>\n",
       "    <tr>\n",
       "      <th>12</th>\n",
       "      <td>63.0</td>\n",
       "      <td>70793.0</td>\n",
       "      <td>29172</td>\n",
       "      <td>85807</td>\n",
       "    </tr>\n",
       "    <tr>\n",
       "      <th>13</th>\n",
       "      <td>68.0</td>\n",
       "      <td>50191.0</td>\n",
       "      <td>50191</td>\n",
       "      <td>50191</td>\n",
       "    </tr>\n",
       "    <tr>\n",
       "      <th>14</th>\n",
       "      <td>70.0</td>\n",
       "      <td>59038.5</td>\n",
       "      <td>54457</td>\n",
       "      <td>69385</td>\n",
       "    </tr>\n",
       "    <tr>\n",
       "      <th>15</th>\n",
       "      <td>76.0</td>\n",
       "      <td>61200.0</td>\n",
       "      <td>61200</td>\n",
       "      <td>61200</td>\n",
       "    </tr>\n",
       "    <tr>\n",
       "      <th>16</th>\n",
       "      <td>81.0</td>\n",
       "      <td>44905.0</td>\n",
       "      <td>26521</td>\n",
       "      <td>91846</td>\n",
       "    </tr>\n",
       "    <tr>\n",
       "      <th>17</th>\n",
       "      <td>101.0</td>\n",
       "      <td>60569.0</td>\n",
       "      <td>46819</td>\n",
       "      <td>105750</td>\n",
       "    </tr>\n",
       "    <tr>\n",
       "      <th>18</th>\n",
       "      <td>104.0</td>\n",
       "      <td>79611.5</td>\n",
       "      <td>66795</td>\n",
       "      <td>84713</td>\n",
       "    </tr>\n",
       "    <tr>\n",
       "      <th>19</th>\n",
       "      <td>111.0</td>\n",
       "      <td>67642.0</td>\n",
       "      <td>63546</td>\n",
       "      <td>84301</td>\n",
       "    </tr>\n",
       "    <tr>\n",
       "      <th>20</th>\n",
       "      <td>113.0</td>\n",
       "      <td>78876.5</td>\n",
       "      <td>54253</td>\n",
       "      <td>98987</td>\n",
       "    </tr>\n",
       "    <tr>\n",
       "      <th>21</th>\n",
       "      <td>114.0</td>\n",
       "      <td>73481.5</td>\n",
       "      <td>67751</td>\n",
       "      <td>79883</td>\n",
       "    </tr>\n",
       "    <tr>\n",
       "      <th>22</th>\n",
       "      <td>123.0</td>\n",
       "      <td>97407.0</td>\n",
       "      <td>80834</td>\n",
       "      <td>109457</td>\n",
       "    </tr>\n",
       "  </tbody>\n",
       "</table>\n",
       "</div>"
      ],
      "text/plain": [
       "   Precinct_2 P2_household_income                \n",
       "                           median     min     max\n",
       "0         5.0            186231.0   95702  224063\n",
       "1         9.0             63717.0   36982  118161\n",
       "2        17.0            132016.5  126628  150718\n",
       "3        23.0             31759.5   29799   33720\n",
       "4        24.0            132605.0   91624  143623\n",
       "5        28.0             46263.0   42278   59691\n",
       "6        34.0             53660.0   49677   63093\n",
       "7        40.0             25775.0   21447   29284\n",
       "8        42.0             29136.0   27545   29767\n",
       "9        45.0             59829.5   51951   65399\n",
       "10       46.0             37804.0   35423   39372\n",
       "11       62.0             72902.0   56911   77917\n",
       "12       63.0             70793.0   29172   85807\n",
       "13       68.0             50191.0   50191   50191\n",
       "14       70.0             59038.5   54457   69385\n",
       "15       76.0             61200.0   61200   61200\n",
       "16       81.0             44905.0   26521   91846\n",
       "17      101.0             60569.0   46819  105750\n",
       "18      104.0             79611.5   66795   84713\n",
       "19      111.0             67642.0   63546   84301\n",
       "20      113.0             78876.5   54253   98987\n",
       "21      114.0             73481.5   67751   79883\n",
       "22      123.0             97407.0   80834  109457"
      ]
     },
     "execution_count": 85,
     "metadata": {},
     "output_type": "execute_result"
    }
   ],
   "source": [
    "P2 = P2.rename(columns={'Median household income2019': 'P2_household_income'})\n",
    "P2"
   ]
  },
  {
   "cell_type": "code",
   "execution_count": 86,
   "metadata": {},
   "outputs": [],
   "source": [
    "P3 = df_MI4.groupby('Precinct_3').agg({'Median household income2019':['median', 'min', 'max']})\n",
    "P3 = P3.reset_index()"
   ]
  },
  {
   "cell_type": "code",
   "execution_count": 87,
   "metadata": {},
   "outputs": [
    {
     "data": {
      "text/html": [
       "<div>\n",
       "<style scoped>\n",
       "    .dataframe tbody tr th:only-of-type {\n",
       "        vertical-align: middle;\n",
       "    }\n",
       "\n",
       "    .dataframe tbody tr th {\n",
       "        vertical-align: top;\n",
       "    }\n",
       "\n",
       "    .dataframe thead tr th {\n",
       "        text-align: left;\n",
       "    }\n",
       "</style>\n",
       "<table border=\"1\" class=\"dataframe\">\n",
       "  <thead>\n",
       "    <tr>\n",
       "      <th></th>\n",
       "      <th>Precinct_3</th>\n",
       "      <th colspan=\"3\" halign=\"left\">P3_household_income</th>\n",
       "    </tr>\n",
       "    <tr>\n",
       "      <th></th>\n",
       "      <th></th>\n",
       "      <th>median</th>\n",
       "      <th>min</th>\n",
       "      <th>max</th>\n",
       "    </tr>\n",
       "  </thead>\n",
       "  <tbody>\n",
       "    <tr>\n",
       "      <th>0</th>\n",
       "      <td>71.0</td>\n",
       "      <td>44905</td>\n",
       "      <td>26521</td>\n",
       "      <td>91846</td>\n",
       "    </tr>\n",
       "  </tbody>\n",
       "</table>\n",
       "</div>"
      ],
      "text/plain": [
       "  Precinct_3 P3_household_income              \n",
       "                          median    min    max\n",
       "0       71.0               44905  26521  91846"
      ]
     },
     "execution_count": 87,
     "metadata": {},
     "output_type": "execute_result"
    }
   ],
   "source": [
    "P3 = P3.rename(columns={'Median household income2019': 'P3_household_income'})\n",
    "P3"
   ]
  },
  {
   "cell_type": "code",
   "execution_count": null,
   "metadata": {},
   "outputs": [],
   "source": []
  },
  {
   "cell_type": "markdown",
   "metadata": {},
   "source": [
    "### Manually cleaned \"df_MI_Precincts.xlsx\" data"
   ]
  },
  {
   "cell_type": "code",
   "execution_count": 88,
   "metadata": {},
   "outputs": [],
   "source": [
    "os.chdir(\"..\")"
   ]
  },
  {
   "cell_type": "code",
   "execution_count": 89,
   "metadata": {},
   "outputs": [],
   "source": [
    "os.chdir(\"MedianIncomeData\")"
   ]
  },
  {
   "cell_type": "code",
   "execution_count": 90,
   "metadata": {},
   "outputs": [
    {
     "name": "stdout",
     "output_type": "stream",
     "text": [
      "ACSDT5Y2019.B19013_data_with_overlays_2021-03-28T171056 2.xlsx\r\n",
      "ACSDT5Y2019.B19013_data_with_overlays_2021-03-28T171056.csv\r\n",
      "ACSDT5Y2019.B19013_metadata_2021-03-28T171056.csv\r\n",
      "ACSDT5Y2019.B19013_table_title_2021-03-28T171056.txt\r\n",
      "Burglary2021.csv\r\n",
      "Burglary_NarrowDown.csv\r\n",
      "GrandLarceny2021.csv\r\n",
      "NYC_IncomeLevels.xlsx\r\n",
      "NYC_MajorFelony_CrimeStats_New4.xlsx\r\n",
      "OLD_df_MI_P1.csv\r\n",
      "PCT_GrandLarceny.csv\r\n",
      "ShootingsPercentChange.csv\r\n",
      "VehicleTheft2021.csv\r\n",
      "ZipCode_Income.xlsx\r\n",
      "ZipCode_Income2.xlsx\r\n",
      "ZipCode_Income3.csv\r\n",
      "carTheft_Pct.csv\r\n",
      "change_19_20.csv\r\n",
      "change_20_21.csv\r\n",
      "df_MI.csv\r\n",
      "df_MI_P1.xlsx\r\n",
      "df_MI_Precincts.xlsx\r\n",
      "df_MI_Precincts_New.xlsx\r\n",
      "dfinal_new\r\n",
      "drop_19_20.csv\r\n",
      "drop_20_21.csv\r\n",
      "lowerIncome.csv\r\n",
      "lowerMiddleIncome.csv\r\n",
      "rise_19_20.csv\r\n",
      "rise_20_21.csv\r\n",
      "upperIncome.csv\r\n",
      "upperMiddleIncome.csv\r\n",
      "~$ACSDT5Y2019.B19013_data_with_overlays_2021-03-28T171056 2.xlsx\r\n"
     ]
    }
   ],
   "source": [
    "!ls"
   ]
  },
  {
   "cell_type": "code",
   "execution_count": 91,
   "metadata": {},
   "outputs": [],
   "source": [
    "# IMPORTANT Read cleaned data\n",
    "# IMPORTANT precincts 77, 81, 71, 69 large income gap \n",
    "df_Precincts_Income_Final = pd.read_excel(\"df_MI_Precincts_New.xlsx\")"
   ]
  },
  {
   "cell_type": "code",
   "execution_count": 92,
   "metadata": {},
   "outputs": [
    {
     "data": {
      "text/html": [
       "<div>\n",
       "<style scoped>\n",
       "    .dataframe tbody tr th:only-of-type {\n",
       "        vertical-align: middle;\n",
       "    }\n",
       "\n",
       "    .dataframe tbody tr th {\n",
       "        vertical-align: top;\n",
       "    }\n",
       "\n",
       "    .dataframe thead th {\n",
       "        text-align: right;\n",
       "    }\n",
       "</style>\n",
       "<table border=\"1\" class=\"dataframe\">\n",
       "  <thead>\n",
       "    <tr style=\"text-align: right;\">\n",
       "      <th></th>\n",
       "      <th>Precinct</th>\n",
       "      <th>median_of_household_incomes</th>\n",
       "      <th>min_household_income</th>\n",
       "      <th>max_household_income</th>\n",
       "    </tr>\n",
       "  </thead>\n",
       "  <tbody>\n",
       "    <tr>\n",
       "      <th>0</th>\n",
       "      <td>1</td>\n",
       "      <td>186231.0</td>\n",
       "      <td>95702</td>\n",
       "      <td>224063</td>\n",
       "    </tr>\n",
       "    <tr>\n",
       "      <th>1</th>\n",
       "      <td>5</td>\n",
       "      <td>186231.0</td>\n",
       "      <td>95702</td>\n",
       "      <td>224063</td>\n",
       "    </tr>\n",
       "    <tr>\n",
       "      <th>2</th>\n",
       "      <td>6</td>\n",
       "      <td>113191.0</td>\n",
       "      <td>106467</td>\n",
       "      <td>133501</td>\n",
       "    </tr>\n",
       "    <tr>\n",
       "      <th>3</th>\n",
       "      <td>7</td>\n",
       "      <td>63717.0</td>\n",
       "      <td>36982</td>\n",
       "      <td>118161</td>\n",
       "    </tr>\n",
       "    <tr>\n",
       "      <th>4</th>\n",
       "      <td>9</td>\n",
       "      <td>63717.0</td>\n",
       "      <td>36982</td>\n",
       "      <td>118161</td>\n",
       "    </tr>\n",
       "    <tr>\n",
       "      <th>...</th>\n",
       "      <td>...</td>\n",
       "      <td>...</td>\n",
       "      <td>...</td>\n",
       "      <td>...</td>\n",
       "    </tr>\n",
       "    <tr>\n",
       "      <th>71</th>\n",
       "      <td>115</td>\n",
       "      <td>57435.0</td>\n",
       "      <td>54184</td>\n",
       "      <td>63706</td>\n",
       "    </tr>\n",
       "    <tr>\n",
       "      <th>72</th>\n",
       "      <td>120</td>\n",
       "      <td>62052.0</td>\n",
       "      <td>54199</td>\n",
       "      <td>79742</td>\n",
       "    </tr>\n",
       "    <tr>\n",
       "      <th>73</th>\n",
       "      <td>121</td>\n",
       "      <td>71645.0</td>\n",
       "      <td>66096</td>\n",
       "      <td>91505</td>\n",
       "    </tr>\n",
       "    <tr>\n",
       "      <th>74</th>\n",
       "      <td>122</td>\n",
       "      <td>97407.0</td>\n",
       "      <td>80834</td>\n",
       "      <td>109457</td>\n",
       "    </tr>\n",
       "    <tr>\n",
       "      <th>75</th>\n",
       "      <td>123</td>\n",
       "      <td>97407.0</td>\n",
       "      <td>80834</td>\n",
       "      <td>109457</td>\n",
       "    </tr>\n",
       "  </tbody>\n",
       "</table>\n",
       "<p>76 rows × 4 columns</p>\n",
       "</div>"
      ],
      "text/plain": [
       "    Precinct  median_of_household_incomes  min_household_income  \\\n",
       "0          1                     186231.0                 95702   \n",
       "1          5                     186231.0                 95702   \n",
       "2          6                     113191.0                106467   \n",
       "3          7                      63717.0                 36982   \n",
       "4          9                      63717.0                 36982   \n",
       "..       ...                          ...                   ...   \n",
       "71       115                      57435.0                 54184   \n",
       "72       120                      62052.0                 54199   \n",
       "73       121                      71645.0                 66096   \n",
       "74       122                      97407.0                 80834   \n",
       "75       123                      97407.0                 80834   \n",
       "\n",
       "    max_household_income  \n",
       "0                 224063  \n",
       "1                 224063  \n",
       "2                 133501  \n",
       "3                 118161  \n",
       "4                 118161  \n",
       "..                   ...  \n",
       "71                 63706  \n",
       "72                 79742  \n",
       "73                 91505  \n",
       "74                109457  \n",
       "75                109457  \n",
       "\n",
       "[76 rows x 4 columns]"
      ]
     },
     "execution_count": 92,
     "metadata": {},
     "output_type": "execute_result"
    }
   ],
   "source": [
    "# 'df_Precincts_Income_Final' includes median, min and max income by precinct\n",
    "# most zip codes are divided in 2-4 precincts \n",
    "\n",
    "df_Precincts_Income_Final"
   ]
  },
  {
   "cell_type": "code",
   "execution_count": null,
   "metadata": {},
   "outputs": [],
   "source": []
  },
  {
   "cell_type": "markdown",
   "metadata": {},
   "source": [
    "# Step 3: get annual data on 7 major felony offenses\n",
    "## crime change by precinct focus on (2016, 2017, 2018, 2019, 2020)"
   ]
  },
  {
   "cell_type": "code",
   "execution_count": 93,
   "metadata": {},
   "outputs": [],
   "source": [
    "os.chdir(\"..\")"
   ]
  },
  {
   "cell_type": "code",
   "execution_count": 94,
   "metadata": {},
   "outputs": [],
   "source": [
    "df_MF = pd.read_excel('seven-major-felony-offenses-annual-2000-2020.xls')"
   ]
  },
  {
   "cell_type": "code",
   "execution_count": 95,
   "metadata": {},
   "outputs": [
    {
     "data": {
      "text/html": [
       "<div>\n",
       "<style scoped>\n",
       "    .dataframe tbody tr th:only-of-type {\n",
       "        vertical-align: middle;\n",
       "    }\n",
       "\n",
       "    .dataframe tbody tr th {\n",
       "        vertical-align: top;\n",
       "    }\n",
       "\n",
       "    .dataframe thead th {\n",
       "        text-align: right;\n",
       "    }\n",
       "</style>\n",
       "<table border=\"1\" class=\"dataframe\">\n",
       "  <thead>\n",
       "    <tr style=\"text-align: right;\">\n",
       "      <th></th>\n",
       "      <th>Unnamed: 0</th>\n",
       "      <th>Unnamed: 1</th>\n",
       "      <th>Unnamed: 2</th>\n",
       "      <th>Unnamed: 3</th>\n",
       "      <th>Unnamed: 4</th>\n",
       "      <th>Unnamed: 5</th>\n",
       "      <th>Unnamed: 6</th>\n",
       "      <th>Unnamed: 7</th>\n",
       "      <th>Unnamed: 8</th>\n",
       "      <th>Unnamed: 9</th>\n",
       "      <th>Unnamed: 10</th>\n",
       "      <th>Unnamed: 11</th>\n",
       "      <th>Unnamed: 12</th>\n",
       "      <th>Unnamed: 13</th>\n",
       "      <th>Unnamed: 14</th>\n",
       "      <th>Unnamed: 15</th>\n",
       "      <th>Unnamed: 16</th>\n",
       "      <th>Unnamed: 17</th>\n",
       "      <th>Unnamed: 18</th>\n",
       "      <th>Unnamed: 19</th>\n",
       "      <th>Unnamed: 20</th>\n",
       "      <th>Unnamed: 21</th>\n",
       "    </tr>\n",
       "  </thead>\n",
       "  <tbody>\n",
       "    <tr>\n",
       "      <th>0</th>\n",
       "      <td>Seven Major Felony Offenses</td>\n",
       "      <td>NaN</td>\n",
       "      <td>NaN</td>\n",
       "      <td>NaN</td>\n",
       "      <td>NaN</td>\n",
       "      <td>NaN</td>\n",
       "      <td>NaN</td>\n",
       "      <td>NaN</td>\n",
       "      <td>NaN</td>\n",
       "      <td>NaN</td>\n",
       "      <td>NaN</td>\n",
       "      <td>NaN</td>\n",
       "      <td>NaN</td>\n",
       "      <td>NaN</td>\n",
       "      <td>NaN</td>\n",
       "      <td>NaN</td>\n",
       "      <td>NaN</td>\n",
       "      <td>NaN</td>\n",
       "      <td>NaN</td>\n",
       "      <td>NaN</td>\n",
       "      <td>NaN</td>\n",
       "      <td>NaN</td>\n",
       "    </tr>\n",
       "    <tr>\n",
       "      <th>1</th>\n",
       "      <td>NaN</td>\n",
       "      <td>NaN</td>\n",
       "      <td>NaN</td>\n",
       "      <td>NaN</td>\n",
       "      <td>NaN</td>\n",
       "      <td>NaN</td>\n",
       "      <td>NaN</td>\n",
       "      <td>NaN</td>\n",
       "      <td>NaN</td>\n",
       "      <td>NaN</td>\n",
       "      <td>NaN</td>\n",
       "      <td>NaN</td>\n",
       "      <td>NaN</td>\n",
       "      <td>NaN</td>\n",
       "      <td>NaN</td>\n",
       "      <td>NaN</td>\n",
       "      <td>NaN</td>\n",
       "      <td>NaN</td>\n",
       "      <td>NaN</td>\n",
       "      <td>NaN</td>\n",
       "      <td>NaN</td>\n",
       "      <td>NaN</td>\n",
       "    </tr>\n",
       "    <tr>\n",
       "      <th>2</th>\n",
       "      <td>NaN</td>\n",
       "      <td>NaN</td>\n",
       "      <td>NaN</td>\n",
       "      <td>NaN</td>\n",
       "      <td>NaN</td>\n",
       "      <td>NaN</td>\n",
       "      <td>NaN</td>\n",
       "      <td>NaN</td>\n",
       "      <td>NaN</td>\n",
       "      <td>NaN</td>\n",
       "      <td>NaN</td>\n",
       "      <td>NaN</td>\n",
       "      <td>NaN</td>\n",
       "      <td>NaN</td>\n",
       "      <td>NaN</td>\n",
       "      <td>NaN</td>\n",
       "      <td>NaN</td>\n",
       "      <td>NaN</td>\n",
       "      <td>NaN</td>\n",
       "      <td>NaN</td>\n",
       "      <td>NaN</td>\n",
       "      <td>NaN</td>\n",
       "    </tr>\n",
       "    <tr>\n",
       "      <th>3</th>\n",
       "      <td>OFFENSE</td>\n",
       "      <td>2000.0</td>\n",
       "      <td>2001.0</td>\n",
       "      <td>2002.0</td>\n",
       "      <td>2003.0</td>\n",
       "      <td>2004.0</td>\n",
       "      <td>2005.0</td>\n",
       "      <td>2006.0</td>\n",
       "      <td>2007.0</td>\n",
       "      <td>2008.0</td>\n",
       "      <td>2009.0</td>\n",
       "      <td>2010.0</td>\n",
       "      <td>2011.0</td>\n",
       "      <td>2012.0</td>\n",
       "      <td>2013.0</td>\n",
       "      <td>2014.0</td>\n",
       "      <td>2015.0</td>\n",
       "      <td>2016.0</td>\n",
       "      <td>2017.0</td>\n",
       "      <td>2018.0</td>\n",
       "      <td>2019.0</td>\n",
       "      <td>2020.0</td>\n",
       "    </tr>\n",
       "    <tr>\n",
       "      <th>4</th>\n",
       "      <td>MURDER &amp; NON-NEGL. MANSLAUGHTER</td>\n",
       "      <td>673.0</td>\n",
       "      <td>649.0</td>\n",
       "      <td>587.0</td>\n",
       "      <td>597.0</td>\n",
       "      <td>570.0</td>\n",
       "      <td>539.0</td>\n",
       "      <td>596.0</td>\n",
       "      <td>496.0</td>\n",
       "      <td>523.0</td>\n",
       "      <td>471.0</td>\n",
       "      <td>536.0</td>\n",
       "      <td>515.0</td>\n",
       "      <td>419.0</td>\n",
       "      <td>335.0</td>\n",
       "      <td>333.0</td>\n",
       "      <td>352.0</td>\n",
       "      <td>335.0</td>\n",
       "      <td>292.0</td>\n",
       "      <td>295.0</td>\n",
       "      <td>319.0</td>\n",
       "      <td>468.0</td>\n",
       "    </tr>\n",
       "    <tr>\n",
       "      <th>5</th>\n",
       "      <td>RAPE</td>\n",
       "      <td>2068.0</td>\n",
       "      <td>1981.0</td>\n",
       "      <td>2144.0</td>\n",
       "      <td>2070.0</td>\n",
       "      <td>1905.0</td>\n",
       "      <td>1858.0</td>\n",
       "      <td>1525.0</td>\n",
       "      <td>1351.0</td>\n",
       "      <td>1299.0</td>\n",
       "      <td>1205.0</td>\n",
       "      <td>1373.0</td>\n",
       "      <td>1420.0</td>\n",
       "      <td>1445.0</td>\n",
       "      <td>1378.0</td>\n",
       "      <td>1352.0</td>\n",
       "      <td>1438.0</td>\n",
       "      <td>1438.0</td>\n",
       "      <td>1449.0</td>\n",
       "      <td>1794.0</td>\n",
       "      <td>1755.0</td>\n",
       "      <td>1427.0</td>\n",
       "    </tr>\n",
       "    <tr>\n",
       "      <th>6</th>\n",
       "      <td>ROBBERY</td>\n",
       "      <td>32562.0</td>\n",
       "      <td>28202.0</td>\n",
       "      <td>27229.0</td>\n",
       "      <td>25989.0</td>\n",
       "      <td>24373.0</td>\n",
       "      <td>24722.0</td>\n",
       "      <td>23739.0</td>\n",
       "      <td>21809.0</td>\n",
       "      <td>22401.0</td>\n",
       "      <td>18601.0</td>\n",
       "      <td>19486.0</td>\n",
       "      <td>19717.0</td>\n",
       "      <td>20144.0</td>\n",
       "      <td>19128.0</td>\n",
       "      <td>16539.0</td>\n",
       "      <td>16931.0</td>\n",
       "      <td>15500.0</td>\n",
       "      <td>13956.0</td>\n",
       "      <td>12913.0</td>\n",
       "      <td>13371.0</td>\n",
       "      <td>13106.0</td>\n",
       "    </tr>\n",
       "    <tr>\n",
       "      <th>7</th>\n",
       "      <td>FELONY ASSAULT</td>\n",
       "      <td>25924.0</td>\n",
       "      <td>23453.0</td>\n",
       "      <td>21147.0</td>\n",
       "      <td>19139.0</td>\n",
       "      <td>18622.0</td>\n",
       "      <td>17750.0</td>\n",
       "      <td>17309.0</td>\n",
       "      <td>17493.0</td>\n",
       "      <td>16284.0</td>\n",
       "      <td>16773.0</td>\n",
       "      <td>16956.0</td>\n",
       "      <td>18482.0</td>\n",
       "      <td>19381.0</td>\n",
       "      <td>20297.0</td>\n",
       "      <td>20207.0</td>\n",
       "      <td>20270.0</td>\n",
       "      <td>20847.0</td>\n",
       "      <td>20052.0</td>\n",
       "      <td>20208.0</td>\n",
       "      <td>20698.0</td>\n",
       "      <td>20572.0</td>\n",
       "    </tr>\n",
       "    <tr>\n",
       "      <th>8</th>\n",
       "      <td>BURGLARY</td>\n",
       "      <td>38352.0</td>\n",
       "      <td>32763.0</td>\n",
       "      <td>31275.0</td>\n",
       "      <td>29110.0</td>\n",
       "      <td>26976.0</td>\n",
       "      <td>24117.0</td>\n",
       "      <td>23143.0</td>\n",
       "      <td>21762.0</td>\n",
       "      <td>20725.0</td>\n",
       "      <td>19430.0</td>\n",
       "      <td>18600.0</td>\n",
       "      <td>18720.0</td>\n",
       "      <td>19168.0</td>\n",
       "      <td>17429.0</td>\n",
       "      <td>16765.0</td>\n",
       "      <td>15125.0</td>\n",
       "      <td>12990.0</td>\n",
       "      <td>12083.0</td>\n",
       "      <td>11687.0</td>\n",
       "      <td>10783.0</td>\n",
       "      <td>15478.0</td>\n",
       "    </tr>\n",
       "    <tr>\n",
       "      <th>9</th>\n",
       "      <td>GRAND LARCENY</td>\n",
       "      <td>49631.0</td>\n",
       "      <td>46329.0</td>\n",
       "      <td>45771.0</td>\n",
       "      <td>46751.0</td>\n",
       "      <td>48763.0</td>\n",
       "      <td>48243.0</td>\n",
       "      <td>46625.0</td>\n",
       "      <td>44924.0</td>\n",
       "      <td>44242.0</td>\n",
       "      <td>39580.0</td>\n",
       "      <td>37835.0</td>\n",
       "      <td>38501.0</td>\n",
       "      <td>42497.0</td>\n",
       "      <td>45368.0</td>\n",
       "      <td>43862.0</td>\n",
       "      <td>44005.0</td>\n",
       "      <td>44279.0</td>\n",
       "      <td>43150.0</td>\n",
       "      <td>43558.0</td>\n",
       "      <td>43250.0</td>\n",
       "      <td>35505.0</td>\n",
       "    </tr>\n",
       "  </tbody>\n",
       "</table>\n",
       "</div>"
      ],
      "text/plain": [
       "                        Unnamed: 0  Unnamed: 1  Unnamed: 2  Unnamed: 3  \\\n",
       "0      Seven Major Felony Offenses         NaN         NaN         NaN   \n",
       "1                              NaN         NaN         NaN         NaN   \n",
       "2                              NaN         NaN         NaN         NaN   \n",
       "3                          OFFENSE      2000.0      2001.0      2002.0   \n",
       "4  MURDER & NON-NEGL. MANSLAUGHTER       673.0       649.0       587.0   \n",
       "5                             RAPE      2068.0      1981.0      2144.0   \n",
       "6                          ROBBERY     32562.0     28202.0     27229.0   \n",
       "7                   FELONY ASSAULT     25924.0     23453.0     21147.0   \n",
       "8                         BURGLARY     38352.0     32763.0     31275.0   \n",
       "9                    GRAND LARCENY     49631.0     46329.0     45771.0   \n",
       "\n",
       "   Unnamed: 4  Unnamed: 5  Unnamed: 6  Unnamed: 7  Unnamed: 8  Unnamed: 9  \\\n",
       "0         NaN         NaN         NaN         NaN         NaN         NaN   \n",
       "1         NaN         NaN         NaN         NaN         NaN         NaN   \n",
       "2         NaN         NaN         NaN         NaN         NaN         NaN   \n",
       "3      2003.0      2004.0      2005.0      2006.0      2007.0      2008.0   \n",
       "4       597.0       570.0       539.0       596.0       496.0       523.0   \n",
       "5      2070.0      1905.0      1858.0      1525.0      1351.0      1299.0   \n",
       "6     25989.0     24373.0     24722.0     23739.0     21809.0     22401.0   \n",
       "7     19139.0     18622.0     17750.0     17309.0     17493.0     16284.0   \n",
       "8     29110.0     26976.0     24117.0     23143.0     21762.0     20725.0   \n",
       "9     46751.0     48763.0     48243.0     46625.0     44924.0     44242.0   \n",
       "\n",
       "   Unnamed: 10  Unnamed: 11  Unnamed: 12  Unnamed: 13  Unnamed: 14  \\\n",
       "0          NaN          NaN          NaN          NaN          NaN   \n",
       "1          NaN          NaN          NaN          NaN          NaN   \n",
       "2          NaN          NaN          NaN          NaN          NaN   \n",
       "3       2009.0       2010.0       2011.0       2012.0       2013.0   \n",
       "4        471.0        536.0        515.0        419.0        335.0   \n",
       "5       1205.0       1373.0       1420.0       1445.0       1378.0   \n",
       "6      18601.0      19486.0      19717.0      20144.0      19128.0   \n",
       "7      16773.0      16956.0      18482.0      19381.0      20297.0   \n",
       "8      19430.0      18600.0      18720.0      19168.0      17429.0   \n",
       "9      39580.0      37835.0      38501.0      42497.0      45368.0   \n",
       "\n",
       "   Unnamed: 15  Unnamed: 16  Unnamed: 17  Unnamed: 18  Unnamed: 19  \\\n",
       "0          NaN          NaN          NaN          NaN          NaN   \n",
       "1          NaN          NaN          NaN          NaN          NaN   \n",
       "2          NaN          NaN          NaN          NaN          NaN   \n",
       "3       2014.0       2015.0       2016.0       2017.0       2018.0   \n",
       "4        333.0        352.0        335.0        292.0        295.0   \n",
       "5       1352.0       1438.0       1438.0       1449.0       1794.0   \n",
       "6      16539.0      16931.0      15500.0      13956.0      12913.0   \n",
       "7      20207.0      20270.0      20847.0      20052.0      20208.0   \n",
       "8      16765.0      15125.0      12990.0      12083.0      11687.0   \n",
       "9      43862.0      44005.0      44279.0      43150.0      43558.0   \n",
       "\n",
       "   Unnamed: 20  Unnamed: 21  \n",
       "0          NaN          NaN  \n",
       "1          NaN          NaN  \n",
       "2          NaN          NaN  \n",
       "3       2019.0       2020.0  \n",
       "4        319.0        468.0  \n",
       "5       1755.0       1427.0  \n",
       "6      13371.0      13106.0  \n",
       "7      20698.0      20572.0  \n",
       "8      10783.0      15478.0  \n",
       "9      43250.0      35505.0  "
      ]
     },
     "execution_count": 95,
     "metadata": {},
     "output_type": "execute_result"
    }
   ],
   "source": [
    "df_MF.head(10)"
   ]
  },
  {
   "cell_type": "code",
   "execution_count": 96,
   "metadata": {},
   "outputs": [],
   "source": [
    "new_header = df_MF.iloc[3] #grab the first row for the header\n",
    "df_MF = df_MF[4:] #take the data less the header row\n",
    "df_MF.columns = new_header #set the header row as the df header"
   ]
  },
  {
   "cell_type": "code",
   "execution_count": 97,
   "metadata": {},
   "outputs": [
    {
     "data": {
      "text/html": [
       "<div>\n",
       "<style scoped>\n",
       "    .dataframe tbody tr th:only-of-type {\n",
       "        vertical-align: middle;\n",
       "    }\n",
       "\n",
       "    .dataframe tbody tr th {\n",
       "        vertical-align: top;\n",
       "    }\n",
       "\n",
       "    .dataframe thead th {\n",
       "        text-align: right;\n",
       "    }\n",
       "</style>\n",
       "<table border=\"1\" class=\"dataframe\">\n",
       "  <thead>\n",
       "    <tr style=\"text-align: right;\">\n",
       "      <th>3</th>\n",
       "      <th>OFFENSE</th>\n",
       "      <th>2000.0</th>\n",
       "      <th>2001.0</th>\n",
       "      <th>2002.0</th>\n",
       "      <th>2003.0</th>\n",
       "      <th>2004.0</th>\n",
       "      <th>2005.0</th>\n",
       "      <th>2006.0</th>\n",
       "      <th>2007.0</th>\n",
       "      <th>2008.0</th>\n",
       "      <th>2009.0</th>\n",
       "      <th>2010.0</th>\n",
       "      <th>2011.0</th>\n",
       "      <th>2012.0</th>\n",
       "      <th>2013.0</th>\n",
       "      <th>2014.0</th>\n",
       "      <th>2015.0</th>\n",
       "      <th>2016.0</th>\n",
       "      <th>2017.0</th>\n",
       "      <th>2018.0</th>\n",
       "      <th>2019.0</th>\n",
       "      <th>2020.0</th>\n",
       "    </tr>\n",
       "  </thead>\n",
       "  <tbody>\n",
       "    <tr>\n",
       "      <th>4</th>\n",
       "      <td>MURDER &amp; NON-NEGL. MANSLAUGHTER</td>\n",
       "      <td>673.0</td>\n",
       "      <td>649.0</td>\n",
       "      <td>587.0</td>\n",
       "      <td>597.0</td>\n",
       "      <td>570.0</td>\n",
       "      <td>539.0</td>\n",
       "      <td>596.0</td>\n",
       "      <td>496.0</td>\n",
       "      <td>523.0</td>\n",
       "      <td>471.0</td>\n",
       "      <td>536.0</td>\n",
       "      <td>515.0</td>\n",
       "      <td>419.0</td>\n",
       "      <td>335.0</td>\n",
       "      <td>333.0</td>\n",
       "      <td>352.0</td>\n",
       "      <td>335.0</td>\n",
       "      <td>292.0</td>\n",
       "      <td>295.0</td>\n",
       "      <td>319.0</td>\n",
       "      <td>468.0</td>\n",
       "    </tr>\n",
       "    <tr>\n",
       "      <th>5</th>\n",
       "      <td>RAPE</td>\n",
       "      <td>2068.0</td>\n",
       "      <td>1981.0</td>\n",
       "      <td>2144.0</td>\n",
       "      <td>2070.0</td>\n",
       "      <td>1905.0</td>\n",
       "      <td>1858.0</td>\n",
       "      <td>1525.0</td>\n",
       "      <td>1351.0</td>\n",
       "      <td>1299.0</td>\n",
       "      <td>1205.0</td>\n",
       "      <td>1373.0</td>\n",
       "      <td>1420.0</td>\n",
       "      <td>1445.0</td>\n",
       "      <td>1378.0</td>\n",
       "      <td>1352.0</td>\n",
       "      <td>1438.0</td>\n",
       "      <td>1438.0</td>\n",
       "      <td>1449.0</td>\n",
       "      <td>1794.0</td>\n",
       "      <td>1755.0</td>\n",
       "      <td>1427.0</td>\n",
       "    </tr>\n",
       "    <tr>\n",
       "      <th>6</th>\n",
       "      <td>ROBBERY</td>\n",
       "      <td>32562.0</td>\n",
       "      <td>28202.0</td>\n",
       "      <td>27229.0</td>\n",
       "      <td>25989.0</td>\n",
       "      <td>24373.0</td>\n",
       "      <td>24722.0</td>\n",
       "      <td>23739.0</td>\n",
       "      <td>21809.0</td>\n",
       "      <td>22401.0</td>\n",
       "      <td>18601.0</td>\n",
       "      <td>19486.0</td>\n",
       "      <td>19717.0</td>\n",
       "      <td>20144.0</td>\n",
       "      <td>19128.0</td>\n",
       "      <td>16539.0</td>\n",
       "      <td>16931.0</td>\n",
       "      <td>15500.0</td>\n",
       "      <td>13956.0</td>\n",
       "      <td>12913.0</td>\n",
       "      <td>13371.0</td>\n",
       "      <td>13106.0</td>\n",
       "    </tr>\n",
       "    <tr>\n",
       "      <th>7</th>\n",
       "      <td>FELONY ASSAULT</td>\n",
       "      <td>25924.0</td>\n",
       "      <td>23453.0</td>\n",
       "      <td>21147.0</td>\n",
       "      <td>19139.0</td>\n",
       "      <td>18622.0</td>\n",
       "      <td>17750.0</td>\n",
       "      <td>17309.0</td>\n",
       "      <td>17493.0</td>\n",
       "      <td>16284.0</td>\n",
       "      <td>16773.0</td>\n",
       "      <td>16956.0</td>\n",
       "      <td>18482.0</td>\n",
       "      <td>19381.0</td>\n",
       "      <td>20297.0</td>\n",
       "      <td>20207.0</td>\n",
       "      <td>20270.0</td>\n",
       "      <td>20847.0</td>\n",
       "      <td>20052.0</td>\n",
       "      <td>20208.0</td>\n",
       "      <td>20698.0</td>\n",
       "      <td>20572.0</td>\n",
       "    </tr>\n",
       "    <tr>\n",
       "      <th>8</th>\n",
       "      <td>BURGLARY</td>\n",
       "      <td>38352.0</td>\n",
       "      <td>32763.0</td>\n",
       "      <td>31275.0</td>\n",
       "      <td>29110.0</td>\n",
       "      <td>26976.0</td>\n",
       "      <td>24117.0</td>\n",
       "      <td>23143.0</td>\n",
       "      <td>21762.0</td>\n",
       "      <td>20725.0</td>\n",
       "      <td>19430.0</td>\n",
       "      <td>18600.0</td>\n",
       "      <td>18720.0</td>\n",
       "      <td>19168.0</td>\n",
       "      <td>17429.0</td>\n",
       "      <td>16765.0</td>\n",
       "      <td>15125.0</td>\n",
       "      <td>12990.0</td>\n",
       "      <td>12083.0</td>\n",
       "      <td>11687.0</td>\n",
       "      <td>10783.0</td>\n",
       "      <td>15478.0</td>\n",
       "    </tr>\n",
       "    <tr>\n",
       "      <th>9</th>\n",
       "      <td>GRAND LARCENY</td>\n",
       "      <td>49631.0</td>\n",
       "      <td>46329.0</td>\n",
       "      <td>45771.0</td>\n",
       "      <td>46751.0</td>\n",
       "      <td>48763.0</td>\n",
       "      <td>48243.0</td>\n",
       "      <td>46625.0</td>\n",
       "      <td>44924.0</td>\n",
       "      <td>44242.0</td>\n",
       "      <td>39580.0</td>\n",
       "      <td>37835.0</td>\n",
       "      <td>38501.0</td>\n",
       "      <td>42497.0</td>\n",
       "      <td>45368.0</td>\n",
       "      <td>43862.0</td>\n",
       "      <td>44005.0</td>\n",
       "      <td>44279.0</td>\n",
       "      <td>43150.0</td>\n",
       "      <td>43558.0</td>\n",
       "      <td>43250.0</td>\n",
       "      <td>35505.0</td>\n",
       "    </tr>\n",
       "    <tr>\n",
       "      <th>10</th>\n",
       "      <td>GRAND LARCENY OF MOTOR VEHICLE</td>\n",
       "      <td>35442.0</td>\n",
       "      <td>29531.0</td>\n",
       "      <td>26656.0</td>\n",
       "      <td>23413.0</td>\n",
       "      <td>20884.0</td>\n",
       "      <td>18246.0</td>\n",
       "      <td>15745.0</td>\n",
       "      <td>13174.0</td>\n",
       "      <td>12482.0</td>\n",
       "      <td>10670.0</td>\n",
       "      <td>10329.0</td>\n",
       "      <td>9314.0</td>\n",
       "      <td>8093.0</td>\n",
       "      <td>7400.0</td>\n",
       "      <td>7664.0</td>\n",
       "      <td>7332.0</td>\n",
       "      <td>6327.0</td>\n",
       "      <td>5676.0</td>\n",
       "      <td>5428.0</td>\n",
       "      <td>5430.0</td>\n",
       "      <td>9037.0</td>\n",
       "    </tr>\n",
       "    <tr>\n",
       "      <th>11</th>\n",
       "      <td>TOTAL SEVEN MAJOR FELONY OFFENSES</td>\n",
       "      <td>184652.0</td>\n",
       "      <td>162908.0</td>\n",
       "      <td>154809.0</td>\n",
       "      <td>147069.0</td>\n",
       "      <td>142093.0</td>\n",
       "      <td>135475.0</td>\n",
       "      <td>128682.0</td>\n",
       "      <td>121009.0</td>\n",
       "      <td>117956.0</td>\n",
       "      <td>106730.0</td>\n",
       "      <td>105115.0</td>\n",
       "      <td>106669.0</td>\n",
       "      <td>111147.0</td>\n",
       "      <td>111335.0</td>\n",
       "      <td>106722.0</td>\n",
       "      <td>105453.0</td>\n",
       "      <td>101716.0</td>\n",
       "      <td>96658.0</td>\n",
       "      <td>95883.0</td>\n",
       "      <td>95606.0</td>\n",
       "      <td>95593.0</td>\n",
       "    </tr>\n",
       "    <tr>\n",
       "      <th>12</th>\n",
       "      <td>NaN</td>\n",
       "      <td>NaN</td>\n",
       "      <td>NaN</td>\n",
       "      <td>NaN</td>\n",
       "      <td>NaN</td>\n",
       "      <td>NaN</td>\n",
       "      <td>NaN</td>\n",
       "      <td>NaN</td>\n",
       "      <td>NaN</td>\n",
       "      <td>NaN</td>\n",
       "      <td>NaN</td>\n",
       "      <td>NaN</td>\n",
       "      <td>NaN</td>\n",
       "      <td>NaN</td>\n",
       "      <td>NaN</td>\n",
       "      <td>NaN</td>\n",
       "      <td>NaN</td>\n",
       "      <td>NaN</td>\n",
       "      <td>NaN</td>\n",
       "      <td>NaN</td>\n",
       "      <td>NaN</td>\n",
       "      <td>NaN</td>\n",
       "    </tr>\n",
       "    <tr>\n",
       "      <th>13</th>\n",
       "      <td>NaN</td>\n",
       "      <td>NaN</td>\n",
       "      <td>NaN</td>\n",
       "      <td>NaN</td>\n",
       "      <td>NaN</td>\n",
       "      <td>NaN</td>\n",
       "      <td>NaN</td>\n",
       "      <td>NaN</td>\n",
       "      <td>NaN</td>\n",
       "      <td>NaN</td>\n",
       "      <td>NaN</td>\n",
       "      <td>NaN</td>\n",
       "      <td>NaN</td>\n",
       "      <td>NaN</td>\n",
       "      <td>NaN</td>\n",
       "      <td>NaN</td>\n",
       "      <td>NaN</td>\n",
       "      <td>NaN</td>\n",
       "      <td>NaN</td>\n",
       "      <td>NaN</td>\n",
       "      <td>NaN</td>\n",
       "      <td>NaN</td>\n",
       "    </tr>\n",
       "  </tbody>\n",
       "</table>\n",
       "</div>"
      ],
      "text/plain": [
       "3                             OFFENSE    2000.0    2001.0    2002.0    2003.0  \\\n",
       "4     MURDER & NON-NEGL. MANSLAUGHTER     673.0     649.0     587.0     597.0   \n",
       "5                                RAPE    2068.0    1981.0    2144.0    2070.0   \n",
       "6                             ROBBERY   32562.0   28202.0   27229.0   25989.0   \n",
       "7                      FELONY ASSAULT   25924.0   23453.0   21147.0   19139.0   \n",
       "8                            BURGLARY   38352.0   32763.0   31275.0   29110.0   \n",
       "9                       GRAND LARCENY   49631.0   46329.0   45771.0   46751.0   \n",
       "10     GRAND LARCENY OF MOTOR VEHICLE   35442.0   29531.0   26656.0   23413.0   \n",
       "11  TOTAL SEVEN MAJOR FELONY OFFENSES  184652.0  162908.0  154809.0  147069.0   \n",
       "12                                NaN       NaN       NaN       NaN       NaN   \n",
       "13                                NaN       NaN       NaN       NaN       NaN   \n",
       "\n",
       "3     2004.0    2005.0    2006.0    2007.0    2008.0    2009.0    2010.0  \\\n",
       "4      570.0     539.0     596.0     496.0     523.0     471.0     536.0   \n",
       "5     1905.0    1858.0    1525.0    1351.0    1299.0    1205.0    1373.0   \n",
       "6    24373.0   24722.0   23739.0   21809.0   22401.0   18601.0   19486.0   \n",
       "7    18622.0   17750.0   17309.0   17493.0   16284.0   16773.0   16956.0   \n",
       "8    26976.0   24117.0   23143.0   21762.0   20725.0   19430.0   18600.0   \n",
       "9    48763.0   48243.0   46625.0   44924.0   44242.0   39580.0   37835.0   \n",
       "10   20884.0   18246.0   15745.0   13174.0   12482.0   10670.0   10329.0   \n",
       "11  142093.0  135475.0  128682.0  121009.0  117956.0  106730.0  105115.0   \n",
       "12       NaN       NaN       NaN       NaN       NaN       NaN       NaN   \n",
       "13       NaN       NaN       NaN       NaN       NaN       NaN       NaN   \n",
       "\n",
       "3     2011.0    2012.0    2013.0    2014.0    2015.0    2016.0   2017.0  \\\n",
       "4      515.0     419.0     335.0     333.0     352.0     335.0    292.0   \n",
       "5     1420.0    1445.0    1378.0    1352.0    1438.0    1438.0   1449.0   \n",
       "6    19717.0   20144.0   19128.0   16539.0   16931.0   15500.0  13956.0   \n",
       "7    18482.0   19381.0   20297.0   20207.0   20270.0   20847.0  20052.0   \n",
       "8    18720.0   19168.0   17429.0   16765.0   15125.0   12990.0  12083.0   \n",
       "9    38501.0   42497.0   45368.0   43862.0   44005.0   44279.0  43150.0   \n",
       "10    9314.0    8093.0    7400.0    7664.0    7332.0    6327.0   5676.0   \n",
       "11  106669.0  111147.0  111335.0  106722.0  105453.0  101716.0  96658.0   \n",
       "12       NaN       NaN       NaN       NaN       NaN       NaN      NaN   \n",
       "13       NaN       NaN       NaN       NaN       NaN       NaN      NaN   \n",
       "\n",
       "3    2018.0   2019.0   2020.0  \n",
       "4     295.0    319.0    468.0  \n",
       "5    1794.0   1755.0   1427.0  \n",
       "6   12913.0  13371.0  13106.0  \n",
       "7   20208.0  20698.0  20572.0  \n",
       "8   11687.0  10783.0  15478.0  \n",
       "9   43558.0  43250.0  35505.0  \n",
       "10   5428.0   5430.0   9037.0  \n",
       "11  95883.0  95606.0  95593.0  \n",
       "12      NaN      NaN      NaN  \n",
       "13      NaN      NaN      NaN  "
      ]
     },
     "execution_count": 97,
     "metadata": {},
     "output_type": "execute_result"
    }
   ],
   "source": [
    "df_MF.head(10)"
   ]
  },
  {
   "cell_type": "code",
   "execution_count": 98,
   "metadata": {},
   "outputs": [],
   "source": [
    "# select 2016, 2017, 2018, 2019, 2020"
   ]
  },
  {
   "cell_type": "code",
   "execution_count": 99,
   "metadata": {},
   "outputs": [
    {
     "data": {
      "text/plain": [
       "Index(['OFFENSE',    2000.0,    2001.0,    2002.0,    2003.0,    2004.0,\n",
       "          2005.0,    2006.0,    2007.0,    2008.0,    2009.0,    2010.0,\n",
       "          2011.0,    2012.0,    2013.0,    2014.0,    2015.0,    2016.0,\n",
       "          2017.0,    2018.0,    2019.0,    2020.0],\n",
       "      dtype='object', name=3)"
      ]
     },
     "execution_count": 99,
     "metadata": {},
     "output_type": "execute_result"
    }
   ],
   "source": [
    "df_MF.columns"
   ]
  },
  {
   "cell_type": "code",
   "execution_count": 100,
   "metadata": {},
   "outputs": [],
   "source": [
    "df_MF2 = df_MF[['OFFENSE', 2015.0, 2016.0, 2017.0, 2018.0,2019.0, 2020.0]]"
   ]
  },
  {
   "cell_type": "code",
   "execution_count": 101,
   "metadata": {},
   "outputs": [],
   "source": [
    "df_MF2 = df_MF2.reset_index(drop=True)"
   ]
  },
  {
   "cell_type": "code",
   "execution_count": 102,
   "metadata": {},
   "outputs": [],
   "source": [
    "df_MF2 = df_MF2.loc[:7]"
   ]
  },
  {
   "cell_type": "code",
   "execution_count": 103,
   "metadata": {},
   "outputs": [
    {
     "data": {
      "text/html": [
       "<div>\n",
       "<style scoped>\n",
       "    .dataframe tbody tr th:only-of-type {\n",
       "        vertical-align: middle;\n",
       "    }\n",
       "\n",
       "    .dataframe tbody tr th {\n",
       "        vertical-align: top;\n",
       "    }\n",
       "\n",
       "    .dataframe thead th {\n",
       "        text-align: right;\n",
       "    }\n",
       "</style>\n",
       "<table border=\"1\" class=\"dataframe\">\n",
       "  <thead>\n",
       "    <tr style=\"text-align: right;\">\n",
       "      <th>3</th>\n",
       "      <th>OFFENSE</th>\n",
       "      <th>2015.0</th>\n",
       "      <th>2016.0</th>\n",
       "      <th>2017.0</th>\n",
       "      <th>2018.0</th>\n",
       "      <th>2019.0</th>\n",
       "      <th>2020.0</th>\n",
       "    </tr>\n",
       "  </thead>\n",
       "  <tbody>\n",
       "    <tr>\n",
       "      <th>0</th>\n",
       "      <td>MURDER &amp; NON-NEGL. MANSLAUGHTER</td>\n",
       "      <td>352.0</td>\n",
       "      <td>335.0</td>\n",
       "      <td>292.0</td>\n",
       "      <td>295.0</td>\n",
       "      <td>319.0</td>\n",
       "      <td>468.0</td>\n",
       "    </tr>\n",
       "    <tr>\n",
       "      <th>1</th>\n",
       "      <td>RAPE</td>\n",
       "      <td>1438.0</td>\n",
       "      <td>1438.0</td>\n",
       "      <td>1449.0</td>\n",
       "      <td>1794.0</td>\n",
       "      <td>1755.0</td>\n",
       "      <td>1427.0</td>\n",
       "    </tr>\n",
       "    <tr>\n",
       "      <th>2</th>\n",
       "      <td>ROBBERY</td>\n",
       "      <td>16931.0</td>\n",
       "      <td>15500.0</td>\n",
       "      <td>13956.0</td>\n",
       "      <td>12913.0</td>\n",
       "      <td>13371.0</td>\n",
       "      <td>13106.0</td>\n",
       "    </tr>\n",
       "    <tr>\n",
       "      <th>3</th>\n",
       "      <td>FELONY ASSAULT</td>\n",
       "      <td>20270.0</td>\n",
       "      <td>20847.0</td>\n",
       "      <td>20052.0</td>\n",
       "      <td>20208.0</td>\n",
       "      <td>20698.0</td>\n",
       "      <td>20572.0</td>\n",
       "    </tr>\n",
       "    <tr>\n",
       "      <th>4</th>\n",
       "      <td>BURGLARY</td>\n",
       "      <td>15125.0</td>\n",
       "      <td>12990.0</td>\n",
       "      <td>12083.0</td>\n",
       "      <td>11687.0</td>\n",
       "      <td>10783.0</td>\n",
       "      <td>15478.0</td>\n",
       "    </tr>\n",
       "    <tr>\n",
       "      <th>5</th>\n",
       "      <td>GRAND LARCENY</td>\n",
       "      <td>44005.0</td>\n",
       "      <td>44279.0</td>\n",
       "      <td>43150.0</td>\n",
       "      <td>43558.0</td>\n",
       "      <td>43250.0</td>\n",
       "      <td>35505.0</td>\n",
       "    </tr>\n",
       "    <tr>\n",
       "      <th>6</th>\n",
       "      <td>GRAND LARCENY OF MOTOR VEHICLE</td>\n",
       "      <td>7332.0</td>\n",
       "      <td>6327.0</td>\n",
       "      <td>5676.0</td>\n",
       "      <td>5428.0</td>\n",
       "      <td>5430.0</td>\n",
       "      <td>9037.0</td>\n",
       "    </tr>\n",
       "    <tr>\n",
       "      <th>7</th>\n",
       "      <td>TOTAL SEVEN MAJOR FELONY OFFENSES</td>\n",
       "      <td>105453.0</td>\n",
       "      <td>101716.0</td>\n",
       "      <td>96658.0</td>\n",
       "      <td>95883.0</td>\n",
       "      <td>95606.0</td>\n",
       "      <td>95593.0</td>\n",
       "    </tr>\n",
       "  </tbody>\n",
       "</table>\n",
       "</div>"
      ],
      "text/plain": [
       "3                            OFFENSE    2015.0    2016.0   2017.0   2018.0  \\\n",
       "0    MURDER & NON-NEGL. MANSLAUGHTER     352.0     335.0    292.0    295.0   \n",
       "1                               RAPE    1438.0    1438.0   1449.0   1794.0   \n",
       "2                            ROBBERY   16931.0   15500.0  13956.0  12913.0   \n",
       "3                     FELONY ASSAULT   20270.0   20847.0  20052.0  20208.0   \n",
       "4                           BURGLARY   15125.0   12990.0  12083.0  11687.0   \n",
       "5                      GRAND LARCENY   44005.0   44279.0  43150.0  43558.0   \n",
       "6     GRAND LARCENY OF MOTOR VEHICLE    7332.0    6327.0   5676.0   5428.0   \n",
       "7  TOTAL SEVEN MAJOR FELONY OFFENSES  105453.0  101716.0  96658.0  95883.0   \n",
       "\n",
       "3   2019.0   2020.0  \n",
       "0    319.0    468.0  \n",
       "1   1755.0   1427.0  \n",
       "2  13371.0  13106.0  \n",
       "3  20698.0  20572.0  \n",
       "4  10783.0  15478.0  \n",
       "5  43250.0  35505.0  \n",
       "6   5430.0   9037.0  \n",
       "7  95606.0  95593.0  "
      ]
     },
     "execution_count": 103,
     "metadata": {},
     "output_type": "execute_result"
    }
   ],
   "source": [
    "df_MF2"
   ]
  },
  {
   "cell_type": "code",
   "execution_count": 104,
   "metadata": {},
   "outputs": [],
   "source": [
    "df_MF2 = df_MF2.set_index(['OFFENSE'])"
   ]
  },
  {
   "cell_type": "code",
   "execution_count": 105,
   "metadata": {},
   "outputs": [
    {
     "data": {
      "text/html": [
       "<div>\n",
       "<style scoped>\n",
       "    .dataframe tbody tr th:only-of-type {\n",
       "        vertical-align: middle;\n",
       "    }\n",
       "\n",
       "    .dataframe tbody tr th {\n",
       "        vertical-align: top;\n",
       "    }\n",
       "\n",
       "    .dataframe thead th {\n",
       "        text-align: right;\n",
       "    }\n",
       "</style>\n",
       "<table border=\"1\" class=\"dataframe\">\n",
       "  <thead>\n",
       "    <tr style=\"text-align: right;\">\n",
       "      <th>3</th>\n",
       "      <th>2015.0</th>\n",
       "      <th>2016.0</th>\n",
       "      <th>2017.0</th>\n",
       "      <th>2018.0</th>\n",
       "      <th>2019.0</th>\n",
       "      <th>2020.0</th>\n",
       "    </tr>\n",
       "    <tr>\n",
       "      <th>OFFENSE</th>\n",
       "      <th></th>\n",
       "      <th></th>\n",
       "      <th></th>\n",
       "      <th></th>\n",
       "      <th></th>\n",
       "      <th></th>\n",
       "    </tr>\n",
       "  </thead>\n",
       "  <tbody>\n",
       "    <tr>\n",
       "      <th>MURDER &amp; NON-NEGL. MANSLAUGHTER</th>\n",
       "      <td>352.0</td>\n",
       "      <td>335.0</td>\n",
       "      <td>292.0</td>\n",
       "      <td>295.0</td>\n",
       "      <td>319.0</td>\n",
       "      <td>468.0</td>\n",
       "    </tr>\n",
       "    <tr>\n",
       "      <th>RAPE</th>\n",
       "      <td>1438.0</td>\n",
       "      <td>1438.0</td>\n",
       "      <td>1449.0</td>\n",
       "      <td>1794.0</td>\n",
       "      <td>1755.0</td>\n",
       "      <td>1427.0</td>\n",
       "    </tr>\n",
       "    <tr>\n",
       "      <th>ROBBERY</th>\n",
       "      <td>16931.0</td>\n",
       "      <td>15500.0</td>\n",
       "      <td>13956.0</td>\n",
       "      <td>12913.0</td>\n",
       "      <td>13371.0</td>\n",
       "      <td>13106.0</td>\n",
       "    </tr>\n",
       "    <tr>\n",
       "      <th>FELONY ASSAULT</th>\n",
       "      <td>20270.0</td>\n",
       "      <td>20847.0</td>\n",
       "      <td>20052.0</td>\n",
       "      <td>20208.0</td>\n",
       "      <td>20698.0</td>\n",
       "      <td>20572.0</td>\n",
       "    </tr>\n",
       "    <tr>\n",
       "      <th>BURGLARY</th>\n",
       "      <td>15125.0</td>\n",
       "      <td>12990.0</td>\n",
       "      <td>12083.0</td>\n",
       "      <td>11687.0</td>\n",
       "      <td>10783.0</td>\n",
       "      <td>15478.0</td>\n",
       "    </tr>\n",
       "    <tr>\n",
       "      <th>GRAND LARCENY</th>\n",
       "      <td>44005.0</td>\n",
       "      <td>44279.0</td>\n",
       "      <td>43150.0</td>\n",
       "      <td>43558.0</td>\n",
       "      <td>43250.0</td>\n",
       "      <td>35505.0</td>\n",
       "    </tr>\n",
       "    <tr>\n",
       "      <th>GRAND LARCENY OF MOTOR VEHICLE</th>\n",
       "      <td>7332.0</td>\n",
       "      <td>6327.0</td>\n",
       "      <td>5676.0</td>\n",
       "      <td>5428.0</td>\n",
       "      <td>5430.0</td>\n",
       "      <td>9037.0</td>\n",
       "    </tr>\n",
       "    <tr>\n",
       "      <th>TOTAL SEVEN MAJOR FELONY OFFENSES</th>\n",
       "      <td>105453.0</td>\n",
       "      <td>101716.0</td>\n",
       "      <td>96658.0</td>\n",
       "      <td>95883.0</td>\n",
       "      <td>95606.0</td>\n",
       "      <td>95593.0</td>\n",
       "    </tr>\n",
       "  </tbody>\n",
       "</table>\n",
       "</div>"
      ],
      "text/plain": [
       "3                                    2015.0    2016.0   2017.0   2018.0  \\\n",
       "OFFENSE                                                                   \n",
       "MURDER & NON-NEGL. MANSLAUGHTER       352.0     335.0    292.0    295.0   \n",
       "RAPE                                 1438.0    1438.0   1449.0   1794.0   \n",
       "ROBBERY                             16931.0   15500.0  13956.0  12913.0   \n",
       "FELONY ASSAULT                      20270.0   20847.0  20052.0  20208.0   \n",
       "BURGLARY                            15125.0   12990.0  12083.0  11687.0   \n",
       "GRAND LARCENY                       44005.0   44279.0  43150.0  43558.0   \n",
       "GRAND LARCENY OF MOTOR VEHICLE       7332.0    6327.0   5676.0   5428.0   \n",
       "TOTAL SEVEN MAJOR FELONY OFFENSES  105453.0  101716.0  96658.0  95883.0   \n",
       "\n",
       "3                                   2019.0   2020.0  \n",
       "OFFENSE                                              \n",
       "MURDER & NON-NEGL. MANSLAUGHTER      319.0    468.0  \n",
       "RAPE                                1755.0   1427.0  \n",
       "ROBBERY                            13371.0  13106.0  \n",
       "FELONY ASSAULT                     20698.0  20572.0  \n",
       "BURGLARY                           10783.0  15478.0  \n",
       "GRAND LARCENY                      43250.0  35505.0  \n",
       "GRAND LARCENY OF MOTOR VEHICLE      5430.0   9037.0  \n",
       "TOTAL SEVEN MAJOR FELONY OFFENSES  95606.0  95593.0  "
      ]
     },
     "execution_count": 105,
     "metadata": {},
     "output_type": "execute_result"
    }
   ],
   "source": [
    "df_MF2"
   ]
  },
  {
   "cell_type": "code",
   "execution_count": 106,
   "metadata": {},
   "outputs": [],
   "source": [
    "# getting annual pct changes\n",
    "df_MF3 = df_MF2.pct_change(axis='columns', periods=1)"
   ]
  },
  {
   "cell_type": "code",
   "execution_count": 107,
   "metadata": {},
   "outputs": [
    {
     "data": {
      "text/html": [
       "<div>\n",
       "<style scoped>\n",
       "    .dataframe tbody tr th:only-of-type {\n",
       "        vertical-align: middle;\n",
       "    }\n",
       "\n",
       "    .dataframe tbody tr th {\n",
       "        vertical-align: top;\n",
       "    }\n",
       "\n",
       "    .dataframe thead th {\n",
       "        text-align: right;\n",
       "    }\n",
       "</style>\n",
       "<table border=\"1\" class=\"dataframe\">\n",
       "  <thead>\n",
       "    <tr style=\"text-align: right;\">\n",
       "      <th>3</th>\n",
       "      <th>2015.0</th>\n",
       "      <th>2016.0</th>\n",
       "      <th>2017.0</th>\n",
       "      <th>2018.0</th>\n",
       "      <th>2019.0</th>\n",
       "      <th>2020.0</th>\n",
       "    </tr>\n",
       "    <tr>\n",
       "      <th>OFFENSE</th>\n",
       "      <th></th>\n",
       "      <th></th>\n",
       "      <th></th>\n",
       "      <th></th>\n",
       "      <th></th>\n",
       "      <th></th>\n",
       "    </tr>\n",
       "  </thead>\n",
       "  <tbody>\n",
       "    <tr>\n",
       "      <th>MURDER &amp; NON-NEGL. MANSLAUGHTER</th>\n",
       "      <td>NaN</td>\n",
       "      <td>-0.048295</td>\n",
       "      <td>-0.128358</td>\n",
       "      <td>0.010274</td>\n",
       "      <td>0.081356</td>\n",
       "      <td>0.467085</td>\n",
       "    </tr>\n",
       "    <tr>\n",
       "      <th>RAPE</th>\n",
       "      <td>NaN</td>\n",
       "      <td>0.000000</td>\n",
       "      <td>0.007650</td>\n",
       "      <td>0.238095</td>\n",
       "      <td>-0.021739</td>\n",
       "      <td>-0.186895</td>\n",
       "    </tr>\n",
       "    <tr>\n",
       "      <th>ROBBERY</th>\n",
       "      <td>NaN</td>\n",
       "      <td>-0.084520</td>\n",
       "      <td>-0.099613</td>\n",
       "      <td>-0.074735</td>\n",
       "      <td>0.035468</td>\n",
       "      <td>-0.019819</td>\n",
       "    </tr>\n",
       "    <tr>\n",
       "      <th>FELONY ASSAULT</th>\n",
       "      <td>NaN</td>\n",
       "      <td>0.028466</td>\n",
       "      <td>-0.038135</td>\n",
       "      <td>0.007780</td>\n",
       "      <td>0.024248</td>\n",
       "      <td>-0.006088</td>\n",
       "    </tr>\n",
       "    <tr>\n",
       "      <th>BURGLARY</th>\n",
       "      <td>NaN</td>\n",
       "      <td>-0.141157</td>\n",
       "      <td>-0.069823</td>\n",
       "      <td>-0.032773</td>\n",
       "      <td>-0.077351</td>\n",
       "      <td>0.435408</td>\n",
       "    </tr>\n",
       "    <tr>\n",
       "      <th>GRAND LARCENY</th>\n",
       "      <td>NaN</td>\n",
       "      <td>0.006227</td>\n",
       "      <td>-0.025497</td>\n",
       "      <td>0.009455</td>\n",
       "      <td>-0.007071</td>\n",
       "      <td>-0.179075</td>\n",
       "    </tr>\n",
       "    <tr>\n",
       "      <th>GRAND LARCENY OF MOTOR VEHICLE</th>\n",
       "      <td>NaN</td>\n",
       "      <td>-0.137070</td>\n",
       "      <td>-0.102892</td>\n",
       "      <td>-0.043693</td>\n",
       "      <td>0.000368</td>\n",
       "      <td>0.664273</td>\n",
       "    </tr>\n",
       "    <tr>\n",
       "      <th>TOTAL SEVEN MAJOR FELONY OFFENSES</th>\n",
       "      <td>NaN</td>\n",
       "      <td>-0.035438</td>\n",
       "      <td>-0.049727</td>\n",
       "      <td>-0.008018</td>\n",
       "      <td>-0.002889</td>\n",
       "      <td>-0.000136</td>\n",
       "    </tr>\n",
       "  </tbody>\n",
       "</table>\n",
       "</div>"
      ],
      "text/plain": [
       "3                                  2015.0    2016.0    2017.0    2018.0  \\\n",
       "OFFENSE                                                                   \n",
       "MURDER & NON-NEGL. MANSLAUGHTER       NaN -0.048295 -0.128358  0.010274   \n",
       "RAPE                                  NaN  0.000000  0.007650  0.238095   \n",
       "ROBBERY                               NaN -0.084520 -0.099613 -0.074735   \n",
       "FELONY ASSAULT                        NaN  0.028466 -0.038135  0.007780   \n",
       "BURGLARY                              NaN -0.141157 -0.069823 -0.032773   \n",
       "GRAND LARCENY                         NaN  0.006227 -0.025497  0.009455   \n",
       "GRAND LARCENY OF MOTOR VEHICLE        NaN -0.137070 -0.102892 -0.043693   \n",
       "TOTAL SEVEN MAJOR FELONY OFFENSES     NaN -0.035438 -0.049727 -0.008018   \n",
       "\n",
       "3                                    2019.0    2020.0  \n",
       "OFFENSE                                                \n",
       "MURDER & NON-NEGL. MANSLAUGHTER    0.081356  0.467085  \n",
       "RAPE                              -0.021739 -0.186895  \n",
       "ROBBERY                            0.035468 -0.019819  \n",
       "FELONY ASSAULT                     0.024248 -0.006088  \n",
       "BURGLARY                          -0.077351  0.435408  \n",
       "GRAND LARCENY                     -0.007071 -0.179075  \n",
       "GRAND LARCENY OF MOTOR VEHICLE     0.000368  0.664273  \n",
       "TOTAL SEVEN MAJOR FELONY OFFENSES -0.002889 -0.000136  "
      ]
     },
     "execution_count": 107,
     "metadata": {},
     "output_type": "execute_result"
    }
   ],
   "source": [
    "df_MF3"
   ]
  },
  {
   "cell_type": "code",
   "execution_count": 108,
   "metadata": {},
   "outputs": [],
   "source": [
    "df_MF3 = df_MF3 * 100"
   ]
  },
  {
   "cell_type": "code",
   "execution_count": 109,
   "metadata": {},
   "outputs": [
    {
     "data": {
      "text/html": [
       "<div>\n",
       "<style scoped>\n",
       "    .dataframe tbody tr th:only-of-type {\n",
       "        vertical-align: middle;\n",
       "    }\n",
       "\n",
       "    .dataframe tbody tr th {\n",
       "        vertical-align: top;\n",
       "    }\n",
       "\n",
       "    .dataframe thead th {\n",
       "        text-align: right;\n",
       "    }\n",
       "</style>\n",
       "<table border=\"1\" class=\"dataframe\">\n",
       "  <thead>\n",
       "    <tr style=\"text-align: right;\">\n",
       "      <th>3</th>\n",
       "      <th>2015.0</th>\n",
       "      <th>2016.0</th>\n",
       "      <th>2017.0</th>\n",
       "      <th>2018.0</th>\n",
       "      <th>2019.0</th>\n",
       "      <th>2020.0</th>\n",
       "    </tr>\n",
       "    <tr>\n",
       "      <th>OFFENSE</th>\n",
       "      <th></th>\n",
       "      <th></th>\n",
       "      <th></th>\n",
       "      <th></th>\n",
       "      <th></th>\n",
       "      <th></th>\n",
       "    </tr>\n",
       "  </thead>\n",
       "  <tbody>\n",
       "    <tr>\n",
       "      <th>MURDER &amp; NON-NEGL. MANSLAUGHTER</th>\n",
       "      <td>NaN</td>\n",
       "      <td>-4.829545</td>\n",
       "      <td>-12.835821</td>\n",
       "      <td>1.027397</td>\n",
       "      <td>8.135593</td>\n",
       "      <td>46.708464</td>\n",
       "    </tr>\n",
       "    <tr>\n",
       "      <th>RAPE</th>\n",
       "      <td>NaN</td>\n",
       "      <td>0.000000</td>\n",
       "      <td>0.764951</td>\n",
       "      <td>23.809524</td>\n",
       "      <td>-2.173913</td>\n",
       "      <td>-18.689459</td>\n",
       "    </tr>\n",
       "    <tr>\n",
       "      <th>ROBBERY</th>\n",
       "      <td>NaN</td>\n",
       "      <td>-8.451952</td>\n",
       "      <td>-9.961290</td>\n",
       "      <td>-7.473488</td>\n",
       "      <td>3.546813</td>\n",
       "      <td>-1.981901</td>\n",
       "    </tr>\n",
       "    <tr>\n",
       "      <th>FELONY ASSAULT</th>\n",
       "      <td>NaN</td>\n",
       "      <td>2.846571</td>\n",
       "      <td>-3.813498</td>\n",
       "      <td>0.777977</td>\n",
       "      <td>2.424782</td>\n",
       "      <td>-0.608754</td>\n",
       "    </tr>\n",
       "    <tr>\n",
       "      <th>BURGLARY</th>\n",
       "      <td>NaN</td>\n",
       "      <td>-14.115702</td>\n",
       "      <td>-6.982294</td>\n",
       "      <td>-3.277332</td>\n",
       "      <td>-7.735090</td>\n",
       "      <td>43.540759</td>\n",
       "    </tr>\n",
       "    <tr>\n",
       "      <th>GRAND LARCENY</th>\n",
       "      <td>NaN</td>\n",
       "      <td>0.622657</td>\n",
       "      <td>-2.549741</td>\n",
       "      <td>0.945539</td>\n",
       "      <td>-0.707103</td>\n",
       "      <td>-17.907514</td>\n",
       "    </tr>\n",
       "    <tr>\n",
       "      <th>GRAND LARCENY OF MOTOR VEHICLE</th>\n",
       "      <td>NaN</td>\n",
       "      <td>-13.707038</td>\n",
       "      <td>-10.289237</td>\n",
       "      <td>-4.369274</td>\n",
       "      <td>0.036846</td>\n",
       "      <td>66.427256</td>\n",
       "    </tr>\n",
       "    <tr>\n",
       "      <th>TOTAL SEVEN MAJOR FELONY OFFENSES</th>\n",
       "      <td>NaN</td>\n",
       "      <td>-3.543759</td>\n",
       "      <td>-4.972669</td>\n",
       "      <td>-0.801796</td>\n",
       "      <td>-0.288894</td>\n",
       "      <td>-0.013597</td>\n",
       "    </tr>\n",
       "  </tbody>\n",
       "</table>\n",
       "</div>"
      ],
      "text/plain": [
       "3                                  2015.0     2016.0     2017.0     2018.0  \\\n",
       "OFFENSE                                                                      \n",
       "MURDER & NON-NEGL. MANSLAUGHTER       NaN  -4.829545 -12.835821   1.027397   \n",
       "RAPE                                  NaN   0.000000   0.764951  23.809524   \n",
       "ROBBERY                               NaN  -8.451952  -9.961290  -7.473488   \n",
       "FELONY ASSAULT                        NaN   2.846571  -3.813498   0.777977   \n",
       "BURGLARY                              NaN -14.115702  -6.982294  -3.277332   \n",
       "GRAND LARCENY                         NaN   0.622657  -2.549741   0.945539   \n",
       "GRAND LARCENY OF MOTOR VEHICLE        NaN -13.707038 -10.289237  -4.369274   \n",
       "TOTAL SEVEN MAJOR FELONY OFFENSES     NaN  -3.543759  -4.972669  -0.801796   \n",
       "\n",
       "3                                    2019.0     2020.0  \n",
       "OFFENSE                                                 \n",
       "MURDER & NON-NEGL. MANSLAUGHTER    8.135593  46.708464  \n",
       "RAPE                              -2.173913 -18.689459  \n",
       "ROBBERY                            3.546813  -1.981901  \n",
       "FELONY ASSAULT                     2.424782  -0.608754  \n",
       "BURGLARY                          -7.735090  43.540759  \n",
       "GRAND LARCENY                     -0.707103 -17.907514  \n",
       "GRAND LARCENY OF MOTOR VEHICLE     0.036846  66.427256  \n",
       "TOTAL SEVEN MAJOR FELONY OFFENSES -0.288894  -0.013597  "
      ]
     },
     "execution_count": 109,
     "metadata": {},
     "output_type": "execute_result"
    }
   ],
   "source": [
    "df_MF3"
   ]
  },
  {
   "cell_type": "code",
   "execution_count": 110,
   "metadata": {},
   "outputs": [],
   "source": [
    "# IMPORTANT\n",
    "df_MF3.to_csv('seven-major-felony-offenses-annual-pct-change.csv')"
   ]
  },
  {
   "cell_type": "code",
   "execution_count": null,
   "metadata": {},
   "outputs": [],
   "source": []
  },
  {
   "cell_type": "markdown",
   "metadata": {},
   "source": [
    "# Step 4: Analyze major felony 2019, 2020, 2021.08.01\n",
    "### Crimes changed -0.4% YoY between Jan.-July 2021 "
   ]
  },
  {
   "cell_type": "code",
   "execution_count": 111,
   "metadata": {},
   "outputs": [],
   "source": [
    "#os.chdir(\"Master's Project\")"
   ]
  },
  {
   "cell_type": "code",
   "execution_count": 271,
   "metadata": {},
   "outputs": [],
   "source": [
    "df_MF4 = pd.read_excel('NYC_MajorFelony_CrimeStats_finalUpdate.xlsx')"
   ]
  },
  {
   "cell_type": "code",
   "execution_count": 273,
   "metadata": {},
   "outputs": [
    {
     "data": {
      "text/html": [
       "<div>\n",
       "<style scoped>\n",
       "    .dataframe tbody tr th:only-of-type {\n",
       "        vertical-align: middle;\n",
       "    }\n",
       "\n",
       "    .dataframe tbody tr th {\n",
       "        vertical-align: top;\n",
       "    }\n",
       "\n",
       "    .dataframe thead th {\n",
       "        text-align: right;\n",
       "    }\n",
       "</style>\n",
       "<table border=\"1\" class=\"dataframe\">\n",
       "  <thead>\n",
       "    <tr style=\"text-align: right;\">\n",
       "      <th></th>\n",
       "      <th>PCT</th>\n",
       "      <th>household_median_income</th>\n",
       "      <th>CRIME</th>\n",
       "      <th>2019</th>\n",
       "      <th>2020</th>\n",
       "      <th>%_chg_2019-2020</th>\n",
       "      <th>2021_YTD</th>\n",
       "      <th>2020_YTD</th>\n",
       "      <th>%_Chg</th>\n",
       "    </tr>\n",
       "  </thead>\n",
       "  <tbody>\n",
       "    <tr>\n",
       "      <th>256</th>\n",
       "      <td>50</td>\n",
       "      <td>73565.0</td>\n",
       "      <td>MURDER &amp; NON NEGL. MANSLAUGHTER</td>\n",
       "      <td>1</td>\n",
       "      <td>3</td>\n",
       "      <td>200.0</td>\n",
       "      <td>0</td>\n",
       "      <td>2</td>\n",
       "      <td>-200.000000</td>\n",
       "    </tr>\n",
       "    <tr>\n",
       "      <th>257</th>\n",
       "      <td>50</td>\n",
       "      <td>73565.0</td>\n",
       "      <td>RAPE</td>\n",
       "      <td>15</td>\n",
       "      <td>12</td>\n",
       "      <td>-20.0</td>\n",
       "      <td>11</td>\n",
       "      <td>8</td>\n",
       "      <td>37.500000</td>\n",
       "    </tr>\n",
       "    <tr>\n",
       "      <th>258</th>\n",
       "      <td>50</td>\n",
       "      <td>73565.0</td>\n",
       "      <td>ROBBERY</td>\n",
       "      <td>107</td>\n",
       "      <td>88</td>\n",
       "      <td>-17.8</td>\n",
       "      <td>50</td>\n",
       "      <td>40</td>\n",
       "      <td>25.000000</td>\n",
       "    </tr>\n",
       "    <tr>\n",
       "      <th>259</th>\n",
       "      <td>50</td>\n",
       "      <td>73565.0</td>\n",
       "      <td>FELONY ASSAULT</td>\n",
       "      <td>144</td>\n",
       "      <td>158</td>\n",
       "      <td>9.7</td>\n",
       "      <td>82</td>\n",
       "      <td>96</td>\n",
       "      <td>-14.583333</td>\n",
       "    </tr>\n",
       "    <tr>\n",
       "      <th>260</th>\n",
       "      <td>50</td>\n",
       "      <td>73565.0</td>\n",
       "      <td>BURGLARY</td>\n",
       "      <td>102</td>\n",
       "      <td>150</td>\n",
       "      <td>47.1</td>\n",
       "      <td>52</td>\n",
       "      <td>70</td>\n",
       "      <td>-25.714286</td>\n",
       "    </tr>\n",
       "    <tr>\n",
       "      <th>261</th>\n",
       "      <td>50</td>\n",
       "      <td>73565.0</td>\n",
       "      <td>GRAND LARCENY</td>\n",
       "      <td>500</td>\n",
       "      <td>461</td>\n",
       "      <td>-7.8</td>\n",
       "      <td>239</td>\n",
       "      <td>232</td>\n",
       "      <td>3.017241</td>\n",
       "    </tr>\n",
       "    <tr>\n",
       "      <th>262</th>\n",
       "      <td>50</td>\n",
       "      <td>73565.0</td>\n",
       "      <td>GRAND LARCENY OF MOTOR VEHICLE</td>\n",
       "      <td>90</td>\n",
       "      <td>152</td>\n",
       "      <td>68.9</td>\n",
       "      <td>60</td>\n",
       "      <td>80</td>\n",
       "      <td>-25.000000</td>\n",
       "    </tr>\n",
       "    <tr>\n",
       "      <th>263</th>\n",
       "      <td>50</td>\n",
       "      <td>73565.0</td>\n",
       "      <td>TOTAL SEVEN MAJOR FELONY OFFENSES</td>\n",
       "      <td>959</td>\n",
       "      <td>1024</td>\n",
       "      <td>6.8</td>\n",
       "      <td>494</td>\n",
       "      <td>528</td>\n",
       "      <td>-6.439394</td>\n",
       "    </tr>\n",
       "  </tbody>\n",
       "</table>\n",
       "</div>"
      ],
      "text/plain": [
       "     PCT  household_median_income  \\\n",
       "256   50                  73565.0   \n",
       "257   50                  73565.0   \n",
       "258   50                  73565.0   \n",
       "259   50                  73565.0   \n",
       "260   50                  73565.0   \n",
       "261   50                  73565.0   \n",
       "262   50                  73565.0   \n",
       "263   50                  73565.0   \n",
       "\n",
       "                                                                CRIME  2019  \\\n",
       "256   MURDER & NON NEGL. MANSLAUGHTER                                     1   \n",
       "257                            RAPE                                      15   \n",
       "258                            ROBBERY                                  107   \n",
       "259                            FELONY ASSAULT                           144   \n",
       "260                            BURGLARY                                 102   \n",
       "261                            GRAND LARCENY                            500   \n",
       "262  GRAND LARCENY OF MOTOR VEHICLE                                      90   \n",
       "263                                 TOTAL SEVEN MAJOR FELONY OFFENSES   959   \n",
       "\n",
       "     2020  %_chg_2019-2020  2021_YTD  2020_YTD       %_Chg  \n",
       "256     3            200.0         0         2 -200.000000  \n",
       "257    12            -20.0        11         8   37.500000  \n",
       "258    88            -17.8        50        40   25.000000  \n",
       "259   158              9.7        82        96  -14.583333  \n",
       "260   150             47.1        52        70  -25.714286  \n",
       "261   461             -7.8       239       232    3.017241  \n",
       "262   152             68.9        60        80  -25.000000  \n",
       "263  1024              6.8       494       528   -6.439394  "
      ]
     },
     "execution_count": 273,
     "metadata": {},
     "output_type": "execute_result"
    }
   ],
   "source": [
    "df_MF4[df_MF4.PCT == 50]"
   ]
  },
  {
   "cell_type": "code",
   "execution_count": 114,
   "metadata": {},
   "outputs": [],
   "source": [
    "#df_MF4['%_Chg'] = (df_MF4['2021_YTD'] - df_MF4['2020_YTD']) / df_MF4['2020_YTD'] * 100"
   ]
  },
  {
   "cell_type": "code",
   "execution_count": 115,
   "metadata": {},
   "outputs": [],
   "source": [
    "df_MF4['%_Chg'] = round(df_MF4['%_Chg'],1)"
   ]
  },
  {
   "cell_type": "code",
   "execution_count": 116,
   "metadata": {},
   "outputs": [
    {
     "data": {
      "text/plain": [
       "-0.3873528345450035"
      ]
     },
     "execution_count": 116,
     "metadata": {},
     "output_type": "execute_result"
    }
   ],
   "source": [
    "(df_MF4['2021_YTD'].sum() - df_MF4['2020_YTD'].sum()) / df_MF4['2020_YTD'].sum() * 100"
   ]
  },
  {
   "cell_type": "code",
   "execution_count": null,
   "metadata": {},
   "outputs": [],
   "source": []
  },
  {
   "cell_type": "markdown",
   "metadata": {},
   "source": [
    "### new analysis Aug.8"
   ]
  },
  {
   "cell_type": "code",
   "execution_count": 117,
   "metadata": {},
   "outputs": [],
   "source": [
    "lowerFinal = df_MF4[df_MF4.household_median_income < 68920.0]"
   ]
  },
  {
   "cell_type": "code",
   "execution_count": 118,
   "metadata": {},
   "outputs": [
    {
     "data": {
      "text/html": [
       "<div>\n",
       "<style scoped>\n",
       "    .dataframe tbody tr th:only-of-type {\n",
       "        vertical-align: middle;\n",
       "    }\n",
       "\n",
       "    .dataframe tbody tr th {\n",
       "        vertical-align: top;\n",
       "    }\n",
       "\n",
       "    .dataframe thead th {\n",
       "        text-align: right;\n",
       "    }\n",
       "</style>\n",
       "<table border=\"1\" class=\"dataframe\">\n",
       "  <thead>\n",
       "    <tr style=\"text-align: right;\">\n",
       "      <th></th>\n",
       "      <th>PCT</th>\n",
       "      <th>household_median_income</th>\n",
       "      <th>CRIME</th>\n",
       "      <th>2019</th>\n",
       "      <th>2020</th>\n",
       "      <th>%_chg_2019-2020</th>\n",
       "      <th>2021_YTD</th>\n",
       "      <th>2020_YTD</th>\n",
       "      <th>%_Chg</th>\n",
       "    </tr>\n",
       "  </thead>\n",
       "  <tbody>\n",
       "    <tr>\n",
       "      <th>24</th>\n",
       "      <td>7</td>\n",
       "      <td>63717.0</td>\n",
       "      <td>MURDER &amp; NON NEGL. MANSLAUGHTER</td>\n",
       "      <td>0</td>\n",
       "      <td>2</td>\n",
       "      <td>200.0</td>\n",
       "      <td>0</td>\n",
       "      <td>1</td>\n",
       "      <td>-100.0</td>\n",
       "    </tr>\n",
       "  </tbody>\n",
       "</table>\n",
       "</div>"
      ],
      "text/plain": [
       "    PCT  household_median_income  \\\n",
       "24    7                  63717.0   \n",
       "\n",
       "                                                              CRIME  2019  \\\n",
       "24  MURDER & NON NEGL. MANSLAUGHTER                                     0   \n",
       "\n",
       "    2020  %_chg_2019-2020  2021_YTD  2020_YTD  %_Chg  \n",
       "24     2            200.0         0         1 -100.0  "
      ]
     },
     "execution_count": 118,
     "metadata": {},
     "output_type": "execute_result"
    }
   ],
   "source": [
    "lowerFinal.head(1)"
   ]
  },
  {
   "cell_type": "code",
   "execution_count": 119,
   "metadata": {},
   "outputs": [],
   "source": [
    "# Groupby CRIME and give me the sum of numbers of columns 2019, 2020, 2021_YTD and 2020_YTD\n",
    "# df.groupby(by=[\"b\"]).sum()"
   ]
  },
  {
   "cell_type": "code",
   "execution_count": 120,
   "metadata": {},
   "outputs": [],
   "source": [
    "lowerFinal_groupby = lowerFinal.groupby(by=[\"CRIME\"]).sum()"
   ]
  },
  {
   "cell_type": "code",
   "execution_count": 121,
   "metadata": {},
   "outputs": [],
   "source": [
    "# cols = [1,2,3,4,5,6]\n",
    "# lowerFinal_groupby.drop(lowerFinal_groupby.columns[cols],axis=1,inplace=True)"
   ]
  },
  {
   "cell_type": "code",
   "execution_count": 122,
   "metadata": {},
   "outputs": [
    {
     "data": {
      "text/html": [
       "<div>\n",
       "<style scoped>\n",
       "    .dataframe tbody tr th:only-of-type {\n",
       "        vertical-align: middle;\n",
       "    }\n",
       "\n",
       "    .dataframe tbody tr th {\n",
       "        vertical-align: top;\n",
       "    }\n",
       "\n",
       "    .dataframe thead th {\n",
       "        text-align: right;\n",
       "    }\n",
       "</style>\n",
       "<table border=\"1\" class=\"dataframe\">\n",
       "  <thead>\n",
       "    <tr style=\"text-align: right;\">\n",
       "      <th></th>\n",
       "      <th>PCT</th>\n",
       "      <th>household_median_income</th>\n",
       "      <th>2019</th>\n",
       "      <th>2020</th>\n",
       "      <th>%_chg_2019-2020</th>\n",
       "      <th>2021_YTD</th>\n",
       "      <th>2020_YTD</th>\n",
       "      <th>%_Chg</th>\n",
       "    </tr>\n",
       "    <tr>\n",
       "      <th>CRIME</th>\n",
       "      <th></th>\n",
       "      <th></th>\n",
       "      <th></th>\n",
       "      <th></th>\n",
       "      <th></th>\n",
       "      <th></th>\n",
       "      <th></th>\n",
       "      <th></th>\n",
       "    </tr>\n",
       "  </thead>\n",
       "  <tbody>\n",
       "    <tr>\n",
       "      <th>BURGLARY</th>\n",
       "      <td>2800</td>\n",
       "      <td>2250615.5</td>\n",
       "      <td>6946</td>\n",
       "      <td>9346</td>\n",
       "      <td>2319.0</td>\n",
       "      <td>4102</td>\n",
       "      <td>5410</td>\n",
       "      <td>-1106.2</td>\n",
       "    </tr>\n",
       "    <tr>\n",
       "      <th>FELONY ASSAULT</th>\n",
       "      <td>2800</td>\n",
       "      <td>2250615.5</td>\n",
       "      <td>15471</td>\n",
       "      <td>15225</td>\n",
       "      <td>-66.7</td>\n",
       "      <td>9226</td>\n",
       "      <td>8764</td>\n",
       "      <td>246.9</td>\n",
       "    </tr>\n",
       "    <tr>\n",
       "      <th>GRAND LARCENY</th>\n",
       "      <td>2800</td>\n",
       "      <td>2250615.5</td>\n",
       "      <td>21743</td>\n",
       "      <td>19377</td>\n",
       "      <td>-497.8</td>\n",
       "      <td>10839</td>\n",
       "      <td>10510</td>\n",
       "      <td>117.3</td>\n",
       "    </tr>\n",
       "    <tr>\n",
       "      <th>GRAND LARCENY OF MOTOR VEHICLE</th>\n",
       "      <td>2800</td>\n",
       "      <td>2250615.5</td>\n",
       "      <td>3498</td>\n",
       "      <td>5849</td>\n",
       "      <td>3504.3</td>\n",
       "      <td>3679</td>\n",
       "      <td>2826</td>\n",
       "      <td>1263.4</td>\n",
       "    </tr>\n",
       "    <tr>\n",
       "      <th>MURDER &amp; NON NEGL. MANSLAUGHTER</th>\n",
       "      <td>2800</td>\n",
       "      <td>2250615.5</td>\n",
       "      <td>245</td>\n",
       "      <td>377</td>\n",
       "      <td>4001.2</td>\n",
       "      <td>194</td>\n",
       "      <td>206</td>\n",
       "      <td>1199.1</td>\n",
       "    </tr>\n",
       "    <tr>\n",
       "      <th>RAPE</th>\n",
       "      <td>2800</td>\n",
       "      <td>2250615.5</td>\n",
       "      <td>1235</td>\n",
       "      <td>1008</td>\n",
       "      <td>-283.2</td>\n",
       "      <td>577</td>\n",
       "      <td>584</td>\n",
       "      <td>365.1</td>\n",
       "    </tr>\n",
       "    <tr>\n",
       "      <th>ROBBERY</th>\n",
       "      <td>2800</td>\n",
       "      <td>2250615.5</td>\n",
       "      <td>9874</td>\n",
       "      <td>9486</td>\n",
       "      <td>-196.2</td>\n",
       "      <td>5116</td>\n",
       "      <td>5145</td>\n",
       "      <td>56.3</td>\n",
       "    </tr>\n",
       "    <tr>\n",
       "      <th>TOTAL SEVEN MAJOR FELONY OFFENSES</th>\n",
       "      <td>2800</td>\n",
       "      <td>2250615.5</td>\n",
       "      <td>59012</td>\n",
       "      <td>60668</td>\n",
       "      <td>111.0</td>\n",
       "      <td>33733</td>\n",
       "      <td>33445</td>\n",
       "      <td>-11.1</td>\n",
       "    </tr>\n",
       "  </tbody>\n",
       "</table>\n",
       "</div>"
      ],
      "text/plain": [
       "                                                                   PCT  \\\n",
       "CRIME                                                                    \n",
       "BURGLARY                                                          2800   \n",
       "FELONY ASSAULT                                                    2800   \n",
       "GRAND LARCENY                                                     2800   \n",
       "GRAND LARCENY OF MOTOR VEHICLE                                    2800   \n",
       "MURDER & NON NEGL. MANSLAUGHTER                                   2800   \n",
       "RAPE                                                              2800   \n",
       "ROBBERY                                                           2800   \n",
       "TOTAL SEVEN MAJOR FELONY OFFENSES                                 2800   \n",
       "\n",
       "                                                                  household_median_income  \\\n",
       "CRIME                                                                                       \n",
       "BURGLARY                                                                        2250615.5   \n",
       "FELONY ASSAULT                                                                  2250615.5   \n",
       "GRAND LARCENY                                                                   2250615.5   \n",
       "GRAND LARCENY OF MOTOR VEHICLE                                                  2250615.5   \n",
       "MURDER & NON NEGL. MANSLAUGHTER                                                 2250615.5   \n",
       "RAPE                                                                            2250615.5   \n",
       "ROBBERY                                                                         2250615.5   \n",
       "TOTAL SEVEN MAJOR FELONY OFFENSES                                               2250615.5   \n",
       "\n",
       "                                                                   2019  \\\n",
       "CRIME                                                                     \n",
       "BURGLARY                                                           6946   \n",
       "FELONY ASSAULT                                                    15471   \n",
       "GRAND LARCENY                                                     21743   \n",
       "GRAND LARCENY OF MOTOR VEHICLE                                     3498   \n",
       "MURDER & NON NEGL. MANSLAUGHTER                                     245   \n",
       "RAPE                                                               1235   \n",
       "ROBBERY                                                            9874   \n",
       "TOTAL SEVEN MAJOR FELONY OFFENSES                                 59012   \n",
       "\n",
       "                                                                   2020  \\\n",
       "CRIME                                                                     \n",
       "BURGLARY                                                           9346   \n",
       "FELONY ASSAULT                                                    15225   \n",
       "GRAND LARCENY                                                     19377   \n",
       "GRAND LARCENY OF MOTOR VEHICLE                                     5849   \n",
       "MURDER & NON NEGL. MANSLAUGHTER                                     377   \n",
       "RAPE                                                               1008   \n",
       "ROBBERY                                                            9486   \n",
       "TOTAL SEVEN MAJOR FELONY OFFENSES                                 60668   \n",
       "\n",
       "                                                                  %_chg_2019-2020  \\\n",
       "CRIME                                                                               \n",
       "BURGLARY                                                                   2319.0   \n",
       "FELONY ASSAULT                                                              -66.7   \n",
       "GRAND LARCENY                                                              -497.8   \n",
       "GRAND LARCENY OF MOTOR VEHICLE                                             3504.3   \n",
       "MURDER & NON NEGL. MANSLAUGHTER                                            4001.2   \n",
       "RAPE                                                                       -283.2   \n",
       "ROBBERY                                                                    -196.2   \n",
       "TOTAL SEVEN MAJOR FELONY OFFENSES                                           111.0   \n",
       "\n",
       "                                                                  2021_YTD  \\\n",
       "CRIME                                                                        \n",
       "BURGLARY                                                              4102   \n",
       "FELONY ASSAULT                                                        9226   \n",
       "GRAND LARCENY                                                        10839   \n",
       "GRAND LARCENY OF MOTOR VEHICLE                                        3679   \n",
       "MURDER & NON NEGL. MANSLAUGHTER                                        194   \n",
       "RAPE                                                                   577   \n",
       "ROBBERY                                                               5116   \n",
       "TOTAL SEVEN MAJOR FELONY OFFENSES                                    33733   \n",
       "\n",
       "                                                                  2020_YTD  \\\n",
       "CRIME                                                                        \n",
       "BURGLARY                                                              5410   \n",
       "FELONY ASSAULT                                                        8764   \n",
       "GRAND LARCENY                                                        10510   \n",
       "GRAND LARCENY OF MOTOR VEHICLE                                        2826   \n",
       "MURDER & NON NEGL. MANSLAUGHTER                                        206   \n",
       "RAPE                                                                   584   \n",
       "ROBBERY                                                               5145   \n",
       "TOTAL SEVEN MAJOR FELONY OFFENSES                                    33445   \n",
       "\n",
       "                                                                   %_Chg  \n",
       "CRIME                                                                     \n",
       "BURGLARY                                                         -1106.2  \n",
       "FELONY ASSAULT                                                     246.9  \n",
       "GRAND LARCENY                                                      117.3  \n",
       "GRAND LARCENY OF MOTOR VEHICLE                                    1263.4  \n",
       "MURDER & NON NEGL. MANSLAUGHTER                                   1199.1  \n",
       "RAPE                                                               365.1  \n",
       "ROBBERY                                                             56.3  \n",
       "TOTAL SEVEN MAJOR FELONY OFFENSES                                  -11.1  "
      ]
     },
     "execution_count": 122,
     "metadata": {},
     "output_type": "execute_result"
    }
   ],
   "source": [
    "lowerFinal_groupby"
   ]
  },
  {
   "cell_type": "code",
   "execution_count": 123,
   "metadata": {},
   "outputs": [],
   "source": [
    "#lowerFinal_groupby = lowerFinal_groupby.drop(columns=['household_median_income'])"
   ]
  },
  {
   "cell_type": "code",
   "execution_count": 124,
   "metadata": {},
   "outputs": [],
   "source": [
    "lowerFinal_groupby['%_chg_2019-2020'] = (lowerFinal_groupby[2020] - lowerFinal_groupby[2019])/lowerFinal_groupby[2019]*100"
   ]
  },
  {
   "cell_type": "code",
   "execution_count": 125,
   "metadata": {},
   "outputs": [],
   "source": [
    "lowerFinal_groupby['%_chg_2019-2020'] = round(lowerFinal_groupby['%_chg_2019-2020'], 1)"
   ]
  },
  {
   "cell_type": "code",
   "execution_count": 126,
   "metadata": {},
   "outputs": [],
   "source": [
    "lowerFinal_groupby['%_Chg'] = (lowerFinal_groupby['2021_YTD'] - lowerFinal_groupby['2020_YTD'])/lowerFinal_groupby['2020_YTD']*100"
   ]
  },
  {
   "cell_type": "code",
   "execution_count": 127,
   "metadata": {},
   "outputs": [],
   "source": [
    "lowerFinal_groupby['%_Chg'] = round(lowerFinal_groupby['%_Chg'],1)"
   ]
  },
  {
   "cell_type": "code",
   "execution_count": 128,
   "metadata": {},
   "outputs": [
    {
     "data": {
      "text/html": [
       "<div>\n",
       "<style scoped>\n",
       "    .dataframe tbody tr th:only-of-type {\n",
       "        vertical-align: middle;\n",
       "    }\n",
       "\n",
       "    .dataframe tbody tr th {\n",
       "        vertical-align: top;\n",
       "    }\n",
       "\n",
       "    .dataframe thead th {\n",
       "        text-align: right;\n",
       "    }\n",
       "</style>\n",
       "<table border=\"1\" class=\"dataframe\">\n",
       "  <thead>\n",
       "    <tr style=\"text-align: right;\">\n",
       "      <th></th>\n",
       "      <th>PCT</th>\n",
       "      <th>household_median_income</th>\n",
       "      <th>2019</th>\n",
       "      <th>2020</th>\n",
       "      <th>%_chg_2019-2020</th>\n",
       "      <th>2021_YTD</th>\n",
       "      <th>2020_YTD</th>\n",
       "      <th>%_Chg</th>\n",
       "    </tr>\n",
       "    <tr>\n",
       "      <th>CRIME</th>\n",
       "      <th></th>\n",
       "      <th></th>\n",
       "      <th></th>\n",
       "      <th></th>\n",
       "      <th></th>\n",
       "      <th></th>\n",
       "      <th></th>\n",
       "      <th></th>\n",
       "    </tr>\n",
       "  </thead>\n",
       "  <tbody>\n",
       "    <tr>\n",
       "      <th>BURGLARY</th>\n",
       "      <td>2800</td>\n",
       "      <td>2250615.5</td>\n",
       "      <td>6946</td>\n",
       "      <td>9346</td>\n",
       "      <td>34.6</td>\n",
       "      <td>4102</td>\n",
       "      <td>5410</td>\n",
       "      <td>-24.2</td>\n",
       "    </tr>\n",
       "    <tr>\n",
       "      <th>FELONY ASSAULT</th>\n",
       "      <td>2800</td>\n",
       "      <td>2250615.5</td>\n",
       "      <td>15471</td>\n",
       "      <td>15225</td>\n",
       "      <td>-1.6</td>\n",
       "      <td>9226</td>\n",
       "      <td>8764</td>\n",
       "      <td>5.3</td>\n",
       "    </tr>\n",
       "    <tr>\n",
       "      <th>GRAND LARCENY</th>\n",
       "      <td>2800</td>\n",
       "      <td>2250615.5</td>\n",
       "      <td>21743</td>\n",
       "      <td>19377</td>\n",
       "      <td>-10.9</td>\n",
       "      <td>10839</td>\n",
       "      <td>10510</td>\n",
       "      <td>3.1</td>\n",
       "    </tr>\n",
       "    <tr>\n",
       "      <th>GRAND LARCENY OF MOTOR VEHICLE</th>\n",
       "      <td>2800</td>\n",
       "      <td>2250615.5</td>\n",
       "      <td>3498</td>\n",
       "      <td>5849</td>\n",
       "      <td>67.2</td>\n",
       "      <td>3679</td>\n",
       "      <td>2826</td>\n",
       "      <td>30.2</td>\n",
       "    </tr>\n",
       "    <tr>\n",
       "      <th>MURDER &amp; NON NEGL. MANSLAUGHTER</th>\n",
       "      <td>2800</td>\n",
       "      <td>2250615.5</td>\n",
       "      <td>245</td>\n",
       "      <td>377</td>\n",
       "      <td>53.9</td>\n",
       "      <td>194</td>\n",
       "      <td>206</td>\n",
       "      <td>-5.8</td>\n",
       "    </tr>\n",
       "    <tr>\n",
       "      <th>RAPE</th>\n",
       "      <td>2800</td>\n",
       "      <td>2250615.5</td>\n",
       "      <td>1235</td>\n",
       "      <td>1008</td>\n",
       "      <td>-18.4</td>\n",
       "      <td>577</td>\n",
       "      <td>584</td>\n",
       "      <td>-1.2</td>\n",
       "    </tr>\n",
       "    <tr>\n",
       "      <th>ROBBERY</th>\n",
       "      <td>2800</td>\n",
       "      <td>2250615.5</td>\n",
       "      <td>9874</td>\n",
       "      <td>9486</td>\n",
       "      <td>-3.9</td>\n",
       "      <td>5116</td>\n",
       "      <td>5145</td>\n",
       "      <td>-0.6</td>\n",
       "    </tr>\n",
       "    <tr>\n",
       "      <th>TOTAL SEVEN MAJOR FELONY OFFENSES</th>\n",
       "      <td>2800</td>\n",
       "      <td>2250615.5</td>\n",
       "      <td>59012</td>\n",
       "      <td>60668</td>\n",
       "      <td>2.8</td>\n",
       "      <td>33733</td>\n",
       "      <td>33445</td>\n",
       "      <td>0.9</td>\n",
       "    </tr>\n",
       "  </tbody>\n",
       "</table>\n",
       "</div>"
      ],
      "text/plain": [
       "                                                                   PCT  \\\n",
       "CRIME                                                                    \n",
       "BURGLARY                                                          2800   \n",
       "FELONY ASSAULT                                                    2800   \n",
       "GRAND LARCENY                                                     2800   \n",
       "GRAND LARCENY OF MOTOR VEHICLE                                    2800   \n",
       "MURDER & NON NEGL. MANSLAUGHTER                                   2800   \n",
       "RAPE                                                              2800   \n",
       "ROBBERY                                                           2800   \n",
       "TOTAL SEVEN MAJOR FELONY OFFENSES                                 2800   \n",
       "\n",
       "                                                                  household_median_income  \\\n",
       "CRIME                                                                                       \n",
       "BURGLARY                                                                        2250615.5   \n",
       "FELONY ASSAULT                                                                  2250615.5   \n",
       "GRAND LARCENY                                                                   2250615.5   \n",
       "GRAND LARCENY OF MOTOR VEHICLE                                                  2250615.5   \n",
       "MURDER & NON NEGL. MANSLAUGHTER                                                 2250615.5   \n",
       "RAPE                                                                            2250615.5   \n",
       "ROBBERY                                                                         2250615.5   \n",
       "TOTAL SEVEN MAJOR FELONY OFFENSES                                               2250615.5   \n",
       "\n",
       "                                                                   2019  \\\n",
       "CRIME                                                                     \n",
       "BURGLARY                                                           6946   \n",
       "FELONY ASSAULT                                                    15471   \n",
       "GRAND LARCENY                                                     21743   \n",
       "GRAND LARCENY OF MOTOR VEHICLE                                     3498   \n",
       "MURDER & NON NEGL. MANSLAUGHTER                                     245   \n",
       "RAPE                                                               1235   \n",
       "ROBBERY                                                            9874   \n",
       "TOTAL SEVEN MAJOR FELONY OFFENSES                                 59012   \n",
       "\n",
       "                                                                   2020  \\\n",
       "CRIME                                                                     \n",
       "BURGLARY                                                           9346   \n",
       "FELONY ASSAULT                                                    15225   \n",
       "GRAND LARCENY                                                     19377   \n",
       "GRAND LARCENY OF MOTOR VEHICLE                                     5849   \n",
       "MURDER & NON NEGL. MANSLAUGHTER                                     377   \n",
       "RAPE                                                               1008   \n",
       "ROBBERY                                                            9486   \n",
       "TOTAL SEVEN MAJOR FELONY OFFENSES                                 60668   \n",
       "\n",
       "                                                                  %_chg_2019-2020  \\\n",
       "CRIME                                                                               \n",
       "BURGLARY                                                                     34.6   \n",
       "FELONY ASSAULT                                                               -1.6   \n",
       "GRAND LARCENY                                                               -10.9   \n",
       "GRAND LARCENY OF MOTOR VEHICLE                                               67.2   \n",
       "MURDER & NON NEGL. MANSLAUGHTER                                              53.9   \n",
       "RAPE                                                                        -18.4   \n",
       "ROBBERY                                                                      -3.9   \n",
       "TOTAL SEVEN MAJOR FELONY OFFENSES                                             2.8   \n",
       "\n",
       "                                                                  2021_YTD  \\\n",
       "CRIME                                                                        \n",
       "BURGLARY                                                              4102   \n",
       "FELONY ASSAULT                                                        9226   \n",
       "GRAND LARCENY                                                        10839   \n",
       "GRAND LARCENY OF MOTOR VEHICLE                                        3679   \n",
       "MURDER & NON NEGL. MANSLAUGHTER                                        194   \n",
       "RAPE                                                                   577   \n",
       "ROBBERY                                                               5116   \n",
       "TOTAL SEVEN MAJOR FELONY OFFENSES                                    33733   \n",
       "\n",
       "                                                                  2020_YTD  \\\n",
       "CRIME                                                                        \n",
       "BURGLARY                                                              5410   \n",
       "FELONY ASSAULT                                                        8764   \n",
       "GRAND LARCENY                                                        10510   \n",
       "GRAND LARCENY OF MOTOR VEHICLE                                        2826   \n",
       "MURDER & NON NEGL. MANSLAUGHTER                                        206   \n",
       "RAPE                                                                   584   \n",
       "ROBBERY                                                               5145   \n",
       "TOTAL SEVEN MAJOR FELONY OFFENSES                                    33445   \n",
       "\n",
       "                                                                  %_Chg  \n",
       "CRIME                                                                    \n",
       "BURGLARY                                                          -24.2  \n",
       "FELONY ASSAULT                                                      5.3  \n",
       "GRAND LARCENY                                                       3.1  \n",
       "GRAND LARCENY OF MOTOR VEHICLE                                     30.2  \n",
       "MURDER & NON NEGL. MANSLAUGHTER                                    -5.8  \n",
       "RAPE                                                               -1.2  \n",
       "ROBBERY                                                            -0.6  \n",
       "TOTAL SEVEN MAJOR FELONY OFFENSES                                   0.9  "
      ]
     },
     "execution_count": 128,
     "metadata": {},
     "output_type": "execute_result"
    }
   ],
   "source": [
    "lowerFinal_groupby"
   ]
  },
  {
   "cell_type": "code",
   "execution_count": 129,
   "metadata": {},
   "outputs": [],
   "source": [
    "lowerFinal_groupby.to_csv('lowerIncomeFinal_crimeTrend_final.csv', index=True)"
   ]
  },
  {
   "cell_type": "code",
   "execution_count": 130,
   "metadata": {},
   "outputs": [],
   "source": [
    "#lowerMiddle = df_MF4[(df_MF4.household_median_income > 54103.6) & (df_MF4.household_median_income < 68920.0)]"
   ]
  },
  {
   "cell_type": "code",
   "execution_count": 131,
   "metadata": {},
   "outputs": [],
   "source": [
    "#lowerMiddle_groupby = lowerMiddle.groupby(by=[\"CRIME\"]).sum()"
   ]
  },
  {
   "cell_type": "code",
   "execution_count": 132,
   "metadata": {},
   "outputs": [],
   "source": [
    "#lowerMiddle_groupby = lowerMiddle_groupby.drop(columns=['PCT', 'household_median_income'])"
   ]
  },
  {
   "cell_type": "code",
   "execution_count": 133,
   "metadata": {},
   "outputs": [],
   "source": [
    "#lowerMiddle_groupby['%_chg_2019-2020'] = (lowerMiddle_groupby[2020] - lowerMiddle_groupby[2019])/lowerMiddle_groupby[2019]*100"
   ]
  },
  {
   "cell_type": "code",
   "execution_count": 134,
   "metadata": {},
   "outputs": [],
   "source": [
    "#lowerMiddle_groupby['%_chg_2019-2020'] = round(lowerMiddle_groupby['%_chg_2019-2020'], 1)"
   ]
  },
  {
   "cell_type": "code",
   "execution_count": 135,
   "metadata": {},
   "outputs": [],
   "source": [
    "#lowerMiddle_groupby['%_Chg'] = (lowerMiddle_groupby['2021_YTD'] - lowerMiddle_groupby['2020_YTD'])/lowerMiddle_groupby['2020_YTD']*100"
   ]
  },
  {
   "cell_type": "code",
   "execution_count": 136,
   "metadata": {},
   "outputs": [],
   "source": [
    "#lowerMiddle_groupby['%_Chg'] = round(lowerMiddle_groupby['%_Chg'],1)"
   ]
  },
  {
   "cell_type": "code",
   "execution_count": 137,
   "metadata": {},
   "outputs": [],
   "source": [
    "#lowerMiddle_groupby.to_csv('lowerMiddleIncome.csv', index=True)"
   ]
  },
  {
   "cell_type": "code",
   "execution_count": 138,
   "metadata": {},
   "outputs": [],
   "source": [
    "#upperMiddle = df_MF4[(df_MF4.household_median_income > 68920.1) & (df_MF4.household_median_income < 91735.0)]"
   ]
  },
  {
   "cell_type": "code",
   "execution_count": 139,
   "metadata": {},
   "outputs": [],
   "source": [
    "#upperMiddle_groupby = upperMiddle.groupby(by=[\"CRIME\"]).sum()"
   ]
  },
  {
   "cell_type": "code",
   "execution_count": 140,
   "metadata": {},
   "outputs": [],
   "source": [
    "#upperMiddle_groupby = upperMiddle_groupby.drop(columns=['PCT', 'household_median_income'])"
   ]
  },
  {
   "cell_type": "code",
   "execution_count": 141,
   "metadata": {},
   "outputs": [],
   "source": [
    "#upperMiddle_groupby['%_chg_2019-2020'] = (upperMiddle_groupby[2020] - upperMiddle_groupby[2019])/upperMiddle_groupby[2019]*100"
   ]
  },
  {
   "cell_type": "code",
   "execution_count": 142,
   "metadata": {},
   "outputs": [],
   "source": [
    "#upperMiddle_groupby['%_chg_2019-2020'] = round(upperMiddle_groupby['%_chg_2019-2020'], 1)"
   ]
  },
  {
   "cell_type": "code",
   "execution_count": 143,
   "metadata": {},
   "outputs": [],
   "source": [
    "#upperMiddle_groupby['%_Chg'] = (upperMiddle_groupby['2021_YTD'] - upperMiddle_groupby['2020_YTD'])/upperMiddle_groupby['2020_YTD']*100"
   ]
  },
  {
   "cell_type": "code",
   "execution_count": 144,
   "metadata": {},
   "outputs": [],
   "source": [
    "#upperMiddle_groupby['%_Chg'] = round(upperMiddle_groupby['%_Chg'],1)"
   ]
  },
  {
   "cell_type": "code",
   "execution_count": 145,
   "metadata": {},
   "outputs": [],
   "source": [
    "#upperMiddle_groupby.to_csv('upperMiddleIncome.csv', index=True)"
   ]
  },
  {
   "cell_type": "code",
   "execution_count": 146,
   "metadata": {},
   "outputs": [],
   "source": [
    "upperFinal = df_MF4[(df_MF4.household_median_income > 68920.1)]"
   ]
  },
  {
   "cell_type": "code",
   "execution_count": 147,
   "metadata": {},
   "outputs": [],
   "source": [
    "upperFinal_groupby = upperFinal.groupby(by=[\"CRIME\"]).sum()"
   ]
  },
  {
   "cell_type": "code",
   "execution_count": 148,
   "metadata": {},
   "outputs": [
    {
     "data": {
      "text/html": [
       "<div>\n",
       "<style scoped>\n",
       "    .dataframe tbody tr th:only-of-type {\n",
       "        vertical-align: middle;\n",
       "    }\n",
       "\n",
       "    .dataframe tbody tr th {\n",
       "        vertical-align: top;\n",
       "    }\n",
       "\n",
       "    .dataframe thead th {\n",
       "        text-align: right;\n",
       "    }\n",
       "</style>\n",
       "<table border=\"1\" class=\"dataframe\">\n",
       "  <thead>\n",
       "    <tr style=\"text-align: right;\">\n",
       "      <th></th>\n",
       "      <th>PCT</th>\n",
       "      <th>household_median_income</th>\n",
       "      <th>2019</th>\n",
       "      <th>2020</th>\n",
       "      <th>%_chg_2019-2020</th>\n",
       "      <th>2021_YTD</th>\n",
       "      <th>2020_YTD</th>\n",
       "      <th>%_Chg</th>\n",
       "    </tr>\n",
       "    <tr>\n",
       "      <th>CRIME</th>\n",
       "      <th></th>\n",
       "      <th></th>\n",
       "      <th></th>\n",
       "      <th></th>\n",
       "      <th></th>\n",
       "      <th></th>\n",
       "      <th></th>\n",
       "      <th></th>\n",
       "    </tr>\n",
       "  </thead>\n",
       "  <tbody>\n",
       "    <tr>\n",
       "      <th>BURGLARY</th>\n",
       "      <td>2076</td>\n",
       "      <td>3144514.0</td>\n",
       "      <td>3837</td>\n",
       "      <td>6132</td>\n",
       "      <td>1929.0</td>\n",
       "      <td>2569</td>\n",
       "      <td>3334</td>\n",
       "      <td>-578.1</td>\n",
       "    </tr>\n",
       "    <tr>\n",
       "      <th>FELONY ASSAULT</th>\n",
       "      <td>2076</td>\n",
       "      <td>3144514.0</td>\n",
       "      <td>5025</td>\n",
       "      <td>5285</td>\n",
       "      <td>98.9</td>\n",
       "      <td>3233</td>\n",
       "      <td>3013</td>\n",
       "      <td>359.8</td>\n",
       "    </tr>\n",
       "    <tr>\n",
       "      <th>GRAND LARCENY</th>\n",
       "      <td>2076</td>\n",
       "      <td>3144514.0</td>\n",
       "      <td>21506</td>\n",
       "      <td>16126</td>\n",
       "      <td>-588.3</td>\n",
       "      <td>8662</td>\n",
       "      <td>8796</td>\n",
       "      <td>40.9</td>\n",
       "    </tr>\n",
       "    <tr>\n",
       "      <th>GRAND LARCENY OF MOTOR VEHICLE</th>\n",
       "      <td>2076</td>\n",
       "      <td>3144514.0</td>\n",
       "      <td>1932</td>\n",
       "      <td>3188</td>\n",
       "      <td>2485.1</td>\n",
       "      <td>1707</td>\n",
       "      <td>1560</td>\n",
       "      <td>843.9</td>\n",
       "    </tr>\n",
       "    <tr>\n",
       "      <th>MURDER &amp; NON NEGL. MANSLAUGHTER</th>\n",
       "      <td>2076</td>\n",
       "      <td>3144514.0</td>\n",
       "      <td>74</td>\n",
       "      <td>91</td>\n",
       "      <td>3046.7</td>\n",
       "      <td>51</td>\n",
       "      <td>45</td>\n",
       "      <td>915.0</td>\n",
       "    </tr>\n",
       "    <tr>\n",
       "      <th>RAPE</th>\n",
       "      <td>2076</td>\n",
       "      <td>3144514.0</td>\n",
       "      <td>519</td>\n",
       "      <td>418</td>\n",
       "      <td>-504.4</td>\n",
       "      <td>264</td>\n",
       "      <td>233</td>\n",
       "      <td>1086.9</td>\n",
       "    </tr>\n",
       "    <tr>\n",
       "      <th>ROBBERY</th>\n",
       "      <td>2076</td>\n",
       "      <td>3144514.0</td>\n",
       "      <td>3496</td>\n",
       "      <td>3620</td>\n",
       "      <td>217.7</td>\n",
       "      <td>1985</td>\n",
       "      <td>1981</td>\n",
       "      <td>47.5</td>\n",
       "    </tr>\n",
       "    <tr>\n",
       "      <th>TOTAL SEVEN MAJOR FELONY OFFENSES</th>\n",
       "      <td>2076</td>\n",
       "      <td>3144514.0</td>\n",
       "      <td>36389</td>\n",
       "      <td>34860</td>\n",
       "      <td>-26.2</td>\n",
       "      <td>18471</td>\n",
       "      <td>18962</td>\n",
       "      <td>-47.7</td>\n",
       "    </tr>\n",
       "  </tbody>\n",
       "</table>\n",
       "</div>"
      ],
      "text/plain": [
       "                                                                   PCT  \\\n",
       "CRIME                                                                    \n",
       "BURGLARY                                                          2076   \n",
       "FELONY ASSAULT                                                    2076   \n",
       "GRAND LARCENY                                                     2076   \n",
       "GRAND LARCENY OF MOTOR VEHICLE                                    2076   \n",
       "MURDER & NON NEGL. MANSLAUGHTER                                   2076   \n",
       "RAPE                                                              2076   \n",
       "ROBBERY                                                           2076   \n",
       "TOTAL SEVEN MAJOR FELONY OFFENSES                                 2076   \n",
       "\n",
       "                                                                  household_median_income  \\\n",
       "CRIME                                                                                       \n",
       "BURGLARY                                                                        3144514.0   \n",
       "FELONY ASSAULT                                                                  3144514.0   \n",
       "GRAND LARCENY                                                                   3144514.0   \n",
       "GRAND LARCENY OF MOTOR VEHICLE                                                  3144514.0   \n",
       "MURDER & NON NEGL. MANSLAUGHTER                                                 3144514.0   \n",
       "RAPE                                                                            3144514.0   \n",
       "ROBBERY                                                                         3144514.0   \n",
       "TOTAL SEVEN MAJOR FELONY OFFENSES                                               3144514.0   \n",
       "\n",
       "                                                                   2019  \\\n",
       "CRIME                                                                     \n",
       "BURGLARY                                                           3837   \n",
       "FELONY ASSAULT                                                     5025   \n",
       "GRAND LARCENY                                                     21506   \n",
       "GRAND LARCENY OF MOTOR VEHICLE                                     1932   \n",
       "MURDER & NON NEGL. MANSLAUGHTER                                      74   \n",
       "RAPE                                                                519   \n",
       "ROBBERY                                                            3496   \n",
       "TOTAL SEVEN MAJOR FELONY OFFENSES                                 36389   \n",
       "\n",
       "                                                                   2020  \\\n",
       "CRIME                                                                     \n",
       "BURGLARY                                                           6132   \n",
       "FELONY ASSAULT                                                     5285   \n",
       "GRAND LARCENY                                                     16126   \n",
       "GRAND LARCENY OF MOTOR VEHICLE                                     3188   \n",
       "MURDER & NON NEGL. MANSLAUGHTER                                      91   \n",
       "RAPE                                                                418   \n",
       "ROBBERY                                                            3620   \n",
       "TOTAL SEVEN MAJOR FELONY OFFENSES                                 34860   \n",
       "\n",
       "                                                                  %_chg_2019-2020  \\\n",
       "CRIME                                                                               \n",
       "BURGLARY                                                                   1929.0   \n",
       "FELONY ASSAULT                                                               98.9   \n",
       "GRAND LARCENY                                                              -588.3   \n",
       "GRAND LARCENY OF MOTOR VEHICLE                                             2485.1   \n",
       "MURDER & NON NEGL. MANSLAUGHTER                                            3046.7   \n",
       "RAPE                                                                       -504.4   \n",
       "ROBBERY                                                                     217.7   \n",
       "TOTAL SEVEN MAJOR FELONY OFFENSES                                           -26.2   \n",
       "\n",
       "                                                                  2021_YTD  \\\n",
       "CRIME                                                                        \n",
       "BURGLARY                                                              2569   \n",
       "FELONY ASSAULT                                                        3233   \n",
       "GRAND LARCENY                                                         8662   \n",
       "GRAND LARCENY OF MOTOR VEHICLE                                        1707   \n",
       "MURDER & NON NEGL. MANSLAUGHTER                                         51   \n",
       "RAPE                                                                   264   \n",
       "ROBBERY                                                               1985   \n",
       "TOTAL SEVEN MAJOR FELONY OFFENSES                                    18471   \n",
       "\n",
       "                                                                  2020_YTD  \\\n",
       "CRIME                                                                        \n",
       "BURGLARY                                                              3334   \n",
       "FELONY ASSAULT                                                        3013   \n",
       "GRAND LARCENY                                                         8796   \n",
       "GRAND LARCENY OF MOTOR VEHICLE                                        1560   \n",
       "MURDER & NON NEGL. MANSLAUGHTER                                         45   \n",
       "RAPE                                                                   233   \n",
       "ROBBERY                                                               1981   \n",
       "TOTAL SEVEN MAJOR FELONY OFFENSES                                    18962   \n",
       "\n",
       "                                                                   %_Chg  \n",
       "CRIME                                                                     \n",
       "BURGLARY                                                          -578.1  \n",
       "FELONY ASSAULT                                                     359.8  \n",
       "GRAND LARCENY                                                       40.9  \n",
       "GRAND LARCENY OF MOTOR VEHICLE                                     843.9  \n",
       "MURDER & NON NEGL. MANSLAUGHTER                                    915.0  \n",
       "RAPE                                                              1086.9  \n",
       "ROBBERY                                                             47.5  \n",
       "TOTAL SEVEN MAJOR FELONY OFFENSES                                  -47.7  "
      ]
     },
     "execution_count": 148,
     "metadata": {},
     "output_type": "execute_result"
    }
   ],
   "source": [
    "upperFinal_groupby"
   ]
  },
  {
   "cell_type": "code",
   "execution_count": 149,
   "metadata": {},
   "outputs": [],
   "source": [
    "#upperFinal_groupby = upperFinal_groupby.drop(columns=['PCT', 'household_median_income'])"
   ]
  },
  {
   "cell_type": "code",
   "execution_count": 150,
   "metadata": {},
   "outputs": [],
   "source": [
    "upperFinal_groupby['%_chg_2019-2020'] = (upperFinal_groupby[2020] - upperFinal_groupby[2019])/upperFinal_groupby[2019]*100"
   ]
  },
  {
   "cell_type": "code",
   "execution_count": 151,
   "metadata": {},
   "outputs": [],
   "source": [
    "upperFinal_groupby['%_chg_2019-2020'] = round(upperFinal_groupby['%_chg_2019-2020'], 1)"
   ]
  },
  {
   "cell_type": "code",
   "execution_count": 152,
   "metadata": {},
   "outputs": [],
   "source": [
    "upperFinal_groupby['%_Chg'] = (upperFinal_groupby['2021_YTD'] - upperFinal_groupby['2020_YTD'])/upperFinal_groupby['2020_YTD']*100"
   ]
  },
  {
   "cell_type": "code",
   "execution_count": 153,
   "metadata": {},
   "outputs": [],
   "source": [
    "upperFinal_groupby['%_Chg'] = round(upperFinal_groupby['%_Chg'],1)"
   ]
  },
  {
   "cell_type": "code",
   "execution_count": 154,
   "metadata": {},
   "outputs": [],
   "source": [
    "upperFinal_groupby.to_csv('upperIncome_crimeTrend_final.csv', index=True)"
   ]
  },
  {
   "cell_type": "code",
   "execution_count": 155,
   "metadata": {},
   "outputs": [],
   "source": [
    "#os.chdir(\"Master's Project\")"
   ]
  },
  {
   "cell_type": "code",
   "execution_count": 156,
   "metadata": {},
   "outputs": [],
   "source": [
    "changeInCrimes_IncomeTier = pd.read_excel(\"changeInCrimes_IncomeTier.xlsx\")"
   ]
  },
  {
   "cell_type": "code",
   "execution_count": 157,
   "metadata": {},
   "outputs": [
    {
     "data": {
      "text/html": [
       "<div>\n",
       "<style scoped>\n",
       "    .dataframe tbody tr th:only-of-type {\n",
       "        vertical-align: middle;\n",
       "    }\n",
       "\n",
       "    .dataframe tbody tr th {\n",
       "        vertical-align: top;\n",
       "    }\n",
       "\n",
       "    .dataframe thead th {\n",
       "        text-align: right;\n",
       "    }\n",
       "</style>\n",
       "<table border=\"1\" class=\"dataframe\">\n",
       "  <thead>\n",
       "    <tr style=\"text-align: right;\">\n",
       "      <th></th>\n",
       "      <th>INCOME TIER</th>\n",
       "      <th>CRIME</th>\n",
       "      <th>2019</th>\n",
       "      <th>2020</th>\n",
       "      <th>%_chg_2019-2020</th>\n",
       "      <th>2021_YTD</th>\n",
       "      <th>2020_YTD</th>\n",
       "      <th>%_Chg</th>\n",
       "    </tr>\n",
       "  </thead>\n",
       "  <tbody>\n",
       "    <tr>\n",
       "      <th>0</th>\n",
       "      <td>Lower Income</td>\n",
       "      <td>BURGLARY</td>\n",
       "      <td>6946</td>\n",
       "      <td>9346</td>\n",
       "      <td>34.6</td>\n",
       "      <td>4102</td>\n",
       "      <td>5410</td>\n",
       "      <td>-24.2</td>\n",
       "    </tr>\n",
       "    <tr>\n",
       "      <th>1</th>\n",
       "      <td>NaN</td>\n",
       "      <td>FELONY ASSAULT</td>\n",
       "      <td>15471</td>\n",
       "      <td>15225</td>\n",
       "      <td>-1.6</td>\n",
       "      <td>9226</td>\n",
       "      <td>8764</td>\n",
       "      <td>5.3</td>\n",
       "    </tr>\n",
       "    <tr>\n",
       "      <th>2</th>\n",
       "      <td>NaN</td>\n",
       "      <td>GRAND LARCENY</td>\n",
       "      <td>21743</td>\n",
       "      <td>19377</td>\n",
       "      <td>-10.9</td>\n",
       "      <td>10839</td>\n",
       "      <td>10510</td>\n",
       "      <td>3.1</td>\n",
       "    </tr>\n",
       "    <tr>\n",
       "      <th>3</th>\n",
       "      <td>NaN</td>\n",
       "      <td>GRAND LARCENY OF MOTOR VEHICLE</td>\n",
       "      <td>3498</td>\n",
       "      <td>5849</td>\n",
       "      <td>67.2</td>\n",
       "      <td>3679</td>\n",
       "      <td>2826</td>\n",
       "      <td>30.2</td>\n",
       "    </tr>\n",
       "    <tr>\n",
       "      <th>4</th>\n",
       "      <td>NaN</td>\n",
       "      <td>MURDER &amp; NON NEGL. MANSLAUGHTER</td>\n",
       "      <td>245</td>\n",
       "      <td>377</td>\n",
       "      <td>53.9</td>\n",
       "      <td>194</td>\n",
       "      <td>206</td>\n",
       "      <td>-5.8</td>\n",
       "    </tr>\n",
       "    <tr>\n",
       "      <th>5</th>\n",
       "      <td>NaN</td>\n",
       "      <td>RAPE</td>\n",
       "      <td>1235</td>\n",
       "      <td>1008</td>\n",
       "      <td>-18.4</td>\n",
       "      <td>577</td>\n",
       "      <td>584</td>\n",
       "      <td>-1.2</td>\n",
       "    </tr>\n",
       "    <tr>\n",
       "      <th>6</th>\n",
       "      <td>NaN</td>\n",
       "      <td>ROBBERY</td>\n",
       "      <td>9874</td>\n",
       "      <td>9486</td>\n",
       "      <td>-3.9</td>\n",
       "      <td>5116</td>\n",
       "      <td>5145</td>\n",
       "      <td>-0.6</td>\n",
       "    </tr>\n",
       "    <tr>\n",
       "      <th>7</th>\n",
       "      <td>NaN</td>\n",
       "      <td>TOTAL SEVEN MAJOR FELONY OFFENSES</td>\n",
       "      <td>59012</td>\n",
       "      <td>60668</td>\n",
       "      <td>2.8</td>\n",
       "      <td>33733</td>\n",
       "      <td>33445</td>\n",
       "      <td>0.9</td>\n",
       "    </tr>\n",
       "    <tr>\n",
       "      <th>8</th>\n",
       "      <td>Upper Income</td>\n",
       "      <td>BURGLARY</td>\n",
       "      <td>3837</td>\n",
       "      <td>6132</td>\n",
       "      <td>59.8</td>\n",
       "      <td>2569</td>\n",
       "      <td>3334</td>\n",
       "      <td>-22.9</td>\n",
       "    </tr>\n",
       "    <tr>\n",
       "      <th>9</th>\n",
       "      <td>NaN</td>\n",
       "      <td>FELONY ASSAULT</td>\n",
       "      <td>5025</td>\n",
       "      <td>5285</td>\n",
       "      <td>5.2</td>\n",
       "      <td>3233</td>\n",
       "      <td>3013</td>\n",
       "      <td>7.3</td>\n",
       "    </tr>\n",
       "    <tr>\n",
       "      <th>10</th>\n",
       "      <td>NaN</td>\n",
       "      <td>GRAND LARCENY</td>\n",
       "      <td>21506</td>\n",
       "      <td>16126</td>\n",
       "      <td>-25.0</td>\n",
       "      <td>8662</td>\n",
       "      <td>8796</td>\n",
       "      <td>-1.5</td>\n",
       "    </tr>\n",
       "    <tr>\n",
       "      <th>11</th>\n",
       "      <td>NaN</td>\n",
       "      <td>GRAND LARCENY OF MOTOR VEHICLE</td>\n",
       "      <td>1932</td>\n",
       "      <td>3188</td>\n",
       "      <td>65.0</td>\n",
       "      <td>1707</td>\n",
       "      <td>1560</td>\n",
       "      <td>9.4</td>\n",
       "    </tr>\n",
       "    <tr>\n",
       "      <th>12</th>\n",
       "      <td>NaN</td>\n",
       "      <td>MURDER &amp; NON NEGL. MANSLAUGHTER</td>\n",
       "      <td>74</td>\n",
       "      <td>91</td>\n",
       "      <td>23.0</td>\n",
       "      <td>51</td>\n",
       "      <td>45</td>\n",
       "      <td>13.3</td>\n",
       "    </tr>\n",
       "    <tr>\n",
       "      <th>13</th>\n",
       "      <td>NaN</td>\n",
       "      <td>RAPE</td>\n",
       "      <td>519</td>\n",
       "      <td>418</td>\n",
       "      <td>-19.5</td>\n",
       "      <td>264</td>\n",
       "      <td>233</td>\n",
       "      <td>13.3</td>\n",
       "    </tr>\n",
       "    <tr>\n",
       "      <th>14</th>\n",
       "      <td>NaN</td>\n",
       "      <td>ROBBERY</td>\n",
       "      <td>3496</td>\n",
       "      <td>3620</td>\n",
       "      <td>3.5</td>\n",
       "      <td>1985</td>\n",
       "      <td>1981</td>\n",
       "      <td>0.2</td>\n",
       "    </tr>\n",
       "    <tr>\n",
       "      <th>15</th>\n",
       "      <td>NaN</td>\n",
       "      <td>TOTAL SEVEN MAJOR FELONY OFFENSES</td>\n",
       "      <td>36389</td>\n",
       "      <td>34860</td>\n",
       "      <td>-4.2</td>\n",
       "      <td>18471</td>\n",
       "      <td>18962</td>\n",
       "      <td>-2.6</td>\n",
       "    </tr>\n",
       "  </tbody>\n",
       "</table>\n",
       "</div>"
      ],
      "text/plain": [
       "     INCOME TIER                              CRIME   2019   2020  \\\n",
       "0   Lower Income                           BURGLARY   6946   9346   \n",
       "1            NaN                     FELONY ASSAULT  15471  15225   \n",
       "2            NaN                      GRAND LARCENY  21743  19377   \n",
       "3            NaN     GRAND LARCENY OF MOTOR VEHICLE   3498   5849   \n",
       "4            NaN    MURDER & NON NEGL. MANSLAUGHTER    245    377   \n",
       "5            NaN                               RAPE   1235   1008   \n",
       "6            NaN                            ROBBERY   9874   9486   \n",
       "7            NaN  TOTAL SEVEN MAJOR FELONY OFFENSES  59012  60668   \n",
       "8   Upper Income                           BURGLARY   3837   6132   \n",
       "9            NaN                     FELONY ASSAULT   5025   5285   \n",
       "10           NaN                      GRAND LARCENY  21506  16126   \n",
       "11           NaN     GRAND LARCENY OF MOTOR VEHICLE   1932   3188   \n",
       "12           NaN    MURDER & NON NEGL. MANSLAUGHTER     74     91   \n",
       "13           NaN                               RAPE    519    418   \n",
       "14           NaN                            ROBBERY   3496   3620   \n",
       "15           NaN  TOTAL SEVEN MAJOR FELONY OFFENSES  36389  34860   \n",
       "\n",
       "    %_chg_2019-2020  2021_YTD  2020_YTD  %_Chg  \n",
       "0              34.6      4102      5410  -24.2  \n",
       "1              -1.6      9226      8764    5.3  \n",
       "2             -10.9     10839     10510    3.1  \n",
       "3              67.2      3679      2826   30.2  \n",
       "4              53.9       194       206   -5.8  \n",
       "5             -18.4       577       584   -1.2  \n",
       "6              -3.9      5116      5145   -0.6  \n",
       "7               2.8     33733     33445    0.9  \n",
       "8              59.8      2569      3334  -22.9  \n",
       "9               5.2      3233      3013    7.3  \n",
       "10            -25.0      8662      8796   -1.5  \n",
       "11             65.0      1707      1560    9.4  \n",
       "12             23.0        51        45   13.3  \n",
       "13            -19.5       264       233   13.3  \n",
       "14              3.5      1985      1981    0.2  \n",
       "15             -4.2     18471     18962   -2.6  "
      ]
     },
     "execution_count": 157,
     "metadata": {},
     "output_type": "execute_result"
    }
   ],
   "source": [
    "changeInCrimes_IncomeTier"
   ]
  },
  {
   "cell_type": "code",
   "execution_count": 158,
   "metadata": {},
   "outputs": [],
   "source": [
    "citywideCrimeData = pd.read_excel(\"citywide_sevenMajor_Shooting_final.xlsx\")"
   ]
  },
  {
   "cell_type": "code",
   "execution_count": 159,
   "metadata": {},
   "outputs": [
    {
     "data": {
      "text/html": [
       "<div>\n",
       "<style scoped>\n",
       "    .dataframe tbody tr th:only-of-type {\n",
       "        vertical-align: middle;\n",
       "    }\n",
       "\n",
       "    .dataframe tbody tr th {\n",
       "        vertical-align: top;\n",
       "    }\n",
       "\n",
       "    .dataframe thead th {\n",
       "        text-align: right;\n",
       "    }\n",
       "</style>\n",
       "<table border=\"1\" class=\"dataframe\">\n",
       "  <thead>\n",
       "    <tr style=\"text-align: right;\">\n",
       "      <th></th>\n",
       "      <th>Crimes</th>\n",
       "      <th>2021_YTD</th>\n",
       "      <th>2020_YTD</th>\n",
       "      <th>%_chg</th>\n",
       "    </tr>\n",
       "  </thead>\n",
       "  <tbody>\n",
       "    <tr>\n",
       "      <th>0</th>\n",
       "      <td>Murder</td>\n",
       "      <td>245</td>\n",
       "      <td>251</td>\n",
       "      <td>-2.390438</td>\n",
       "    </tr>\n",
       "    <tr>\n",
       "      <th>1</th>\n",
       "      <td>Rape</td>\n",
       "      <td>842</td>\n",
       "      <td>817</td>\n",
       "      <td>3.059976</td>\n",
       "    </tr>\n",
       "    <tr>\n",
       "      <th>2</th>\n",
       "      <td>Robbery</td>\n",
       "      <td>7101</td>\n",
       "      <td>7126</td>\n",
       "      <td>-0.350828</td>\n",
       "    </tr>\n",
       "    <tr>\n",
       "      <th>3</th>\n",
       "      <td>Felony Assault</td>\n",
       "      <td>12481</td>\n",
       "      <td>11793</td>\n",
       "      <td>5.833969</td>\n",
       "    </tr>\n",
       "    <tr>\n",
       "      <th>4</th>\n",
       "      <td>Burglary</td>\n",
       "      <td>6671</td>\n",
       "      <td>8744</td>\n",
       "      <td>-23.707685</td>\n",
       "    </tr>\n",
       "    <tr>\n",
       "      <th>5</th>\n",
       "      <td>Grand Larceny</td>\n",
       "      <td>19502</td>\n",
       "      <td>19307</td>\n",
       "      <td>1.009996</td>\n",
       "    </tr>\n",
       "    <tr>\n",
       "      <th>6</th>\n",
       "      <td>Vehicle Theft</td>\n",
       "      <td>5386</td>\n",
       "      <td>4386</td>\n",
       "      <td>22.799818</td>\n",
       "    </tr>\n",
       "    <tr>\n",
       "      <th>7</th>\n",
       "      <td>Shootings_h2</td>\n",
       "      <td>902</td>\n",
       "      <td>691</td>\n",
       "      <td>30.500000</td>\n",
       "    </tr>\n",
       "  </tbody>\n",
       "</table>\n",
       "</div>"
      ],
      "text/plain": [
       "           Crimes  2021_YTD  2020_YTD      %_chg\n",
       "0          Murder       245       251  -2.390438\n",
       "1            Rape       842       817   3.059976\n",
       "2         Robbery      7101      7126  -0.350828\n",
       "3  Felony Assault     12481     11793   5.833969\n",
       "4        Burglary      6671      8744 -23.707685\n",
       "5   Grand Larceny     19502     19307   1.009996\n",
       "6   Vehicle Theft      5386      4386  22.799818\n",
       "7    Shootings_h2       902       691  30.500000"
      ]
     },
     "execution_count": 159,
     "metadata": {},
     "output_type": "execute_result"
    }
   ],
   "source": [
    "citywideCrimeData"
   ]
  },
  {
   "cell_type": "code",
   "execution_count": 160,
   "metadata": {},
   "outputs": [],
   "source": [
    "citywideCrimeData.Crimes = citywideCrimeData.Crimes.str.replace(\"Shootings_h2\", \"Shootings (Jan.-June)\")"
   ]
  },
  {
   "cell_type": "code",
   "execution_count": 161,
   "metadata": {},
   "outputs": [],
   "source": [
    "citywideCrimeData['%_chg'] = round(citywideCrimeData['%_chg'], 1)"
   ]
  },
  {
   "cell_type": "code",
   "execution_count": 162,
   "metadata": {},
   "outputs": [],
   "source": [
    "citywideCrimeData = citywideCrimeData.rename(columns={\"%_chg\": \"Percent_Change\"})"
   ]
  },
  {
   "cell_type": "code",
   "execution_count": 163,
   "metadata": {},
   "outputs": [
    {
     "data": {
      "text/html": [
       "\n",
       "<div id=\"altair-viz-06dbbbfdc4724b0a8a8b988a60c93ae6\"></div>\n",
       "<script type=\"text/javascript\">\n",
       "  (function(spec, embedOpt){\n",
       "    let outputDiv = document.currentScript.previousElementSibling;\n",
       "    if (outputDiv.id !== \"altair-viz-06dbbbfdc4724b0a8a8b988a60c93ae6\") {\n",
       "      outputDiv = document.getElementById(\"altair-viz-06dbbbfdc4724b0a8a8b988a60c93ae6\");\n",
       "    }\n",
       "    const paths = {\n",
       "      \"vega\": \"https://cdn.jsdelivr.net/npm//vega@5?noext\",\n",
       "      \"vega-lib\": \"https://cdn.jsdelivr.net/npm//vega-lib?noext\",\n",
       "      \"vega-lite\": \"https://cdn.jsdelivr.net/npm//vega-lite@4.8.1?noext\",\n",
       "      \"vega-embed\": \"https://cdn.jsdelivr.net/npm//vega-embed@6?noext\",\n",
       "    };\n",
       "\n",
       "    function loadScript(lib) {\n",
       "      return new Promise(function(resolve, reject) {\n",
       "        var s = document.createElement('script');\n",
       "        s.src = paths[lib];\n",
       "        s.async = true;\n",
       "        s.onload = () => resolve(paths[lib]);\n",
       "        s.onerror = () => reject(`Error loading script: ${paths[lib]}`);\n",
       "        document.getElementsByTagName(\"head\")[0].appendChild(s);\n",
       "      });\n",
       "    }\n",
       "\n",
       "    function showError(err) {\n",
       "      outputDiv.innerHTML = `<div class=\"error\" style=\"color:red;\">${err}</div>`;\n",
       "      throw err;\n",
       "    }\n",
       "\n",
       "    function displayChart(vegaEmbed) {\n",
       "      vegaEmbed(outputDiv, spec, embedOpt)\n",
       "        .catch(err => showError(`Javascript Error: ${err.message}<br>This usually means there's a typo in your chart specification. See the javascript console for the full traceback.`));\n",
       "    }\n",
       "\n",
       "    if(typeof define === \"function\" && define.amd) {\n",
       "      requirejs.config({paths});\n",
       "      require([\"vega-embed\"], displayChart, err => showError(`Error loading script: ${err.message}`));\n",
       "    } else if (typeof vegaEmbed === \"function\") {\n",
       "      displayChart(vegaEmbed);\n",
       "    } else {\n",
       "      loadScript(\"vega\")\n",
       "        .then(() => loadScript(\"vega-lite\"))\n",
       "        .then(() => loadScript(\"vega-embed\"))\n",
       "        .catch(showError)\n",
       "        .then(() => displayChart(vegaEmbed));\n",
       "    }\n",
       "  })({\"config\": {\"view\": {\"continuousWidth\": 400, \"continuousHeight\": 300}}, \"data\": {\"name\": \"data-82aca74639d71a18fb25170756d4ae0e\"}, \"mark\": \"bar\", \"encoding\": {\"color\": {\"condition\": {\"value\": \"steelblue\", \"test\": \"(datum['Percent_Change'] > 0)\"}, \"value\": \"orange\"}, \"x\": {\"type\": \"nominal\", \"field\": \"Crimes\"}, \"y\": {\"type\": \"quantitative\", \"field\": \"Percent_Change\"}}, \"height\": 350, \"title\": \"How major crimes changed in NYC, Jan.-July 2021\", \"width\": 400, \"$schema\": \"https://vega.github.io/schema/vega-lite/v4.8.1.json\", \"datasets\": {\"data-82aca74639d71a18fb25170756d4ae0e\": [{\"Crimes\": \"Murder\", \"2021_YTD\": 245, \"2020_YTD\": 251, \"Percent_Change\": -2.4}, {\"Crimes\": \"Rape\", \"2021_YTD\": 842, \"2020_YTD\": 817, \"Percent_Change\": 3.1}, {\"Crimes\": \"Robbery\", \"2021_YTD\": 7101, \"2020_YTD\": 7126, \"Percent_Change\": -0.4}, {\"Crimes\": \"Felony Assault\", \"2021_YTD\": 12481, \"2020_YTD\": 11793, \"Percent_Change\": 5.8}, {\"Crimes\": \"Burglary\", \"2021_YTD\": 6671, \"2020_YTD\": 8744, \"Percent_Change\": -23.7}, {\"Crimes\": \"Grand Larceny\", \"2021_YTD\": 19502, \"2020_YTD\": 19307, \"Percent_Change\": 1.0}, {\"Crimes\": \"Vehicle Theft\", \"2021_YTD\": 5386, \"2020_YTD\": 4386, \"Percent_Change\": 22.8}, {\"Crimes\": \"Shootings (Jan.-June)\", \"2021_YTD\": 902, \"2020_YTD\": 691, \"Percent_Change\": 30.5}]}}, {\"mode\": \"vega-lite\"});\n",
       "</script>"
      ],
      "text/plain": [
       "alt.Chart(...)"
      ]
     },
     "execution_count": 163,
     "metadata": {},
     "output_type": "execute_result"
    }
   ],
   "source": [
    "import altair as alt\n",
    "from vega_datasets import data\n",
    "\n",
    "\n",
    "alt.Chart(citywideCrimeData).mark_bar().encode(\n",
    "    x=\"Crimes\",\n",
    "    y=\"Percent_Change:Q\",\n",
    "    color=alt.condition(\n",
    "        alt.datum['Percent_Change'] > 0,\n",
    "        alt.value(\"steelblue\"),  # The positive color\n",
    "        alt.value(\"orange\")  # The negative color\n",
    "    )\n",
    ").properties(width=400, height = 350, title =\"How major crimes changed in NYC, Jan.-July 2021\")"
   ]
  },
  {
   "cell_type": "code",
   "execution_count": null,
   "metadata": {},
   "outputs": [],
   "source": []
  },
  {
   "cell_type": "code",
   "execution_count": 164,
   "metadata": {},
   "outputs": [
    {
     "data": {
      "text/html": [
       "<div>\n",
       "<style scoped>\n",
       "    .dataframe tbody tr th:only-of-type {\n",
       "        vertical-align: middle;\n",
       "    }\n",
       "\n",
       "    .dataframe tbody tr th {\n",
       "        vertical-align: top;\n",
       "    }\n",
       "\n",
       "    .dataframe thead th {\n",
       "        text-align: right;\n",
       "    }\n",
       "</style>\n",
       "<table border=\"1\" class=\"dataframe\">\n",
       "  <thead>\n",
       "    <tr style=\"text-align: right;\">\n",
       "      <th></th>\n",
       "      <th>PCT</th>\n",
       "      <th>household_median_income</th>\n",
       "      <th>CRIME</th>\n",
       "      <th>2019</th>\n",
       "      <th>2020</th>\n",
       "      <th>%_chg_2019-2020</th>\n",
       "      <th>2021_YTD</th>\n",
       "      <th>2020_YTD</th>\n",
       "      <th>%_Chg</th>\n",
       "    </tr>\n",
       "  </thead>\n",
       "  <tbody>\n",
       "    <tr>\n",
       "      <th>0</th>\n",
       "      <td>1</td>\n",
       "      <td>186231.0</td>\n",
       "      <td>MURDER &amp; NON NEGL. MANSLAUGHTER</td>\n",
       "      <td>1</td>\n",
       "      <td>1</td>\n",
       "      <td>0.0</td>\n",
       "      <td>1</td>\n",
       "      <td>0</td>\n",
       "      <td>100.0</td>\n",
       "    </tr>\n",
       "    <tr>\n",
       "      <th>1</th>\n",
       "      <td>1</td>\n",
       "      <td>186231.0</td>\n",
       "      <td>RAPE</td>\n",
       "      <td>15</td>\n",
       "      <td>19</td>\n",
       "      <td>26.7</td>\n",
       "      <td>10</td>\n",
       "      <td>14</td>\n",
       "      <td>-28.6</td>\n",
       "    </tr>\n",
       "    <tr>\n",
       "      <th>2</th>\n",
       "      <td>1</td>\n",
       "      <td>186231.0</td>\n",
       "      <td>ROBBERY</td>\n",
       "      <td>78</td>\n",
       "      <td>151</td>\n",
       "      <td>93.6</td>\n",
       "      <td>58</td>\n",
       "      <td>83</td>\n",
       "      <td>-30.1</td>\n",
       "    </tr>\n",
       "    <tr>\n",
       "      <th>3</th>\n",
       "      <td>1</td>\n",
       "      <td>186231.0</td>\n",
       "      <td>FELONY ASSAULT</td>\n",
       "      <td>98</td>\n",
       "      <td>81</td>\n",
       "      <td>-17.3</td>\n",
       "      <td>69</td>\n",
       "      <td>52</td>\n",
       "      <td>32.7</td>\n",
       "    </tr>\n",
       "    <tr>\n",
       "      <th>4</th>\n",
       "      <td>1</td>\n",
       "      <td>186231.0</td>\n",
       "      <td>BURGLARY</td>\n",
       "      <td>131</td>\n",
       "      <td>247</td>\n",
       "      <td>88.5</td>\n",
       "      <td>69</td>\n",
       "      <td>169</td>\n",
       "      <td>-59.2</td>\n",
       "    </tr>\n",
       "    <tr>\n",
       "      <th>...</th>\n",
       "      <td>...</td>\n",
       "      <td>...</td>\n",
       "      <td>...</td>\n",
       "      <td>...</td>\n",
       "      <td>...</td>\n",
       "      <td>...</td>\n",
       "      <td>...</td>\n",
       "      <td>...</td>\n",
       "      <td>...</td>\n",
       "    </tr>\n",
       "    <tr>\n",
       "      <th>611</th>\n",
       "      <td>123</td>\n",
       "      <td>97407.0</td>\n",
       "      <td>FELONY ASSAULT</td>\n",
       "      <td>62</td>\n",
       "      <td>59</td>\n",
       "      <td>-4.8</td>\n",
       "      <td>19</td>\n",
       "      <td>31</td>\n",
       "      <td>-38.7</td>\n",
       "    </tr>\n",
       "    <tr>\n",
       "      <th>612</th>\n",
       "      <td>123</td>\n",
       "      <td>97407.0</td>\n",
       "      <td>BURGLARY</td>\n",
       "      <td>32</td>\n",
       "      <td>41</td>\n",
       "      <td>28.1</td>\n",
       "      <td>16</td>\n",
       "      <td>29</td>\n",
       "      <td>-44.8</td>\n",
       "    </tr>\n",
       "    <tr>\n",
       "      <th>613</th>\n",
       "      <td>123</td>\n",
       "      <td>97407.0</td>\n",
       "      <td>GRAND LARCENY</td>\n",
       "      <td>170</td>\n",
       "      <td>178</td>\n",
       "      <td>4.7</td>\n",
       "      <td>94</td>\n",
       "      <td>100</td>\n",
       "      <td>-6.0</td>\n",
       "    </tr>\n",
       "    <tr>\n",
       "      <th>614</th>\n",
       "      <td>123</td>\n",
       "      <td>97407.0</td>\n",
       "      <td>GRAND LARCENY OF MOTOR VEHICLE</td>\n",
       "      <td>25</td>\n",
       "      <td>45</td>\n",
       "      <td>80.0</td>\n",
       "      <td>22</td>\n",
       "      <td>31</td>\n",
       "      <td>-29.0</td>\n",
       "    </tr>\n",
       "    <tr>\n",
       "      <th>615</th>\n",
       "      <td>123</td>\n",
       "      <td>97407.0</td>\n",
       "      <td>TOTAL SEVEN MAJOR FELONY OFFENSES</td>\n",
       "      <td>308</td>\n",
       "      <td>341</td>\n",
       "      <td>10.7</td>\n",
       "      <td>158</td>\n",
       "      <td>198</td>\n",
       "      <td>-20.2</td>\n",
       "    </tr>\n",
       "  </tbody>\n",
       "</table>\n",
       "<p>616 rows × 9 columns</p>\n",
       "</div>"
      ],
      "text/plain": [
       "     PCT  household_median_income  \\\n",
       "0      1                 186231.0   \n",
       "1      1                 186231.0   \n",
       "2      1                 186231.0   \n",
       "3      1                 186231.0   \n",
       "4      1                 186231.0   \n",
       "..   ...                      ...   \n",
       "611  123                  97407.0   \n",
       "612  123                  97407.0   \n",
       "613  123                  97407.0   \n",
       "614  123                  97407.0   \n",
       "615  123                  97407.0   \n",
       "\n",
       "                                                                CRIME  2019  \\\n",
       "0     MURDER & NON NEGL. MANSLAUGHTER                                     1   \n",
       "1                              RAPE                                      15   \n",
       "2                              ROBBERY                                   78   \n",
       "3                              FELONY ASSAULT                            98   \n",
       "4                              BURGLARY                                 131   \n",
       "..                                                                ...   ...   \n",
       "611                            FELONY ASSAULT                            62   \n",
       "612                            BURGLARY                                  32   \n",
       "613                            GRAND LARCENY                            170   \n",
       "614  GRAND LARCENY OF MOTOR VEHICLE                                      25   \n",
       "615                                 TOTAL SEVEN MAJOR FELONY OFFENSES   308   \n",
       "\n",
       "     2020  %_chg_2019-2020  2021_YTD  2020_YTD  %_Chg  \n",
       "0       1              0.0         1         0  100.0  \n",
       "1      19             26.7        10        14  -28.6  \n",
       "2     151             93.6        58        83  -30.1  \n",
       "3      81            -17.3        69        52   32.7  \n",
       "4     247             88.5        69       169  -59.2  \n",
       "..    ...              ...       ...       ...    ...  \n",
       "611    59             -4.8        19        31  -38.7  \n",
       "612    41             28.1        16        29  -44.8  \n",
       "613   178              4.7        94       100   -6.0  \n",
       "614    45             80.0        22        31  -29.0  \n",
       "615   341             10.7       158       198  -20.2  \n",
       "\n",
       "[616 rows x 9 columns]"
      ]
     },
     "execution_count": 164,
     "metadata": {},
     "output_type": "execute_result"
    }
   ],
   "source": [
    "# making a modified version of df_MF4 for D3 line bubble graph\n",
    "df_MF4"
   ]
  },
  {
   "cell_type": "code",
   "execution_count": 165,
   "metadata": {},
   "outputs": [],
   "source": [
    "df_d3 =df_MF4.copy(deep=True)"
   ]
  },
  {
   "cell_type": "code",
   "execution_count": 166,
   "metadata": {},
   "outputs": [],
   "source": [
    "df_d3.CRIME = df_d3.CRIME.str.replace('MURDER & NON NEGL. MANSLAUGHTER','Murder')"
   ]
  },
  {
   "cell_type": "code",
   "execution_count": 167,
   "metadata": {},
   "outputs": [],
   "source": [
    "df_d3.CRIME = df_d3.CRIME.str.replace('BURGLARY','Burglary')"
   ]
  },
  {
   "cell_type": "code",
   "execution_count": 168,
   "metadata": {},
   "outputs": [],
   "source": [
    "df_d3.CRIME = df_d3.CRIME.str.replace('RAPE','Rape').str.replace('ROBBERY','Robbery')"
   ]
  },
  {
   "cell_type": "code",
   "execution_count": 169,
   "metadata": {},
   "outputs": [],
   "source": [
    "df_d3.CRIME = df_d3.CRIME.str.replace('FELONY ASSAULT','Felony Assault').str.replace('GRAND LARCENY','Grand Larceny')"
   ]
  },
  {
   "cell_type": "code",
   "execution_count": 170,
   "metadata": {},
   "outputs": [],
   "source": [
    "df_d3.CRIME = df_d3.CRIME.str.replace('Grand Larceny OF MOTOR VEHICLE','Vehicle Theft').str.replace('TOTAL SEVEN MAJOR FELONY OFFENSES','Total Seven Major Felonies')"
   ]
  },
  {
   "cell_type": "code",
   "execution_count": 171,
   "metadata": {},
   "outputs": [
    {
     "data": {
      "text/html": [
       "<div>\n",
       "<style scoped>\n",
       "    .dataframe tbody tr th:only-of-type {\n",
       "        vertical-align: middle;\n",
       "    }\n",
       "\n",
       "    .dataframe tbody tr th {\n",
       "        vertical-align: top;\n",
       "    }\n",
       "\n",
       "    .dataframe thead th {\n",
       "        text-align: right;\n",
       "    }\n",
       "</style>\n",
       "<table border=\"1\" class=\"dataframe\">\n",
       "  <thead>\n",
       "    <tr style=\"text-align: right;\">\n",
       "      <th></th>\n",
       "      <th>PCT</th>\n",
       "      <th>household_median_income</th>\n",
       "      <th>CRIME</th>\n",
       "      <th>%_chg_2019-2020</th>\n",
       "      <th>%_Chg</th>\n",
       "    </tr>\n",
       "  </thead>\n",
       "  <tbody>\n",
       "    <tr>\n",
       "      <th>0</th>\n",
       "      <td>1</td>\n",
       "      <td>186231.0</td>\n",
       "      <td>Murder</td>\n",
       "      <td>0.0</td>\n",
       "      <td>100.0</td>\n",
       "    </tr>\n",
       "    <tr>\n",
       "      <th>1</th>\n",
       "      <td>1</td>\n",
       "      <td>186231.0</td>\n",
       "      <td>Rape</td>\n",
       "      <td>26.7</td>\n",
       "      <td>-28.6</td>\n",
       "    </tr>\n",
       "    <tr>\n",
       "      <th>2</th>\n",
       "      <td>1</td>\n",
       "      <td>186231.0</td>\n",
       "      <td>Robbery</td>\n",
       "      <td>93.6</td>\n",
       "      <td>-30.1</td>\n",
       "    </tr>\n",
       "    <tr>\n",
       "      <th>3</th>\n",
       "      <td>1</td>\n",
       "      <td>186231.0</td>\n",
       "      <td>Felony Assault</td>\n",
       "      <td>-17.3</td>\n",
       "      <td>32.7</td>\n",
       "    </tr>\n",
       "    <tr>\n",
       "      <th>4</th>\n",
       "      <td>1</td>\n",
       "      <td>186231.0</td>\n",
       "      <td>Burglary</td>\n",
       "      <td>88.5</td>\n",
       "      <td>-59.2</td>\n",
       "    </tr>\n",
       "    <tr>\n",
       "      <th>...</th>\n",
       "      <td>...</td>\n",
       "      <td>...</td>\n",
       "      <td>...</td>\n",
       "      <td>...</td>\n",
       "      <td>...</td>\n",
       "    </tr>\n",
       "    <tr>\n",
       "      <th>611</th>\n",
       "      <td>123</td>\n",
       "      <td>97407.0</td>\n",
       "      <td>Felony Assault</td>\n",
       "      <td>-4.8</td>\n",
       "      <td>-38.7</td>\n",
       "    </tr>\n",
       "    <tr>\n",
       "      <th>612</th>\n",
       "      <td>123</td>\n",
       "      <td>97407.0</td>\n",
       "      <td>Burglary</td>\n",
       "      <td>28.1</td>\n",
       "      <td>-44.8</td>\n",
       "    </tr>\n",
       "    <tr>\n",
       "      <th>613</th>\n",
       "      <td>123</td>\n",
       "      <td>97407.0</td>\n",
       "      <td>Grand Larceny</td>\n",
       "      <td>4.7</td>\n",
       "      <td>-6.0</td>\n",
       "    </tr>\n",
       "    <tr>\n",
       "      <th>614</th>\n",
       "      <td>123</td>\n",
       "      <td>97407.0</td>\n",
       "      <td>Vehicle Theft</td>\n",
       "      <td>80.0</td>\n",
       "      <td>-29.0</td>\n",
       "    </tr>\n",
       "    <tr>\n",
       "      <th>615</th>\n",
       "      <td>123</td>\n",
       "      <td>97407.0</td>\n",
       "      <td>Total Seven Major Felonies</td>\n",
       "      <td>10.7</td>\n",
       "      <td>-20.2</td>\n",
       "    </tr>\n",
       "  </tbody>\n",
       "</table>\n",
       "<p>616 rows × 5 columns</p>\n",
       "</div>"
      ],
      "text/plain": [
       "     PCT  household_median_income  \\\n",
       "0      1                 186231.0   \n",
       "1      1                 186231.0   \n",
       "2      1                 186231.0   \n",
       "3      1                 186231.0   \n",
       "4      1                 186231.0   \n",
       "..   ...                      ...   \n",
       "611  123                  97407.0   \n",
       "612  123                  97407.0   \n",
       "613  123                  97407.0   \n",
       "614  123                  97407.0   \n",
       "615  123                  97407.0   \n",
       "\n",
       "                                               CRIME  %_chg_2019-2020  %_Chg  \n",
       "0             Murder                                              0.0  100.0  \n",
       "1             Rape                                               26.7  -28.6  \n",
       "2             Robbery                                            93.6  -30.1  \n",
       "3             Felony Assault                                    -17.3   32.7  \n",
       "4             Burglary                                           88.5  -59.2  \n",
       "..                                               ...              ...    ...  \n",
       "611           Felony Assault                                     -4.8  -38.7  \n",
       "612           Burglary                                           28.1  -44.8  \n",
       "613           Grand Larceny                                       4.7   -6.0  \n",
       "614  Vehicle Theft                                               80.0  -29.0  \n",
       "615                       Total Seven Major Felonies             10.7  -20.2  \n",
       "\n",
       "[616 rows x 5 columns]"
      ]
     },
     "execution_count": 171,
     "metadata": {},
     "output_type": "execute_result"
    }
   ],
   "source": [
    "col_list = ['PCT', 'household_median_income', 'CRIME', '%_chg_2019-2020','%_Chg']\n",
    "\n",
    "df_d3 = df_d3[col_list]\n",
    "\n",
    "df_d3"
   ]
  },
  {
   "cell_type": "code",
   "execution_count": 172,
   "metadata": {},
   "outputs": [],
   "source": [
    "df_d3 = df_d3.rename(columns = {'%_Chg':'Chg2021', '%_chg_2019-2020':'Chg2020'})"
   ]
  },
  {
   "cell_type": "code",
   "execution_count": 173,
   "metadata": {},
   "outputs": [
    {
     "data": {
      "text/html": [
       "<div>\n",
       "<style scoped>\n",
       "    .dataframe tbody tr th:only-of-type {\n",
       "        vertical-align: middle;\n",
       "    }\n",
       "\n",
       "    .dataframe tbody tr th {\n",
       "        vertical-align: top;\n",
       "    }\n",
       "\n",
       "    .dataframe thead th {\n",
       "        text-align: right;\n",
       "    }\n",
       "</style>\n",
       "<table border=\"1\" class=\"dataframe\">\n",
       "  <thead>\n",
       "    <tr style=\"text-align: right;\">\n",
       "      <th></th>\n",
       "      <th>PCT</th>\n",
       "      <th>household_median_income</th>\n",
       "      <th>CRIME</th>\n",
       "      <th>Chg2020</th>\n",
       "      <th>Chg2021</th>\n",
       "    </tr>\n",
       "  </thead>\n",
       "  <tbody>\n",
       "    <tr>\n",
       "      <th>0</th>\n",
       "      <td>1</td>\n",
       "      <td>186231.0</td>\n",
       "      <td>Murder</td>\n",
       "      <td>0.0</td>\n",
       "      <td>100.0</td>\n",
       "    </tr>\n",
       "  </tbody>\n",
       "</table>\n",
       "</div>"
      ],
      "text/plain": [
       "   PCT  household_median_income                                   CRIME  \\\n",
       "0    1                 186231.0  Murder                                   \n",
       "\n",
       "   Chg2020  Chg2021  \n",
       "0      0.0    100.0  "
      ]
     },
     "execution_count": 173,
     "metadata": {},
     "output_type": "execute_result"
    }
   ],
   "source": [
    "df_d3.head(1)"
   ]
  },
  {
   "cell_type": "code",
   "execution_count": 174,
   "metadata": {},
   "outputs": [],
   "source": [
    "df_d3.CRIME = df_d3.CRIME.astype(str)"
   ]
  },
  {
   "cell_type": "code",
   "execution_count": 175,
   "metadata": {},
   "outputs": [],
   "source": [
    "D3_noMurder = df_d3[df_d3.CRIME.str.strip() != 'Murder']"
   ]
  },
  {
   "cell_type": "code",
   "execution_count": 176,
   "metadata": {},
   "outputs": [
    {
     "data": {
      "text/html": [
       "<div>\n",
       "<style scoped>\n",
       "    .dataframe tbody tr th:only-of-type {\n",
       "        vertical-align: middle;\n",
       "    }\n",
       "\n",
       "    .dataframe tbody tr th {\n",
       "        vertical-align: top;\n",
       "    }\n",
       "\n",
       "    .dataframe thead th {\n",
       "        text-align: right;\n",
       "    }\n",
       "</style>\n",
       "<table border=\"1\" class=\"dataframe\">\n",
       "  <thead>\n",
       "    <tr style=\"text-align: right;\">\n",
       "      <th></th>\n",
       "      <th>PCT</th>\n",
       "      <th>household_median_income</th>\n",
       "      <th>CRIME</th>\n",
       "      <th>Chg2020</th>\n",
       "      <th>Chg2021</th>\n",
       "    </tr>\n",
       "  </thead>\n",
       "  <tbody>\n",
       "    <tr>\n",
       "      <th>94</th>\n",
       "      <td>20</td>\n",
       "      <td>132605.0</td>\n",
       "      <td>Vehicle Theft</td>\n",
       "      <td>15.8</td>\n",
       "      <td>430.0</td>\n",
       "    </tr>\n",
       "  </tbody>\n",
       "</table>\n",
       "</div>"
      ],
      "text/plain": [
       "    PCT  household_median_income  \\\n",
       "94   20                 132605.0   \n",
       "\n",
       "                                              CRIME  Chg2020  Chg2021  \n",
       "94  Vehicle Theft                                       15.8    430.0  "
      ]
     },
     "execution_count": 176,
     "metadata": {},
     "output_type": "execute_result"
    }
   ],
   "source": [
    "D3_noMurder[D3_noMurder.Chg2021 ==430]"
   ]
  },
  {
   "cell_type": "code",
   "execution_count": 177,
   "metadata": {},
   "outputs": [],
   "source": [
    "#df_d3.to_csv(\"D3BubbleLineGraph.csv\", index=False)"
   ]
  },
  {
   "cell_type": "code",
   "execution_count": 178,
   "metadata": {},
   "outputs": [],
   "source": [
    "#D3_noMurder.to_csv(\"D3_noMuder_new.csv\", index=False)"
   ]
  },
  {
   "cell_type": "code",
   "execution_count": 179,
   "metadata": {},
   "outputs": [],
   "source": [
    "df_d3 = df_d3[df_d3.household_median_income != 0]"
   ]
  },
  {
   "cell_type": "code",
   "execution_count": 180,
   "metadata": {},
   "outputs": [],
   "source": [
    "df_d3 = df_d3[df_d3.CRIME.str.strip() != 'Total Seven Major Felonies']"
   ]
  },
  {
   "cell_type": "code",
   "execution_count": 181,
   "metadata": {},
   "outputs": [
    {
     "data": {
      "text/plain": [
       "25775.0"
      ]
     },
     "execution_count": 181,
     "metadata": {},
     "output_type": "execute_result"
    }
   ],
   "source": [
    "df_d3.household_median_income.min()"
   ]
  },
  {
   "cell_type": "code",
   "execution_count": 182,
   "metadata": {},
   "outputs": [
    {
     "data": {
      "text/html": [
       "<div>\n",
       "<style scoped>\n",
       "    .dataframe tbody tr th:only-of-type {\n",
       "        vertical-align: middle;\n",
       "    }\n",
       "\n",
       "    .dataframe tbody tr th {\n",
       "        vertical-align: top;\n",
       "    }\n",
       "\n",
       "    .dataframe thead th {\n",
       "        text-align: right;\n",
       "    }\n",
       "</style>\n",
       "<table border=\"1\" class=\"dataframe\">\n",
       "  <thead>\n",
       "    <tr style=\"text-align: right;\">\n",
       "      <th></th>\n",
       "      <th>PCT</th>\n",
       "      <th>household_median_income</th>\n",
       "      <th>CRIME</th>\n",
       "      <th>Chg2020</th>\n",
       "      <th>Chg2021</th>\n",
       "    </tr>\n",
       "  </thead>\n",
       "  <tbody>\n",
       "    <tr>\n",
       "      <th>0</th>\n",
       "      <td>1</td>\n",
       "      <td>186231.0</td>\n",
       "      <td>Murder</td>\n",
       "      <td>0.0</td>\n",
       "      <td>100.0</td>\n",
       "    </tr>\n",
       "  </tbody>\n",
       "</table>\n",
       "</div>"
      ],
      "text/plain": [
       "   PCT  household_median_income                                   CRIME  \\\n",
       "0    1                 186231.0  Murder                                   \n",
       "\n",
       "   Chg2020  Chg2021  \n",
       "0      0.0    100.0  "
      ]
     },
     "execution_count": 182,
     "metadata": {},
     "output_type": "execute_result"
    }
   ],
   "source": [
    "df_d3.head(1)"
   ]
  },
  {
   "cell_type": "code",
   "execution_count": 183,
   "metadata": {},
   "outputs": [],
   "source": [
    "col_list = ['PCT', 'household_median_income','CRIME','Chg2021']\n",
    "df_d3_2021 = df_d3[col_list]"
   ]
  },
  {
   "cell_type": "code",
   "execution_count": 184,
   "metadata": {},
   "outputs": [
    {
     "data": {
      "text/plain": [
       "(532, 4)"
      ]
     },
     "execution_count": 184,
     "metadata": {},
     "output_type": "execute_result"
    }
   ],
   "source": [
    "df_d3_2021.shape"
   ]
  },
  {
   "cell_type": "code",
   "execution_count": 185,
   "metadata": {},
   "outputs": [],
   "source": [
    "dfinal_new2 = pd.read_csv(\"dfinal_new2.csv\")"
   ]
  },
  {
   "cell_type": "code",
   "execution_count": 186,
   "metadata": {},
   "outputs": [],
   "source": [
    "# dfinal_new2 -- shooting data by precinct from the \"Shootings\" section\n",
    "# combine dfinal_new2 with df_d3_2021\n",
    "\n",
    "frames = [dfinal_new2, df_d3_2021]\n",
    "result2021 = pd.concat(frames)"
   ]
  },
  {
   "cell_type": "code",
   "execution_count": 187,
   "metadata": {},
   "outputs": [],
   "source": [
    "citywideCrimeData.Crimes=citywideCrimeData.Crimes.replace(\"Shootings (Jan.-June)\", \"Shooting (Jan.-June)\")"
   ]
  },
  {
   "cell_type": "code",
   "execution_count": 188,
   "metadata": {},
   "outputs": [],
   "source": [
    "citywideCrimeData = citywideCrimeData.rename(columns={\"Crimes\": \"Crime\"})"
   ]
  },
  {
   "cell_type": "code",
   "execution_count": 189,
   "metadata": {},
   "outputs": [],
   "source": [
    "# IMPORTANT"
   ]
  },
  {
   "cell_type": "code",
   "execution_count": 190,
   "metadata": {},
   "outputs": [],
   "source": [
    "import altair as alt\n",
    "from vega_datasets import data\n",
    "\n",
    "points = alt.Chart(result2021).mark_circle(\n",
    "    opacity=0.5,\n",
    "    stroke='black',\n",
    "    strokeWidth=0.7\n",
    ").encode(\n",
    "    alt.X('Chg2021:Q', axis=alt.Axis(labelAngle=0), title =\"Percent change (each dot represents a precinct)\"),\n",
    "    alt.Y('CRIME', title=\"Crime\"),\n",
    "    alt.Size('household_median_income:Q',\n",
    "        scale=alt.Scale(range=[50, 3000]),\n",
    "        legend=alt.Legend(title='Median Household Income')\n",
    "    ),\n",
    "    alt.Color('CRIME', legend=None)\n",
    ").properties(\n",
    "    width=800,\n",
    "    height=500\n",
    ")"
   ]
  },
  {
   "cell_type": "code",
   "execution_count": 191,
   "metadata": {},
   "outputs": [],
   "source": [
    "bars = alt.Chart(citywideCrimeData).mark_bar(opacity=0.8).encode(\n",
    "    alt.X(\"Percent_Change:Q\", title = \"Percent change\"),\n",
    "    y=\"Crime\",\n",
    "    color=alt.condition(\n",
    "        alt.datum['Percent_Change'] > 0,\n",
    "        alt.value(\"steelblue\"),  # The positive color\n",
    "        alt.value(\"orange\")  # The negative color\n",
    "    )\n",
    ").properties(width=800, height = 150)"
   ]
  },
  {
   "cell_type": "code",
   "execution_count": 192,
   "metadata": {},
   "outputs": [
    {
     "data": {
      "text/html": [
       "\n",
       "<div id=\"altair-viz-e1c970af445941dda5aa18ca00f40501\"></div>\n",
       "<script type=\"text/javascript\">\n",
       "  (function(spec, embedOpt){\n",
       "    let outputDiv = document.currentScript.previousElementSibling;\n",
       "    if (outputDiv.id !== \"altair-viz-e1c970af445941dda5aa18ca00f40501\") {\n",
       "      outputDiv = document.getElementById(\"altair-viz-e1c970af445941dda5aa18ca00f40501\");\n",
       "    }\n",
       "    const paths = {\n",
       "      \"vega\": \"https://cdn.jsdelivr.net/npm//vega@5?noext\",\n",
       "      \"vega-lib\": \"https://cdn.jsdelivr.net/npm//vega-lib?noext\",\n",
       "      \"vega-lite\": \"https://cdn.jsdelivr.net/npm//vega-lite@4.8.1?noext\",\n",
       "      \"vega-embed\": \"https://cdn.jsdelivr.net/npm//vega-embed@6?noext\",\n",
       "    };\n",
       "\n",
       "    function loadScript(lib) {\n",
       "      return new Promise(function(resolve, reject) {\n",
       "        var s = document.createElement('script');\n",
       "        s.src = paths[lib];\n",
       "        s.async = true;\n",
       "        s.onload = () => resolve(paths[lib]);\n",
       "        s.onerror = () => reject(`Error loading script: ${paths[lib]}`);\n",
       "        document.getElementsByTagName(\"head\")[0].appendChild(s);\n",
       "      });\n",
       "    }\n",
       "\n",
       "    function showError(err) {\n",
       "      outputDiv.innerHTML = `<div class=\"error\" style=\"color:red;\">${err}</div>`;\n",
       "      throw err;\n",
       "    }\n",
       "\n",
       "    function displayChart(vegaEmbed) {\n",
       "      vegaEmbed(outputDiv, spec, embedOpt)\n",
       "        .catch(err => showError(`Javascript Error: ${err.message}<br>This usually means there's a typo in your chart specification. See the javascript console for the full traceback.`));\n",
       "    }\n",
       "\n",
       "    if(typeof define === \"function\" && define.amd) {\n",
       "      requirejs.config({paths});\n",
       "      require([\"vega-embed\"], displayChart, err => showError(`Error loading script: ${err.message}`));\n",
       "    } else if (typeof vegaEmbed === \"function\") {\n",
       "      displayChart(vegaEmbed);\n",
       "    } else {\n",
       "      loadScript(\"vega\")\n",
       "        .then(() => loadScript(\"vega-lite\"))\n",
       "        .then(() => loadScript(\"vega-embed\"))\n",
       "        .catch(showError)\n",
       "        .then(() => displayChart(vegaEmbed));\n",
       "    }\n",
       "  })({\"config\": {\"view\": {\"continuousWidth\": 400, \"continuousHeight\": 300}}, \"vconcat\": [{\"data\": {\"name\": \"data-4f43253599dc9431d29efd02dba626e7\"}, \"mark\": {\"type\": \"circle\", \"opacity\": 0.5, \"stroke\": \"black\", \"strokeWidth\": 0.7}, \"encoding\": {\"color\": {\"type\": \"nominal\", \"field\": \"CRIME\", \"legend\": null}, \"size\": {\"type\": \"quantitative\", \"field\": \"household_median_income\", \"legend\": {\"title\": \"Median Household Income\"}, \"scale\": {\"range\": [50, 3000]}}, \"x\": {\"type\": \"quantitative\", \"axis\": {\"labelAngle\": 0}, \"field\": \"Chg2021\", \"title\": \"Percent change (each dot represents a precinct)\"}, \"y\": {\"type\": \"nominal\", \"field\": \"CRIME\", \"title\": \"Crime\"}}, \"height\": 500, \"width\": 800}, {\"data\": {\"name\": \"data-e476c42a30fadc5e9724ae45de35d402\"}, \"mark\": {\"type\": \"bar\", \"opacity\": 0.8}, \"encoding\": {\"color\": {\"condition\": {\"value\": \"steelblue\", \"test\": \"(datum['Percent_Change'] > 0)\"}, \"value\": \"orange\"}, \"x\": {\"type\": \"quantitative\", \"field\": \"Percent_Change\", \"title\": \"Percent change\"}, \"y\": {\"type\": \"nominal\", \"field\": \"Crime\"}}, \"height\": 150, \"width\": 800}], \"title\": \"How major crimes changed in NYC, Jan.-July 2021\", \"$schema\": \"https://vega.github.io/schema/vega-lite/v4.8.1.json\", \"datasets\": {\"data-4f43253599dc9431d29efd02dba626e7\": [{\"PCT\": 5, \"Chg2021\": 0.0, \"CRIME\": \"Shooting\", \"household_median_income\": 186231.0}, {\"PCT\": 6, \"Chg2021\": 300.0, \"CRIME\": \"Shooting\", \"household_median_income\": 113191.0}, {\"PCT\": 7, \"Chg2021\": -55.6, \"CRIME\": \"Shooting\", \"household_median_income\": 63717.0}, {\"PCT\": 9, \"Chg2021\": -40.0, \"CRIME\": \"Shooting\", \"household_median_income\": 63717.0}, {\"PCT\": 10, \"Chg2021\": null, \"CRIME\": \"Shooting\", \"household_median_income\": 113138.0}, {\"PCT\": 13, \"Chg2021\": -25.0, \"CRIME\": \"Shooting\", \"household_median_income\": 132016.5}, {\"PCT\": 14, \"Chg2021\": null, \"CRIME\": \"Shooting\", \"household_median_income\": 95301.0}, {\"PCT\": 18, \"Chg2021\": 0.0, \"CRIME\": \"Shooting\", \"household_median_income\": 99546.5}, {\"PCT\": 19, \"Chg2021\": 50.0, \"CRIME\": \"Shooting\", \"household_median_income\": 122569.0}, {\"PCT\": 20, \"Chg2021\": -50.0, \"CRIME\": \"Shooting\", \"household_median_income\": 132605.0}, {\"PCT\": 23, \"Chg2021\": 5.0, \"CRIME\": \"Shooting\", \"household_median_income\": 31759.5}, {\"PCT\": 24, \"Chg2021\": 0.0, \"CRIME\": \"Shooting\", \"household_median_income\": 132605.0}, {\"PCT\": 25, \"Chg2021\": 54.5, \"CRIME\": \"Shooting\", \"household_median_income\": 31759.5}, {\"PCT\": 26, \"Chg2021\": 50.0, \"CRIME\": \"Shooting\", \"household_median_income\": 46263.0}, {\"PCT\": 28, \"Chg2021\": 114.3, \"CRIME\": \"Shooting\", \"household_median_income\": 46263.0}, {\"PCT\": 30, \"Chg2021\": -50.0, \"CRIME\": \"Shooting\", \"household_median_income\": 53660.0}, {\"PCT\": 32, \"Chg2021\": 127.3, \"CRIME\": \"Shooting\", \"household_median_income\": 46263.0}, {\"PCT\": 33, \"Chg2021\": 14.3, \"CRIME\": \"Shooting\", \"household_median_income\": 53660.0}, {\"PCT\": 34, \"Chg2021\": 43.8, \"CRIME\": \"Shooting\", \"household_median_income\": 53660.0}, {\"PCT\": 40, \"Chg2021\": 146.7, \"CRIME\": \"Shooting\", \"household_median_income\": 25775.0}, {\"PCT\": 41, \"Chg2021\": 53.8, \"CRIME\": \"Shooting\", \"household_median_income\": 25775.0}, {\"PCT\": 42, \"Chg2021\": 100.0, \"CRIME\": \"Shooting\", \"household_median_income\": 29136.0}, {\"PCT\": 43, \"Chg2021\": 115.4, \"CRIME\": \"Shooting\", \"household_median_income\": 37503.0}, {\"PCT\": 44, \"Chg2021\": 85.7, \"CRIME\": \"Shooting\", \"household_median_income\": 29579.0}, {\"PCT\": 45, \"Chg2021\": 50.0, \"CRIME\": \"Shooting\", \"household_median_income\": 56291.5}, {\"PCT\": 46, \"Chg2021\": 4.3, \"CRIME\": \"Shooting\", \"household_median_income\": 37804.0}, {\"PCT\": 47, \"Chg2021\": 45.5, \"CRIME\": \"Shooting\", \"household_median_income\": 58393.0}, {\"PCT\": 48, \"Chg2021\": 94.7, \"CRIME\": \"Shooting\", \"household_median_income\": 29136.0}, {\"PCT\": 49, \"Chg2021\": -42.9, \"CRIME\": \"Shooting\", \"household_median_income\": 59829.5}, {\"PCT\": 50, \"Chg2021\": 0.0, \"CRIME\": \"Shooting\", \"household_median_income\": 73565.0}, {\"PCT\": 52, \"Chg2021\": 275.0, \"CRIME\": \"Shooting\", \"household_median_income\": 37804.0}, {\"PCT\": 60, \"Chg2021\": 133.3, \"CRIME\": \"Shooting\", \"household_median_income\": 54334.5}, {\"PCT\": 61, \"Chg2021\": 100.0, \"CRIME\": \"Shooting\", \"household_median_income\": 54334.5}, {\"PCT\": 62, \"Chg2021\": null, \"CRIME\": \"Shooting\", \"household_median_income\": 72902.0}, {\"PCT\": 63, \"Chg2021\": -14.3, \"CRIME\": \"Shooting\", \"household_median_income\": 70793.0}, {\"PCT\": 66, \"Chg2021\": null, \"CRIME\": \"Shooting\", \"household_median_income\": 53081.5}, {\"PCT\": 67, \"Chg2021\": -10.0, \"CRIME\": \"Shooting\", \"household_median_income\": 59038.5}, {\"PCT\": 69, \"Chg2021\": 75.0, \"CRIME\": \"Shooting\", \"household_median_income\": 70793.0}, {\"PCT\": 70, \"Chg2021\": 62.5, \"CRIME\": \"Shooting\", \"household_median_income\": 59038.5}, {\"PCT\": 71, \"Chg2021\": 0.0, \"CRIME\": \"Shooting\", \"household_median_income\": 44905.0}, {\"PCT\": 72, \"Chg2021\": -42.9, \"CRIME\": \"Shooting\", \"household_median_income\": 55695.5}, {\"PCT\": 73, \"Chg2021\": -2.6, \"CRIME\": \"Shooting\", \"household_median_income\": 35713.0}, {\"PCT\": 75, \"Chg2021\": -9.5, \"CRIME\": \"Shooting\", \"household_median_income\": 40892.5}, {\"PCT\": 76, \"Chg2021\": 80.0, \"CRIME\": \"Shooting\", \"household_median_income\": 61200.0}, {\"PCT\": 77, \"Chg2021\": 33.3, \"CRIME\": \"Shooting\", \"household_median_income\": 44905.0}, {\"PCT\": 78, \"Chg2021\": 0.0, \"CRIME\": \"Shooting\", \"household_median_income\": 119375.0}, {\"PCT\": 79, \"Chg2021\": 4.5, \"CRIME\": \"Shooting\", \"household_median_income\": 58872.0}, {\"PCT\": 81, \"Chg2021\": -5.9, \"CRIME\": \"Shooting\", \"household_median_income\": 44905.0}, {\"PCT\": 83, \"Chg2021\": 187.5, \"CRIME\": \"Shooting\", \"household_median_income\": 53303.0}, {\"PCT\": 84, \"Chg2021\": 100.0, \"CRIME\": \"Shooting\", \"household_median_income\": 124311.5}, {\"PCT\": 88, \"Chg2021\": -25.0, \"CRIME\": \"Shooting\", \"household_median_income\": 105610.5}, {\"PCT\": 90, \"Chg2021\": 40.0, \"CRIME\": \"Shooting\", \"household_median_income\": 53303.0}, {\"PCT\": 94, \"Chg2021\": 0.0, \"CRIME\": \"Shooting\", \"household_median_income\": 87358.0}, {\"PCT\": 100, \"Chg2021\": -57.1, \"CRIME\": \"Shooting\", \"household_median_income\": 60569.0}, {\"PCT\": 101, \"Chg2021\": -6.7, \"CRIME\": \"Shooting\", \"household_median_income\": 60569.0}, {\"PCT\": 102, \"Chg2021\": 700.0, \"CRIME\": \"Shooting\", \"household_median_income\": 72003.5}, {\"PCT\": 103, \"Chg2021\": -16.7, \"CRIME\": \"Shooting\", \"household_median_income\": 62927.0}, {\"PCT\": 105, \"Chg2021\": 80.0, \"CRIME\": \"Shooting\", \"household_median_income\": 88300.0}, {\"PCT\": 106, \"Chg2021\": 300.0, \"CRIME\": \"Shooting\", \"household_median_income\": 76351.5}, {\"PCT\": 107, \"Chg2021\": null, \"CRIME\": \"Shooting\", \"household_median_income\": 67642.0}, {\"PCT\": 108, \"Chg2021\": 400.0, \"CRIME\": \"Shooting\", \"household_median_income\": 74420.5}, {\"PCT\": 109, \"Chg2021\": -66.7, \"CRIME\": \"Shooting\", \"household_median_income\": 68848.0}, {\"PCT\": 110, \"Chg2021\": 0.0, \"CRIME\": \"Shooting\", \"household_median_income\": 54397.5}, {\"PCT\": 113, \"Chg2021\": -8.7, \"CRIME\": \"Shooting\", \"household_median_income\": 78876.5}, {\"PCT\": 114, \"Chg2021\": -7.7, \"CRIME\": \"Shooting\", \"household_median_income\": 74420.5}, {\"PCT\": 115, \"Chg2021\": -72.7, \"CRIME\": \"Shooting\", \"household_median_income\": 57435.0}, {\"PCT\": 120, \"Chg2021\": 80.0, \"CRIME\": \"Shooting\", \"household_median_income\": 62052.0}, {\"PCT\": 121, \"Chg2021\": -77.8, \"CRIME\": \"Shooting\", \"household_median_income\": 71645.0}, {\"PCT\": 1, \"Chg2021\": -100.0, \"CRIME\": \"Shooting\", \"household_median_income\": 186231.0}, {\"PCT\": 22, \"Chg2021\": -100.0, \"CRIME\": \"Shooting\", \"household_median_income\": null}, {\"PCT\": 104, \"Chg2021\": -100.0, \"CRIME\": \"Shooting\", \"household_median_income\": 79611.5}, {\"PCT\": 111, \"Chg2021\": -100.0, \"CRIME\": \"Shooting\", \"household_median_income\": 84301.0}, {\"PCT\": 122, \"Chg2021\": -100.0, \"CRIME\": \"Shooting\", \"household_median_income\": 97407.0}, {\"PCT\": 17, \"Chg2021\": 0.0, \"CRIME\": \"Shooting\", \"household_median_income\": 132016.5}, {\"PCT\": 68, \"Chg2021\": 0.0, \"CRIME\": \"Shooting\", \"household_median_income\": 64906.5}, {\"PCT\": 112, \"Chg2021\": 0.0, \"CRIME\": \"Shooting\", \"household_median_income\": 79611.5}, {\"PCT\": 123, \"Chg2021\": 0.0, \"CRIME\": \"Shooting\", \"household_median_income\": 97407.0}, {\"PCT\": 1, \"Chg2021\": 100.0, \"CRIME\": \"Murder                                \", \"household_median_income\": 186231.0}, {\"PCT\": 1, \"Chg2021\": -28.6, \"CRIME\": \"Rape                                  \", \"household_median_income\": 186231.0}, {\"PCT\": 1, \"Chg2021\": -30.1, \"CRIME\": \"Robbery                               \", \"household_median_income\": 186231.0}, {\"PCT\": 1, \"Chg2021\": 32.7, \"CRIME\": \"Felony Assault                        \", \"household_median_income\": 186231.0}, {\"PCT\": 1, \"Chg2021\": -59.2, \"CRIME\": \"Burglary                              \", \"household_median_income\": 186231.0}, {\"PCT\": 1, \"Chg2021\": 11.3, \"CRIME\": \"Grand Larceny                         \", \"household_median_income\": 186231.0}, {\"PCT\": 1, \"Chg2021\": 64.7, \"CRIME\": \"Vehicle Theft                                  \", \"household_median_income\": 186231.0}, {\"PCT\": 5, \"Chg2021\": 200.0, \"CRIME\": \"Murder                                \", \"household_median_income\": 186231.0}, {\"PCT\": 5, \"Chg2021\": -9.1, \"CRIME\": \"Rape                                  \", \"household_median_income\": 186231.0}, {\"PCT\": 5, \"Chg2021\": -12.5, \"CRIME\": \"Robbery                               \", \"household_median_income\": 186231.0}, {\"PCT\": 5, \"Chg2021\": -17.0, \"CRIME\": \"Felony Assault                        \", \"household_median_income\": 186231.0}, {\"PCT\": 5, \"Chg2021\": -61.7, \"CRIME\": \"Burglary                              \", \"household_median_income\": 186231.0}, {\"PCT\": 5, \"Chg2021\": 25.9, \"CRIME\": \"Grand Larceny                         \", \"household_median_income\": 186231.0}, {\"PCT\": 5, \"Chg2021\": 66.7, \"CRIME\": \"Vehicle Theft                                  \", \"household_median_income\": 186231.0}, {\"PCT\": 6, \"Chg2021\": 0.0, \"CRIME\": \"Murder                                \", \"household_median_income\": 113191.0}, {\"PCT\": 6, \"Chg2021\": 50.0, \"CRIME\": \"Rape                                  \", \"household_median_income\": 113191.0}, {\"PCT\": 6, \"Chg2021\": 44.1, \"CRIME\": \"Robbery                               \", \"household_median_income\": 113191.0}, {\"PCT\": 6, \"Chg2021\": 6.3, \"CRIME\": \"Felony Assault                        \", \"household_median_income\": 113191.0}, {\"PCT\": 6, \"Chg2021\": -42.3, \"CRIME\": \"Burglary                              \", \"household_median_income\": 113191.0}, {\"PCT\": 6, \"Chg2021\": -1.4, \"CRIME\": \"Grand Larceny                         \", \"household_median_income\": 113191.0}, {\"PCT\": 6, \"Chg2021\": -20.0, \"CRIME\": \"Vehicle Theft                                  \", \"household_median_income\": 113191.0}, {\"PCT\": 7, \"Chg2021\": -100.0, \"CRIME\": \"Murder                                \", \"household_median_income\": 63717.0}, {\"PCT\": 7, \"Chg2021\": 14.3, \"CRIME\": \"Rape                                  \", \"household_median_income\": 63717.0}, {\"PCT\": 7, \"Chg2021\": -3.3, \"CRIME\": \"Robbery                               \", \"household_median_income\": 63717.0}, {\"PCT\": 7, \"Chg2021\": 34.7, \"CRIME\": \"Felony Assault                        \", \"household_median_income\": 63717.0}, {\"PCT\": 7, \"Chg2021\": -39.6, \"CRIME\": \"Burglary                              \", \"household_median_income\": 63717.0}, {\"PCT\": 7, \"Chg2021\": 27.9, \"CRIME\": \"Grand Larceny                         \", \"household_median_income\": 63717.0}, {\"PCT\": 7, \"Chg2021\": 64.0, \"CRIME\": \"Vehicle Theft                                  \", \"household_median_income\": 63717.0}, {\"PCT\": 9, \"Chg2021\": 200.0, \"CRIME\": \"Murder                                \", \"household_median_income\": 63717.0}, {\"PCT\": 9, \"Chg2021\": 140.0, \"CRIME\": \"Rape                                  \", \"household_median_income\": 63717.0}, {\"PCT\": 9, \"Chg2021\": 51.9, \"CRIME\": \"Robbery                               \", \"household_median_income\": 63717.0}, {\"PCT\": 9, \"Chg2021\": -5.6, \"CRIME\": \"Felony Assault                        \", \"household_median_income\": 63717.0}, {\"PCT\": 9, \"Chg2021\": 10.0, \"CRIME\": \"Burglary                              \", \"household_median_income\": 63717.0}, {\"PCT\": 9, \"Chg2021\": 27.2, \"CRIME\": \"Grand Larceny                         \", \"household_median_income\": 63717.0}, {\"PCT\": 9, \"Chg2021\": 145.8, \"CRIME\": \"Vehicle Theft                                  \", \"household_median_income\": 63717.0}, {\"PCT\": 10, \"Chg2021\": -50.0, \"CRIME\": \"Murder                                \", \"household_median_income\": 113138.0}, {\"PCT\": 10, \"Chg2021\": 33.3, \"CRIME\": \"Rape                                  \", \"household_median_income\": 113138.0}, {\"PCT\": 10, \"Chg2021\": 0.0, \"CRIME\": \"Robbery                               \", \"household_median_income\": 113138.0}, {\"PCT\": 10, \"Chg2021\": 11.7, \"CRIME\": \"Felony Assault                        \", \"household_median_income\": 113138.0}, {\"PCT\": 10, \"Chg2021\": -32.4, \"CRIME\": \"Burglary                              \", \"household_median_income\": 113138.0}, {\"PCT\": 10, \"Chg2021\": -16.1, \"CRIME\": \"Grand Larceny                         \", \"household_median_income\": 113138.0}, {\"PCT\": 10, \"Chg2021\": 34.8, \"CRIME\": \"Vehicle Theft                                  \", \"household_median_income\": 113138.0}, {\"PCT\": 13, \"Chg2021\": -50.0, \"CRIME\": \"Murder                                \", \"household_median_income\": 132016.5}, {\"PCT\": 13, \"Chg2021\": 220.0, \"CRIME\": \"Rape                                  \", \"household_median_income\": 132016.5}, {\"PCT\": 13, \"Chg2021\": -2.2, \"CRIME\": \"Robbery                               \", \"household_median_income\": 132016.5}, {\"PCT\": 13, \"Chg2021\": -2.5, \"CRIME\": \"Felony Assault                        \", \"household_median_income\": 132016.5}, {\"PCT\": 13, \"Chg2021\": -50.0, \"CRIME\": \"Burglary                              \", \"household_median_income\": 132016.5}, {\"PCT\": 13, \"Chg2021\": -19.7, \"CRIME\": \"Grand Larceny                         \", \"household_median_income\": 132016.5}, {\"PCT\": 13, \"Chg2021\": -23.1, \"CRIME\": \"Vehicle Theft                                  \", \"household_median_income\": 132016.5}, {\"PCT\": 14, \"Chg2021\": 100.0, \"CRIME\": \"Murder                                \", \"household_median_income\": 95301.0}, {\"PCT\": 14, \"Chg2021\": -15.4, \"CRIME\": \"Rape                                  \", \"household_median_income\": 95301.0}, {\"PCT\": 14, \"Chg2021\": 181.6, \"CRIME\": \"Robbery                               \", \"household_median_income\": 95301.0}, {\"PCT\": 14, \"Chg2021\": 179.2, \"CRIME\": \"Felony Assault                        \", \"household_median_income\": 95301.0}, {\"PCT\": 14, \"Chg2021\": 17.4, \"CRIME\": \"Burglary                              \", \"household_median_income\": 95301.0}, {\"PCT\": 14, \"Chg2021\": 8.3, \"CRIME\": \"Grand Larceny                         \", \"household_median_income\": 95301.0}, {\"PCT\": 14, \"Chg2021\": 21.7, \"CRIME\": \"Vehicle Theft                                  \", \"household_median_income\": 95301.0}, {\"PCT\": 17, \"Chg2021\": 0.0, \"CRIME\": \"Murder                                \", \"household_median_income\": 132016.5}, {\"PCT\": 17, \"Chg2021\": -62.5, \"CRIME\": \"Rape                                  \", \"household_median_income\": 132016.5}, {\"PCT\": 17, \"Chg2021\": 17.2, \"CRIME\": \"Robbery                               \", \"household_median_income\": 132016.5}, {\"PCT\": 17, \"Chg2021\": 91.4, \"CRIME\": \"Felony Assault                        \", \"household_median_income\": 132016.5}, {\"PCT\": 17, \"Chg2021\": -31.6, \"CRIME\": \"Burglary                              \", \"household_median_income\": 132016.5}, {\"PCT\": 17, \"Chg2021\": -11.6, \"CRIME\": \"Grand Larceny                         \", \"household_median_income\": 132016.5}, {\"PCT\": 17, \"Chg2021\": 47.6, \"CRIME\": \"Vehicle Theft                                  \", \"household_median_income\": 132016.5}, {\"PCT\": 18, \"Chg2021\": 0.0, \"CRIME\": \"Murder                                \", \"household_median_income\": 99546.5}, {\"PCT\": 18, \"Chg2021\": 66.7, \"CRIME\": \"Rape                                  \", \"household_median_income\": 99546.5}, {\"PCT\": 18, \"Chg2021\": -2.8, \"CRIME\": \"Robbery                               \", \"household_median_income\": 99546.5}, {\"PCT\": 18, \"Chg2021\": 31.3, \"CRIME\": \"Felony Assault                        \", \"household_median_income\": 99546.5}, {\"PCT\": 18, \"Chg2021\": -24.2, \"CRIME\": \"Burglary                              \", \"household_median_income\": 99546.5}, {\"PCT\": 18, \"Chg2021\": -6.6, \"CRIME\": \"Grand Larceny                         \", \"household_median_income\": 99546.5}, {\"PCT\": 18, \"Chg2021\": -10.8, \"CRIME\": \"Vehicle Theft                                  \", \"household_median_income\": 99546.5}, {\"PCT\": 19, \"Chg2021\": 0.0, \"CRIME\": \"Murder                                \", \"household_median_income\": 122569.0}, {\"PCT\": 19, \"Chg2021\": 16.7, \"CRIME\": \"Rape                                  \", \"household_median_income\": 122569.0}, {\"PCT\": 19, \"Chg2021\": -21.1, \"CRIME\": \"Robbery                               \", \"household_median_income\": 122569.0}, {\"PCT\": 19, \"Chg2021\": 5.6, \"CRIME\": \"Felony Assault                        \", \"household_median_income\": 122569.0}, {\"PCT\": 19, \"Chg2021\": -44.6, \"CRIME\": \"Burglary                              \", \"household_median_income\": 122569.0}, {\"PCT\": 19, \"Chg2021\": -14.0, \"CRIME\": \"Grand Larceny                         \", \"household_median_income\": 122569.0}, {\"PCT\": 19, \"Chg2021\": 109.3, \"CRIME\": \"Vehicle Theft                                  \", \"household_median_income\": 122569.0}, {\"PCT\": 20, \"Chg2021\": 0.0, \"CRIME\": \"Murder                                \", \"household_median_income\": 132605.0}, {\"PCT\": 20, \"Chg2021\": 66.7, \"CRIME\": \"Rape                                  \", \"household_median_income\": 132605.0}, {\"PCT\": 20, \"Chg2021\": 34.9, \"CRIME\": \"Robbery                               \", \"household_median_income\": 132605.0}, {\"PCT\": 20, \"Chg2021\": 17.2, \"CRIME\": \"Felony Assault                        \", \"household_median_income\": 132605.0}, {\"PCT\": 20, \"Chg2021\": -36.8, \"CRIME\": \"Burglary                              \", \"household_median_income\": 132605.0}, {\"PCT\": 20, \"Chg2021\": 33.1, \"CRIME\": \"Grand Larceny                         \", \"household_median_income\": 132605.0}, {\"PCT\": 20, \"Chg2021\": 430.0, \"CRIME\": \"Vehicle Theft                                  \", \"household_median_income\": 132605.0}, {\"PCT\": 23, \"Chg2021\": -42.9, \"CRIME\": \"Murder                                \", \"household_median_income\": 31759.5}, {\"PCT\": 23, \"Chg2021\": 40.0, \"CRIME\": \"Rape                                  \", \"household_median_income\": 31759.5}, {\"PCT\": 23, \"Chg2021\": 14.3, \"CRIME\": \"Robbery                               \", \"household_median_income\": 31759.5}, {\"PCT\": 23, \"Chg2021\": 11.9, \"CRIME\": \"Felony Assault                        \", \"household_median_income\": 31759.5}, {\"PCT\": 23, \"Chg2021\": -42.6, \"CRIME\": \"Burglary                              \", \"household_median_income\": 31759.5}, {\"PCT\": 23, \"Chg2021\": 4.7, \"CRIME\": \"Grand Larceny                         \", \"household_median_income\": 31759.5}, {\"PCT\": 23, \"Chg2021\": 6.5, \"CRIME\": \"Vehicle Theft                                  \", \"household_median_income\": 31759.5}, {\"PCT\": 24, \"Chg2021\": -100.0, \"CRIME\": \"Murder                                \", \"household_median_income\": 132605.0}, {\"PCT\": 24, \"Chg2021\": 100.0, \"CRIME\": \"Rape                                  \", \"household_median_income\": 132605.0}, {\"PCT\": 24, \"Chg2021\": 1.2, \"CRIME\": \"Robbery                               \", \"household_median_income\": 132605.0}, {\"PCT\": 24, \"Chg2021\": -3.2, \"CRIME\": \"Felony Assault                        \", \"household_median_income\": 132605.0}, {\"PCT\": 24, \"Chg2021\": -36.6, \"CRIME\": \"Burglary                              \", \"household_median_income\": 132605.0}, {\"PCT\": 24, \"Chg2021\": 29.6, \"CRIME\": \"Grand Larceny                         \", \"household_median_income\": 132605.0}, {\"PCT\": 24, \"Chg2021\": 60.0, \"CRIME\": \"Vehicle Theft                                  \", \"household_median_income\": 132605.0}, {\"PCT\": 25, \"Chg2021\": -25.0, \"CRIME\": \"Murder                                \", \"household_median_income\": 31759.5}, {\"PCT\": 25, \"Chg2021\": -25.0, \"CRIME\": \"Rape                                  \", \"household_median_income\": 31759.5}, {\"PCT\": 25, \"Chg2021\": -9.2, \"CRIME\": \"Robbery                               \", \"household_median_income\": 31759.5}, {\"PCT\": 25, \"Chg2021\": 15.2, \"CRIME\": \"Felony Assault                        \", \"household_median_income\": 31759.5}, {\"PCT\": 25, \"Chg2021\": -46.9, \"CRIME\": \"Burglary                              \", \"household_median_income\": 31759.5}, {\"PCT\": 25, \"Chg2021\": -19.2, \"CRIME\": \"Grand Larceny                         \", \"household_median_income\": 31759.5}, {\"PCT\": 25, \"Chg2021\": 110.0, \"CRIME\": \"Vehicle Theft                                  \", \"household_median_income\": 31759.5}, {\"PCT\": 26, \"Chg2021\": 0.0, \"CRIME\": \"Murder                                \", \"household_median_income\": 46263.0}, {\"PCT\": 26, \"Chg2021\": -33.3, \"CRIME\": \"Rape                                  \", \"household_median_income\": 46263.0}, {\"PCT\": 26, \"Chg2021\": -24.0, \"CRIME\": \"Robbery                               \", \"household_median_income\": 46263.0}, {\"PCT\": 26, \"Chg2021\": 22.4, \"CRIME\": \"Felony Assault                        \", \"household_median_income\": 46263.0}, {\"PCT\": 26, \"Chg2021\": -51.5, \"CRIME\": \"Burglary                              \", \"household_median_income\": 46263.0}, {\"PCT\": 26, \"Chg2021\": 7.6, \"CRIME\": \"Grand Larceny                         \", \"household_median_income\": 46263.0}, {\"PCT\": 26, \"Chg2021\": 58.3, \"CRIME\": \"Vehicle Theft                                  \", \"household_median_income\": 46263.0}, {\"PCT\": 28, \"Chg2021\": -50.0, \"CRIME\": \"Murder                                \", \"household_median_income\": 46263.0}, {\"PCT\": 28, \"Chg2021\": -37.5, \"CRIME\": \"Rape                                  \", \"household_median_income\": 46263.0}, {\"PCT\": 28, \"Chg2021\": 20.5, \"CRIME\": \"Robbery                               \", \"household_median_income\": 46263.0}, {\"PCT\": 28, \"Chg2021\": 21.6, \"CRIME\": \"Felony Assault                        \", \"household_median_income\": 46263.0}, {\"PCT\": 28, \"Chg2021\": -4.5, \"CRIME\": \"Burglary                              \", \"household_median_income\": 46263.0}, {\"PCT\": 28, \"Chg2021\": 21.3, \"CRIME\": \"Grand Larceny                         \", \"household_median_income\": 46263.0}, {\"PCT\": 28, \"Chg2021\": 33.3, \"CRIME\": \"Vehicle Theft                                  \", \"household_median_income\": 46263.0}, {\"PCT\": 30, \"Chg2021\": -75.0, \"CRIME\": \"Murder                                \", \"household_median_income\": 53660.0}, {\"PCT\": 30, \"Chg2021\": -71.4, \"CRIME\": \"Rape                                  \", \"household_median_income\": 53660.0}, {\"PCT\": 30, \"Chg2021\": -27.7, \"CRIME\": \"Robbery                               \", \"household_median_income\": 53660.0}, {\"PCT\": 30, \"Chg2021\": 6.8, \"CRIME\": \"Felony Assault                        \", \"household_median_income\": 53660.0}, {\"PCT\": 30, \"Chg2021\": 32.8, \"CRIME\": \"Burglary                              \", \"household_median_income\": 53660.0}, {\"PCT\": 30, \"Chg2021\": 20.5, \"CRIME\": \"Grand Larceny                         \", \"household_median_income\": 53660.0}, {\"PCT\": 30, \"Chg2021\": -6.5, \"CRIME\": \"Vehicle Theft                                  \", \"household_median_income\": 53660.0}, {\"PCT\": 32, \"Chg2021\": 166.7, \"CRIME\": \"Murder                                \", \"household_median_income\": 46263.0}, {\"PCT\": 32, \"Chg2021\": 9.1, \"CRIME\": \"Rape                                  \", \"household_median_income\": 46263.0}, {\"PCT\": 32, \"Chg2021\": -20.6, \"CRIME\": \"Robbery                               \", \"household_median_income\": 46263.0}, {\"PCT\": 32, \"Chg2021\": 27.9, \"CRIME\": \"Felony Assault                        \", \"household_median_income\": 46263.0}, {\"PCT\": 32, \"Chg2021\": 60.7, \"CRIME\": \"Burglary                              \", \"household_median_income\": 46263.0}, {\"PCT\": 32, \"Chg2021\": -1.1, \"CRIME\": \"Grand Larceny                         \", \"household_median_income\": 46263.0}, {\"PCT\": 32, \"Chg2021\": -3.3, \"CRIME\": \"Vehicle Theft                                  \", \"household_median_income\": 46263.0}, {\"PCT\": 33, \"Chg2021\": 100.0, \"CRIME\": \"Murder                                \", \"household_median_income\": 53660.0}, {\"PCT\": 33, \"Chg2021\": -14.3, \"CRIME\": \"Rape                                  \", \"household_median_income\": 53660.0}, {\"PCT\": 33, \"Chg2021\": 33.0, \"CRIME\": \"Robbery                               \", \"household_median_income\": 53660.0}, {\"PCT\": 33, \"Chg2021\": 45.0, \"CRIME\": \"Felony Assault                        \", \"household_median_income\": 53660.0}, {\"PCT\": 33, \"Chg2021\": -33.1, \"CRIME\": \"Burglary                              \", \"household_median_income\": 53660.0}, {\"PCT\": 33, \"Chg2021\": 31.1, \"CRIME\": \"Grand Larceny                         \", \"household_median_income\": 53660.0}, {\"PCT\": 33, \"Chg2021\": -2.7, \"CRIME\": \"Vehicle Theft                                  \", \"household_median_income\": 53660.0}, {\"PCT\": 34, \"Chg2021\": 166.7, \"CRIME\": \"Murder                                \", \"household_median_income\": 53660.0}, {\"PCT\": 34, \"Chg2021\": 0.0, \"CRIME\": \"Rape                                  \", \"household_median_income\": 53660.0}, {\"PCT\": 34, \"Chg2021\": 24.2, \"CRIME\": \"Robbery                               \", \"household_median_income\": 53660.0}, {\"PCT\": 34, \"Chg2021\": 15.4, \"CRIME\": \"Felony Assault                        \", \"household_median_income\": 53660.0}, {\"PCT\": 34, \"Chg2021\": -45.2, \"CRIME\": \"Burglary                              \", \"household_median_income\": 53660.0}, {\"PCT\": 34, \"Chg2021\": 43.6, \"CRIME\": \"Grand Larceny                         \", \"household_median_income\": 53660.0}, {\"PCT\": 34, \"Chg2021\": 66.2, \"CRIME\": \"Vehicle Theft                                  \", \"household_median_income\": 53660.0}, {\"PCT\": 40, \"Chg2021\": 0.0, \"CRIME\": \"Murder                                \", \"household_median_income\": 25775.0}, {\"PCT\": 40, \"Chg2021\": -15.8, \"CRIME\": \"Rape                                  \", \"household_median_income\": 25775.0}, {\"PCT\": 40, \"Chg2021\": -9.0, \"CRIME\": \"Robbery                               \", \"household_median_income\": 25775.0}, {\"PCT\": 40, \"Chg2021\": -12.2, \"CRIME\": \"Felony Assault                        \", \"household_median_income\": 25775.0}, {\"PCT\": 40, \"Chg2021\": -44.1, \"CRIME\": \"Burglary                              \", \"household_median_income\": 25775.0}, {\"PCT\": 40, \"Chg2021\": 15.5, \"CRIME\": \"Grand Larceny                         \", \"household_median_income\": 25775.0}, {\"PCT\": 40, \"Chg2021\": 26.2, \"CRIME\": \"Vehicle Theft                                  \", \"household_median_income\": 25775.0}, {\"PCT\": 41, \"Chg2021\": 250.0, \"CRIME\": \"Murder                                \", \"household_median_income\": 25775.0}, {\"PCT\": 41, \"Chg2021\": 0.0, \"CRIME\": \"Rape                                  \", \"household_median_income\": 25775.0}, {\"PCT\": 41, \"Chg2021\": -15.4, \"CRIME\": \"Robbery                               \", \"household_median_income\": 25775.0}, {\"PCT\": 41, \"Chg2021\": 11.2, \"CRIME\": \"Felony Assault                        \", \"household_median_income\": 25775.0}, {\"PCT\": 41, \"Chg2021\": -35.4, \"CRIME\": \"Burglary                              \", \"household_median_income\": 25775.0}, {\"PCT\": 41, \"Chg2021\": 11.6, \"CRIME\": \"Grand Larceny                         \", \"household_median_income\": 25775.0}, {\"PCT\": 41, \"Chg2021\": 48.1, \"CRIME\": \"Vehicle Theft                                  \", \"household_median_income\": 25775.0}, {\"PCT\": 42, \"Chg2021\": 160.0, \"CRIME\": \"Murder                                \", \"household_median_income\": 29136.0}, {\"PCT\": 42, \"Chg2021\": 11.8, \"CRIME\": \"Rape                                  \", \"household_median_income\": 29136.0}, {\"PCT\": 42, \"Chg2021\": 0.5, \"CRIME\": \"Robbery                               \", \"household_median_income\": 29136.0}, {\"PCT\": 42, \"Chg2021\": 14.7, \"CRIME\": \"Felony Assault                        \", \"household_median_income\": 29136.0}, {\"PCT\": 42, \"Chg2021\": -24.8, \"CRIME\": \"Burglary                              \", \"household_median_income\": 29136.0}, {\"PCT\": 42, \"Chg2021\": 8.8, \"CRIME\": \"Grand Larceny                         \", \"household_median_income\": 29136.0}, {\"PCT\": 42, \"Chg2021\": 72.9, \"CRIME\": \"Vehicle Theft                                  \", \"household_median_income\": 29136.0}, {\"PCT\": 43, \"Chg2021\": 66.7, \"CRIME\": \"Murder                                \", \"household_median_income\": 37503.0}, {\"PCT\": 43, \"Chg2021\": 15.8, \"CRIME\": \"Rape                                  \", \"household_median_income\": 37503.0}, {\"PCT\": 43, \"Chg2021\": 12.1, \"CRIME\": \"Robbery                               \", \"household_median_income\": 37503.0}, {\"PCT\": 43, \"Chg2021\": -2.1, \"CRIME\": \"Felony Assault                        \", \"household_median_income\": 37503.0}, {\"PCT\": 43, \"Chg2021\": 1.5, \"CRIME\": \"Burglary                              \", \"household_median_income\": 37503.0}, {\"PCT\": 43, \"Chg2021\": 10.3, \"CRIME\": \"Grand Larceny                         \", \"household_median_income\": 37503.0}, {\"PCT\": 43, \"Chg2021\": 101.0, \"CRIME\": \"Vehicle Theft                                  \", \"household_median_income\": 37503.0}, {\"PCT\": 44, \"Chg2021\": 0.0, \"CRIME\": \"Murder                                \", \"household_median_income\": 29579.0}, {\"PCT\": 44, \"Chg2021\": -21.1, \"CRIME\": \"Rape                                  \", \"household_median_income\": 29579.0}, {\"PCT\": 44, \"Chg2021\": 19.2, \"CRIME\": \"Robbery                               \", \"household_median_income\": 29579.0}, {\"PCT\": 44, \"Chg2021\": 9.1, \"CRIME\": \"Felony Assault                        \", \"household_median_income\": 29579.0}, {\"PCT\": 44, \"Chg2021\": -2.6, \"CRIME\": \"Burglary                              \", \"household_median_income\": 29579.0}, {\"PCT\": 44, \"Chg2021\": 25.3, \"CRIME\": \"Grand Larceny                         \", \"household_median_income\": 29579.0}, {\"PCT\": 44, \"Chg2021\": 2.4, \"CRIME\": \"Vehicle Theft                                  \", \"household_median_income\": 29579.0}, {\"PCT\": 45, \"Chg2021\": 100.0, \"CRIME\": \"Murder                                \", \"household_median_income\": 56291.5}, {\"PCT\": 45, \"Chg2021\": 0.0, \"CRIME\": \"Rape                                  \", \"household_median_income\": 56291.5}, {\"PCT\": 45, \"Chg2021\": 78.9, \"CRIME\": \"Robbery                               \", \"household_median_income\": 56291.5}, {\"PCT\": 45, \"Chg2021\": -13.0, \"CRIME\": \"Felony Assault                        \", \"household_median_income\": 56291.5}, {\"PCT\": 45, \"Chg2021\": -17.4, \"CRIME\": \"Burglary                              \", \"household_median_income\": 56291.5}, {\"PCT\": 45, \"Chg2021\": 2.4, \"CRIME\": \"Grand Larceny                         \", \"household_median_income\": 56291.5}, {\"PCT\": 45, \"Chg2021\": 74.1, \"CRIME\": \"Vehicle Theft                                  \", \"household_median_income\": 56291.5}, {\"PCT\": 46, \"Chg2021\": 133.3, \"CRIME\": \"Murder                                \", \"household_median_income\": 37804.0}, {\"PCT\": 46, \"Chg2021\": 10.0, \"CRIME\": \"Rape                                  \", \"household_median_income\": 37804.0}, {\"PCT\": 46, \"Chg2021\": 7.4, \"CRIME\": \"Robbery                               \", \"household_median_income\": 37804.0}, {\"PCT\": 46, \"Chg2021\": -7.2, \"CRIME\": \"Felony Assault                        \", \"household_median_income\": 37804.0}, {\"PCT\": 46, \"Chg2021\": -57.9, \"CRIME\": \"Burglary                              \", \"household_median_income\": 37804.0}, {\"PCT\": 46, \"Chg2021\": 9.2, \"CRIME\": \"Grand Larceny                         \", \"household_median_income\": 37804.0}, {\"PCT\": 46, \"Chg2021\": 15.9, \"CRIME\": \"Vehicle Theft                                  \", \"household_median_income\": 37804.0}, {\"PCT\": 47, \"Chg2021\": -37.5, \"CRIME\": \"Murder                                \", \"household_median_income\": 58393.0}, {\"PCT\": 47, \"Chg2021\": 0.0, \"CRIME\": \"Rape                                  \", \"household_median_income\": 58393.0}, {\"PCT\": 47, \"Chg2021\": 23.8, \"CRIME\": \"Robbery                               \", \"household_median_income\": 58393.0}, {\"PCT\": 47, \"Chg2021\": 10.0, \"CRIME\": \"Felony Assault                        \", \"household_median_income\": 58393.0}, {\"PCT\": 47, \"Chg2021\": 8.0, \"CRIME\": \"Burglary                              \", \"household_median_income\": 58393.0}, {\"PCT\": 47, \"Chg2021\": 6.8, \"CRIME\": \"Grand Larceny                         \", \"household_median_income\": 58393.0}, {\"PCT\": 47, \"Chg2021\": 144.5, \"CRIME\": \"Vehicle Theft                                  \", \"household_median_income\": 58393.0}, {\"PCT\": 48, \"Chg2021\": 12.5, \"CRIME\": \"Murder                                \", \"household_median_income\": 29136.0}, {\"PCT\": 48, \"Chg2021\": 31.2, \"CRIME\": \"Rape                                  \", \"household_median_income\": 29136.0}, {\"PCT\": 48, \"Chg2021\": 11.2, \"CRIME\": \"Robbery                               \", \"household_median_income\": 29136.0}, {\"PCT\": 48, \"Chg2021\": 9.6, \"CRIME\": \"Felony Assault                        \", \"household_median_income\": 29136.0}, {\"PCT\": 48, \"Chg2021\": -20.8, \"CRIME\": \"Burglary                              \", \"household_median_income\": 29136.0}, {\"PCT\": 48, \"Chg2021\": 26.0, \"CRIME\": \"Grand Larceny                         \", \"household_median_income\": 29136.0}, {\"PCT\": 48, \"Chg2021\": 60.7, \"CRIME\": \"Vehicle Theft                                  \", \"household_median_income\": 29136.0}, {\"PCT\": 49, \"Chg2021\": -50.0, \"CRIME\": \"Murder                                \", \"household_median_income\": 59829.5}, {\"PCT\": 49, \"Chg2021\": 40.0, \"CRIME\": \"Rape                                  \", \"household_median_income\": 59829.5}, {\"PCT\": 49, \"Chg2021\": 56.2, \"CRIME\": \"Robbery                               \", \"household_median_income\": 59829.5}, {\"PCT\": 49, \"Chg2021\": 16.2, \"CRIME\": \"Felony Assault                        \", \"household_median_income\": 59829.5}, {\"PCT\": 49, \"Chg2021\": -12.6, \"CRIME\": \"Burglary                              \", \"household_median_income\": 59829.5}, {\"PCT\": 49, \"Chg2021\": 11.2, \"CRIME\": \"Grand Larceny                         \", \"household_median_income\": 59829.5}, {\"PCT\": 49, \"Chg2021\": 35.4, \"CRIME\": \"Vehicle Theft                                  \", \"household_median_income\": 59829.5}, {\"PCT\": 50, \"Chg2021\": -200.0, \"CRIME\": \"Murder                                \", \"household_median_income\": 73565.0}, {\"PCT\": 50, \"Chg2021\": 37.5, \"CRIME\": \"Rape                                  \", \"household_median_income\": 73565.0}, {\"PCT\": 50, \"Chg2021\": 25.0, \"CRIME\": \"Robbery                               \", \"household_median_income\": 73565.0}, {\"PCT\": 50, \"Chg2021\": -14.6, \"CRIME\": \"Felony Assault                        \", \"household_median_income\": 73565.0}, {\"PCT\": 50, \"Chg2021\": -25.7, \"CRIME\": \"Burglary                              \", \"household_median_income\": 73565.0}, {\"PCT\": 50, \"Chg2021\": 3.0, \"CRIME\": \"Grand Larceny                         \", \"household_median_income\": 73565.0}, {\"PCT\": 50, \"Chg2021\": -25.0, \"CRIME\": \"Vehicle Theft                                  \", \"household_median_income\": 73565.0}, {\"PCT\": 52, \"Chg2021\": -33.3, \"CRIME\": \"Murder                                \", \"household_median_income\": 37804.0}, {\"PCT\": 52, \"Chg2021\": 33.3, \"CRIME\": \"Rape                                  \", \"household_median_income\": 37804.0}, {\"PCT\": 52, \"Chg2021\": 5.8, \"CRIME\": \"Robbery                               \", \"household_median_income\": 37804.0}, {\"PCT\": 52, \"Chg2021\": -0.7, \"CRIME\": \"Felony Assault                        \", \"household_median_income\": 37804.0}, {\"PCT\": 52, \"Chg2021\": -32.2, \"CRIME\": \"Burglary                              \", \"household_median_income\": 37804.0}, {\"PCT\": 52, \"Chg2021\": 19.7, \"CRIME\": \"Grand Larceny                         \", \"household_median_income\": 37804.0}, {\"PCT\": 52, \"Chg2021\": 41.0, \"CRIME\": \"Vehicle Theft                                  \", \"household_median_income\": 37804.0}, {\"PCT\": 60, \"Chg2021\": -20.0, \"CRIME\": \"Murder                                \", \"household_median_income\": 54334.5}, {\"PCT\": 60, \"Chg2021\": -44.4, \"CRIME\": \"Rape                                  \", \"household_median_income\": 54334.5}, {\"PCT\": 60, \"Chg2021\": -24.7, \"CRIME\": \"Robbery                               \", \"household_median_income\": 54334.5}, {\"PCT\": 60, \"Chg2021\": 61.4, \"CRIME\": \"Felony Assault                        \", \"household_median_income\": 54334.5}, {\"PCT\": 60, \"Chg2021\": -16.3, \"CRIME\": \"Burglary                              \", \"household_median_income\": 54334.5}, {\"PCT\": 60, \"Chg2021\": 6.7, \"CRIME\": \"Grand Larceny                         \", \"household_median_income\": 54334.5}, {\"PCT\": 60, \"Chg2021\": -2.9, \"CRIME\": \"Vehicle Theft                                  \", \"household_median_income\": 54334.5}, {\"PCT\": 61, \"Chg2021\": -100.0, \"CRIME\": \"Murder                                \", \"household_median_income\": 54334.5}, {\"PCT\": 61, \"Chg2021\": -44.4, \"CRIME\": \"Rape                                  \", \"household_median_income\": 54334.5}, {\"PCT\": 61, \"Chg2021\": -35.6, \"CRIME\": \"Robbery                               \", \"household_median_income\": 54334.5}, {\"PCT\": 61, \"Chg2021\": -9.5, \"CRIME\": \"Felony Assault                        \", \"household_median_income\": 54334.5}, {\"PCT\": 61, \"Chg2021\": -10.4, \"CRIME\": \"Burglary                              \", \"household_median_income\": 54334.5}, {\"PCT\": 61, \"Chg2021\": -23.3, \"CRIME\": \"Grand Larceny                         \", \"household_median_income\": 54334.5}, {\"PCT\": 61, \"Chg2021\": -43.4, \"CRIME\": \"Vehicle Theft                                  \", \"household_median_income\": 54334.5}, {\"PCT\": 62, \"Chg2021\": 0.0, \"CRIME\": \"Murder                                \", \"household_median_income\": 72902.0}, {\"PCT\": 62, \"Chg2021\": -30.0, \"CRIME\": \"Rape                                  \", \"household_median_income\": 72902.0}, {\"PCT\": 62, \"Chg2021\": 11.1, \"CRIME\": \"Robbery                               \", \"household_median_income\": 72902.0}, {\"PCT\": 62, \"Chg2021\": 41.3, \"CRIME\": \"Felony Assault                        \", \"household_median_income\": 72902.0}, {\"PCT\": 62, \"Chg2021\": 7.8, \"CRIME\": \"Burglary                              \", \"household_median_income\": 72902.0}, {\"PCT\": 62, \"Chg2021\": 29.7, \"CRIME\": \"Grand Larceny                         \", \"household_median_income\": 72902.0}, {\"PCT\": 62, \"Chg2021\": -7.5, \"CRIME\": \"Vehicle Theft                                  \", \"household_median_income\": 72902.0}, {\"PCT\": 63, \"Chg2021\": 0.0, \"CRIME\": \"Murder                                \", \"household_median_income\": 70793.0}, {\"PCT\": 63, \"Chg2021\": 40.0, \"CRIME\": \"Rape                                  \", \"household_median_income\": 70793.0}, {\"PCT\": 63, \"Chg2021\": -43.3, \"CRIME\": \"Robbery                               \", \"household_median_income\": 70793.0}, {\"PCT\": 63, \"Chg2021\": 4.5, \"CRIME\": \"Felony Assault                        \", \"household_median_income\": 70793.0}, {\"PCT\": 63, \"Chg2021\": 0.0, \"CRIME\": \"Burglary                              \", \"household_median_income\": 70793.0}, {\"PCT\": 63, \"Chg2021\": -10.2, \"CRIME\": \"Grand Larceny                         \", \"household_median_income\": 70793.0}, {\"PCT\": 63, \"Chg2021\": -19.7, \"CRIME\": \"Vehicle Theft                                  \", \"household_median_income\": 70793.0}, {\"PCT\": 66, \"Chg2021\": -50.0, \"CRIME\": \"Murder                                \", \"household_median_income\": 53081.5}, {\"PCT\": 66, \"Chg2021\": -58.3, \"CRIME\": \"Rape                                  \", \"household_median_income\": 53081.5}, {\"PCT\": 66, \"Chg2021\": -46.6, \"CRIME\": \"Robbery                               \", \"household_median_income\": 53081.5}, {\"PCT\": 66, \"Chg2021\": -4.7, \"CRIME\": \"Felony Assault                        \", \"household_median_income\": 53081.5}, {\"PCT\": 66, \"Chg2021\": -23.3, \"CRIME\": \"Burglary                              \", \"household_median_income\": 53081.5}, {\"PCT\": 66, \"Chg2021\": 17.9, \"CRIME\": \"Grand Larceny                         \", \"household_median_income\": 53081.5}, {\"PCT\": 66, \"Chg2021\": -29.0, \"CRIME\": \"Vehicle Theft                                  \", \"household_median_income\": 53081.5}, {\"PCT\": 67, \"Chg2021\": -12.5, \"CRIME\": \"Murder                                \", \"household_median_income\": 59038.5}, {\"PCT\": 67, \"Chg2021\": 6.2, \"CRIME\": \"Rape                                  \", \"household_median_income\": 59038.5}, {\"PCT\": 67, \"Chg2021\": -14.0, \"CRIME\": \"Robbery                               \", \"household_median_income\": 59038.5}, {\"PCT\": 67, \"Chg2021\": 21.2, \"CRIME\": \"Felony Assault                        \", \"household_median_income\": 59038.5}, {\"PCT\": 67, \"Chg2021\": -30.3, \"CRIME\": \"Burglary                              \", \"household_median_income\": 59038.5}, {\"PCT\": 67, \"Chg2021\": -3.0, \"CRIME\": \"Grand Larceny                         \", \"household_median_income\": 59038.5}, {\"PCT\": 67, \"Chg2021\": 21.9, \"CRIME\": \"Vehicle Theft                                  \", \"household_median_income\": 59038.5}, {\"PCT\": 68, \"Chg2021\": -100.0, \"CRIME\": \"Murder                                \", \"household_median_income\": 64906.5}, {\"PCT\": 68, \"Chg2021\": -46.2, \"CRIME\": \"Rape                                  \", \"household_median_income\": 64906.5}, {\"PCT\": 68, \"Chg2021\": -17.6, \"CRIME\": \"Robbery                               \", \"household_median_income\": 64906.5}, {\"PCT\": 68, \"Chg2021\": -25.0, \"CRIME\": \"Felony Assault                        \", \"household_median_income\": 64906.5}, {\"PCT\": 68, \"Chg2021\": -19.0, \"CRIME\": \"Burglary                              \", \"household_median_income\": 64906.5}, {\"PCT\": 68, \"Chg2021\": 14.5, \"CRIME\": \"Grand Larceny                         \", \"household_median_income\": 64906.5}, {\"PCT\": 68, \"Chg2021\": -43.1, \"CRIME\": \"Vehicle Theft                                  \", \"household_median_income\": 64906.5}, {\"PCT\": 69, \"Chg2021\": 500.0, \"CRIME\": \"Murder                                \", \"household_median_income\": 70793.0}, {\"PCT\": 69, \"Chg2021\": -40.0, \"CRIME\": \"Rape                                  \", \"household_median_income\": 70793.0}, {\"PCT\": 69, \"Chg2021\": -48.0, \"CRIME\": \"Robbery                               \", \"household_median_income\": 70793.0}, {\"PCT\": 69, \"Chg2021\": -2.8, \"CRIME\": \"Felony Assault                        \", \"household_median_income\": 70793.0}, {\"PCT\": 69, \"Chg2021\": -36.2, \"CRIME\": \"Burglary                              \", \"household_median_income\": 70793.0}, {\"PCT\": 69, \"Chg2021\": -47.4, \"CRIME\": \"Grand Larceny                         \", \"household_median_income\": 70793.0}, {\"PCT\": 69, \"Chg2021\": 3.8, \"CRIME\": \"Vehicle Theft                                  \", \"household_median_income\": 70793.0}, {\"PCT\": 70, \"Chg2021\": 50.0, \"CRIME\": \"Murder                                \", \"household_median_income\": 59038.5}, {\"PCT\": 70, \"Chg2021\": -23.5, \"CRIME\": \"Rape                                  \", \"household_median_income\": 59038.5}, {\"PCT\": 70, \"Chg2021\": -6.5, \"CRIME\": \"Robbery                               \", \"household_median_income\": 59038.5}, {\"PCT\": 70, \"Chg2021\": -9.4, \"CRIME\": \"Felony Assault                        \", \"household_median_income\": 59038.5}, {\"PCT\": 70, \"Chg2021\": -22.7, \"CRIME\": \"Burglary                              \", \"household_median_income\": 59038.5}, {\"PCT\": 70, \"Chg2021\": -0.8, \"CRIME\": \"Grand Larceny                         \", \"household_median_income\": 59038.5}, {\"PCT\": 70, \"Chg2021\": -6.2, \"CRIME\": \"Vehicle Theft                                  \", \"household_median_income\": 59038.5}, {\"PCT\": 71, \"Chg2021\": -50.0, \"CRIME\": \"Murder                                \", \"household_median_income\": 44905.0}, {\"PCT\": 71, \"Chg2021\": -6.7, \"CRIME\": \"Rape                                  \", \"household_median_income\": 44905.0}, {\"PCT\": 71, \"Chg2021\": -11.8, \"CRIME\": \"Robbery                               \", \"household_median_income\": 44905.0}, {\"PCT\": 71, \"Chg2021\": -1.1, \"CRIME\": \"Felony Assault                        \", \"household_median_income\": 44905.0}, {\"PCT\": 71, \"Chg2021\": -30.9, \"CRIME\": \"Burglary                              \", \"household_median_income\": 44905.0}, {\"PCT\": 71, \"Chg2021\": -13.6, \"CRIME\": \"Grand Larceny                         \", \"household_median_income\": 44905.0}, {\"PCT\": 71, \"Chg2021\": 25.0, \"CRIME\": \"Vehicle Theft                                  \", \"household_median_income\": 44905.0}, {\"PCT\": 72, \"Chg2021\": 100.0, \"CRIME\": \"Murder                                \", \"household_median_income\": 55695.5}, {\"PCT\": 72, \"Chg2021\": 54.5, \"CRIME\": \"Rape                                  \", \"household_median_income\": 55695.5}, {\"PCT\": 72, \"Chg2021\": -1.0, \"CRIME\": \"Robbery                               \", \"household_median_income\": 55695.5}, {\"PCT\": 72, \"Chg2021\": -5.3, \"CRIME\": \"Felony Assault                        \", \"household_median_income\": 55695.5}, {\"PCT\": 72, \"Chg2021\": -20.2, \"CRIME\": \"Burglary                              \", \"household_median_income\": 55695.5}, {\"PCT\": 72, \"Chg2021\": 8.5, \"CRIME\": \"Grand Larceny                         \", \"household_median_income\": 55695.5}, {\"PCT\": 72, \"Chg2021\": -18.9, \"CRIME\": \"Vehicle Theft                                  \", \"household_median_income\": 55695.5}, {\"PCT\": 73, \"Chg2021\": -43.8, \"CRIME\": \"Murder                                \", \"household_median_income\": 35713.0}, {\"PCT\": 73, \"Chg2021\": 27.8, \"CRIME\": \"Rape                                  \", \"household_median_income\": 35713.0}, {\"PCT\": 73, \"Chg2021\": -12.2, \"CRIME\": \"Robbery                               \", \"household_median_income\": 35713.0}, {\"PCT\": 73, \"Chg2021\": 9.6, \"CRIME\": \"Felony Assault                        \", \"household_median_income\": 35713.0}, {\"PCT\": 73, \"Chg2021\": -20.9, \"CRIME\": \"Burglary                              \", \"household_median_income\": 35713.0}, {\"PCT\": 73, \"Chg2021\": 5.8, \"CRIME\": \"Grand Larceny                         \", \"household_median_income\": 35713.0}, {\"PCT\": 73, \"Chg2021\": 47.2, \"CRIME\": \"Vehicle Theft                                  \", \"household_median_income\": 35713.0}, {\"PCT\": 75, \"Chg2021\": -52.4, \"CRIME\": \"Murder                                \", \"household_median_income\": 40892.5}, {\"PCT\": 75, \"Chg2021\": -11.1, \"CRIME\": \"Rape                                  \", \"household_median_income\": 40892.5}, {\"PCT\": 75, \"Chg2021\": -7.5, \"CRIME\": \"Robbery                               \", \"household_median_income\": 40892.5}, {\"PCT\": 75, \"Chg2021\": -0.8, \"CRIME\": \"Felony Assault                        \", \"household_median_income\": 40892.5}, {\"PCT\": 75, \"Chg2021\": -7.2, \"CRIME\": \"Burglary                              \", \"household_median_income\": 40892.5}, {\"PCT\": 75, \"Chg2021\": 3.3, \"CRIME\": \"Grand Larceny                         \", \"household_median_income\": 40892.5}, {\"PCT\": 75, \"Chg2021\": 49.8, \"CRIME\": \"Vehicle Theft                                  \", \"household_median_income\": 40892.5}, {\"PCT\": 76, \"Chg2021\": -50.0, \"CRIME\": \"Murder                                \", \"household_median_income\": 61200.0}, {\"PCT\": 76, \"Chg2021\": 0.0, \"CRIME\": \"Rape                                  \", \"household_median_income\": 61200.0}, {\"PCT\": 76, \"Chg2021\": -13.0, \"CRIME\": \"Robbery                               \", \"household_median_income\": 61200.0}, {\"PCT\": 76, \"Chg2021\": -16.7, \"CRIME\": \"Felony Assault                        \", \"household_median_income\": 61200.0}, {\"PCT\": 76, \"Chg2021\": -49.1, \"CRIME\": \"Burglary                              \", \"household_median_income\": 61200.0}, {\"PCT\": 76, \"Chg2021\": -26.7, \"CRIME\": \"Grand Larceny                         \", \"household_median_income\": 61200.0}, {\"PCT\": 76, \"Chg2021\": 55.6, \"CRIME\": \"Vehicle Theft                                  \", \"household_median_income\": 61200.0}, {\"PCT\": 77, \"Chg2021\": -50.0, \"CRIME\": \"Murder                                \", \"household_median_income\": 44905.0}, {\"PCT\": 77, \"Chg2021\": 25.0, \"CRIME\": \"Rape                                  \", \"household_median_income\": 44905.0}, {\"PCT\": 77, \"Chg2021\": -8.8, \"CRIME\": \"Robbery                               \", \"household_median_income\": 44905.0}, {\"PCT\": 77, \"Chg2021\": 9.6, \"CRIME\": \"Felony Assault                        \", \"household_median_income\": 44905.0}, {\"PCT\": 77, \"Chg2021\": -26.1, \"CRIME\": \"Burglary                              \", \"household_median_income\": 44905.0}, {\"PCT\": 77, \"Chg2021\": -13.7, \"CRIME\": \"Grand Larceny                         \", \"household_median_income\": 44905.0}, {\"PCT\": 77, \"Chg2021\": 8.2, \"CRIME\": \"Vehicle Theft                                  \", \"household_median_income\": 44905.0}, {\"PCT\": 78, \"Chg2021\": 0.0, \"CRIME\": \"Murder                                \", \"household_median_income\": 119375.0}, {\"PCT\": 78, \"Chg2021\": -28.6, \"CRIME\": \"Rape                                  \", \"household_median_income\": 119375.0}, {\"PCT\": 78, \"Chg2021\": -24.3, \"CRIME\": \"Robbery                               \", \"household_median_income\": 119375.0}, {\"PCT\": 78, \"Chg2021\": 21.3, \"CRIME\": \"Felony Assault                        \", \"household_median_income\": 119375.0}, {\"PCT\": 78, \"Chg2021\": 0.0, \"CRIME\": \"Burglary                              \", \"household_median_income\": 119375.0}, {\"PCT\": 78, \"Chg2021\": 20.7, \"CRIME\": \"Grand Larceny                         \", \"household_median_income\": 119375.0}, {\"PCT\": 78, \"Chg2021\": 9.7, \"CRIME\": \"Vehicle Theft                                  \", \"household_median_income\": 119375.0}, {\"PCT\": 79, \"Chg2021\": -20.0, \"CRIME\": \"Murder                                \", \"household_median_income\": 58872.0}, {\"PCT\": 79, \"Chg2021\": -66.7, \"CRIME\": \"Rape                                  \", \"household_median_income\": 58872.0}, {\"PCT\": 79, \"Chg2021\": 18.3, \"CRIME\": \"Robbery                               \", \"household_median_income\": 58872.0}, {\"PCT\": 79, \"Chg2021\": 13.4, \"CRIME\": \"Felony Assault                        \", \"household_median_income\": 58872.0}, {\"PCT\": 79, \"Chg2021\": -51.6, \"CRIME\": \"Burglary                              \", \"household_median_income\": 58872.0}, {\"PCT\": 79, \"Chg2021\": -10.8, \"CRIME\": \"Grand Larceny                         \", \"household_median_income\": 58872.0}, {\"PCT\": 79, \"Chg2021\": 12.5, \"CRIME\": \"Vehicle Theft                                  \", \"household_median_income\": 58872.0}, {\"PCT\": 81, \"Chg2021\": 700.0, \"CRIME\": \"Murder                                \", \"household_median_income\": 44905.0}, {\"PCT\": 81, \"Chg2021\": -57.1, \"CRIME\": \"Rape                                  \", \"household_median_income\": 44905.0}, {\"PCT\": 81, \"Chg2021\": -3.1, \"CRIME\": \"Robbery                               \", \"household_median_income\": 44905.0}, {\"PCT\": 81, \"Chg2021\": 17.2, \"CRIME\": \"Felony Assault                        \", \"household_median_income\": 44905.0}, {\"PCT\": 81, \"Chg2021\": -41.6, \"CRIME\": \"Burglary                              \", \"household_median_income\": 44905.0}, {\"PCT\": 81, \"Chg2021\": -2.9, \"CRIME\": \"Grand Larceny                         \", \"household_median_income\": 44905.0}, {\"PCT\": 81, \"Chg2021\": -5.1, \"CRIME\": \"Vehicle Theft                                  \", \"household_median_income\": 44905.0}, {\"PCT\": 83, \"Chg2021\": 66.7, \"CRIME\": \"Murder                                \", \"household_median_income\": 53303.0}, {\"PCT\": 83, \"Chg2021\": 66.7, \"CRIME\": \"Rape                                  \", \"household_median_income\": 53303.0}, {\"PCT\": 83, \"Chg2021\": -8.4, \"CRIME\": \"Robbery                               \", \"household_median_income\": 53303.0}, {\"PCT\": 83, \"Chg2021\": 1.6, \"CRIME\": \"Felony Assault                        \", \"household_median_income\": 53303.0}, {\"PCT\": 83, \"Chg2021\": -19.0, \"CRIME\": \"Burglary                              \", \"household_median_income\": 53303.0}, {\"PCT\": 83, \"Chg2021\": -5.1, \"CRIME\": \"Grand Larceny                         \", \"household_median_income\": 53303.0}, {\"PCT\": 83, \"Chg2021\": 5.8, \"CRIME\": \"Vehicle Theft                                  \", \"household_median_income\": 53303.0}, {\"PCT\": 84, \"Chg2021\": 0.0, \"CRIME\": \"Murder                                \", \"household_median_income\": 124311.5}, {\"PCT\": 84, \"Chg2021\": 250.0, \"CRIME\": \"Rape                                  \", \"household_median_income\": 124311.5}, {\"PCT\": 84, \"Chg2021\": 10.4, \"CRIME\": \"Robbery                               \", \"household_median_income\": 124311.5}, {\"PCT\": 84, \"Chg2021\": 2.3, \"CRIME\": \"Felony Assault                        \", \"household_median_income\": 124311.5}, {\"PCT\": 84, \"Chg2021\": -22.8, \"CRIME\": \"Burglary                              \", \"household_median_income\": 124311.5}, {\"PCT\": 84, \"Chg2021\": 40.4, \"CRIME\": \"Grand Larceny                         \", \"household_median_income\": 124311.5}, {\"PCT\": 84, \"Chg2021\": 12.5, \"CRIME\": \"Vehicle Theft                                  \", \"household_median_income\": 124311.5}, {\"PCT\": 88, \"Chg2021\": 0.0, \"CRIME\": \"Murder                                \", \"household_median_income\": 105610.5}, {\"PCT\": 88, \"Chg2021\": -50.0, \"CRIME\": \"Rape                                  \", \"household_median_income\": 105610.5}, {\"PCT\": 88, \"Chg2021\": -34.2, \"CRIME\": \"Robbery                               \", \"household_median_income\": 105610.5}, {\"PCT\": 88, \"Chg2021\": -43.1, \"CRIME\": \"Felony Assault                        \", \"household_median_income\": 105610.5}, {\"PCT\": 88, \"Chg2021\": -37.5, \"CRIME\": \"Burglary                              \", \"household_median_income\": 105610.5}, {\"PCT\": 88, \"Chg2021\": -19.9, \"CRIME\": \"Grand Larceny                         \", \"household_median_income\": 105610.5}, {\"PCT\": 88, \"Chg2021\": 0.0, \"CRIME\": \"Vehicle Theft                                  \", \"household_median_income\": 105610.5}, {\"PCT\": 90, \"Chg2021\": 50.0, \"CRIME\": \"Murder                                \", \"household_median_income\": 53303.0}, {\"PCT\": 90, \"Chg2021\": 20.0, \"CRIME\": \"Rape                                  \", \"household_median_income\": 53303.0}, {\"PCT\": 90, \"Chg2021\": -19.3, \"CRIME\": \"Robbery                               \", \"household_median_income\": 53303.0}, {\"PCT\": 90, \"Chg2021\": -18.1, \"CRIME\": \"Felony Assault                        \", \"household_median_income\": 53303.0}, {\"PCT\": 90, \"Chg2021\": -44.6, \"CRIME\": \"Burglary                              \", \"household_median_income\": 53303.0}, {\"PCT\": 90, \"Chg2021\": -13.9, \"CRIME\": \"Grand Larceny                         \", \"household_median_income\": 53303.0}, {\"PCT\": 90, \"Chg2021\": 41.4, \"CRIME\": \"Vehicle Theft                                  \", \"household_median_income\": 53303.0}, {\"PCT\": 94, \"Chg2021\": 0.0, \"CRIME\": \"Murder                                \", \"household_median_income\": 87358.0}, {\"PCT\": 94, \"Chg2021\": 0.0, \"CRIME\": \"Rape                                  \", \"household_median_income\": 87358.0}, {\"PCT\": 94, \"Chg2021\": 25.0, \"CRIME\": \"Robbery                               \", \"household_median_income\": 87358.0}, {\"PCT\": 94, \"Chg2021\": -17.5, \"CRIME\": \"Felony Assault                        \", \"household_median_income\": 87358.0}, {\"PCT\": 94, \"Chg2021\": 13.2, \"CRIME\": \"Burglary                              \", \"household_median_income\": 87358.0}, {\"PCT\": 94, \"Chg2021\": -1.8, \"CRIME\": \"Grand Larceny                         \", \"household_median_income\": 87358.0}, {\"PCT\": 94, \"Chg2021\": 22.2, \"CRIME\": \"Vehicle Theft                                  \", \"household_median_income\": 87358.0}, {\"PCT\": 100, \"Chg2021\": -100.0, \"CRIME\": \"Murder                                \", \"household_median_income\": 60569.0}, {\"PCT\": 100, \"Chg2021\": 200.0, \"CRIME\": \"Rape                                  \", \"household_median_income\": 60569.0}, {\"PCT\": 100, \"Chg2021\": -50.0, \"CRIME\": \"Robbery                               \", \"household_median_income\": 60569.0}, {\"PCT\": 100, \"Chg2021\": -29.2, \"CRIME\": \"Felony Assault                        \", \"household_median_income\": 60569.0}, {\"PCT\": 100, \"Chg2021\": -25.0, \"CRIME\": \"Burglary                              \", \"household_median_income\": 60569.0}, {\"PCT\": 100, \"Chg2021\": -24.7, \"CRIME\": \"Grand Larceny                         \", \"household_median_income\": 60569.0}, {\"PCT\": 100, \"Chg2021\": -59.3, \"CRIME\": \"Vehicle Theft                                  \", \"household_median_income\": 60569.0}, {\"PCT\": 101, \"Chg2021\": 0.0, \"CRIME\": \"Murder                                \", \"household_median_income\": 60569.0}, {\"PCT\": 101, \"Chg2021\": 62.5, \"CRIME\": \"Rape                                  \", \"household_median_income\": 60569.0}, {\"PCT\": 101, \"Chg2021\": 0.0, \"CRIME\": \"Robbery                               \", \"household_median_income\": 60569.0}, {\"PCT\": 101, \"Chg2021\": -9.0, \"CRIME\": \"Felony Assault                        \", \"household_median_income\": 60569.0}, {\"PCT\": 101, \"Chg2021\": -19.5, \"CRIME\": \"Burglary                              \", \"household_median_income\": 60569.0}, {\"PCT\": 101, \"Chg2021\": -7.6, \"CRIME\": \"Grand Larceny                         \", \"household_median_income\": 60569.0}, {\"PCT\": 101, \"Chg2021\": -6.7, \"CRIME\": \"Vehicle Theft                                  \", \"household_median_income\": 60569.0}, {\"PCT\": 102, \"Chg2021\": 0.0, \"CRIME\": \"Murder                                \", \"household_median_income\": 72003.5}, {\"PCT\": 102, \"Chg2021\": 120.0, \"CRIME\": \"Rape                                  \", \"household_median_income\": 72003.5}, {\"PCT\": 102, \"Chg2021\": -9.6, \"CRIME\": \"Robbery                               \", \"household_median_income\": 72003.5}, {\"PCT\": 102, \"Chg2021\": 4.1, \"CRIME\": \"Felony Assault                        \", \"household_median_income\": 72003.5}, {\"PCT\": 102, \"Chg2021\": -29.5, \"CRIME\": \"Burglary                              \", \"household_median_income\": 72003.5}, {\"PCT\": 102, \"Chg2021\": -21.6, \"CRIME\": \"Grand Larceny                         \", \"household_median_income\": 72003.5}, {\"PCT\": 102, \"Chg2021\": 51.7, \"CRIME\": \"Vehicle Theft                                  \", \"household_median_income\": 72003.5}, {\"PCT\": 103, \"Chg2021\": 0.0, \"CRIME\": \"Murder                                \", \"household_median_income\": 62927.0}, {\"PCT\": 103, \"Chg2021\": 44.4, \"CRIME\": \"Rape                                  \", \"household_median_income\": 62927.0}, {\"PCT\": 103, \"Chg2021\": -16.4, \"CRIME\": \"Robbery                               \", \"household_median_income\": 62927.0}, {\"PCT\": 103, \"Chg2021\": 7.4, \"CRIME\": \"Felony Assault                        \", \"household_median_income\": 62927.0}, {\"PCT\": 103, \"Chg2021\": -39.1, \"CRIME\": \"Burglary                              \", \"household_median_income\": 62927.0}, {\"PCT\": 103, \"Chg2021\": -12.9, \"CRIME\": \"Grand Larceny                         \", \"household_median_income\": 62927.0}, {\"PCT\": 103, \"Chg2021\": -23.9, \"CRIME\": \"Vehicle Theft                                  \", \"household_median_income\": 62927.0}, {\"PCT\": 104, \"Chg2021\": 100.0, \"CRIME\": \"Murder                                \", \"household_median_income\": 79611.5}, {\"PCT\": 104, \"Chg2021\": 33.3, \"CRIME\": \"Rape                                  \", \"household_median_income\": 79611.5}, {\"PCT\": 104, \"Chg2021\": -40.7, \"CRIME\": \"Robbery                               \", \"household_median_income\": 79611.5}, {\"PCT\": 104, \"Chg2021\": -22.5, \"CRIME\": \"Felony Assault                        \", \"household_median_income\": 79611.5}, {\"PCT\": 104, \"Chg2021\": -23.0, \"CRIME\": \"Burglary                              \", \"household_median_income\": 79611.5}, {\"PCT\": 104, \"Chg2021\": -17.9, \"CRIME\": \"Grand Larceny                         \", \"household_median_income\": 79611.5}, {\"PCT\": 104, \"Chg2021\": 43.0, \"CRIME\": \"Vehicle Theft                                  \", \"household_median_income\": 79611.5}, {\"PCT\": 105, \"Chg2021\": 100.0, \"CRIME\": \"Murder                                \", \"household_median_income\": 88300.0}, {\"PCT\": 105, \"Chg2021\": 9.5, \"CRIME\": \"Rape                                  \", \"household_median_income\": 88300.0}, {\"PCT\": 105, \"Chg2021\": -18.9, \"CRIME\": \"Robbery                               \", \"household_median_income\": 88300.0}, {\"PCT\": 105, \"Chg2021\": 4.4, \"CRIME\": \"Felony Assault                        \", \"household_median_income\": 88300.0}, {\"PCT\": 105, \"Chg2021\": -31.4, \"CRIME\": \"Burglary                              \", \"household_median_income\": 88300.0}, {\"PCT\": 105, \"Chg2021\": -34.3, \"CRIME\": \"Grand Larceny                         \", \"household_median_income\": 88300.0}, {\"PCT\": 105, \"Chg2021\": -47.7, \"CRIME\": \"Vehicle Theft                                  \", \"household_median_income\": 88300.0}, {\"PCT\": 106, \"Chg2021\": 0.0, \"CRIME\": \"Murder                                \", \"household_median_income\": 76351.5}, {\"PCT\": 106, \"Chg2021\": 40.0, \"CRIME\": \"Rape                                  \", \"household_median_income\": 76351.5}, {\"PCT\": 106, \"Chg2021\": 0.0, \"CRIME\": \"Robbery                               \", \"household_median_income\": 76351.5}, {\"PCT\": 106, \"Chg2021\": 8.6, \"CRIME\": \"Felony Assault                        \", \"household_median_income\": 76351.5}, {\"PCT\": 106, \"Chg2021\": -46.2, \"CRIME\": \"Burglary                              \", \"household_median_income\": 76351.5}, {\"PCT\": 106, \"Chg2021\": -11.4, \"CRIME\": \"Grand Larceny                         \", \"household_median_income\": 76351.5}, {\"PCT\": 106, \"Chg2021\": 0.0, \"CRIME\": \"Vehicle Theft                                  \", \"household_median_income\": 76351.5}, {\"PCT\": 107, \"Chg2021\": 0.0, \"CRIME\": \"Murder                                \", \"household_median_income\": 67642.0}, {\"PCT\": 107, \"Chg2021\": 0.0, \"CRIME\": \"Rape                                  \", \"household_median_income\": 67642.0}, {\"PCT\": 107, \"Chg2021\": -19.2, \"CRIME\": \"Robbery                               \", \"household_median_income\": 67642.0}, {\"PCT\": 107, \"Chg2021\": 9.1, \"CRIME\": \"Felony Assault                        \", \"household_median_income\": 67642.0}, {\"PCT\": 107, \"Chg2021\": 15.1, \"CRIME\": \"Burglary                              \", \"household_median_income\": 67642.0}, {\"PCT\": 107, \"Chg2021\": -45.4, \"CRIME\": \"Grand Larceny                         \", \"household_median_income\": 67642.0}, {\"PCT\": 107, \"Chg2021\": -14.0, \"CRIME\": \"Vehicle Theft                                  \", \"household_median_income\": 67642.0}, {\"PCT\": 108, \"Chg2021\": 0.0, \"CRIME\": \"Murder                                \", \"household_median_income\": 74420.5}, {\"PCT\": 108, \"Chg2021\": 20.0, \"CRIME\": \"Rape                                  \", \"household_median_income\": 74420.5}, {\"PCT\": 108, \"Chg2021\": 13.1, \"CRIME\": \"Robbery                               \", \"household_median_income\": 74420.5}, {\"PCT\": 108, \"Chg2021\": 20.0, \"CRIME\": \"Felony Assault                        \", \"household_median_income\": 74420.5}, {\"PCT\": 108, \"Chg2021\": 5.4, \"CRIME\": \"Burglary                              \", \"household_median_income\": 74420.5}, {\"PCT\": 108, \"Chg2021\": 8.1, \"CRIME\": \"Grand Larceny                         \", \"household_median_income\": 74420.5}, {\"PCT\": 108, \"Chg2021\": 63.6, \"CRIME\": \"Vehicle Theft                                  \", \"household_median_income\": 74420.5}, {\"PCT\": 109, \"Chg2021\": 0.0, \"CRIME\": \"Murder                                \", \"household_median_income\": 68848.0}, {\"PCT\": 109, \"Chg2021\": -23.5, \"CRIME\": \"Rape                                  \", \"household_median_income\": 68848.0}, {\"PCT\": 109, \"Chg2021\": -19.6, \"CRIME\": \"Robbery                               \", \"household_median_income\": 68848.0}, {\"PCT\": 109, \"Chg2021\": -28.7, \"CRIME\": \"Felony Assault                        \", \"household_median_income\": 68848.0}, {\"PCT\": 109, \"Chg2021\": -13.2, \"CRIME\": \"Burglary                              \", \"household_median_income\": 68848.0}, {\"PCT\": 109, \"Chg2021\": -16.7, \"CRIME\": \"Grand Larceny                         \", \"household_median_income\": 68848.0}, {\"PCT\": 109, \"Chg2021\": 58.4, \"CRIME\": \"Vehicle Theft                                  \", \"household_median_income\": 68848.0}, {\"PCT\": 110, \"Chg2021\": 50.0, \"CRIME\": \"Murder                                \", \"household_median_income\": 54397.5}, {\"PCT\": 110, \"Chg2021\": 27.8, \"CRIME\": \"Rape                                  \", \"household_median_income\": 54397.5}, {\"PCT\": 110, \"Chg2021\": -13.1, \"CRIME\": \"Robbery                               \", \"household_median_income\": 54397.5}, {\"PCT\": 110, \"Chg2021\": 2.0, \"CRIME\": \"Felony Assault                        \", \"household_median_income\": 54397.5}, {\"PCT\": 110, \"Chg2021\": -21.4, \"CRIME\": \"Burglary                              \", \"household_median_income\": 54397.5}, {\"PCT\": 110, \"Chg2021\": -3.0, \"CRIME\": \"Grand Larceny                         \", \"household_median_income\": 54397.5}, {\"PCT\": 110, \"Chg2021\": 58.3, \"CRIME\": \"Vehicle Theft                                  \", \"household_median_income\": 54397.5}, {\"PCT\": 111, \"Chg2021\": 0.0, \"CRIME\": \"Murder                                \", \"household_median_income\": 84301.0}, {\"PCT\": 111, \"Chg2021\": 100.0, \"CRIME\": \"Rape                                  \", \"household_median_income\": 84301.0}, {\"PCT\": 111, \"Chg2021\": -6.7, \"CRIME\": \"Robbery                               \", \"household_median_income\": 84301.0}, {\"PCT\": 111, \"Chg2021\": -18.8, \"CRIME\": \"Felony Assault                        \", \"household_median_income\": 84301.0}, {\"PCT\": 111, \"Chg2021\": 47.3, \"CRIME\": \"Burglary                              \", \"household_median_income\": 84301.0}, {\"PCT\": 111, \"Chg2021\": -4.2, \"CRIME\": \"Grand Larceny                         \", \"household_median_income\": 84301.0}, {\"PCT\": 111, \"Chg2021\": 10.8, \"CRIME\": \"Vehicle Theft                                  \", \"household_median_income\": 84301.0}, {\"PCT\": 112, \"Chg2021\": 0.0, \"CRIME\": \"Murder                                \", \"household_median_income\": 79611.5}, {\"PCT\": 112, \"Chg2021\": 50.0, \"CRIME\": \"Rape                                  \", \"household_median_income\": 79611.5}, {\"PCT\": 112, \"Chg2021\": -28.1, \"CRIME\": \"Robbery                               \", \"household_median_income\": 79611.5}, {\"PCT\": 112, \"Chg2021\": 50.0, \"CRIME\": \"Felony Assault                        \", \"household_median_income\": 79611.5}, {\"PCT\": 112, \"Chg2021\": 5.8, \"CRIME\": \"Burglary                              \", \"household_median_income\": 79611.5}, {\"PCT\": 112, \"Chg2021\": 17.4, \"CRIME\": \"Grand Larceny                         \", \"household_median_income\": 79611.5}, {\"PCT\": 112, \"Chg2021\": -7.9, \"CRIME\": \"Vehicle Theft                                  \", \"household_median_income\": 79611.5}, {\"PCT\": 113, \"Chg2021\": 125.0, \"CRIME\": \"Murder                                \", \"household_median_income\": 78876.5}, {\"PCT\": 113, \"Chg2021\": -30.4, \"CRIME\": \"Rape                                  \", \"household_median_income\": 78876.5}, {\"PCT\": 113, \"Chg2021\": 0.0, \"CRIME\": \"Robbery                               \", \"household_median_income\": 78876.5}, {\"PCT\": 113, \"Chg2021\": -3.4, \"CRIME\": \"Felony Assault                        \", \"household_median_income\": 78876.5}, {\"PCT\": 113, \"Chg2021\": -1.4, \"CRIME\": \"Burglary                              \", \"household_median_income\": 78876.5}, {\"PCT\": 113, \"Chg2021\": -20.8, \"CRIME\": \"Grand Larceny                         \", \"household_median_income\": 78876.5}, {\"PCT\": 113, \"Chg2021\": -9.5, \"CRIME\": \"Vehicle Theft                                  \", \"household_median_income\": 78876.5}, {\"PCT\": 114, \"Chg2021\": 40.0, \"CRIME\": \"Murder                                \", \"household_median_income\": 74420.5}, {\"PCT\": 114, \"Chg2021\": 125.0, \"CRIME\": \"Rape                                  \", \"household_median_income\": 74420.5}, {\"PCT\": 114, \"Chg2021\": 34.1, \"CRIME\": \"Robbery                               \", \"household_median_income\": 74420.5}, {\"PCT\": 114, \"Chg2021\": 20.3, \"CRIME\": \"Felony Assault                        \", \"household_median_income\": 74420.5}, {\"PCT\": 114, \"Chg2021\": 21.1, \"CRIME\": \"Burglary                              \", \"household_median_income\": 74420.5}, {\"PCT\": 114, \"Chg2021\": 6.9, \"CRIME\": \"Grand Larceny                         \", \"household_median_income\": 74420.5}, {\"PCT\": 114, \"Chg2021\": 20.8, \"CRIME\": \"Vehicle Theft                                  \", \"household_median_income\": 74420.5}, {\"PCT\": 115, \"Chg2021\": -77.8, \"CRIME\": \"Murder                                \", \"household_median_income\": 57435.0}, {\"PCT\": 115, \"Chg2021\": -15.0, \"CRIME\": \"Rape                                  \", \"household_median_income\": 57435.0}, {\"PCT\": 115, \"Chg2021\": 24.1, \"CRIME\": \"Robbery                               \", \"household_median_income\": 57435.0}, {\"PCT\": 115, \"Chg2021\": 19.0, \"CRIME\": \"Felony Assault                        \", \"household_median_income\": 57435.0}, {\"PCT\": 115, \"Chg2021\": -30.3, \"CRIME\": \"Burglary                              \", \"household_median_income\": 57435.0}, {\"PCT\": 115, \"Chg2021\": 5.8, \"CRIME\": \"Grand Larceny                         \", \"household_median_income\": 57435.0}, {\"PCT\": 115, \"Chg2021\": 26.9, \"CRIME\": \"Vehicle Theft                                  \", \"household_median_income\": 57435.0}, {\"PCT\": 120, \"Chg2021\": -33.3, \"CRIME\": \"Murder                                \", \"household_median_income\": 62052.0}, {\"PCT\": 120, \"Chg2021\": -50.0, \"CRIME\": \"Rape                                  \", \"household_median_income\": 62052.0}, {\"PCT\": 120, \"Chg2021\": -12.5, \"CRIME\": \"Robbery                               \", \"household_median_income\": 62052.0}, {\"PCT\": 120, \"Chg2021\": 2.0, \"CRIME\": \"Felony Assault                        \", \"household_median_income\": 62052.0}, {\"PCT\": 120, \"Chg2021\": -41.4, \"CRIME\": \"Burglary                              \", \"household_median_income\": 62052.0}, {\"PCT\": 120, \"Chg2021\": -1.5, \"CRIME\": \"Grand Larceny                         \", \"household_median_income\": 62052.0}, {\"PCT\": 120, \"Chg2021\": 11.1, \"CRIME\": \"Vehicle Theft                                  \", \"household_median_income\": 62052.0}, {\"PCT\": 121, \"Chg2021\": -50.0, \"CRIME\": \"Murder                                \", \"household_median_income\": 71645.0}, {\"PCT\": 121, \"Chg2021\": 11.1, \"CRIME\": \"Rape                                  \", \"household_median_income\": 71645.0}, {\"PCT\": 121, \"Chg2021\": -33.3, \"CRIME\": \"Robbery                               \", \"household_median_income\": 71645.0}, {\"PCT\": 121, \"Chg2021\": -13.1, \"CRIME\": \"Felony Assault                        \", \"household_median_income\": 71645.0}, {\"PCT\": 121, \"Chg2021\": -1.9, \"CRIME\": \"Burglary                              \", \"household_median_income\": 71645.0}, {\"PCT\": 121, \"Chg2021\": 19.0, \"CRIME\": \"Grand Larceny                         \", \"household_median_income\": 71645.0}, {\"PCT\": 121, \"Chg2021\": -3.8, \"CRIME\": \"Vehicle Theft                                  \", \"household_median_income\": 71645.0}, {\"PCT\": 122, \"Chg2021\": 100.0, \"CRIME\": \"Murder                                \", \"household_median_income\": 97407.0}, {\"PCT\": 122, \"Chg2021\": 25.0, \"CRIME\": \"Rape                                  \", \"household_median_income\": 97407.0}, {\"PCT\": 122, \"Chg2021\": -19.4, \"CRIME\": \"Robbery                               \", \"household_median_income\": 97407.0}, {\"PCT\": 122, \"Chg2021\": 4.8, \"CRIME\": \"Felony Assault                        \", \"household_median_income\": 97407.0}, {\"PCT\": 122, \"Chg2021\": 23.7, \"CRIME\": \"Burglary                              \", \"household_median_income\": 97407.0}, {\"PCT\": 122, \"Chg2021\": 52.4, \"CRIME\": \"Grand Larceny                         \", \"household_median_income\": 97407.0}, {\"PCT\": 122, \"Chg2021\": -25.0, \"CRIME\": \"Vehicle Theft                                  \", \"household_median_income\": 97407.0}, {\"PCT\": 123, \"Chg2021\": 0.0, \"CRIME\": \"Murder                                \", \"household_median_income\": 97407.0}, {\"PCT\": 123, \"Chg2021\": -33.3, \"CRIME\": \"Rape                                  \", \"household_median_income\": 97407.0}, {\"PCT\": 123, \"Chg2021\": 25.0, \"CRIME\": \"Robbery                               \", \"household_median_income\": 97407.0}, {\"PCT\": 123, \"Chg2021\": -38.7, \"CRIME\": \"Felony Assault                        \", \"household_median_income\": 97407.0}, {\"PCT\": 123, \"Chg2021\": -44.8, \"CRIME\": \"Burglary                              \", \"household_median_income\": 97407.0}, {\"PCT\": 123, \"Chg2021\": -6.0, \"CRIME\": \"Grand Larceny                         \", \"household_median_income\": 97407.0}, {\"PCT\": 123, \"Chg2021\": -29.0, \"CRIME\": \"Vehicle Theft                                  \", \"household_median_income\": 97407.0}], \"data-e476c42a30fadc5e9724ae45de35d402\": [{\"Crime\": \"Murder\", \"2021_YTD\": 245, \"2020_YTD\": 251, \"Percent_Change\": -2.4}, {\"Crime\": \"Rape\", \"2021_YTD\": 842, \"2020_YTD\": 817, \"Percent_Change\": 3.1}, {\"Crime\": \"Robbery\", \"2021_YTD\": 7101, \"2020_YTD\": 7126, \"Percent_Change\": -0.4}, {\"Crime\": \"Felony Assault\", \"2021_YTD\": 12481, \"2020_YTD\": 11793, \"Percent_Change\": 5.8}, {\"Crime\": \"Burglary\", \"2021_YTD\": 6671, \"2020_YTD\": 8744, \"Percent_Change\": -23.7}, {\"Crime\": \"Grand Larceny\", \"2021_YTD\": 19502, \"2020_YTD\": 19307, \"Percent_Change\": 1.0}, {\"Crime\": \"Vehicle Theft\", \"2021_YTD\": 5386, \"2020_YTD\": 4386, \"Percent_Change\": 22.8}, {\"Crime\": \"Shooting (Jan.-June)\", \"2021_YTD\": 902, \"2020_YTD\": 691, \"Percent_Change\": 30.5}]}}, {\"mode\": \"vega-lite\"});\n",
       "</script>"
      ],
      "text/plain": [
       "alt.VConcatChart(...)"
      ]
     },
     "execution_count": 192,
     "metadata": {},
     "output_type": "execute_result"
    }
   ],
   "source": [
    "alt.vconcat(\n",
    "    points,\n",
    "    bars,\n",
    "    title=\"How major crimes changed in NYC, Jan.-July 2021\"\n",
    ")"
   ]
  },
  {
   "cell_type": "code",
   "execution_count": null,
   "metadata": {},
   "outputs": [],
   "source": []
  },
  {
   "cell_type": "markdown",
   "metadata": {},
   "source": [
    "## Change in crime by income tier"
   ]
  },
  {
   "cell_type": "code",
   "execution_count": null,
   "metadata": {},
   "outputs": [],
   "source": [
    "# Lower income"
   ]
  },
  {
   "cell_type": "code",
   "execution_count": 290,
   "metadata": {},
   "outputs": [],
   "source": [
    "lowerChange = df_MF4[df_MF4.household_median_income < 68920]"
   ]
  },
  {
   "cell_type": "code",
   "execution_count": 291,
   "metadata": {},
   "outputs": [],
   "source": [
    "lowerChange = lowerChange.groupby(\"CRIME\").sum()"
   ]
  },
  {
   "cell_type": "code",
   "execution_count": 302,
   "metadata": {},
   "outputs": [],
   "source": [
    "# important\n",
    "lowerChange['%_chg_2019-2020'] = (lowerChange[2020] - lowerChange[2019]) / lowerChange[2019] * 100"
   ]
  },
  {
   "cell_type": "code",
   "execution_count": 303,
   "metadata": {},
   "outputs": [],
   "source": [
    "lowerChange['%_chg_2019-2020'] = round(lowerChange['%_chg_2019-2020'], 1)"
   ]
  },
  {
   "cell_type": "code",
   "execution_count": 305,
   "metadata": {},
   "outputs": [],
   "source": [
    "lowerChange['%_Chg'] = (lowerChange['2021_YTD'] - lowerChange['2020_YTD']) / lowerChange['2020_YTD'] * 100"
   ]
  },
  {
   "cell_type": "code",
   "execution_count": 306,
   "metadata": {},
   "outputs": [],
   "source": [
    "lowerChange['%_Chg'] = round(lowerChange['%_Chg'], 1)"
   ]
  },
  {
   "cell_type": "code",
   "execution_count": 307,
   "metadata": {},
   "outputs": [
    {
     "data": {
      "text/html": [
       "<div>\n",
       "<style scoped>\n",
       "    .dataframe tbody tr th:only-of-type {\n",
       "        vertical-align: middle;\n",
       "    }\n",
       "\n",
       "    .dataframe tbody tr th {\n",
       "        vertical-align: top;\n",
       "    }\n",
       "\n",
       "    .dataframe thead th {\n",
       "        text-align: right;\n",
       "    }\n",
       "</style>\n",
       "<table border=\"1\" class=\"dataframe\">\n",
       "  <thead>\n",
       "    <tr style=\"text-align: right;\">\n",
       "      <th></th>\n",
       "      <th>PCT</th>\n",
       "      <th>household_median_income</th>\n",
       "      <th>2019</th>\n",
       "      <th>2020</th>\n",
       "      <th>%_chg_2019-2020</th>\n",
       "      <th>2021_YTD</th>\n",
       "      <th>2020_YTD</th>\n",
       "      <th>%_Chg</th>\n",
       "    </tr>\n",
       "    <tr>\n",
       "      <th>CRIME</th>\n",
       "      <th></th>\n",
       "      <th></th>\n",
       "      <th></th>\n",
       "      <th></th>\n",
       "      <th></th>\n",
       "      <th></th>\n",
       "      <th></th>\n",
       "      <th></th>\n",
       "    </tr>\n",
       "  </thead>\n",
       "  <tbody>\n",
       "    <tr>\n",
       "      <th>BURGLARY</th>\n",
       "      <td>2800</td>\n",
       "      <td>2250615.5</td>\n",
       "      <td>6946</td>\n",
       "      <td>9346</td>\n",
       "      <td>34.6</td>\n",
       "      <td>4102</td>\n",
       "      <td>5410</td>\n",
       "      <td>-24.2</td>\n",
       "    </tr>\n",
       "    <tr>\n",
       "      <th>FELONY ASSAULT</th>\n",
       "      <td>2800</td>\n",
       "      <td>2250615.5</td>\n",
       "      <td>15471</td>\n",
       "      <td>15225</td>\n",
       "      <td>-1.6</td>\n",
       "      <td>9226</td>\n",
       "      <td>8764</td>\n",
       "      <td>5.3</td>\n",
       "    </tr>\n",
       "    <tr>\n",
       "      <th>GRAND LARCENY</th>\n",
       "      <td>2800</td>\n",
       "      <td>2250615.5</td>\n",
       "      <td>21743</td>\n",
       "      <td>19377</td>\n",
       "      <td>-10.9</td>\n",
       "      <td>10839</td>\n",
       "      <td>10510</td>\n",
       "      <td>3.1</td>\n",
       "    </tr>\n",
       "    <tr>\n",
       "      <th>GRAND LARCENY OF MOTOR VEHICLE</th>\n",
       "      <td>2800</td>\n",
       "      <td>2250615.5</td>\n",
       "      <td>3498</td>\n",
       "      <td>5849</td>\n",
       "      <td>67.2</td>\n",
       "      <td>3679</td>\n",
       "      <td>2826</td>\n",
       "      <td>30.2</td>\n",
       "    </tr>\n",
       "    <tr>\n",
       "      <th>MURDER &amp; NON NEGL. MANSLAUGHTER</th>\n",
       "      <td>2800</td>\n",
       "      <td>2250615.5</td>\n",
       "      <td>245</td>\n",
       "      <td>377</td>\n",
       "      <td>53.9</td>\n",
       "      <td>194</td>\n",
       "      <td>206</td>\n",
       "      <td>-5.8</td>\n",
       "    </tr>\n",
       "    <tr>\n",
       "      <th>RAPE</th>\n",
       "      <td>2800</td>\n",
       "      <td>2250615.5</td>\n",
       "      <td>1235</td>\n",
       "      <td>1008</td>\n",
       "      <td>-18.4</td>\n",
       "      <td>577</td>\n",
       "      <td>584</td>\n",
       "      <td>-1.2</td>\n",
       "    </tr>\n",
       "    <tr>\n",
       "      <th>ROBBERY</th>\n",
       "      <td>2800</td>\n",
       "      <td>2250615.5</td>\n",
       "      <td>9874</td>\n",
       "      <td>9486</td>\n",
       "      <td>-3.9</td>\n",
       "      <td>5116</td>\n",
       "      <td>5145</td>\n",
       "      <td>-0.6</td>\n",
       "    </tr>\n",
       "    <tr>\n",
       "      <th>TOTAL SEVEN MAJOR FELONY OFFENSES</th>\n",
       "      <td>2800</td>\n",
       "      <td>2250615.5</td>\n",
       "      <td>59012</td>\n",
       "      <td>60668</td>\n",
       "      <td>2.8</td>\n",
       "      <td>33733</td>\n",
       "      <td>33445</td>\n",
       "      <td>0.9</td>\n",
       "    </tr>\n",
       "  </tbody>\n",
       "</table>\n",
       "</div>"
      ],
      "text/plain": [
       "                                                                   PCT  \\\n",
       "CRIME                                                                    \n",
       "BURGLARY                                                          2800   \n",
       "FELONY ASSAULT                                                    2800   \n",
       "GRAND LARCENY                                                     2800   \n",
       "GRAND LARCENY OF MOTOR VEHICLE                                    2800   \n",
       "MURDER & NON NEGL. MANSLAUGHTER                                   2800   \n",
       "RAPE                                                              2800   \n",
       "ROBBERY                                                           2800   \n",
       "TOTAL SEVEN MAJOR FELONY OFFENSES                                 2800   \n",
       "\n",
       "                                                                  household_median_income  \\\n",
       "CRIME                                                                                       \n",
       "BURGLARY                                                                        2250615.5   \n",
       "FELONY ASSAULT                                                                  2250615.5   \n",
       "GRAND LARCENY                                                                   2250615.5   \n",
       "GRAND LARCENY OF MOTOR VEHICLE                                                  2250615.5   \n",
       "MURDER & NON NEGL. MANSLAUGHTER                                                 2250615.5   \n",
       "RAPE                                                                            2250615.5   \n",
       "ROBBERY                                                                         2250615.5   \n",
       "TOTAL SEVEN MAJOR FELONY OFFENSES                                               2250615.5   \n",
       "\n",
       "                                                                   2019  \\\n",
       "CRIME                                                                     \n",
       "BURGLARY                                                           6946   \n",
       "FELONY ASSAULT                                                    15471   \n",
       "GRAND LARCENY                                                     21743   \n",
       "GRAND LARCENY OF MOTOR VEHICLE                                     3498   \n",
       "MURDER & NON NEGL. MANSLAUGHTER                                     245   \n",
       "RAPE                                                               1235   \n",
       "ROBBERY                                                            9874   \n",
       "TOTAL SEVEN MAJOR FELONY OFFENSES                                 59012   \n",
       "\n",
       "                                                                   2020  \\\n",
       "CRIME                                                                     \n",
       "BURGLARY                                                           9346   \n",
       "FELONY ASSAULT                                                    15225   \n",
       "GRAND LARCENY                                                     19377   \n",
       "GRAND LARCENY OF MOTOR VEHICLE                                     5849   \n",
       "MURDER & NON NEGL. MANSLAUGHTER                                     377   \n",
       "RAPE                                                               1008   \n",
       "ROBBERY                                                            9486   \n",
       "TOTAL SEVEN MAJOR FELONY OFFENSES                                 60668   \n",
       "\n",
       "                                                                  %_chg_2019-2020  \\\n",
       "CRIME                                                                               \n",
       "BURGLARY                                                                     34.6   \n",
       "FELONY ASSAULT                                                               -1.6   \n",
       "GRAND LARCENY                                                               -10.9   \n",
       "GRAND LARCENY OF MOTOR VEHICLE                                               67.2   \n",
       "MURDER & NON NEGL. MANSLAUGHTER                                              53.9   \n",
       "RAPE                                                                        -18.4   \n",
       "ROBBERY                                                                      -3.9   \n",
       "TOTAL SEVEN MAJOR FELONY OFFENSES                                             2.8   \n",
       "\n",
       "                                                                  2021_YTD  \\\n",
       "CRIME                                                                        \n",
       "BURGLARY                                                              4102   \n",
       "FELONY ASSAULT                                                        9226   \n",
       "GRAND LARCENY                                                        10839   \n",
       "GRAND LARCENY OF MOTOR VEHICLE                                        3679   \n",
       "MURDER & NON NEGL. MANSLAUGHTER                                        194   \n",
       "RAPE                                                                   577   \n",
       "ROBBERY                                                               5116   \n",
       "TOTAL SEVEN MAJOR FELONY OFFENSES                                    33733   \n",
       "\n",
       "                                                                  2020_YTD  \\\n",
       "CRIME                                                                        \n",
       "BURGLARY                                                              5410   \n",
       "FELONY ASSAULT                                                        8764   \n",
       "GRAND LARCENY                                                        10510   \n",
       "GRAND LARCENY OF MOTOR VEHICLE                                        2826   \n",
       "MURDER & NON NEGL. MANSLAUGHTER                                        206   \n",
       "RAPE                                                                   584   \n",
       "ROBBERY                                                               5145   \n",
       "TOTAL SEVEN MAJOR FELONY OFFENSES                                    33445   \n",
       "\n",
       "                                                                  %_Chg  \n",
       "CRIME                                                                    \n",
       "BURGLARY                                                          -24.2  \n",
       "FELONY ASSAULT                                                      5.3  \n",
       "GRAND LARCENY                                                       3.1  \n",
       "GRAND LARCENY OF MOTOR VEHICLE                                     30.2  \n",
       "MURDER & NON NEGL. MANSLAUGHTER                                    -5.8  \n",
       "RAPE                                                               -1.2  \n",
       "ROBBERY                                                            -0.6  \n",
       "TOTAL SEVEN MAJOR FELONY OFFENSES                                   0.9  "
      ]
     },
     "execution_count": 307,
     "metadata": {},
     "output_type": "execute_result"
    }
   ],
   "source": [
    "lowerChange"
   ]
  },
  {
   "cell_type": "code",
   "execution_count": 293,
   "metadata": {},
   "outputs": [],
   "source": [
    "# Upper income"
   ]
  },
  {
   "cell_type": "code",
   "execution_count": 294,
   "metadata": {},
   "outputs": [],
   "source": [
    "upperChange = df_MF4[df_MF4.household_median_income > 68920]"
   ]
  },
  {
   "cell_type": "code",
   "execution_count": 295,
   "metadata": {},
   "outputs": [],
   "source": [
    "upperChange = upperChange.groupby(\"CRIME\").sum()"
   ]
  },
  {
   "cell_type": "code",
   "execution_count": 308,
   "metadata": {},
   "outputs": [],
   "source": [
    "upperChange['%_chg_2019-2020']=(upperChange[2020] - upperChange[2019]) / upperChange[2019] * 100"
   ]
  },
  {
   "cell_type": "code",
   "execution_count": 309,
   "metadata": {},
   "outputs": [],
   "source": [
    "upperChange['%_chg_2019-2020']= round(upperChange['%_chg_2019-2020'],1)"
   ]
  },
  {
   "cell_type": "code",
   "execution_count": 310,
   "metadata": {},
   "outputs": [],
   "source": [
    "upperChange['%_Chg'] = (upperChange['2021_YTD'] - upperChange['2020_YTD']) / upperChange['2020_YTD'] * 100"
   ]
  },
  {
   "cell_type": "code",
   "execution_count": 311,
   "metadata": {},
   "outputs": [],
   "source": [
    "upperChange['%_Chg'] = round(upperChange['%_Chg'], 1)"
   ]
  },
  {
   "cell_type": "code",
   "execution_count": 312,
   "metadata": {},
   "outputs": [
    {
     "data": {
      "text/html": [
       "<div>\n",
       "<style scoped>\n",
       "    .dataframe tbody tr th:only-of-type {\n",
       "        vertical-align: middle;\n",
       "    }\n",
       "\n",
       "    .dataframe tbody tr th {\n",
       "        vertical-align: top;\n",
       "    }\n",
       "\n",
       "    .dataframe thead th {\n",
       "        text-align: right;\n",
       "    }\n",
       "</style>\n",
       "<table border=\"1\" class=\"dataframe\">\n",
       "  <thead>\n",
       "    <tr style=\"text-align: right;\">\n",
       "      <th></th>\n",
       "      <th>PCT</th>\n",
       "      <th>household_median_income</th>\n",
       "      <th>2019</th>\n",
       "      <th>2020</th>\n",
       "      <th>%_chg_2019-2020</th>\n",
       "      <th>2021_YTD</th>\n",
       "      <th>2020_YTD</th>\n",
       "      <th>%_Chg</th>\n",
       "    </tr>\n",
       "    <tr>\n",
       "      <th>CRIME</th>\n",
       "      <th></th>\n",
       "      <th></th>\n",
       "      <th></th>\n",
       "      <th></th>\n",
       "      <th></th>\n",
       "      <th></th>\n",
       "      <th></th>\n",
       "      <th></th>\n",
       "    </tr>\n",
       "  </thead>\n",
       "  <tbody>\n",
       "    <tr>\n",
       "      <th>BURGLARY</th>\n",
       "      <td>2076</td>\n",
       "      <td>3144514.0</td>\n",
       "      <td>3837</td>\n",
       "      <td>6132</td>\n",
       "      <td>59.8</td>\n",
       "      <td>2569</td>\n",
       "      <td>3334</td>\n",
       "      <td>-22.9</td>\n",
       "    </tr>\n",
       "    <tr>\n",
       "      <th>FELONY ASSAULT</th>\n",
       "      <td>2076</td>\n",
       "      <td>3144514.0</td>\n",
       "      <td>5025</td>\n",
       "      <td>5285</td>\n",
       "      <td>5.2</td>\n",
       "      <td>3233</td>\n",
       "      <td>3013</td>\n",
       "      <td>7.3</td>\n",
       "    </tr>\n",
       "    <tr>\n",
       "      <th>GRAND LARCENY</th>\n",
       "      <td>2076</td>\n",
       "      <td>3144514.0</td>\n",
       "      <td>21506</td>\n",
       "      <td>16126</td>\n",
       "      <td>-25.0</td>\n",
       "      <td>8662</td>\n",
       "      <td>8796</td>\n",
       "      <td>-1.5</td>\n",
       "    </tr>\n",
       "    <tr>\n",
       "      <th>GRAND LARCENY OF MOTOR VEHICLE</th>\n",
       "      <td>2076</td>\n",
       "      <td>3144514.0</td>\n",
       "      <td>1932</td>\n",
       "      <td>3188</td>\n",
       "      <td>65.0</td>\n",
       "      <td>1707</td>\n",
       "      <td>1560</td>\n",
       "      <td>9.4</td>\n",
       "    </tr>\n",
       "    <tr>\n",
       "      <th>MURDER &amp; NON NEGL. MANSLAUGHTER</th>\n",
       "      <td>2076</td>\n",
       "      <td>3144514.0</td>\n",
       "      <td>74</td>\n",
       "      <td>91</td>\n",
       "      <td>23.0</td>\n",
       "      <td>51</td>\n",
       "      <td>45</td>\n",
       "      <td>13.3</td>\n",
       "    </tr>\n",
       "    <tr>\n",
       "      <th>RAPE</th>\n",
       "      <td>2076</td>\n",
       "      <td>3144514.0</td>\n",
       "      <td>519</td>\n",
       "      <td>418</td>\n",
       "      <td>-19.5</td>\n",
       "      <td>264</td>\n",
       "      <td>233</td>\n",
       "      <td>13.3</td>\n",
       "    </tr>\n",
       "    <tr>\n",
       "      <th>ROBBERY</th>\n",
       "      <td>2076</td>\n",
       "      <td>3144514.0</td>\n",
       "      <td>3496</td>\n",
       "      <td>3620</td>\n",
       "      <td>3.5</td>\n",
       "      <td>1985</td>\n",
       "      <td>1981</td>\n",
       "      <td>0.2</td>\n",
       "    </tr>\n",
       "    <tr>\n",
       "      <th>TOTAL SEVEN MAJOR FELONY OFFENSES</th>\n",
       "      <td>2076</td>\n",
       "      <td>3144514.0</td>\n",
       "      <td>36389</td>\n",
       "      <td>34860</td>\n",
       "      <td>-4.2</td>\n",
       "      <td>18471</td>\n",
       "      <td>18962</td>\n",
       "      <td>-2.6</td>\n",
       "    </tr>\n",
       "  </tbody>\n",
       "</table>\n",
       "</div>"
      ],
      "text/plain": [
       "                                                                   PCT  \\\n",
       "CRIME                                                                    \n",
       "BURGLARY                                                          2076   \n",
       "FELONY ASSAULT                                                    2076   \n",
       "GRAND LARCENY                                                     2076   \n",
       "GRAND LARCENY OF MOTOR VEHICLE                                    2076   \n",
       "MURDER & NON NEGL. MANSLAUGHTER                                   2076   \n",
       "RAPE                                                              2076   \n",
       "ROBBERY                                                           2076   \n",
       "TOTAL SEVEN MAJOR FELONY OFFENSES                                 2076   \n",
       "\n",
       "                                                                  household_median_income  \\\n",
       "CRIME                                                                                       \n",
       "BURGLARY                                                                        3144514.0   \n",
       "FELONY ASSAULT                                                                  3144514.0   \n",
       "GRAND LARCENY                                                                   3144514.0   \n",
       "GRAND LARCENY OF MOTOR VEHICLE                                                  3144514.0   \n",
       "MURDER & NON NEGL. MANSLAUGHTER                                                 3144514.0   \n",
       "RAPE                                                                            3144514.0   \n",
       "ROBBERY                                                                         3144514.0   \n",
       "TOTAL SEVEN MAJOR FELONY OFFENSES                                               3144514.0   \n",
       "\n",
       "                                                                   2019  \\\n",
       "CRIME                                                                     \n",
       "BURGLARY                                                           3837   \n",
       "FELONY ASSAULT                                                     5025   \n",
       "GRAND LARCENY                                                     21506   \n",
       "GRAND LARCENY OF MOTOR VEHICLE                                     1932   \n",
       "MURDER & NON NEGL. MANSLAUGHTER                                      74   \n",
       "RAPE                                                                519   \n",
       "ROBBERY                                                            3496   \n",
       "TOTAL SEVEN MAJOR FELONY OFFENSES                                 36389   \n",
       "\n",
       "                                                                   2020  \\\n",
       "CRIME                                                                     \n",
       "BURGLARY                                                           6132   \n",
       "FELONY ASSAULT                                                     5285   \n",
       "GRAND LARCENY                                                     16126   \n",
       "GRAND LARCENY OF MOTOR VEHICLE                                     3188   \n",
       "MURDER & NON NEGL. MANSLAUGHTER                                      91   \n",
       "RAPE                                                                418   \n",
       "ROBBERY                                                            3620   \n",
       "TOTAL SEVEN MAJOR FELONY OFFENSES                                 34860   \n",
       "\n",
       "                                                                  %_chg_2019-2020  \\\n",
       "CRIME                                                                               \n",
       "BURGLARY                                                                     59.8   \n",
       "FELONY ASSAULT                                                                5.2   \n",
       "GRAND LARCENY                                                               -25.0   \n",
       "GRAND LARCENY OF MOTOR VEHICLE                                               65.0   \n",
       "MURDER & NON NEGL. MANSLAUGHTER                                              23.0   \n",
       "RAPE                                                                        -19.5   \n",
       "ROBBERY                                                                       3.5   \n",
       "TOTAL SEVEN MAJOR FELONY OFFENSES                                            -4.2   \n",
       "\n",
       "                                                                  2021_YTD  \\\n",
       "CRIME                                                                        \n",
       "BURGLARY                                                              2569   \n",
       "FELONY ASSAULT                                                        3233   \n",
       "GRAND LARCENY                                                         8662   \n",
       "GRAND LARCENY OF MOTOR VEHICLE                                        1707   \n",
       "MURDER & NON NEGL. MANSLAUGHTER                                         51   \n",
       "RAPE                                                                   264   \n",
       "ROBBERY                                                               1985   \n",
       "TOTAL SEVEN MAJOR FELONY OFFENSES                                    18471   \n",
       "\n",
       "                                                                  2020_YTD  \\\n",
       "CRIME                                                                        \n",
       "BURGLARY                                                              3334   \n",
       "FELONY ASSAULT                                                        3013   \n",
       "GRAND LARCENY                                                         8796   \n",
       "GRAND LARCENY OF MOTOR VEHICLE                                        1560   \n",
       "MURDER & NON NEGL. MANSLAUGHTER                                         45   \n",
       "RAPE                                                                   233   \n",
       "ROBBERY                                                               1981   \n",
       "TOTAL SEVEN MAJOR FELONY OFFENSES                                    18962   \n",
       "\n",
       "                                                                  %_Chg  \n",
       "CRIME                                                                    \n",
       "BURGLARY                                                          -22.9  \n",
       "FELONY ASSAULT                                                      7.3  \n",
       "GRAND LARCENY                                                      -1.5  \n",
       "GRAND LARCENY OF MOTOR VEHICLE                                      9.4  \n",
       "MURDER & NON NEGL. MANSLAUGHTER                                    13.3  \n",
       "RAPE                                                               13.3  \n",
       "ROBBERY                                                             0.2  \n",
       "TOTAL SEVEN MAJOR FELONY OFFENSES                                  -2.6  "
      ]
     },
     "execution_count": 312,
     "metadata": {},
     "output_type": "execute_result"
    }
   ],
   "source": [
    "upperChange"
   ]
  },
  {
   "cell_type": "code",
   "execution_count": null,
   "metadata": {},
   "outputs": [],
   "source": []
  },
  {
   "cell_type": "markdown",
   "metadata": {},
   "source": [
    "### murder"
   ]
  },
  {
   "cell_type": "code",
   "execution_count": 193,
   "metadata": {},
   "outputs": [],
   "source": [
    "df_MF4.CRIME = df_MF4.CRIME.str.strip()"
   ]
  },
  {
   "cell_type": "code",
   "execution_count": 194,
   "metadata": {},
   "outputs": [],
   "source": [
    "df_murder = df_MF4[df_MF4.CRIME == \"MURDER & NON NEGL. MANSLAUGHTER\"]"
   ]
  },
  {
   "cell_type": "code",
   "execution_count": 195,
   "metadata": {},
   "outputs": [
    {
     "data": {
      "text/html": [
       "<div>\n",
       "<style scoped>\n",
       "    .dataframe tbody tr th:only-of-type {\n",
       "        vertical-align: middle;\n",
       "    }\n",
       "\n",
       "    .dataframe tbody tr th {\n",
       "        vertical-align: top;\n",
       "    }\n",
       "\n",
       "    .dataframe thead th {\n",
       "        text-align: right;\n",
       "    }\n",
       "</style>\n",
       "<table border=\"1\" class=\"dataframe\">\n",
       "  <thead>\n",
       "    <tr style=\"text-align: right;\">\n",
       "      <th></th>\n",
       "      <th>PCT</th>\n",
       "      <th>household_median_income</th>\n",
       "      <th>CRIME</th>\n",
       "      <th>2019</th>\n",
       "      <th>2020</th>\n",
       "      <th>%_chg_2019-2020</th>\n",
       "      <th>2021_YTD</th>\n",
       "      <th>2020_YTD</th>\n",
       "      <th>%_Chg</th>\n",
       "    </tr>\n",
       "  </thead>\n",
       "  <tbody>\n",
       "    <tr>\n",
       "      <th>0</th>\n",
       "      <td>1</td>\n",
       "      <td>186231.0</td>\n",
       "      <td>MURDER &amp; NON NEGL. MANSLAUGHTER</td>\n",
       "      <td>1</td>\n",
       "      <td>1</td>\n",
       "      <td>0.0</td>\n",
       "      <td>1</td>\n",
       "      <td>0</td>\n",
       "      <td>100.0</td>\n",
       "    </tr>\n",
       "  </tbody>\n",
       "</table>\n",
       "</div>"
      ],
      "text/plain": [
       "   PCT  household_median_income                            CRIME  2019  2020  \\\n",
       "0    1                 186231.0  MURDER & NON NEGL. MANSLAUGHTER     1     1   \n",
       "\n",
       "   %_chg_2019-2020  2021_YTD  2020_YTD  %_Chg  \n",
       "0              0.0         1         0  100.0  "
      ]
     },
     "execution_count": 195,
     "metadata": {},
     "output_type": "execute_result"
    }
   ],
   "source": [
    "df_MF4.head(1)"
   ]
  },
  {
   "cell_type": "code",
   "execution_count": 196,
   "metadata": {},
   "outputs": [
    {
     "data": {
      "text/plain": [
       "-2.3904382470119523"
      ]
     },
     "execution_count": 196,
     "metadata": {},
     "output_type": "execute_result"
    }
   ],
   "source": [
    "(df_murder['2021_YTD'].sum() - df_murder['2020_YTD'].sum()) / df_murder['2020_YTD'].sum()*100"
   ]
  },
  {
   "cell_type": "code",
   "execution_count": 197,
   "metadata": {},
   "outputs": [
    {
     "name": "stderr",
     "output_type": "stream",
     "text": [
      "<ipython-input-197-511bba0d13db>:1: SettingWithCopyWarning: \n",
      "A value is trying to be set on a copy of a slice from a DataFrame.\n",
      "Try using .loc[row_indexer,col_indexer] = value instead\n",
      "\n",
      "See the caveats in the documentation: https://pandas.pydata.org/pandas-docs/stable/user_guide/indexing.html#returning-a-view-versus-a-copy\n",
      "  df_murder['%_chg_2019-2020'] = round(df_murder['%_chg_2019-2020'],1)\n"
     ]
    }
   ],
   "source": [
    "df_murder['%_chg_2019-2020'] = round(df_murder['%_chg_2019-2020'],1)"
   ]
  },
  {
   "cell_type": "code",
   "execution_count": 198,
   "metadata": {},
   "outputs": [
    {
     "name": "stderr",
     "output_type": "stream",
     "text": [
      "<ipython-input-198-929872bd3cc4>:1: SettingWithCopyWarning: \n",
      "A value is trying to be set on a copy of a slice from a DataFrame.\n",
      "Try using .loc[row_indexer,col_indexer] = value instead\n",
      "\n",
      "See the caveats in the documentation: https://pandas.pydata.org/pandas-docs/stable/user_guide/indexing.html#returning-a-view-versus-a-copy\n",
      "  df_murder['%_chg_2019-2020'] = df_murder['%_chg_2019-2020'].fillna(0.0).astype(int)\n"
     ]
    }
   ],
   "source": [
    "df_murder['%_chg_2019-2020'] = df_murder['%_chg_2019-2020'].fillna(0.0).astype(int)"
   ]
  },
  {
   "cell_type": "code",
   "execution_count": 199,
   "metadata": {},
   "outputs": [
    {
     "name": "stderr",
     "output_type": "stream",
     "text": [
      "<ipython-input-199-16d18dcb172e>:1: SettingWithCopyWarning: \n",
      "A value is trying to be set on a copy of a slice from a DataFrame.\n",
      "Try using .loc[row_indexer,col_indexer] = value instead\n",
      "\n",
      "See the caveats in the documentation: https://pandas.pydata.org/pandas-docs/stable/user_guide/indexing.html#returning-a-view-versus-a-copy\n",
      "  df_murder['%_Chg'] = round(df_murder['%_Chg'],1)\n"
     ]
    }
   ],
   "source": [
    "df_murder['%_Chg'] = round(df_murder['%_Chg'],1)"
   ]
  },
  {
   "cell_type": "code",
   "execution_count": 200,
   "metadata": {},
   "outputs": [],
   "source": [
    "import statistics"
   ]
  },
  {
   "cell_type": "code",
   "execution_count": 201,
   "metadata": {},
   "outputs": [
    {
     "data": {
      "text/plain": [
       "151.10092682991228"
      ]
     },
     "execution_count": 201,
     "metadata": {},
     "output_type": "execute_result"
    }
   ],
   "source": [
    "statistics.stdev(df_murder['%_chg_2019-2020'])"
   ]
  },
  {
   "cell_type": "code",
   "execution_count": 202,
   "metadata": {},
   "outputs": [
    {
     "data": {
      "text/plain": [
       "124.23815361667549"
      ]
     },
     "execution_count": 202,
     "metadata": {},
     "output_type": "execute_result"
    }
   ],
   "source": [
    "statistics.stdev(df_murder['%_Chg'])"
   ]
  },
  {
   "cell_type": "code",
   "execution_count": 203,
   "metadata": {},
   "outputs": [
    {
     "data": {
      "text/html": [
       "<div>\n",
       "<style scoped>\n",
       "    .dataframe tbody tr th:only-of-type {\n",
       "        vertical-align: middle;\n",
       "    }\n",
       "\n",
       "    .dataframe tbody tr th {\n",
       "        vertical-align: top;\n",
       "    }\n",
       "\n",
       "    .dataframe thead th {\n",
       "        text-align: right;\n",
       "    }\n",
       "</style>\n",
       "<table border=\"1\" class=\"dataframe\">\n",
       "  <thead>\n",
       "    <tr style=\"text-align: right;\">\n",
       "      <th></th>\n",
       "      <th>PCT</th>\n",
       "      <th>household_median_income</th>\n",
       "      <th>CRIME</th>\n",
       "      <th>2019</th>\n",
       "      <th>2020</th>\n",
       "      <th>%_chg_2019-2020</th>\n",
       "      <th>2021_YTD</th>\n",
       "      <th>2020_YTD</th>\n",
       "      <th>%_Chg</th>\n",
       "    </tr>\n",
       "  </thead>\n",
       "  <tbody>\n",
       "    <tr>\n",
       "      <th>0</th>\n",
       "      <td>1</td>\n",
       "      <td>186231.0</td>\n",
       "      <td>MURDER &amp; NON NEGL. MANSLAUGHTER</td>\n",
       "      <td>1</td>\n",
       "      <td>1</td>\n",
       "      <td>0</td>\n",
       "      <td>1</td>\n",
       "      <td>0</td>\n",
       "      <td>100.0</td>\n",
       "    </tr>\n",
       "    <tr>\n",
       "      <th>16</th>\n",
       "      <td>6</td>\n",
       "      <td>113191.0</td>\n",
       "      <td>MURDER &amp; NON NEGL. MANSLAUGHTER</td>\n",
       "      <td>0</td>\n",
       "      <td>1</td>\n",
       "      <td>100</td>\n",
       "      <td>0</td>\n",
       "      <td>0</td>\n",
       "      <td>0.0</td>\n",
       "    </tr>\n",
       "    <tr>\n",
       "      <th>64</th>\n",
       "      <td>17</td>\n",
       "      <td>132016.5</td>\n",
       "      <td>MURDER &amp; NON NEGL. MANSLAUGHTER</td>\n",
       "      <td>0</td>\n",
       "      <td>0</td>\n",
       "      <td>0</td>\n",
       "      <td>0</td>\n",
       "      <td>0</td>\n",
       "      <td>0.0</td>\n",
       "    </tr>\n",
       "    <tr>\n",
       "      <th>80</th>\n",
       "      <td>19</td>\n",
       "      <td>122569.0</td>\n",
       "      <td>MURDER &amp; NON NEGL. MANSLAUGHTER</td>\n",
       "      <td>0</td>\n",
       "      <td>1</td>\n",
       "      <td>100</td>\n",
       "      <td>1</td>\n",
       "      <td>1</td>\n",
       "      <td>0.0</td>\n",
       "    </tr>\n",
       "    <tr>\n",
       "      <th>88</th>\n",
       "      <td>20</td>\n",
       "      <td>132605.0</td>\n",
       "      <td>MURDER &amp; NON NEGL. MANSLAUGHTER</td>\n",
       "      <td>1</td>\n",
       "      <td>1</td>\n",
       "      <td>0</td>\n",
       "      <td>0</td>\n",
       "      <td>0</td>\n",
       "      <td>0.0</td>\n",
       "    </tr>\n",
       "    <tr>\n",
       "      <th>128</th>\n",
       "      <td>26</td>\n",
       "      <td>46263.0</td>\n",
       "      <td>MURDER &amp; NON NEGL. MANSLAUGHTER</td>\n",
       "      <td>2</td>\n",
       "      <td>2</td>\n",
       "      <td>0</td>\n",
       "      <td>1</td>\n",
       "      <td>1</td>\n",
       "      <td>0.0</td>\n",
       "    </tr>\n",
       "    <tr>\n",
       "      <th>136</th>\n",
       "      <td>28</td>\n",
       "      <td>46263.0</td>\n",
       "      <td>MURDER &amp; NON NEGL. MANSLAUGHTER</td>\n",
       "      <td>5</td>\n",
       "      <td>7</td>\n",
       "      <td>40</td>\n",
       "      <td>2</td>\n",
       "      <td>4</td>\n",
       "      <td>-50.0</td>\n",
       "    </tr>\n",
       "    <tr>\n",
       "      <th>144</th>\n",
       "      <td>30</td>\n",
       "      <td>53660.0</td>\n",
       "      <td>MURDER &amp; NON NEGL. MANSLAUGHTER</td>\n",
       "      <td>4</td>\n",
       "      <td>4</td>\n",
       "      <td>0</td>\n",
       "      <td>1</td>\n",
       "      <td>4</td>\n",
       "      <td>-75.0</td>\n",
       "    </tr>\n",
       "    <tr>\n",
       "      <th>152</th>\n",
       "      <td>32</td>\n",
       "      <td>46263.0</td>\n",
       "      <td>MURDER &amp; NON NEGL. MANSLAUGHTER</td>\n",
       "      <td>10</td>\n",
       "      <td>9</td>\n",
       "      <td>-10</td>\n",
       "      <td>8</td>\n",
       "      <td>3</td>\n",
       "      <td>166.7</td>\n",
       "    </tr>\n",
       "    <tr>\n",
       "      <th>160</th>\n",
       "      <td>33</td>\n",
       "      <td>53660.0</td>\n",
       "      <td>MURDER &amp; NON NEGL. MANSLAUGHTER</td>\n",
       "      <td>4</td>\n",
       "      <td>4</td>\n",
       "      <td>0</td>\n",
       "      <td>2</td>\n",
       "      <td>1</td>\n",
       "      <td>100.0</td>\n",
       "    </tr>\n",
       "    <tr>\n",
       "      <th>168</th>\n",
       "      <td>34</td>\n",
       "      <td>53660.0</td>\n",
       "      <td>MURDER &amp; NON NEGL. MANSLAUGHTER</td>\n",
       "      <td>6</td>\n",
       "      <td>7</td>\n",
       "      <td>16</td>\n",
       "      <td>8</td>\n",
       "      <td>3</td>\n",
       "      <td>166.7</td>\n",
       "    </tr>\n",
       "    <tr>\n",
       "      <th>176</th>\n",
       "      <td>40</td>\n",
       "      <td>25775.0</td>\n",
       "      <td>MURDER &amp; NON NEGL. MANSLAUGHTER</td>\n",
       "      <td>10</td>\n",
       "      <td>13</td>\n",
       "      <td>30</td>\n",
       "      <td>6</td>\n",
       "      <td>6</td>\n",
       "      <td>0.0</td>\n",
       "    </tr>\n",
       "    <tr>\n",
       "      <th>184</th>\n",
       "      <td>41</td>\n",
       "      <td>25775.0</td>\n",
       "      <td>MURDER &amp; NON NEGL. MANSLAUGHTER</td>\n",
       "      <td>5</td>\n",
       "      <td>5</td>\n",
       "      <td>0</td>\n",
       "      <td>7</td>\n",
       "      <td>2</td>\n",
       "      <td>250.0</td>\n",
       "    </tr>\n",
       "    <tr>\n",
       "      <th>192</th>\n",
       "      <td>42</td>\n",
       "      <td>29136.0</td>\n",
       "      <td>MURDER &amp; NON NEGL. MANSLAUGHTER</td>\n",
       "      <td>13</td>\n",
       "      <td>14</td>\n",
       "      <td>7</td>\n",
       "      <td>13</td>\n",
       "      <td>5</td>\n",
       "      <td>160.0</td>\n",
       "    </tr>\n",
       "    <tr>\n",
       "      <th>200</th>\n",
       "      <td>43</td>\n",
       "      <td>37503.0</td>\n",
       "      <td>MURDER &amp; NON NEGL. MANSLAUGHTER</td>\n",
       "      <td>5</td>\n",
       "      <td>9</td>\n",
       "      <td>80</td>\n",
       "      <td>10</td>\n",
       "      <td>6</td>\n",
       "      <td>66.7</td>\n",
       "    </tr>\n",
       "    <tr>\n",
       "      <th>208</th>\n",
       "      <td>44</td>\n",
       "      <td>29579.0</td>\n",
       "      <td>MURDER &amp; NON NEGL. MANSLAUGHTER</td>\n",
       "      <td>8</td>\n",
       "      <td>14</td>\n",
       "      <td>75</td>\n",
       "      <td>9</td>\n",
       "      <td>9</td>\n",
       "      <td>0.0</td>\n",
       "    </tr>\n",
       "    <tr>\n",
       "      <th>232</th>\n",
       "      <td>47</td>\n",
       "      <td>58393.0</td>\n",
       "      <td>MURDER &amp; NON NEGL. MANSLAUGHTER</td>\n",
       "      <td>8</td>\n",
       "      <td>12</td>\n",
       "      <td>50</td>\n",
       "      <td>5</td>\n",
       "      <td>8</td>\n",
       "      <td>-37.5</td>\n",
       "    </tr>\n",
       "    <tr>\n",
       "      <th>240</th>\n",
       "      <td>48</td>\n",
       "      <td>29136.0</td>\n",
       "      <td>MURDER &amp; NON NEGL. MANSLAUGHTER</td>\n",
       "      <td>10</td>\n",
       "      <td>15</td>\n",
       "      <td>50</td>\n",
       "      <td>9</td>\n",
       "      <td>8</td>\n",
       "      <td>12.5</td>\n",
       "    </tr>\n",
       "    <tr>\n",
       "      <th>248</th>\n",
       "      <td>49</td>\n",
       "      <td>59829.5</td>\n",
       "      <td>MURDER &amp; NON NEGL. MANSLAUGHTER</td>\n",
       "      <td>3</td>\n",
       "      <td>6</td>\n",
       "      <td>100</td>\n",
       "      <td>2</td>\n",
       "      <td>4</td>\n",
       "      <td>-50.0</td>\n",
       "    </tr>\n",
       "    <tr>\n",
       "      <th>264</th>\n",
       "      <td>52</td>\n",
       "      <td>37804.0</td>\n",
       "      <td>MURDER &amp; NON NEGL. MANSLAUGHTER</td>\n",
       "      <td>8</td>\n",
       "      <td>11</td>\n",
       "      <td>37</td>\n",
       "      <td>2</td>\n",
       "      <td>3</td>\n",
       "      <td>-33.3</td>\n",
       "    </tr>\n",
       "    <tr>\n",
       "      <th>272</th>\n",
       "      <td>60</td>\n",
       "      <td>54334.5</td>\n",
       "      <td>MURDER &amp; NON NEGL. MANSLAUGHTER</td>\n",
       "      <td>6</td>\n",
       "      <td>10</td>\n",
       "      <td>66</td>\n",
       "      <td>4</td>\n",
       "      <td>5</td>\n",
       "      <td>-20.0</td>\n",
       "    </tr>\n",
       "    <tr>\n",
       "      <th>280</th>\n",
       "      <td>61</td>\n",
       "      <td>54334.5</td>\n",
       "      <td>MURDER &amp; NON NEGL. MANSLAUGHTER</td>\n",
       "      <td>3</td>\n",
       "      <td>3</td>\n",
       "      <td>0</td>\n",
       "      <td>0</td>\n",
       "      <td>1</td>\n",
       "      <td>-100.0</td>\n",
       "    </tr>\n",
       "    <tr>\n",
       "      <th>296</th>\n",
       "      <td>63</td>\n",
       "      <td>70793.0</td>\n",
       "      <td>MURDER &amp; NON NEGL. MANSLAUGHTER</td>\n",
       "      <td>2</td>\n",
       "      <td>2</td>\n",
       "      <td>0</td>\n",
       "      <td>1</td>\n",
       "      <td>1</td>\n",
       "      <td>0.0</td>\n",
       "    </tr>\n",
       "    <tr>\n",
       "      <th>312</th>\n",
       "      <td>67</td>\n",
       "      <td>59038.5</td>\n",
       "      <td>MURDER &amp; NON NEGL. MANSLAUGHTER</td>\n",
       "      <td>7</td>\n",
       "      <td>14</td>\n",
       "      <td>100</td>\n",
       "      <td>7</td>\n",
       "      <td>8</td>\n",
       "      <td>-12.5</td>\n",
       "    </tr>\n",
       "    <tr>\n",
       "      <th>328</th>\n",
       "      <td>69</td>\n",
       "      <td>70793.0</td>\n",
       "      <td>MURDER &amp; NON NEGL. MANSLAUGHTER</td>\n",
       "      <td>2</td>\n",
       "      <td>4</td>\n",
       "      <td>100</td>\n",
       "      <td>6</td>\n",
       "      <td>1</td>\n",
       "      <td>500.0</td>\n",
       "    </tr>\n",
       "    <tr>\n",
       "      <th>336</th>\n",
       "      <td>70</td>\n",
       "      <td>59038.5</td>\n",
       "      <td>MURDER &amp; NON NEGL. MANSLAUGHTER</td>\n",
       "      <td>7</td>\n",
       "      <td>10</td>\n",
       "      <td>42</td>\n",
       "      <td>3</td>\n",
       "      <td>2</td>\n",
       "      <td>50.0</td>\n",
       "    </tr>\n",
       "    <tr>\n",
       "      <th>344</th>\n",
       "      <td>71</td>\n",
       "      <td>44905.0</td>\n",
       "      <td>MURDER &amp; NON NEGL. MANSLAUGHTER</td>\n",
       "      <td>4</td>\n",
       "      <td>8</td>\n",
       "      <td>100</td>\n",
       "      <td>2</td>\n",
       "      <td>4</td>\n",
       "      <td>-50.0</td>\n",
       "    </tr>\n",
       "    <tr>\n",
       "      <th>384</th>\n",
       "      <td>77</td>\n",
       "      <td>44905.0</td>\n",
       "      <td>MURDER &amp; NON NEGL. MANSLAUGHTER</td>\n",
       "      <td>14</td>\n",
       "      <td>20</td>\n",
       "      <td>42</td>\n",
       "      <td>6</td>\n",
       "      <td>12</td>\n",
       "      <td>-50.0</td>\n",
       "    </tr>\n",
       "    <tr>\n",
       "      <th>400</th>\n",
       "      <td>79</td>\n",
       "      <td>58872.0</td>\n",
       "      <td>MURDER &amp; NON NEGL. MANSLAUGHTER</td>\n",
       "      <td>10</td>\n",
       "      <td>10</td>\n",
       "      <td>0</td>\n",
       "      <td>4</td>\n",
       "      <td>5</td>\n",
       "      <td>-20.0</td>\n",
       "    </tr>\n",
       "    <tr>\n",
       "      <th>472</th>\n",
       "      <td>102</td>\n",
       "      <td>72003.5</td>\n",
       "      <td>MURDER &amp; NON NEGL. MANSLAUGHTER</td>\n",
       "      <td>5</td>\n",
       "      <td>5</td>\n",
       "      <td>0</td>\n",
       "      <td>3</td>\n",
       "      <td>3</td>\n",
       "      <td>0.0</td>\n",
       "    </tr>\n",
       "    <tr>\n",
       "      <th>480</th>\n",
       "      <td>103</td>\n",
       "      <td>62927.0</td>\n",
       "      <td>MURDER &amp; NON NEGL. MANSLAUGHTER</td>\n",
       "      <td>5</td>\n",
       "      <td>8</td>\n",
       "      <td>60</td>\n",
       "      <td>4</td>\n",
       "      <td>4</td>\n",
       "      <td>0.0</td>\n",
       "    </tr>\n",
       "    <tr>\n",
       "      <th>496</th>\n",
       "      <td>105</td>\n",
       "      <td>88300.0</td>\n",
       "      <td>MURDER &amp; NON NEGL. MANSLAUGHTER</td>\n",
       "      <td>8</td>\n",
       "      <td>8</td>\n",
       "      <td>0</td>\n",
       "      <td>4</td>\n",
       "      <td>2</td>\n",
       "      <td>100.0</td>\n",
       "    </tr>\n",
       "    <tr>\n",
       "      <th>520</th>\n",
       "      <td>108</td>\n",
       "      <td>74420.5</td>\n",
       "      <td>MURDER &amp; NON NEGL. MANSLAUGHTER</td>\n",
       "      <td>2</td>\n",
       "      <td>2</td>\n",
       "      <td>0</td>\n",
       "      <td>1</td>\n",
       "      <td>1</td>\n",
       "      <td>0.0</td>\n",
       "    </tr>\n",
       "    <tr>\n",
       "      <th>528</th>\n",
       "      <td>109</td>\n",
       "      <td>68848.0</td>\n",
       "      <td>MURDER &amp; NON NEGL. MANSLAUGHTER</td>\n",
       "      <td>3</td>\n",
       "      <td>3</td>\n",
       "      <td>0</td>\n",
       "      <td>2</td>\n",
       "      <td>2</td>\n",
       "      <td>0.0</td>\n",
       "    </tr>\n",
       "    <tr>\n",
       "      <th>544</th>\n",
       "      <td>111</td>\n",
       "      <td>84301.0</td>\n",
       "      <td>MURDER &amp; NON NEGL. MANSLAUGHTER</td>\n",
       "      <td>1</td>\n",
       "      <td>1</td>\n",
       "      <td>0</td>\n",
       "      <td>0</td>\n",
       "      <td>0</td>\n",
       "      <td>0.0</td>\n",
       "    </tr>\n",
       "    <tr>\n",
       "      <th>552</th>\n",
       "      <td>112</td>\n",
       "      <td>79611.5</td>\n",
       "      <td>MURDER &amp; NON NEGL. MANSLAUGHTER</td>\n",
       "      <td>0</td>\n",
       "      <td>0</td>\n",
       "      <td>0</td>\n",
       "      <td>0</td>\n",
       "      <td>0</td>\n",
       "      <td>0.0</td>\n",
       "    </tr>\n",
       "    <tr>\n",
       "      <th>576</th>\n",
       "      <td>115</td>\n",
       "      <td>57435.0</td>\n",
       "      <td>MURDER &amp; NON NEGL. MANSLAUGHTER</td>\n",
       "      <td>11</td>\n",
       "      <td>11</td>\n",
       "      <td>0</td>\n",
       "      <td>2</td>\n",
       "      <td>9</td>\n",
       "      <td>-77.8</td>\n",
       "    </tr>\n",
       "  </tbody>\n",
       "</table>\n",
       "</div>"
      ],
      "text/plain": [
       "     PCT  household_median_income                            CRIME  2019  \\\n",
       "0      1                 186231.0  MURDER & NON NEGL. MANSLAUGHTER     1   \n",
       "16     6                 113191.0  MURDER & NON NEGL. MANSLAUGHTER     0   \n",
       "64    17                 132016.5  MURDER & NON NEGL. MANSLAUGHTER     0   \n",
       "80    19                 122569.0  MURDER & NON NEGL. MANSLAUGHTER     0   \n",
       "88    20                 132605.0  MURDER & NON NEGL. MANSLAUGHTER     1   \n",
       "128   26                  46263.0  MURDER & NON NEGL. MANSLAUGHTER     2   \n",
       "136   28                  46263.0  MURDER & NON NEGL. MANSLAUGHTER     5   \n",
       "144   30                  53660.0  MURDER & NON NEGL. MANSLAUGHTER     4   \n",
       "152   32                  46263.0  MURDER & NON NEGL. MANSLAUGHTER    10   \n",
       "160   33                  53660.0  MURDER & NON NEGL. MANSLAUGHTER     4   \n",
       "168   34                  53660.0  MURDER & NON NEGL. MANSLAUGHTER     6   \n",
       "176   40                  25775.0  MURDER & NON NEGL. MANSLAUGHTER    10   \n",
       "184   41                  25775.0  MURDER & NON NEGL. MANSLAUGHTER     5   \n",
       "192   42                  29136.0  MURDER & NON NEGL. MANSLAUGHTER    13   \n",
       "200   43                  37503.0  MURDER & NON NEGL. MANSLAUGHTER     5   \n",
       "208   44                  29579.0  MURDER & NON NEGL. MANSLAUGHTER     8   \n",
       "232   47                  58393.0  MURDER & NON NEGL. MANSLAUGHTER     8   \n",
       "240   48                  29136.0  MURDER & NON NEGL. MANSLAUGHTER    10   \n",
       "248   49                  59829.5  MURDER & NON NEGL. MANSLAUGHTER     3   \n",
       "264   52                  37804.0  MURDER & NON NEGL. MANSLAUGHTER     8   \n",
       "272   60                  54334.5  MURDER & NON NEGL. MANSLAUGHTER     6   \n",
       "280   61                  54334.5  MURDER & NON NEGL. MANSLAUGHTER     3   \n",
       "296   63                  70793.0  MURDER & NON NEGL. MANSLAUGHTER     2   \n",
       "312   67                  59038.5  MURDER & NON NEGL. MANSLAUGHTER     7   \n",
       "328   69                  70793.0  MURDER & NON NEGL. MANSLAUGHTER     2   \n",
       "336   70                  59038.5  MURDER & NON NEGL. MANSLAUGHTER     7   \n",
       "344   71                  44905.0  MURDER & NON NEGL. MANSLAUGHTER     4   \n",
       "384   77                  44905.0  MURDER & NON NEGL. MANSLAUGHTER    14   \n",
       "400   79                  58872.0  MURDER & NON NEGL. MANSLAUGHTER    10   \n",
       "472  102                  72003.5  MURDER & NON NEGL. MANSLAUGHTER     5   \n",
       "480  103                  62927.0  MURDER & NON NEGL. MANSLAUGHTER     5   \n",
       "496  105                  88300.0  MURDER & NON NEGL. MANSLAUGHTER     8   \n",
       "520  108                  74420.5  MURDER & NON NEGL. MANSLAUGHTER     2   \n",
       "528  109                  68848.0  MURDER & NON NEGL. MANSLAUGHTER     3   \n",
       "544  111                  84301.0  MURDER & NON NEGL. MANSLAUGHTER     1   \n",
       "552  112                  79611.5  MURDER & NON NEGL. MANSLAUGHTER     0   \n",
       "576  115                  57435.0  MURDER & NON NEGL. MANSLAUGHTER    11   \n",
       "\n",
       "     2020  %_chg_2019-2020  2021_YTD  2020_YTD  %_Chg  \n",
       "0       1                0         1         0  100.0  \n",
       "16      1              100         0         0    0.0  \n",
       "64      0                0         0         0    0.0  \n",
       "80      1              100         1         1    0.0  \n",
       "88      1                0         0         0    0.0  \n",
       "128     2                0         1         1    0.0  \n",
       "136     7               40         2         4  -50.0  \n",
       "144     4                0         1         4  -75.0  \n",
       "152     9              -10         8         3  166.7  \n",
       "160     4                0         2         1  100.0  \n",
       "168     7               16         8         3  166.7  \n",
       "176    13               30         6         6    0.0  \n",
       "184     5                0         7         2  250.0  \n",
       "192    14                7        13         5  160.0  \n",
       "200     9               80        10         6   66.7  \n",
       "208    14               75         9         9    0.0  \n",
       "232    12               50         5         8  -37.5  \n",
       "240    15               50         9         8   12.5  \n",
       "248     6              100         2         4  -50.0  \n",
       "264    11               37         2         3  -33.3  \n",
       "272    10               66         4         5  -20.0  \n",
       "280     3                0         0         1 -100.0  \n",
       "296     2                0         1         1    0.0  \n",
       "312    14              100         7         8  -12.5  \n",
       "328     4              100         6         1  500.0  \n",
       "336    10               42         3         2   50.0  \n",
       "344     8              100         2         4  -50.0  \n",
       "384    20               42         6        12  -50.0  \n",
       "400    10                0         4         5  -20.0  \n",
       "472     5                0         3         3    0.0  \n",
       "480     8               60         4         4    0.0  \n",
       "496     8                0         4         2  100.0  \n",
       "520     2                0         1         1    0.0  \n",
       "528     3                0         2         2    0.0  \n",
       "544     1                0         0         0    0.0  \n",
       "552     0                0         0         0    0.0  \n",
       "576    11                0         2         9  -77.8  "
      ]
     },
     "execution_count": 203,
     "metadata": {},
     "output_type": "execute_result"
    }
   ],
   "source": [
    "df_murder[(df_murder['%_chg_2019-2020'] > -28.5) & (df_murder['%_chg_2019-2020'] < 122.5)]"
   ]
  },
  {
   "cell_type": "code",
   "execution_count": 204,
   "metadata": {},
   "outputs": [
    {
     "data": {
      "text/html": [
       "<div>\n",
       "<style scoped>\n",
       "    .dataframe tbody tr th:only-of-type {\n",
       "        vertical-align: middle;\n",
       "    }\n",
       "\n",
       "    .dataframe tbody tr th {\n",
       "        vertical-align: top;\n",
       "    }\n",
       "\n",
       "    .dataframe thead th {\n",
       "        text-align: right;\n",
       "    }\n",
       "</style>\n",
       "<table border=\"1\" class=\"dataframe\">\n",
       "  <thead>\n",
       "    <tr style=\"text-align: right;\">\n",
       "      <th></th>\n",
       "      <th>PCT</th>\n",
       "      <th>household_median_income</th>\n",
       "      <th>CRIME</th>\n",
       "      <th>2019</th>\n",
       "      <th>2020</th>\n",
       "      <th>%_chg_2019-2020</th>\n",
       "      <th>2021_YTD</th>\n",
       "      <th>2020_YTD</th>\n",
       "      <th>%_Chg</th>\n",
       "    </tr>\n",
       "  </thead>\n",
       "  <tbody>\n",
       "    <tr>\n",
       "      <th>408</th>\n",
       "      <td>81</td>\n",
       "      <td>44905.0</td>\n",
       "      <td>MURDER &amp; NON NEGL. MANSLAUGHTER</td>\n",
       "      <td>3</td>\n",
       "      <td>8</td>\n",
       "      <td>166</td>\n",
       "      <td>8</td>\n",
       "      <td>1</td>\n",
       "      <td>700.0</td>\n",
       "    </tr>\n",
       "    <tr>\n",
       "      <th>328</th>\n",
       "      <td>69</td>\n",
       "      <td>70793.0</td>\n",
       "      <td>MURDER &amp; NON NEGL. MANSLAUGHTER</td>\n",
       "      <td>2</td>\n",
       "      <td>4</td>\n",
       "      <td>100</td>\n",
       "      <td>6</td>\n",
       "      <td>1</td>\n",
       "      <td>500.0</td>\n",
       "    </tr>\n",
       "  </tbody>\n",
       "</table>\n",
       "</div>"
      ],
      "text/plain": [
       "     PCT  household_median_income                            CRIME  2019  \\\n",
       "408   81                  44905.0  MURDER & NON NEGL. MANSLAUGHTER     3   \n",
       "328   69                  70793.0  MURDER & NON NEGL. MANSLAUGHTER     2   \n",
       "\n",
       "     2020  %_chg_2019-2020  2021_YTD  2020_YTD  %_Chg  \n",
       "408     8              166         8         1  700.0  \n",
       "328     4              100         6         1  500.0  "
      ]
     },
     "execution_count": 204,
     "metadata": {},
     "output_type": "execute_result"
    }
   ],
   "source": [
    "df_murder.sort_values(by='%_Chg', ascending=False).head(2)"
   ]
  },
  {
   "cell_type": "code",
   "execution_count": 205,
   "metadata": {},
   "outputs": [
    {
     "data": {
      "text/html": [
       "<div>\n",
       "<style scoped>\n",
       "    .dataframe tbody tr th:only-of-type {\n",
       "        vertical-align: middle;\n",
       "    }\n",
       "\n",
       "    .dataframe tbody tr th {\n",
       "        vertical-align: top;\n",
       "    }\n",
       "\n",
       "    .dataframe thead th {\n",
       "        text-align: right;\n",
       "    }\n",
       "</style>\n",
       "<table border=\"1\" class=\"dataframe\">\n",
       "  <thead>\n",
       "    <tr style=\"text-align: right;\">\n",
       "      <th></th>\n",
       "      <th>PCT</th>\n",
       "      <th>household_median_income</th>\n",
       "      <th>CRIME</th>\n",
       "      <th>2019</th>\n",
       "      <th>2020</th>\n",
       "      <th>%_chg_2019-2020</th>\n",
       "      <th>2021_YTD</th>\n",
       "      <th>2020_YTD</th>\n",
       "      <th>%_Chg</th>\n",
       "    </tr>\n",
       "  </thead>\n",
       "  <tbody>\n",
       "    <tr>\n",
       "      <th>24</th>\n",
       "      <td>7</td>\n",
       "      <td>63717.0</td>\n",
       "      <td>MURDER &amp; NON NEGL. MANSLAUGHTER</td>\n",
       "      <td>0</td>\n",
       "      <td>2</td>\n",
       "      <td>200</td>\n",
       "      <td>0</td>\n",
       "      <td>1</td>\n",
       "      <td>-100.0</td>\n",
       "    </tr>\n",
       "    <tr>\n",
       "      <th>40</th>\n",
       "      <td>10</td>\n",
       "      <td>113138.0</td>\n",
       "      <td>MURDER &amp; NON NEGL. MANSLAUGHTER</td>\n",
       "      <td>0</td>\n",
       "      <td>3</td>\n",
       "      <td>300</td>\n",
       "      <td>1</td>\n",
       "      <td>2</td>\n",
       "      <td>-50.0</td>\n",
       "    </tr>\n",
       "    <tr>\n",
       "      <th>48</th>\n",
       "      <td>13</td>\n",
       "      <td>132016.5</td>\n",
       "      <td>MURDER &amp; NON NEGL. MANSLAUGHTER</td>\n",
       "      <td>0</td>\n",
       "      <td>3</td>\n",
       "      <td>300</td>\n",
       "      <td>1</td>\n",
       "      <td>2</td>\n",
       "      <td>-50.0</td>\n",
       "    </tr>\n",
       "    <tr>\n",
       "      <th>104</th>\n",
       "      <td>23</td>\n",
       "      <td>31759.5</td>\n",
       "      <td>MURDER &amp; NON NEGL. MANSLAUGHTER</td>\n",
       "      <td>2</td>\n",
       "      <td>9</td>\n",
       "      <td>350</td>\n",
       "      <td>4</td>\n",
       "      <td>7</td>\n",
       "      <td>-42.9</td>\n",
       "    </tr>\n",
       "    <tr>\n",
       "      <th>112</th>\n",
       "      <td>24</td>\n",
       "      <td>132605.0</td>\n",
       "      <td>MURDER &amp; NON NEGL. MANSLAUGHTER</td>\n",
       "      <td>2</td>\n",
       "      <td>8</td>\n",
       "      <td>300</td>\n",
       "      <td>0</td>\n",
       "      <td>8</td>\n",
       "      <td>-100.0</td>\n",
       "    </tr>\n",
       "    <tr>\n",
       "      <th>120</th>\n",
       "      <td>25</td>\n",
       "      <td>31759.5</td>\n",
       "      <td>MURDER &amp; NON NEGL. MANSLAUGHTER</td>\n",
       "      <td>3</td>\n",
       "      <td>12</td>\n",
       "      <td>300</td>\n",
       "      <td>6</td>\n",
       "      <td>8</td>\n",
       "      <td>-25.0</td>\n",
       "    </tr>\n",
       "    <tr>\n",
       "      <th>136</th>\n",
       "      <td>28</td>\n",
       "      <td>46263.0</td>\n",
       "      <td>MURDER &amp; NON NEGL. MANSLAUGHTER</td>\n",
       "      <td>5</td>\n",
       "      <td>7</td>\n",
       "      <td>40</td>\n",
       "      <td>2</td>\n",
       "      <td>4</td>\n",
       "      <td>-50.0</td>\n",
       "    </tr>\n",
       "    <tr>\n",
       "      <th>144</th>\n",
       "      <td>30</td>\n",
       "      <td>53660.0</td>\n",
       "      <td>MURDER &amp; NON NEGL. MANSLAUGHTER</td>\n",
       "      <td>4</td>\n",
       "      <td>4</td>\n",
       "      <td>0</td>\n",
       "      <td>1</td>\n",
       "      <td>4</td>\n",
       "      <td>-75.0</td>\n",
       "    </tr>\n",
       "    <tr>\n",
       "      <th>232</th>\n",
       "      <td>47</td>\n",
       "      <td>58393.0</td>\n",
       "      <td>MURDER &amp; NON NEGL. MANSLAUGHTER</td>\n",
       "      <td>8</td>\n",
       "      <td>12</td>\n",
       "      <td>50</td>\n",
       "      <td>5</td>\n",
       "      <td>8</td>\n",
       "      <td>-37.5</td>\n",
       "    </tr>\n",
       "    <tr>\n",
       "      <th>248</th>\n",
       "      <td>49</td>\n",
       "      <td>59829.5</td>\n",
       "      <td>MURDER &amp; NON NEGL. MANSLAUGHTER</td>\n",
       "      <td>3</td>\n",
       "      <td>6</td>\n",
       "      <td>100</td>\n",
       "      <td>2</td>\n",
       "      <td>4</td>\n",
       "      <td>-50.0</td>\n",
       "    </tr>\n",
       "    <tr>\n",
       "      <th>256</th>\n",
       "      <td>50</td>\n",
       "      <td>73565.0</td>\n",
       "      <td>MURDER &amp; NON NEGL. MANSLAUGHTER</td>\n",
       "      <td>1</td>\n",
       "      <td>3</td>\n",
       "      <td>200</td>\n",
       "      <td>0</td>\n",
       "      <td>2</td>\n",
       "      <td>-200.0</td>\n",
       "    </tr>\n",
       "    <tr>\n",
       "      <th>264</th>\n",
       "      <td>52</td>\n",
       "      <td>37804.0</td>\n",
       "      <td>MURDER &amp; NON NEGL. MANSLAUGHTER</td>\n",
       "      <td>8</td>\n",
       "      <td>11</td>\n",
       "      <td>37</td>\n",
       "      <td>2</td>\n",
       "      <td>3</td>\n",
       "      <td>-33.3</td>\n",
       "    </tr>\n",
       "    <tr>\n",
       "      <th>272</th>\n",
       "      <td>60</td>\n",
       "      <td>54334.5</td>\n",
       "      <td>MURDER &amp; NON NEGL. MANSLAUGHTER</td>\n",
       "      <td>6</td>\n",
       "      <td>10</td>\n",
       "      <td>66</td>\n",
       "      <td>4</td>\n",
       "      <td>5</td>\n",
       "      <td>-20.0</td>\n",
       "    </tr>\n",
       "    <tr>\n",
       "      <th>280</th>\n",
       "      <td>61</td>\n",
       "      <td>54334.5</td>\n",
       "      <td>MURDER &amp; NON NEGL. MANSLAUGHTER</td>\n",
       "      <td>3</td>\n",
       "      <td>3</td>\n",
       "      <td>0</td>\n",
       "      <td>0</td>\n",
       "      <td>1</td>\n",
       "      <td>-100.0</td>\n",
       "    </tr>\n",
       "    <tr>\n",
       "      <th>304</th>\n",
       "      <td>66</td>\n",
       "      <td>53081.5</td>\n",
       "      <td>MURDER &amp; NON NEGL. MANSLAUGHTER</td>\n",
       "      <td>1</td>\n",
       "      <td>5</td>\n",
       "      <td>400</td>\n",
       "      <td>1</td>\n",
       "      <td>2</td>\n",
       "      <td>-50.0</td>\n",
       "    </tr>\n",
       "    <tr>\n",
       "      <th>312</th>\n",
       "      <td>67</td>\n",
       "      <td>59038.5</td>\n",
       "      <td>MURDER &amp; NON NEGL. MANSLAUGHTER</td>\n",
       "      <td>7</td>\n",
       "      <td>14</td>\n",
       "      <td>100</td>\n",
       "      <td>7</td>\n",
       "      <td>8</td>\n",
       "      <td>-12.5</td>\n",
       "    </tr>\n",
       "    <tr>\n",
       "      <th>320</th>\n",
       "      <td>68</td>\n",
       "      <td>64906.5</td>\n",
       "      <td>MURDER &amp; NON NEGL. MANSLAUGHTER</td>\n",
       "      <td>1</td>\n",
       "      <td>3</td>\n",
       "      <td>200</td>\n",
       "      <td>0</td>\n",
       "      <td>1</td>\n",
       "      <td>-100.0</td>\n",
       "    </tr>\n",
       "    <tr>\n",
       "      <th>344</th>\n",
       "      <td>71</td>\n",
       "      <td>44905.0</td>\n",
       "      <td>MURDER &amp; NON NEGL. MANSLAUGHTER</td>\n",
       "      <td>4</td>\n",
       "      <td>8</td>\n",
       "      <td>100</td>\n",
       "      <td>2</td>\n",
       "      <td>4</td>\n",
       "      <td>-50.0</td>\n",
       "    </tr>\n",
       "    <tr>\n",
       "      <th>360</th>\n",
       "      <td>73</td>\n",
       "      <td>35713.0</td>\n",
       "      <td>MURDER &amp; NON NEGL. MANSLAUGHTER</td>\n",
       "      <td>11</td>\n",
       "      <td>25</td>\n",
       "      <td>127</td>\n",
       "      <td>9</td>\n",
       "      <td>16</td>\n",
       "      <td>-43.8</td>\n",
       "    </tr>\n",
       "    <tr>\n",
       "      <th>368</th>\n",
       "      <td>75</td>\n",
       "      <td>40892.5</td>\n",
       "      <td>MURDER &amp; NON NEGL. MANSLAUGHTER</td>\n",
       "      <td>10</td>\n",
       "      <td>26</td>\n",
       "      <td>160</td>\n",
       "      <td>10</td>\n",
       "      <td>21</td>\n",
       "      <td>-52.4</td>\n",
       "    </tr>\n",
       "    <tr>\n",
       "      <th>376</th>\n",
       "      <td>76</td>\n",
       "      <td>61200.0</td>\n",
       "      <td>MURDER &amp; NON NEGL. MANSLAUGHTER</td>\n",
       "      <td>0</td>\n",
       "      <td>6</td>\n",
       "      <td>600</td>\n",
       "      <td>2</td>\n",
       "      <td>4</td>\n",
       "      <td>-50.0</td>\n",
       "    </tr>\n",
       "    <tr>\n",
       "      <th>384</th>\n",
       "      <td>77</td>\n",
       "      <td>44905.0</td>\n",
       "      <td>MURDER &amp; NON NEGL. MANSLAUGHTER</td>\n",
       "      <td>14</td>\n",
       "      <td>20</td>\n",
       "      <td>42</td>\n",
       "      <td>6</td>\n",
       "      <td>12</td>\n",
       "      <td>-50.0</td>\n",
       "    </tr>\n",
       "    <tr>\n",
       "      <th>400</th>\n",
       "      <td>79</td>\n",
       "      <td>58872.0</td>\n",
       "      <td>MURDER &amp; NON NEGL. MANSLAUGHTER</td>\n",
       "      <td>10</td>\n",
       "      <td>10</td>\n",
       "      <td>0</td>\n",
       "      <td>4</td>\n",
       "      <td>5</td>\n",
       "      <td>-20.0</td>\n",
       "    </tr>\n",
       "    <tr>\n",
       "      <th>456</th>\n",
       "      <td>100</td>\n",
       "      <td>60569.0</td>\n",
       "      <td>MURDER &amp; NON NEGL. MANSLAUGHTER</td>\n",
       "      <td>2</td>\n",
       "      <td>5</td>\n",
       "      <td>150</td>\n",
       "      <td>0</td>\n",
       "      <td>2</td>\n",
       "      <td>-100.0</td>\n",
       "    </tr>\n",
       "    <tr>\n",
       "      <th>576</th>\n",
       "      <td>115</td>\n",
       "      <td>57435.0</td>\n",
       "      <td>MURDER &amp; NON NEGL. MANSLAUGHTER</td>\n",
       "      <td>11</td>\n",
       "      <td>11</td>\n",
       "      <td>0</td>\n",
       "      <td>2</td>\n",
       "      <td>9</td>\n",
       "      <td>-77.8</td>\n",
       "    </tr>\n",
       "    <tr>\n",
       "      <th>584</th>\n",
       "      <td>120</td>\n",
       "      <td>62052.0</td>\n",
       "      <td>MURDER &amp; NON NEGL. MANSLAUGHTER</td>\n",
       "      <td>3</td>\n",
       "      <td>12</td>\n",
       "      <td>300</td>\n",
       "      <td>4</td>\n",
       "      <td>6</td>\n",
       "      <td>-33.3</td>\n",
       "    </tr>\n",
       "    <tr>\n",
       "      <th>592</th>\n",
       "      <td>121</td>\n",
       "      <td>71645.0</td>\n",
       "      <td>MURDER &amp; NON NEGL. MANSLAUGHTER</td>\n",
       "      <td>2</td>\n",
       "      <td>7</td>\n",
       "      <td>250</td>\n",
       "      <td>2</td>\n",
       "      <td>4</td>\n",
       "      <td>-50.0</td>\n",
       "    </tr>\n",
       "  </tbody>\n",
       "</table>\n",
       "</div>"
      ],
      "text/plain": [
       "     PCT  household_median_income                            CRIME  2019  \\\n",
       "24     7                  63717.0  MURDER & NON NEGL. MANSLAUGHTER     0   \n",
       "40    10                 113138.0  MURDER & NON NEGL. MANSLAUGHTER     0   \n",
       "48    13                 132016.5  MURDER & NON NEGL. MANSLAUGHTER     0   \n",
       "104   23                  31759.5  MURDER & NON NEGL. MANSLAUGHTER     2   \n",
       "112   24                 132605.0  MURDER & NON NEGL. MANSLAUGHTER     2   \n",
       "120   25                  31759.5  MURDER & NON NEGL. MANSLAUGHTER     3   \n",
       "136   28                  46263.0  MURDER & NON NEGL. MANSLAUGHTER     5   \n",
       "144   30                  53660.0  MURDER & NON NEGL. MANSLAUGHTER     4   \n",
       "232   47                  58393.0  MURDER & NON NEGL. MANSLAUGHTER     8   \n",
       "248   49                  59829.5  MURDER & NON NEGL. MANSLAUGHTER     3   \n",
       "256   50                  73565.0  MURDER & NON NEGL. MANSLAUGHTER     1   \n",
       "264   52                  37804.0  MURDER & NON NEGL. MANSLAUGHTER     8   \n",
       "272   60                  54334.5  MURDER & NON NEGL. MANSLAUGHTER     6   \n",
       "280   61                  54334.5  MURDER & NON NEGL. MANSLAUGHTER     3   \n",
       "304   66                  53081.5  MURDER & NON NEGL. MANSLAUGHTER     1   \n",
       "312   67                  59038.5  MURDER & NON NEGL. MANSLAUGHTER     7   \n",
       "320   68                  64906.5  MURDER & NON NEGL. MANSLAUGHTER     1   \n",
       "344   71                  44905.0  MURDER & NON NEGL. MANSLAUGHTER     4   \n",
       "360   73                  35713.0  MURDER & NON NEGL. MANSLAUGHTER    11   \n",
       "368   75                  40892.5  MURDER & NON NEGL. MANSLAUGHTER    10   \n",
       "376   76                  61200.0  MURDER & NON NEGL. MANSLAUGHTER     0   \n",
       "384   77                  44905.0  MURDER & NON NEGL. MANSLAUGHTER    14   \n",
       "400   79                  58872.0  MURDER & NON NEGL. MANSLAUGHTER    10   \n",
       "456  100                  60569.0  MURDER & NON NEGL. MANSLAUGHTER     2   \n",
       "576  115                  57435.0  MURDER & NON NEGL. MANSLAUGHTER    11   \n",
       "584  120                  62052.0  MURDER & NON NEGL. MANSLAUGHTER     3   \n",
       "592  121                  71645.0  MURDER & NON NEGL. MANSLAUGHTER     2   \n",
       "\n",
       "     2020  %_chg_2019-2020  2021_YTD  2020_YTD  %_Chg  \n",
       "24      2              200         0         1 -100.0  \n",
       "40      3              300         1         2  -50.0  \n",
       "48      3              300         1         2  -50.0  \n",
       "104     9              350         4         7  -42.9  \n",
       "112     8              300         0         8 -100.0  \n",
       "120    12              300         6         8  -25.0  \n",
       "136     7               40         2         4  -50.0  \n",
       "144     4                0         1         4  -75.0  \n",
       "232    12               50         5         8  -37.5  \n",
       "248     6              100         2         4  -50.0  \n",
       "256     3              200         0         2 -200.0  \n",
       "264    11               37         2         3  -33.3  \n",
       "272    10               66         4         5  -20.0  \n",
       "280     3                0         0         1 -100.0  \n",
       "304     5              400         1         2  -50.0  \n",
       "312    14              100         7         8  -12.5  \n",
       "320     3              200         0         1 -100.0  \n",
       "344     8              100         2         4  -50.0  \n",
       "360    25              127         9        16  -43.8  \n",
       "368    26              160        10        21  -52.4  \n",
       "376     6              600         2         4  -50.0  \n",
       "384    20               42         6        12  -50.0  \n",
       "400    10                0         4         5  -20.0  \n",
       "456     5              150         0         2 -100.0  \n",
       "576    11                0         2         9  -77.8  \n",
       "584    12              300         4         6  -33.3  \n",
       "592     7              250         2         4  -50.0  "
      ]
     },
     "execution_count": 205,
     "metadata": {},
     "output_type": "execute_result"
    }
   ],
   "source": [
    "df_murder[df_murder['%_Chg'] < -2.4]"
   ]
  },
  {
   "cell_type": "code",
   "execution_count": 206,
   "metadata": {},
   "outputs": [
    {
     "data": {
      "text/plain": [
       "50"
      ]
     },
     "execution_count": 206,
     "metadata": {},
     "output_type": "execute_result"
    }
   ],
   "source": [
    "len(df_murder[df_murder['%_Chg'] > -2.4])"
   ]
  },
  {
   "cell_type": "code",
   "execution_count": 207,
   "metadata": {},
   "outputs": [
    {
     "data": {
      "text/plain": [
       "74734.71"
      ]
     },
     "execution_count": 207,
     "metadata": {},
     "output_type": "execute_result"
    }
   ],
   "source": [
    "df_murder[df_murder['%_Chg'] > -2.4].household_median_income.sum()/50"
   ]
  },
  {
   "cell_type": "code",
   "execution_count": 208,
   "metadata": {},
   "outputs": [
    {
     "data": {
      "text/plain": [
       "70793.0"
      ]
     },
     "execution_count": 208,
     "metadata": {},
     "output_type": "execute_result"
    }
   ],
   "source": [
    "df_murder[df_murder['%_Chg'] > -2.4].household_median_income.median()"
   ]
  },
  {
   "cell_type": "code",
   "execution_count": 209,
   "metadata": {},
   "outputs": [
    {
     "data": {
      "text/plain": [
       "27"
      ]
     },
     "execution_count": 209,
     "metadata": {},
     "output_type": "execute_result"
    }
   ],
   "source": [
    "len(df_murder[df_murder['%_Chg'] < -2.4])"
   ]
  },
  {
   "cell_type": "code",
   "execution_count": 210,
   "metadata": {},
   "outputs": [
    {
     "data": {
      "text/plain": [
       "61422.0"
      ]
     },
     "execution_count": 210,
     "metadata": {},
     "output_type": "execute_result"
    }
   ],
   "source": [
    "df_murder[df_murder['%_Chg'] < -2.4].household_median_income.sum()/27"
   ]
  },
  {
   "cell_type": "code",
   "execution_count": 211,
   "metadata": {},
   "outputs": [
    {
     "data": {
      "text/plain": [
       "58393.0"
      ]
     },
     "execution_count": 211,
     "metadata": {},
     "output_type": "execute_result"
    }
   ],
   "source": [
    "df_murder[df_murder['%_Chg'] < -2.4].household_median_income.median()"
   ]
  },
  {
   "cell_type": "code",
   "execution_count": null,
   "metadata": {},
   "outputs": [],
   "source": []
  },
  {
   "cell_type": "code",
   "execution_count": null,
   "metadata": {},
   "outputs": [],
   "source": []
  },
  {
   "cell_type": "markdown",
   "metadata": {},
   "source": [
    "### rape"
   ]
  },
  {
   "cell_type": "code",
   "execution_count": 212,
   "metadata": {},
   "outputs": [],
   "source": [
    "df_rape = df_MF4[df_MF4.CRIME.str.strip() == \"RAPE\"]"
   ]
  },
  {
   "cell_type": "code",
   "execution_count": 213,
   "metadata": {},
   "outputs": [
    {
     "data": {
      "text/plain": [
       "2.937576499388005"
      ]
     },
     "execution_count": 213,
     "metadata": {},
     "output_type": "execute_result"
    }
   ],
   "source": [
    "((df_rape['2021_YTD'].sum() - df_rape['2020_YTD'].sum()) / df_rape['2020_YTD'].sum())*100 "
   ]
  },
  {
   "cell_type": "code",
   "execution_count": 214,
   "metadata": {},
   "outputs": [
    {
     "data": {
      "text/html": [
       "<div>\n",
       "<style scoped>\n",
       "    .dataframe tbody tr th:only-of-type {\n",
       "        vertical-align: middle;\n",
       "    }\n",
       "\n",
       "    .dataframe tbody tr th {\n",
       "        vertical-align: top;\n",
       "    }\n",
       "\n",
       "    .dataframe thead th {\n",
       "        text-align: right;\n",
       "    }\n",
       "</style>\n",
       "<table border=\"1\" class=\"dataframe\">\n",
       "  <thead>\n",
       "    <tr style=\"text-align: right;\">\n",
       "      <th></th>\n",
       "      <th>PCT</th>\n",
       "      <th>household_median_income</th>\n",
       "      <th>CRIME</th>\n",
       "      <th>2019</th>\n",
       "      <th>2020</th>\n",
       "      <th>%_chg_2019-2020</th>\n",
       "      <th>2021_YTD</th>\n",
       "      <th>2020_YTD</th>\n",
       "      <th>%_Chg</th>\n",
       "    </tr>\n",
       "  </thead>\n",
       "  <tbody>\n",
       "    <tr>\n",
       "      <th>17</th>\n",
       "      <td>6</td>\n",
       "      <td>113191.0</td>\n",
       "      <td>RAPE</td>\n",
       "      <td>6</td>\n",
       "      <td>7</td>\n",
       "      <td>16.7</td>\n",
       "      <td>6</td>\n",
       "      <td>4</td>\n",
       "      <td>50.0</td>\n",
       "    </tr>\n",
       "    <tr>\n",
       "      <th>25</th>\n",
       "      <td>7</td>\n",
       "      <td>63717.0</td>\n",
       "      <td>RAPE</td>\n",
       "      <td>7</td>\n",
       "      <td>14</td>\n",
       "      <td>100.0</td>\n",
       "      <td>8</td>\n",
       "      <td>7</td>\n",
       "      <td>14.3</td>\n",
       "    </tr>\n",
       "    <tr>\n",
       "      <th>33</th>\n",
       "      <td>9</td>\n",
       "      <td>63717.0</td>\n",
       "      <td>RAPE</td>\n",
       "      <td>15</td>\n",
       "      <td>10</td>\n",
       "      <td>-33.3</td>\n",
       "      <td>12</td>\n",
       "      <td>5</td>\n",
       "      <td>140.0</td>\n",
       "    </tr>\n",
       "    <tr>\n",
       "      <th>41</th>\n",
       "      <td>10</td>\n",
       "      <td>113138.0</td>\n",
       "      <td>RAPE</td>\n",
       "      <td>15</td>\n",
       "      <td>6</td>\n",
       "      <td>-60.0</td>\n",
       "      <td>8</td>\n",
       "      <td>6</td>\n",
       "      <td>33.3</td>\n",
       "    </tr>\n",
       "    <tr>\n",
       "      <th>49</th>\n",
       "      <td>13</td>\n",
       "      <td>132016.5</td>\n",
       "      <td>RAPE</td>\n",
       "      <td>17</td>\n",
       "      <td>13</td>\n",
       "      <td>-23.5</td>\n",
       "      <td>16</td>\n",
       "      <td>5</td>\n",
       "      <td>220.0</td>\n",
       "    </tr>\n",
       "    <tr>\n",
       "      <th>73</th>\n",
       "      <td>18</td>\n",
       "      <td>99546.5</td>\n",
       "      <td>RAPE</td>\n",
       "      <td>29</td>\n",
       "      <td>14</td>\n",
       "      <td>-51.7</td>\n",
       "      <td>10</td>\n",
       "      <td>6</td>\n",
       "      <td>66.7</td>\n",
       "    </tr>\n",
       "    <tr>\n",
       "      <th>81</th>\n",
       "      <td>19</td>\n",
       "      <td>122569.0</td>\n",
       "      <td>RAPE</td>\n",
       "      <td>18</td>\n",
       "      <td>12</td>\n",
       "      <td>-33.3</td>\n",
       "      <td>7</td>\n",
       "      <td>6</td>\n",
       "      <td>16.7</td>\n",
       "    </tr>\n",
       "    <tr>\n",
       "      <th>89</th>\n",
       "      <td>20</td>\n",
       "      <td>132605.0</td>\n",
       "      <td>RAPE</td>\n",
       "      <td>10</td>\n",
       "      <td>5</td>\n",
       "      <td>-50.0</td>\n",
       "      <td>5</td>\n",
       "      <td>3</td>\n",
       "      <td>66.7</td>\n",
       "    </tr>\n",
       "    <tr>\n",
       "      <th>97</th>\n",
       "      <td>22</td>\n",
       "      <td>0.0</td>\n",
       "      <td>RAPE</td>\n",
       "      <td>1</td>\n",
       "      <td>2</td>\n",
       "      <td>100.0</td>\n",
       "      <td>5</td>\n",
       "      <td>2</td>\n",
       "      <td>150.0</td>\n",
       "    </tr>\n",
       "    <tr>\n",
       "      <th>105</th>\n",
       "      <td>23</td>\n",
       "      <td>31759.5</td>\n",
       "      <td>RAPE</td>\n",
       "      <td>20</td>\n",
       "      <td>17</td>\n",
       "      <td>-15.0</td>\n",
       "      <td>14</td>\n",
       "      <td>10</td>\n",
       "      <td>40.0</td>\n",
       "    </tr>\n",
       "    <tr>\n",
       "      <th>113</th>\n",
       "      <td>24</td>\n",
       "      <td>132605.0</td>\n",
       "      <td>RAPE</td>\n",
       "      <td>10</td>\n",
       "      <td>3</td>\n",
       "      <td>-70.0</td>\n",
       "      <td>6</td>\n",
       "      <td>3</td>\n",
       "      <td>100.0</td>\n",
       "    </tr>\n",
       "    <tr>\n",
       "      <th>153</th>\n",
       "      <td>32</td>\n",
       "      <td>46263.0</td>\n",
       "      <td>RAPE</td>\n",
       "      <td>25</td>\n",
       "      <td>21</td>\n",
       "      <td>-16.0</td>\n",
       "      <td>12</td>\n",
       "      <td>11</td>\n",
       "      <td>9.1</td>\n",
       "    </tr>\n",
       "    <tr>\n",
       "      <th>193</th>\n",
       "      <td>42</td>\n",
       "      <td>29136.0</td>\n",
       "      <td>RAPE</td>\n",
       "      <td>24</td>\n",
       "      <td>28</td>\n",
       "      <td>16.7</td>\n",
       "      <td>19</td>\n",
       "      <td>17</td>\n",
       "      <td>11.8</td>\n",
       "    </tr>\n",
       "    <tr>\n",
       "      <th>201</th>\n",
       "      <td>43</td>\n",
       "      <td>37503.0</td>\n",
       "      <td>RAPE</td>\n",
       "      <td>46</td>\n",
       "      <td>36</td>\n",
       "      <td>-21.7</td>\n",
       "      <td>22</td>\n",
       "      <td>19</td>\n",
       "      <td>15.8</td>\n",
       "    </tr>\n",
       "    <tr>\n",
       "      <th>225</th>\n",
       "      <td>46</td>\n",
       "      <td>37804.0</td>\n",
       "      <td>RAPE</td>\n",
       "      <td>40</td>\n",
       "      <td>23</td>\n",
       "      <td>-42.5</td>\n",
       "      <td>11</td>\n",
       "      <td>10</td>\n",
       "      <td>10.0</td>\n",
       "    </tr>\n",
       "    <tr>\n",
       "      <th>241</th>\n",
       "      <td>48</td>\n",
       "      <td>29136.0</td>\n",
       "      <td>RAPE</td>\n",
       "      <td>39</td>\n",
       "      <td>29</td>\n",
       "      <td>-25.6</td>\n",
       "      <td>21</td>\n",
       "      <td>16</td>\n",
       "      <td>31.2</td>\n",
       "    </tr>\n",
       "    <tr>\n",
       "      <th>249</th>\n",
       "      <td>49</td>\n",
       "      <td>59829.5</td>\n",
       "      <td>RAPE</td>\n",
       "      <td>22</td>\n",
       "      <td>17</td>\n",
       "      <td>-22.7</td>\n",
       "      <td>14</td>\n",
       "      <td>10</td>\n",
       "      <td>40.0</td>\n",
       "    </tr>\n",
       "    <tr>\n",
       "      <th>257</th>\n",
       "      <td>50</td>\n",
       "      <td>73565.0</td>\n",
       "      <td>RAPE</td>\n",
       "      <td>15</td>\n",
       "      <td>12</td>\n",
       "      <td>-20.0</td>\n",
       "      <td>11</td>\n",
       "      <td>8</td>\n",
       "      <td>37.5</td>\n",
       "    </tr>\n",
       "    <tr>\n",
       "      <th>265</th>\n",
       "      <td>52</td>\n",
       "      <td>37804.0</td>\n",
       "      <td>RAPE</td>\n",
       "      <td>34</td>\n",
       "      <td>25</td>\n",
       "      <td>-26.5</td>\n",
       "      <td>20</td>\n",
       "      <td>15</td>\n",
       "      <td>33.3</td>\n",
       "    </tr>\n",
       "    <tr>\n",
       "      <th>297</th>\n",
       "      <td>63</td>\n",
       "      <td>70793.0</td>\n",
       "      <td>RAPE</td>\n",
       "      <td>16</td>\n",
       "      <td>11</td>\n",
       "      <td>-31.2</td>\n",
       "      <td>7</td>\n",
       "      <td>5</td>\n",
       "      <td>40.0</td>\n",
       "    </tr>\n",
       "    <tr>\n",
       "      <th>313</th>\n",
       "      <td>67</td>\n",
       "      <td>59038.5</td>\n",
       "      <td>RAPE</td>\n",
       "      <td>51</td>\n",
       "      <td>40</td>\n",
       "      <td>-21.6</td>\n",
       "      <td>17</td>\n",
       "      <td>16</td>\n",
       "      <td>6.2</td>\n",
       "    </tr>\n",
       "    <tr>\n",
       "      <th>353</th>\n",
       "      <td>72</td>\n",
       "      <td>55695.5</td>\n",
       "      <td>RAPE</td>\n",
       "      <td>30</td>\n",
       "      <td>17</td>\n",
       "      <td>-43.3</td>\n",
       "      <td>17</td>\n",
       "      <td>11</td>\n",
       "      <td>54.5</td>\n",
       "    </tr>\n",
       "    <tr>\n",
       "      <th>361</th>\n",
       "      <td>73</td>\n",
       "      <td>35713.0</td>\n",
       "      <td>RAPE</td>\n",
       "      <td>48</td>\n",
       "      <td>30</td>\n",
       "      <td>-37.5</td>\n",
       "      <td>23</td>\n",
       "      <td>18</td>\n",
       "      <td>27.8</td>\n",
       "    </tr>\n",
       "    <tr>\n",
       "      <th>385</th>\n",
       "      <td>77</td>\n",
       "      <td>44905.0</td>\n",
       "      <td>RAPE</td>\n",
       "      <td>20</td>\n",
       "      <td>19</td>\n",
       "      <td>-5.0</td>\n",
       "      <td>15</td>\n",
       "      <td>12</td>\n",
       "      <td>25.0</td>\n",
       "    </tr>\n",
       "    <tr>\n",
       "      <th>417</th>\n",
       "      <td>83</td>\n",
       "      <td>53303.0</td>\n",
       "      <td>RAPE</td>\n",
       "      <td>31</td>\n",
       "      <td>23</td>\n",
       "      <td>-25.8</td>\n",
       "      <td>20</td>\n",
       "      <td>12</td>\n",
       "      <td>66.7</td>\n",
       "    </tr>\n",
       "    <tr>\n",
       "      <th>425</th>\n",
       "      <td>84</td>\n",
       "      <td>124311.5</td>\n",
       "      <td>RAPE</td>\n",
       "      <td>3</td>\n",
       "      <td>5</td>\n",
       "      <td>66.7</td>\n",
       "      <td>7</td>\n",
       "      <td>2</td>\n",
       "      <td>250.0</td>\n",
       "    </tr>\n",
       "    <tr>\n",
       "      <th>441</th>\n",
       "      <td>90</td>\n",
       "      <td>53303.0</td>\n",
       "      <td>RAPE</td>\n",
       "      <td>20</td>\n",
       "      <td>17</td>\n",
       "      <td>-15.0</td>\n",
       "      <td>12</td>\n",
       "      <td>10</td>\n",
       "      <td>20.0</td>\n",
       "    </tr>\n",
       "    <tr>\n",
       "      <th>457</th>\n",
       "      <td>100</td>\n",
       "      <td>60569.0</td>\n",
       "      <td>RAPE</td>\n",
       "      <td>16</td>\n",
       "      <td>5</td>\n",
       "      <td>-68.8</td>\n",
       "      <td>6</td>\n",
       "      <td>2</td>\n",
       "      <td>200.0</td>\n",
       "    </tr>\n",
       "    <tr>\n",
       "      <th>465</th>\n",
       "      <td>101</td>\n",
       "      <td>60569.0</td>\n",
       "      <td>RAPE</td>\n",
       "      <td>25</td>\n",
       "      <td>15</td>\n",
       "      <td>-40.0</td>\n",
       "      <td>13</td>\n",
       "      <td>8</td>\n",
       "      <td>62.5</td>\n",
       "    </tr>\n",
       "    <tr>\n",
       "      <th>473</th>\n",
       "      <td>102</td>\n",
       "      <td>72003.5</td>\n",
       "      <td>RAPE</td>\n",
       "      <td>26</td>\n",
       "      <td>23</td>\n",
       "      <td>-11.5</td>\n",
       "      <td>11</td>\n",
       "      <td>5</td>\n",
       "      <td>120.0</td>\n",
       "    </tr>\n",
       "    <tr>\n",
       "      <th>481</th>\n",
       "      <td>103</td>\n",
       "      <td>62927.0</td>\n",
       "      <td>RAPE</td>\n",
       "      <td>26</td>\n",
       "      <td>20</td>\n",
       "      <td>-23.1</td>\n",
       "      <td>13</td>\n",
       "      <td>9</td>\n",
       "      <td>44.4</td>\n",
       "    </tr>\n",
       "    <tr>\n",
       "      <th>489</th>\n",
       "      <td>104</td>\n",
       "      <td>79611.5</td>\n",
       "      <td>RAPE</td>\n",
       "      <td>28</td>\n",
       "      <td>14</td>\n",
       "      <td>-50.0</td>\n",
       "      <td>12</td>\n",
       "      <td>9</td>\n",
       "      <td>33.3</td>\n",
       "    </tr>\n",
       "    <tr>\n",
       "      <th>497</th>\n",
       "      <td>105</td>\n",
       "      <td>88300.0</td>\n",
       "      <td>RAPE</td>\n",
       "      <td>30</td>\n",
       "      <td>36</td>\n",
       "      <td>20.0</td>\n",
       "      <td>23</td>\n",
       "      <td>21</td>\n",
       "      <td>9.5</td>\n",
       "    </tr>\n",
       "    <tr>\n",
       "      <th>505</th>\n",
       "      <td>106</td>\n",
       "      <td>76351.5</td>\n",
       "      <td>RAPE</td>\n",
       "      <td>20</td>\n",
       "      <td>10</td>\n",
       "      <td>-50.0</td>\n",
       "      <td>7</td>\n",
       "      <td>5</td>\n",
       "      <td>40.0</td>\n",
       "    </tr>\n",
       "    <tr>\n",
       "      <th>521</th>\n",
       "      <td>108</td>\n",
       "      <td>74420.5</td>\n",
       "      <td>RAPE</td>\n",
       "      <td>20</td>\n",
       "      <td>11</td>\n",
       "      <td>-45.0</td>\n",
       "      <td>6</td>\n",
       "      <td>5</td>\n",
       "      <td>20.0</td>\n",
       "    </tr>\n",
       "    <tr>\n",
       "      <th>537</th>\n",
       "      <td>110</td>\n",
       "      <td>54397.5</td>\n",
       "      <td>RAPE</td>\n",
       "      <td>34</td>\n",
       "      <td>29</td>\n",
       "      <td>-14.7</td>\n",
       "      <td>23</td>\n",
       "      <td>18</td>\n",
       "      <td>27.8</td>\n",
       "    </tr>\n",
       "    <tr>\n",
       "      <th>545</th>\n",
       "      <td>111</td>\n",
       "      <td>84301.0</td>\n",
       "      <td>RAPE</td>\n",
       "      <td>7</td>\n",
       "      <td>3</td>\n",
       "      <td>-57.1</td>\n",
       "      <td>2</td>\n",
       "      <td>1</td>\n",
       "      <td>100.0</td>\n",
       "    </tr>\n",
       "    <tr>\n",
       "      <th>553</th>\n",
       "      <td>112</td>\n",
       "      <td>79611.5</td>\n",
       "      <td>RAPE</td>\n",
       "      <td>16</td>\n",
       "      <td>8</td>\n",
       "      <td>-50.0</td>\n",
       "      <td>6</td>\n",
       "      <td>4</td>\n",
       "      <td>50.0</td>\n",
       "    </tr>\n",
       "    <tr>\n",
       "      <th>569</th>\n",
       "      <td>114</td>\n",
       "      <td>74420.5</td>\n",
       "      <td>RAPE</td>\n",
       "      <td>34</td>\n",
       "      <td>22</td>\n",
       "      <td>-35.3</td>\n",
       "      <td>18</td>\n",
       "      <td>8</td>\n",
       "      <td>125.0</td>\n",
       "    </tr>\n",
       "    <tr>\n",
       "      <th>593</th>\n",
       "      <td>121</td>\n",
       "      <td>71645.0</td>\n",
       "      <td>RAPE</td>\n",
       "      <td>17</td>\n",
       "      <td>16</td>\n",
       "      <td>-5.9</td>\n",
       "      <td>10</td>\n",
       "      <td>9</td>\n",
       "      <td>11.1</td>\n",
       "    </tr>\n",
       "    <tr>\n",
       "      <th>601</th>\n",
       "      <td>122</td>\n",
       "      <td>97407.0</td>\n",
       "      <td>RAPE</td>\n",
       "      <td>10</td>\n",
       "      <td>7</td>\n",
       "      <td>-30.0</td>\n",
       "      <td>5</td>\n",
       "      <td>4</td>\n",
       "      <td>25.0</td>\n",
       "    </tr>\n",
       "  </tbody>\n",
       "</table>\n",
       "</div>"
      ],
      "text/plain": [
       "     PCT  household_median_income CRIME  2019  2020  %_chg_2019-2020  \\\n",
       "17     6                 113191.0  RAPE     6     7             16.7   \n",
       "25     7                  63717.0  RAPE     7    14            100.0   \n",
       "33     9                  63717.0  RAPE    15    10            -33.3   \n",
       "41    10                 113138.0  RAPE    15     6            -60.0   \n",
       "49    13                 132016.5  RAPE    17    13            -23.5   \n",
       "73    18                  99546.5  RAPE    29    14            -51.7   \n",
       "81    19                 122569.0  RAPE    18    12            -33.3   \n",
       "89    20                 132605.0  RAPE    10     5            -50.0   \n",
       "97    22                      0.0  RAPE     1     2            100.0   \n",
       "105   23                  31759.5  RAPE    20    17            -15.0   \n",
       "113   24                 132605.0  RAPE    10     3            -70.0   \n",
       "153   32                  46263.0  RAPE    25    21            -16.0   \n",
       "193   42                  29136.0  RAPE    24    28             16.7   \n",
       "201   43                  37503.0  RAPE    46    36            -21.7   \n",
       "225   46                  37804.0  RAPE    40    23            -42.5   \n",
       "241   48                  29136.0  RAPE    39    29            -25.6   \n",
       "249   49                  59829.5  RAPE    22    17            -22.7   \n",
       "257   50                  73565.0  RAPE    15    12            -20.0   \n",
       "265   52                  37804.0  RAPE    34    25            -26.5   \n",
       "297   63                  70793.0  RAPE    16    11            -31.2   \n",
       "313   67                  59038.5  RAPE    51    40            -21.6   \n",
       "353   72                  55695.5  RAPE    30    17            -43.3   \n",
       "361   73                  35713.0  RAPE    48    30            -37.5   \n",
       "385   77                  44905.0  RAPE    20    19             -5.0   \n",
       "417   83                  53303.0  RAPE    31    23            -25.8   \n",
       "425   84                 124311.5  RAPE     3     5             66.7   \n",
       "441   90                  53303.0  RAPE    20    17            -15.0   \n",
       "457  100                  60569.0  RAPE    16     5            -68.8   \n",
       "465  101                  60569.0  RAPE    25    15            -40.0   \n",
       "473  102                  72003.5  RAPE    26    23            -11.5   \n",
       "481  103                  62927.0  RAPE    26    20            -23.1   \n",
       "489  104                  79611.5  RAPE    28    14            -50.0   \n",
       "497  105                  88300.0  RAPE    30    36             20.0   \n",
       "505  106                  76351.5  RAPE    20    10            -50.0   \n",
       "521  108                  74420.5  RAPE    20    11            -45.0   \n",
       "537  110                  54397.5  RAPE    34    29            -14.7   \n",
       "545  111                  84301.0  RAPE     7     3            -57.1   \n",
       "553  112                  79611.5  RAPE    16     8            -50.0   \n",
       "569  114                  74420.5  RAPE    34    22            -35.3   \n",
       "593  121                  71645.0  RAPE    17    16             -5.9   \n",
       "601  122                  97407.0  RAPE    10     7            -30.0   \n",
       "\n",
       "     2021_YTD  2020_YTD  %_Chg  \n",
       "17          6         4   50.0  \n",
       "25          8         7   14.3  \n",
       "33         12         5  140.0  \n",
       "41          8         6   33.3  \n",
       "49         16         5  220.0  \n",
       "73         10         6   66.7  \n",
       "81          7         6   16.7  \n",
       "89          5         3   66.7  \n",
       "97          5         2  150.0  \n",
       "105        14        10   40.0  \n",
       "113         6         3  100.0  \n",
       "153        12        11    9.1  \n",
       "193        19        17   11.8  \n",
       "201        22        19   15.8  \n",
       "225        11        10   10.0  \n",
       "241        21        16   31.2  \n",
       "249        14        10   40.0  \n",
       "257        11         8   37.5  \n",
       "265        20        15   33.3  \n",
       "297         7         5   40.0  \n",
       "313        17        16    6.2  \n",
       "353        17        11   54.5  \n",
       "361        23        18   27.8  \n",
       "385        15        12   25.0  \n",
       "417        20        12   66.7  \n",
       "425         7         2  250.0  \n",
       "441        12        10   20.0  \n",
       "457         6         2  200.0  \n",
       "465        13         8   62.5  \n",
       "473        11         5  120.0  \n",
       "481        13         9   44.4  \n",
       "489        12         9   33.3  \n",
       "497        23        21    9.5  \n",
       "505         7         5   40.0  \n",
       "521         6         5   20.0  \n",
       "537        23        18   27.8  \n",
       "545         2         1  100.0  \n",
       "553         6         4   50.0  \n",
       "569        18         8  125.0  \n",
       "593        10         9   11.1  \n",
       "601         5         4   25.0  "
      ]
     },
     "execution_count": 214,
     "metadata": {},
     "output_type": "execute_result"
    }
   ],
   "source": [
    "df_rape[df_rape['%_Chg'] > 3]"
   ]
  },
  {
   "cell_type": "code",
   "execution_count": 215,
   "metadata": {},
   "outputs": [
    {
     "data": {
      "text/plain": [
       "41"
      ]
     },
     "execution_count": 215,
     "metadata": {},
     "output_type": "execute_result"
    }
   ],
   "source": [
    "len(df_rape[df_rape['%_Chg'] > 3])"
   ]
  },
  {
   "cell_type": "code",
   "execution_count": 216,
   "metadata": {},
   "outputs": [],
   "source": [
    "#df_rape[df_rape['%_Chg'] > 3].household_median_income.sum()/39"
   ]
  },
  {
   "cell_type": "code",
   "execution_count": 217,
   "metadata": {},
   "outputs": [
    {
     "data": {
      "text/plain": [
       "63717.0"
      ]
     },
     "execution_count": 217,
     "metadata": {},
     "output_type": "execute_result"
    }
   ],
   "source": [
    "df_rape[df_rape['%_Chg'] > 3].household_median_income.median()"
   ]
  },
  {
   "cell_type": "code",
   "execution_count": 218,
   "metadata": {},
   "outputs": [
    {
     "data": {
      "text/plain": [
       "36"
      ]
     },
     "execution_count": 218,
     "metadata": {},
     "output_type": "execute_result"
    }
   ],
   "source": [
    "len(df_rape[df_rape['%_Chg'] < 3])"
   ]
  },
  {
   "cell_type": "code",
   "execution_count": 219,
   "metadata": {},
   "outputs": [],
   "source": [
    "#df_rape[df_rape['%_Chg'] < 3].household_median_income.sum()/36"
   ]
  },
  {
   "cell_type": "code",
   "execution_count": 220,
   "metadata": {},
   "outputs": [
    {
     "data": {
      "text/plain": [
       "58632.5"
      ]
     },
     "execution_count": 220,
     "metadata": {},
     "output_type": "execute_result"
    }
   ],
   "source": [
    "df_rape[df_rape['%_Chg'] < 3].household_median_income.median()"
   ]
  },
  {
   "cell_type": "code",
   "execution_count": null,
   "metadata": {},
   "outputs": [],
   "source": []
  },
  {
   "cell_type": "markdown",
   "metadata": {},
   "source": [
    "### robbery"
   ]
  },
  {
   "cell_type": "code",
   "execution_count": 221,
   "metadata": {},
   "outputs": [],
   "source": [
    "df_robbery = df_MF4[df_MF4.CRIME.str.strip() == \"ROBBERY\"]"
   ]
  },
  {
   "cell_type": "code",
   "execution_count": 222,
   "metadata": {},
   "outputs": [
    {
     "data": {
      "text/plain": [
       "-0.3508279539713724"
      ]
     },
     "execution_count": 222,
     "metadata": {},
     "output_type": "execute_result"
    }
   ],
   "source": [
    "((df_robbery['2021_YTD'].sum() - df_robbery['2020_YTD'].sum()) / df_robbery['2020_YTD'].sum())*100 "
   ]
  },
  {
   "cell_type": "code",
   "execution_count": 223,
   "metadata": {},
   "outputs": [
    {
     "data": {
      "text/html": [
       "<div>\n",
       "<style scoped>\n",
       "    .dataframe tbody tr th:only-of-type {\n",
       "        vertical-align: middle;\n",
       "    }\n",
       "\n",
       "    .dataframe tbody tr th {\n",
       "        vertical-align: top;\n",
       "    }\n",
       "\n",
       "    .dataframe thead th {\n",
       "        text-align: right;\n",
       "    }\n",
       "</style>\n",
       "<table border=\"1\" class=\"dataframe\">\n",
       "  <thead>\n",
       "    <tr style=\"text-align: right;\">\n",
       "      <th></th>\n",
       "      <th>PCT</th>\n",
       "      <th>household_median_income</th>\n",
       "      <th>CRIME</th>\n",
       "      <th>2019</th>\n",
       "      <th>2020</th>\n",
       "      <th>%_chg_2019-2020</th>\n",
       "      <th>2021_YTD</th>\n",
       "      <th>2020_YTD</th>\n",
       "      <th>%_Chg</th>\n",
       "    </tr>\n",
       "  </thead>\n",
       "  <tbody>\n",
       "    <tr>\n",
       "      <th>18</th>\n",
       "      <td>6</td>\n",
       "      <td>113191.0</td>\n",
       "      <td>ROBBERY</td>\n",
       "      <td>143</td>\n",
       "      <td>142</td>\n",
       "      <td>-0.7</td>\n",
       "      <td>98</td>\n",
       "      <td>68</td>\n",
       "      <td>44.1</td>\n",
       "    </tr>\n",
       "    <tr>\n",
       "      <th>34</th>\n",
       "      <td>9</td>\n",
       "      <td>63717.0</td>\n",
       "      <td>ROBBERY</td>\n",
       "      <td>119</td>\n",
       "      <td>94</td>\n",
       "      <td>-21.0</td>\n",
       "      <td>82</td>\n",
       "      <td>54</td>\n",
       "      <td>51.9</td>\n",
       "    </tr>\n",
       "    <tr>\n",
       "      <th>42</th>\n",
       "      <td>10</td>\n",
       "      <td>113138.0</td>\n",
       "      <td>ROBBERY</td>\n",
       "      <td>123</td>\n",
       "      <td>126</td>\n",
       "      <td>2.4</td>\n",
       "      <td>71</td>\n",
       "      <td>71</td>\n",
       "      <td>0.0</td>\n",
       "    </tr>\n",
       "    <tr>\n",
       "      <th>58</th>\n",
       "      <td>14</td>\n",
       "      <td>95301.0</td>\n",
       "      <td>ROBBERY</td>\n",
       "      <td>142</td>\n",
       "      <td>174</td>\n",
       "      <td>22.5</td>\n",
       "      <td>214</td>\n",
       "      <td>76</td>\n",
       "      <td>181.6</td>\n",
       "    </tr>\n",
       "    <tr>\n",
       "      <th>66</th>\n",
       "      <td>17</td>\n",
       "      <td>132016.5</td>\n",
       "      <td>ROBBERY</td>\n",
       "      <td>60</td>\n",
       "      <td>64</td>\n",
       "      <td>6.7</td>\n",
       "      <td>34</td>\n",
       "      <td>29</td>\n",
       "      <td>17.2</td>\n",
       "    </tr>\n",
       "    <tr>\n",
       "      <th>90</th>\n",
       "      <td>20</td>\n",
       "      <td>132605.0</td>\n",
       "      <td>ROBBERY</td>\n",
       "      <td>85</td>\n",
       "      <td>90</td>\n",
       "      <td>5.9</td>\n",
       "      <td>58</td>\n",
       "      <td>43</td>\n",
       "      <td>34.9</td>\n",
       "    </tr>\n",
       "    <tr>\n",
       "      <th>98</th>\n",
       "      <td>22</td>\n",
       "      <td>0.0</td>\n",
       "      <td>ROBBERY</td>\n",
       "      <td>21</td>\n",
       "      <td>10</td>\n",
       "      <td>-52.4</td>\n",
       "      <td>9</td>\n",
       "      <td>4</td>\n",
       "      <td>125.0</td>\n",
       "    </tr>\n",
       "    <tr>\n",
       "      <th>106</th>\n",
       "      <td>23</td>\n",
       "      <td>31759.5</td>\n",
       "      <td>ROBBERY</td>\n",
       "      <td>168</td>\n",
       "      <td>168</td>\n",
       "      <td>0.0</td>\n",
       "      <td>104</td>\n",
       "      <td>91</td>\n",
       "      <td>14.3</td>\n",
       "    </tr>\n",
       "    <tr>\n",
       "      <th>114</th>\n",
       "      <td>24</td>\n",
       "      <td>132605.0</td>\n",
       "      <td>ROBBERY</td>\n",
       "      <td>172</td>\n",
       "      <td>136</td>\n",
       "      <td>-20.9</td>\n",
       "      <td>83</td>\n",
       "      <td>82</td>\n",
       "      <td>1.2</td>\n",
       "    </tr>\n",
       "    <tr>\n",
       "      <th>138</th>\n",
       "      <td>28</td>\n",
       "      <td>46263.0</td>\n",
       "      <td>ROBBERY</td>\n",
       "      <td>163</td>\n",
       "      <td>143</td>\n",
       "      <td>-12.3</td>\n",
       "      <td>88</td>\n",
       "      <td>73</td>\n",
       "      <td>20.5</td>\n",
       "    </tr>\n",
       "    <tr>\n",
       "      <th>162</th>\n",
       "      <td>33</td>\n",
       "      <td>53660.0</td>\n",
       "      <td>ROBBERY</td>\n",
       "      <td>146</td>\n",
       "      <td>167</td>\n",
       "      <td>14.4</td>\n",
       "      <td>133</td>\n",
       "      <td>100</td>\n",
       "      <td>33.0</td>\n",
       "    </tr>\n",
       "    <tr>\n",
       "      <th>170</th>\n",
       "      <td>34</td>\n",
       "      <td>53660.0</td>\n",
       "      <td>ROBBERY</td>\n",
       "      <td>226</td>\n",
       "      <td>205</td>\n",
       "      <td>-9.3</td>\n",
       "      <td>118</td>\n",
       "      <td>95</td>\n",
       "      <td>24.2</td>\n",
       "    </tr>\n",
       "    <tr>\n",
       "      <th>194</th>\n",
       "      <td>42</td>\n",
       "      <td>29136.0</td>\n",
       "      <td>ROBBERY</td>\n",
       "      <td>286</td>\n",
       "      <td>332</td>\n",
       "      <td>16.1</td>\n",
       "      <td>183</td>\n",
       "      <td>182</td>\n",
       "      <td>0.5</td>\n",
       "    </tr>\n",
       "    <tr>\n",
       "      <th>202</th>\n",
       "      <td>43</td>\n",
       "      <td>37503.0</td>\n",
       "      <td>ROBBERY</td>\n",
       "      <td>359</td>\n",
       "      <td>399</td>\n",
       "      <td>11.1</td>\n",
       "      <td>240</td>\n",
       "      <td>214</td>\n",
       "      <td>12.1</td>\n",
       "    </tr>\n",
       "    <tr>\n",
       "      <th>210</th>\n",
       "      <td>44</td>\n",
       "      <td>29579.0</td>\n",
       "      <td>ROBBERY</td>\n",
       "      <td>430</td>\n",
       "      <td>414</td>\n",
       "      <td>-3.7</td>\n",
       "      <td>261</td>\n",
       "      <td>219</td>\n",
       "      <td>19.2</td>\n",
       "    </tr>\n",
       "    <tr>\n",
       "      <th>218</th>\n",
       "      <td>45</td>\n",
       "      <td>56291.5</td>\n",
       "      <td>ROBBERY</td>\n",
       "      <td>143</td>\n",
       "      <td>125</td>\n",
       "      <td>-12.6</td>\n",
       "      <td>102</td>\n",
       "      <td>57</td>\n",
       "      <td>78.9</td>\n",
       "    </tr>\n",
       "    <tr>\n",
       "      <th>226</th>\n",
       "      <td>46</td>\n",
       "      <td>37804.0</td>\n",
       "      <td>ROBBERY</td>\n",
       "      <td>359</td>\n",
       "      <td>359</td>\n",
       "      <td>0.0</td>\n",
       "      <td>218</td>\n",
       "      <td>203</td>\n",
       "      <td>7.4</td>\n",
       "    </tr>\n",
       "    <tr>\n",
       "      <th>234</th>\n",
       "      <td>47</td>\n",
       "      <td>58393.0</td>\n",
       "      <td>ROBBERY</td>\n",
       "      <td>347</td>\n",
       "      <td>321</td>\n",
       "      <td>-7.5</td>\n",
       "      <td>187</td>\n",
       "      <td>151</td>\n",
       "      <td>23.8</td>\n",
       "    </tr>\n",
       "    <tr>\n",
       "      <th>242</th>\n",
       "      <td>48</td>\n",
       "      <td>29136.0</td>\n",
       "      <td>ROBBERY</td>\n",
       "      <td>309</td>\n",
       "      <td>300</td>\n",
       "      <td>-2.9</td>\n",
       "      <td>169</td>\n",
       "      <td>152</td>\n",
       "      <td>11.2</td>\n",
       "    </tr>\n",
       "    <tr>\n",
       "      <th>250</th>\n",
       "      <td>49</td>\n",
       "      <td>59829.5</td>\n",
       "      <td>ROBBERY</td>\n",
       "      <td>190</td>\n",
       "      <td>181</td>\n",
       "      <td>-4.7</td>\n",
       "      <td>125</td>\n",
       "      <td>80</td>\n",
       "      <td>56.2</td>\n",
       "    </tr>\n",
       "    <tr>\n",
       "      <th>258</th>\n",
       "      <td>50</td>\n",
       "      <td>73565.0</td>\n",
       "      <td>ROBBERY</td>\n",
       "      <td>107</td>\n",
       "      <td>88</td>\n",
       "      <td>-17.8</td>\n",
       "      <td>50</td>\n",
       "      <td>40</td>\n",
       "      <td>25.0</td>\n",
       "    </tr>\n",
       "    <tr>\n",
       "      <th>266</th>\n",
       "      <td>52</td>\n",
       "      <td>37804.0</td>\n",
       "      <td>ROBBERY</td>\n",
       "      <td>363</td>\n",
       "      <td>345</td>\n",
       "      <td>-5.0</td>\n",
       "      <td>201</td>\n",
       "      <td>190</td>\n",
       "      <td>5.8</td>\n",
       "    </tr>\n",
       "    <tr>\n",
       "      <th>290</th>\n",
       "      <td>62</td>\n",
       "      <td>72902.0</td>\n",
       "      <td>ROBBERY</td>\n",
       "      <td>132</td>\n",
       "      <td>110</td>\n",
       "      <td>-16.7</td>\n",
       "      <td>60</td>\n",
       "      <td>54</td>\n",
       "      <td>11.1</td>\n",
       "    </tr>\n",
       "    <tr>\n",
       "      <th>402</th>\n",
       "      <td>79</td>\n",
       "      <td>58872.0</td>\n",
       "      <td>ROBBERY</td>\n",
       "      <td>261</td>\n",
       "      <td>199</td>\n",
       "      <td>-23.8</td>\n",
       "      <td>129</td>\n",
       "      <td>109</td>\n",
       "      <td>18.3</td>\n",
       "    </tr>\n",
       "    <tr>\n",
       "      <th>426</th>\n",
       "      <td>84</td>\n",
       "      <td>124311.5</td>\n",
       "      <td>ROBBERY</td>\n",
       "      <td>138</td>\n",
       "      <td>108</td>\n",
       "      <td>-21.7</td>\n",
       "      <td>74</td>\n",
       "      <td>67</td>\n",
       "      <td>10.4</td>\n",
       "    </tr>\n",
       "    <tr>\n",
       "      <th>450</th>\n",
       "      <td>94</td>\n",
       "      <td>87358.0</td>\n",
       "      <td>ROBBERY</td>\n",
       "      <td>68</td>\n",
       "      <td>71</td>\n",
       "      <td>4.4</td>\n",
       "      <td>50</td>\n",
       "      <td>40</td>\n",
       "      <td>25.0</td>\n",
       "    </tr>\n",
       "    <tr>\n",
       "      <th>466</th>\n",
       "      <td>101</td>\n",
       "      <td>60569.0</td>\n",
       "      <td>ROBBERY</td>\n",
       "      <td>118</td>\n",
       "      <td>98</td>\n",
       "      <td>-16.9</td>\n",
       "      <td>56</td>\n",
       "      <td>56</td>\n",
       "      <td>0.0</td>\n",
       "    </tr>\n",
       "    <tr>\n",
       "      <th>506</th>\n",
       "      <td>106</td>\n",
       "      <td>76351.5</td>\n",
       "      <td>ROBBERY</td>\n",
       "      <td>138</td>\n",
       "      <td>179</td>\n",
       "      <td>29.7</td>\n",
       "      <td>101</td>\n",
       "      <td>101</td>\n",
       "      <td>0.0</td>\n",
       "    </tr>\n",
       "    <tr>\n",
       "      <th>522</th>\n",
       "      <td>108</td>\n",
       "      <td>74420.5</td>\n",
       "      <td>ROBBERY</td>\n",
       "      <td>100</td>\n",
       "      <td>115</td>\n",
       "      <td>15.0</td>\n",
       "      <td>69</td>\n",
       "      <td>61</td>\n",
       "      <td>13.1</td>\n",
       "    </tr>\n",
       "    <tr>\n",
       "      <th>562</th>\n",
       "      <td>113</td>\n",
       "      <td>78876.5</td>\n",
       "      <td>ROBBERY</td>\n",
       "      <td>156</td>\n",
       "      <td>149</td>\n",
       "      <td>-4.5</td>\n",
       "      <td>81</td>\n",
       "      <td>81</td>\n",
       "      <td>0.0</td>\n",
       "    </tr>\n",
       "    <tr>\n",
       "      <th>570</th>\n",
       "      <td>114</td>\n",
       "      <td>74420.5</td>\n",
       "      <td>ROBBERY</td>\n",
       "      <td>184</td>\n",
       "      <td>191</td>\n",
       "      <td>3.8</td>\n",
       "      <td>122</td>\n",
       "      <td>91</td>\n",
       "      <td>34.1</td>\n",
       "    </tr>\n",
       "    <tr>\n",
       "      <th>578</th>\n",
       "      <td>115</td>\n",
       "      <td>57435.0</td>\n",
       "      <td>ROBBERY</td>\n",
       "      <td>246</td>\n",
       "      <td>219</td>\n",
       "      <td>-11.0</td>\n",
       "      <td>139</td>\n",
       "      <td>112</td>\n",
       "      <td>24.1</td>\n",
       "    </tr>\n",
       "    <tr>\n",
       "      <th>610</th>\n",
       "      <td>123</td>\n",
       "      <td>97407.0</td>\n",
       "      <td>ROBBERY</td>\n",
       "      <td>12</td>\n",
       "      <td>14</td>\n",
       "      <td>16.7</td>\n",
       "      <td>5</td>\n",
       "      <td>4</td>\n",
       "      <td>25.0</td>\n",
       "    </tr>\n",
       "  </tbody>\n",
       "</table>\n",
       "</div>"
      ],
      "text/plain": [
       "     PCT  household_median_income    CRIME  2019  2020  %_chg_2019-2020  \\\n",
       "18     6                 113191.0  ROBBERY   143   142             -0.7   \n",
       "34     9                  63717.0  ROBBERY   119    94            -21.0   \n",
       "42    10                 113138.0  ROBBERY   123   126              2.4   \n",
       "58    14                  95301.0  ROBBERY   142   174             22.5   \n",
       "66    17                 132016.5  ROBBERY    60    64              6.7   \n",
       "90    20                 132605.0  ROBBERY    85    90              5.9   \n",
       "98    22                      0.0  ROBBERY    21    10            -52.4   \n",
       "106   23                  31759.5  ROBBERY   168   168              0.0   \n",
       "114   24                 132605.0  ROBBERY   172   136            -20.9   \n",
       "138   28                  46263.0  ROBBERY   163   143            -12.3   \n",
       "162   33                  53660.0  ROBBERY   146   167             14.4   \n",
       "170   34                  53660.0  ROBBERY   226   205             -9.3   \n",
       "194   42                  29136.0  ROBBERY   286   332             16.1   \n",
       "202   43                  37503.0  ROBBERY   359   399             11.1   \n",
       "210   44                  29579.0  ROBBERY   430   414             -3.7   \n",
       "218   45                  56291.5  ROBBERY   143   125            -12.6   \n",
       "226   46                  37804.0  ROBBERY   359   359              0.0   \n",
       "234   47                  58393.0  ROBBERY   347   321             -7.5   \n",
       "242   48                  29136.0  ROBBERY   309   300             -2.9   \n",
       "250   49                  59829.5  ROBBERY   190   181             -4.7   \n",
       "258   50                  73565.0  ROBBERY   107    88            -17.8   \n",
       "266   52                  37804.0  ROBBERY   363   345             -5.0   \n",
       "290   62                  72902.0  ROBBERY   132   110            -16.7   \n",
       "402   79                  58872.0  ROBBERY   261   199            -23.8   \n",
       "426   84                 124311.5  ROBBERY   138   108            -21.7   \n",
       "450   94                  87358.0  ROBBERY    68    71              4.4   \n",
       "466  101                  60569.0  ROBBERY   118    98            -16.9   \n",
       "506  106                  76351.5  ROBBERY   138   179             29.7   \n",
       "522  108                  74420.5  ROBBERY   100   115             15.0   \n",
       "562  113                  78876.5  ROBBERY   156   149             -4.5   \n",
       "570  114                  74420.5  ROBBERY   184   191              3.8   \n",
       "578  115                  57435.0  ROBBERY   246   219            -11.0   \n",
       "610  123                  97407.0  ROBBERY    12    14             16.7   \n",
       "\n",
       "     2021_YTD  2020_YTD  %_Chg  \n",
       "18         98        68   44.1  \n",
       "34         82        54   51.9  \n",
       "42         71        71    0.0  \n",
       "58        214        76  181.6  \n",
       "66         34        29   17.2  \n",
       "90         58        43   34.9  \n",
       "98          9         4  125.0  \n",
       "106       104        91   14.3  \n",
       "114        83        82    1.2  \n",
       "138        88        73   20.5  \n",
       "162       133       100   33.0  \n",
       "170       118        95   24.2  \n",
       "194       183       182    0.5  \n",
       "202       240       214   12.1  \n",
       "210       261       219   19.2  \n",
       "218       102        57   78.9  \n",
       "226       218       203    7.4  \n",
       "234       187       151   23.8  \n",
       "242       169       152   11.2  \n",
       "250       125        80   56.2  \n",
       "258        50        40   25.0  \n",
       "266       201       190    5.8  \n",
       "290        60        54   11.1  \n",
       "402       129       109   18.3  \n",
       "426        74        67   10.4  \n",
       "450        50        40   25.0  \n",
       "466        56        56    0.0  \n",
       "506       101       101    0.0  \n",
       "522        69        61   13.1  \n",
       "562        81        81    0.0  \n",
       "570       122        91   34.1  \n",
       "578       139       112   24.1  \n",
       "610         5         4   25.0  "
      ]
     },
     "execution_count": 223,
     "metadata": {},
     "output_type": "execute_result"
    }
   ],
   "source": [
    "df_robbery[df_robbery['%_Chg']>-0.4]"
   ]
  },
  {
   "cell_type": "code",
   "execution_count": 224,
   "metadata": {},
   "outputs": [
    {
     "data": {
      "text/plain": [
       "33"
      ]
     },
     "execution_count": 224,
     "metadata": {},
     "output_type": "execute_result"
    }
   ],
   "source": [
    "len(df_robbery[df_robbery['%_Chg']>-0.4])"
   ]
  },
  {
   "cell_type": "code",
   "execution_count": 225,
   "metadata": {},
   "outputs": [],
   "source": [
    "#df_robbery[df_robbery['%_Chg'] > -0.94].household_median_income.sum()/32"
   ]
  },
  {
   "cell_type": "code",
   "execution_count": 226,
   "metadata": {},
   "outputs": [
    {
     "data": {
      "text/plain": [
       "60569.0"
      ]
     },
     "execution_count": 226,
     "metadata": {},
     "output_type": "execute_result"
    }
   ],
   "source": [
    "df_robbery[df_robbery['%_Chg'] > -0.4].household_median_income.median()"
   ]
  },
  {
   "cell_type": "code",
   "execution_count": 227,
   "metadata": {},
   "outputs": [
    {
     "data": {
      "text/plain": [
       "44"
      ]
     },
     "execution_count": 227,
     "metadata": {},
     "output_type": "execute_result"
    }
   ],
   "source": [
    "len(df_robbery[df_robbery['%_Chg']<-0.4])"
   ]
  },
  {
   "cell_type": "code",
   "execution_count": 228,
   "metadata": {},
   "outputs": [],
   "source": [
    "# df_robbery[df_robbery['%_Chg'] < -0.94].household_median_income.sum()/45"
   ]
  },
  {
   "cell_type": "code",
   "execution_count": 229,
   "metadata": {},
   "outputs": [
    {
     "data": {
      "text/plain": [
       "61626.0"
      ]
     },
     "execution_count": 229,
     "metadata": {},
     "output_type": "execute_result"
    }
   ],
   "source": [
    "df_robbery[df_robbery['%_Chg'] < -0.4].household_median_income.median()"
   ]
  },
  {
   "cell_type": "code",
   "execution_count": null,
   "metadata": {},
   "outputs": [],
   "source": []
  },
  {
   "cell_type": "markdown",
   "metadata": {},
   "source": [
    "### felony assault"
   ]
  },
  {
   "cell_type": "code",
   "execution_count": 230,
   "metadata": {},
   "outputs": [],
   "source": [
    "df_felonyassault = df_MF4[df_MF4.CRIME.str.strip() == \"FELONY ASSAULT\"]"
   ]
  },
  {
   "cell_type": "code",
   "execution_count": 231,
   "metadata": {},
   "outputs": [
    {
     "data": {
      "text/plain": [
       "5.79094845886049"
      ]
     },
     "execution_count": 231,
     "metadata": {},
     "output_type": "execute_result"
    }
   ],
   "source": [
    "((df_felonyassault['2021_YTD'].sum() - df_felonyassault['2020_YTD'].sum()) / df_felonyassault['2020_YTD'].sum())*100 "
   ]
  },
  {
   "cell_type": "code",
   "execution_count": 232,
   "metadata": {},
   "outputs": [
    {
     "data": {
      "text/html": [
       "<div>\n",
       "<style scoped>\n",
       "    .dataframe tbody tr th:only-of-type {\n",
       "        vertical-align: middle;\n",
       "    }\n",
       "\n",
       "    .dataframe tbody tr th {\n",
       "        vertical-align: top;\n",
       "    }\n",
       "\n",
       "    .dataframe thead th {\n",
       "        text-align: right;\n",
       "    }\n",
       "</style>\n",
       "<table border=\"1\" class=\"dataframe\">\n",
       "  <thead>\n",
       "    <tr style=\"text-align: right;\">\n",
       "      <th></th>\n",
       "      <th>PCT</th>\n",
       "      <th>household_median_income</th>\n",
       "      <th>CRIME</th>\n",
       "      <th>2019</th>\n",
       "      <th>2020</th>\n",
       "      <th>%_chg_2019-2020</th>\n",
       "      <th>2021_YTD</th>\n",
       "      <th>2020_YTD</th>\n",
       "      <th>%_Chg</th>\n",
       "    </tr>\n",
       "  </thead>\n",
       "  <tbody>\n",
       "    <tr>\n",
       "      <th>3</th>\n",
       "      <td>1</td>\n",
       "      <td>186231.0</td>\n",
       "      <td>FELONY ASSAULT</td>\n",
       "      <td>98</td>\n",
       "      <td>81</td>\n",
       "      <td>-17.3</td>\n",
       "      <td>69</td>\n",
       "      <td>52</td>\n",
       "      <td>32.7</td>\n",
       "    </tr>\n",
       "    <tr>\n",
       "      <th>19</th>\n",
       "      <td>6</td>\n",
       "      <td>113191.0</td>\n",
       "      <td>FELONY ASSAULT</td>\n",
       "      <td>135</td>\n",
       "      <td>152</td>\n",
       "      <td>12.6</td>\n",
       "      <td>101</td>\n",
       "      <td>95</td>\n",
       "      <td>6.3</td>\n",
       "    </tr>\n",
       "    <tr>\n",
       "      <th>27</th>\n",
       "      <td>7</td>\n",
       "      <td>63717.0</td>\n",
       "      <td>FELONY ASSAULT</td>\n",
       "      <td>187</td>\n",
       "      <td>122</td>\n",
       "      <td>-34.8</td>\n",
       "      <td>101</td>\n",
       "      <td>75</td>\n",
       "      <td>34.7</td>\n",
       "    </tr>\n",
       "    <tr>\n",
       "      <th>43</th>\n",
       "      <td>10</td>\n",
       "      <td>113138.0</td>\n",
       "      <td>FELONY ASSAULT</td>\n",
       "      <td>105</td>\n",
       "      <td>109</td>\n",
       "      <td>3.8</td>\n",
       "      <td>67</td>\n",
       "      <td>60</td>\n",
       "      <td>11.7</td>\n",
       "    </tr>\n",
       "    <tr>\n",
       "      <th>59</th>\n",
       "      <td>14</td>\n",
       "      <td>95301.0</td>\n",
       "      <td>FELONY ASSAULT</td>\n",
       "      <td>213</td>\n",
       "      <td>223</td>\n",
       "      <td>4.7</td>\n",
       "      <td>268</td>\n",
       "      <td>96</td>\n",
       "      <td>179.2</td>\n",
       "    </tr>\n",
       "    <tr>\n",
       "      <th>67</th>\n",
       "      <td>17</td>\n",
       "      <td>132016.5</td>\n",
       "      <td>FELONY ASSAULT</td>\n",
       "      <td>96</td>\n",
       "      <td>66</td>\n",
       "      <td>-31.2</td>\n",
       "      <td>67</td>\n",
       "      <td>35</td>\n",
       "      <td>91.4</td>\n",
       "    </tr>\n",
       "    <tr>\n",
       "      <th>75</th>\n",
       "      <td>18</td>\n",
       "      <td>99546.5</td>\n",
       "      <td>FELONY ASSAULT</td>\n",
       "      <td>162</td>\n",
       "      <td>126</td>\n",
       "      <td>-22.2</td>\n",
       "      <td>88</td>\n",
       "      <td>67</td>\n",
       "      <td>31.3</td>\n",
       "    </tr>\n",
       "    <tr>\n",
       "      <th>91</th>\n",
       "      <td>20</td>\n",
       "      <td>132605.0</td>\n",
       "      <td>FELONY ASSAULT</td>\n",
       "      <td>80</td>\n",
       "      <td>52</td>\n",
       "      <td>-35.0</td>\n",
       "      <td>34</td>\n",
       "      <td>29</td>\n",
       "      <td>17.2</td>\n",
       "    </tr>\n",
       "    <tr>\n",
       "      <th>107</th>\n",
       "      <td>23</td>\n",
       "      <td>31759.5</td>\n",
       "      <td>FELONY ASSAULT</td>\n",
       "      <td>330</td>\n",
       "      <td>318</td>\n",
       "      <td>-3.6</td>\n",
       "      <td>207</td>\n",
       "      <td>185</td>\n",
       "      <td>11.9</td>\n",
       "    </tr>\n",
       "    <tr>\n",
       "      <th>123</th>\n",
       "      <td>25</td>\n",
       "      <td>31759.5</td>\n",
       "      <td>FELONY ASSAULT</td>\n",
       "      <td>329</td>\n",
       "      <td>317</td>\n",
       "      <td>-3.6</td>\n",
       "      <td>197</td>\n",
       "      <td>171</td>\n",
       "      <td>15.2</td>\n",
       "    </tr>\n",
       "    <tr>\n",
       "      <th>131</th>\n",
       "      <td>26</td>\n",
       "      <td>46263.0</td>\n",
       "      <td>FELONY ASSAULT</td>\n",
       "      <td>94</td>\n",
       "      <td>115</td>\n",
       "      <td>22.3</td>\n",
       "      <td>82</td>\n",
       "      <td>67</td>\n",
       "      <td>22.4</td>\n",
       "    </tr>\n",
       "    <tr>\n",
       "      <th>139</th>\n",
       "      <td>28</td>\n",
       "      <td>46263.0</td>\n",
       "      <td>FELONY ASSAULT</td>\n",
       "      <td>235</td>\n",
       "      <td>207</td>\n",
       "      <td>-11.9</td>\n",
       "      <td>135</td>\n",
       "      <td>111</td>\n",
       "      <td>21.6</td>\n",
       "    </tr>\n",
       "    <tr>\n",
       "      <th>147</th>\n",
       "      <td>30</td>\n",
       "      <td>53660.0</td>\n",
       "      <td>FELONY ASSAULT</td>\n",
       "      <td>178</td>\n",
       "      <td>167</td>\n",
       "      <td>-6.2</td>\n",
       "      <td>110</td>\n",
       "      <td>103</td>\n",
       "      <td>6.8</td>\n",
       "    </tr>\n",
       "    <tr>\n",
       "      <th>155</th>\n",
       "      <td>32</td>\n",
       "      <td>46263.0</td>\n",
       "      <td>FELONY ASSAULT</td>\n",
       "      <td>375</td>\n",
       "      <td>387</td>\n",
       "      <td>3.2</td>\n",
       "      <td>289</td>\n",
       "      <td>226</td>\n",
       "      <td>27.9</td>\n",
       "    </tr>\n",
       "    <tr>\n",
       "      <th>163</th>\n",
       "      <td>33</td>\n",
       "      <td>53660.0</td>\n",
       "      <td>FELONY ASSAULT</td>\n",
       "      <td>202</td>\n",
       "      <td>205</td>\n",
       "      <td>1.5</td>\n",
       "      <td>174</td>\n",
       "      <td>120</td>\n",
       "      <td>45.0</td>\n",
       "    </tr>\n",
       "    <tr>\n",
       "      <th>171</th>\n",
       "      <td>34</td>\n",
       "      <td>53660.0</td>\n",
       "      <td>FELONY ASSAULT</td>\n",
       "      <td>283</td>\n",
       "      <td>213</td>\n",
       "      <td>-24.7</td>\n",
       "      <td>165</td>\n",
       "      <td>143</td>\n",
       "      <td>15.4</td>\n",
       "    </tr>\n",
       "    <tr>\n",
       "      <th>187</th>\n",
       "      <td>41</td>\n",
       "      <td>25775.0</td>\n",
       "      <td>FELONY ASSAULT</td>\n",
       "      <td>265</td>\n",
       "      <td>266</td>\n",
       "      <td>0.4</td>\n",
       "      <td>179</td>\n",
       "      <td>161</td>\n",
       "      <td>11.2</td>\n",
       "    </tr>\n",
       "    <tr>\n",
       "      <th>195</th>\n",
       "      <td>42</td>\n",
       "      <td>29136.0</td>\n",
       "      <td>FELONY ASSAULT</td>\n",
       "      <td>513</td>\n",
       "      <td>549</td>\n",
       "      <td>7.0</td>\n",
       "      <td>358</td>\n",
       "      <td>312</td>\n",
       "      <td>14.7</td>\n",
       "    </tr>\n",
       "    <tr>\n",
       "      <th>211</th>\n",
       "      <td>44</td>\n",
       "      <td>29579.0</td>\n",
       "      <td>FELONY ASSAULT</td>\n",
       "      <td>793</td>\n",
       "      <td>749</td>\n",
       "      <td>-5.5</td>\n",
       "      <td>469</td>\n",
       "      <td>430</td>\n",
       "      <td>9.1</td>\n",
       "    </tr>\n",
       "    <tr>\n",
       "      <th>235</th>\n",
       "      <td>47</td>\n",
       "      <td>58393.0</td>\n",
       "      <td>FELONY ASSAULT</td>\n",
       "      <td>682</td>\n",
       "      <td>678</td>\n",
       "      <td>-0.6</td>\n",
       "      <td>406</td>\n",
       "      <td>369</td>\n",
       "      <td>10.0</td>\n",
       "    </tr>\n",
       "    <tr>\n",
       "      <th>243</th>\n",
       "      <td>48</td>\n",
       "      <td>29136.0</td>\n",
       "      <td>FELONY ASSAULT</td>\n",
       "      <td>376</td>\n",
       "      <td>461</td>\n",
       "      <td>22.6</td>\n",
       "      <td>262</td>\n",
       "      <td>239</td>\n",
       "      <td>9.6</td>\n",
       "    </tr>\n",
       "    <tr>\n",
       "      <th>251</th>\n",
       "      <td>49</td>\n",
       "      <td>59829.5</td>\n",
       "      <td>FELONY ASSAULT</td>\n",
       "      <td>288</td>\n",
       "      <td>253</td>\n",
       "      <td>-12.2</td>\n",
       "      <td>165</td>\n",
       "      <td>142</td>\n",
       "      <td>16.2</td>\n",
       "    </tr>\n",
       "    <tr>\n",
       "      <th>275</th>\n",
       "      <td>60</td>\n",
       "      <td>54334.5</td>\n",
       "      <td>FELONY ASSAULT</td>\n",
       "      <td>252</td>\n",
       "      <td>219</td>\n",
       "      <td>-13.1</td>\n",
       "      <td>213</td>\n",
       "      <td>132</td>\n",
       "      <td>61.4</td>\n",
       "    </tr>\n",
       "    <tr>\n",
       "      <th>291</th>\n",
       "      <td>62</td>\n",
       "      <td>72902.0</td>\n",
       "      <td>FELONY ASSAULT</td>\n",
       "      <td>125</td>\n",
       "      <td>146</td>\n",
       "      <td>16.8</td>\n",
       "      <td>106</td>\n",
       "      <td>75</td>\n",
       "      <td>41.3</td>\n",
       "    </tr>\n",
       "    <tr>\n",
       "      <th>315</th>\n",
       "      <td>67</td>\n",
       "      <td>59038.5</td>\n",
       "      <td>FELONY ASSAULT</td>\n",
       "      <td>485</td>\n",
       "      <td>552</td>\n",
       "      <td>13.8</td>\n",
       "      <td>371</td>\n",
       "      <td>306</td>\n",
       "      <td>21.2</td>\n",
       "    </tr>\n",
       "    <tr>\n",
       "      <th>363</th>\n",
       "      <td>73</td>\n",
       "      <td>35713.0</td>\n",
       "      <td>FELONY ASSAULT</td>\n",
       "      <td>592</td>\n",
       "      <td>580</td>\n",
       "      <td>-2.0</td>\n",
       "      <td>344</td>\n",
       "      <td>314</td>\n",
       "      <td>9.6</td>\n",
       "    </tr>\n",
       "    <tr>\n",
       "      <th>387</th>\n",
       "      <td>77</td>\n",
       "      <td>44905.0</td>\n",
       "      <td>FELONY ASSAULT</td>\n",
       "      <td>255</td>\n",
       "      <td>263</td>\n",
       "      <td>3.1</td>\n",
       "      <td>171</td>\n",
       "      <td>156</td>\n",
       "      <td>9.6</td>\n",
       "    </tr>\n",
       "    <tr>\n",
       "      <th>395</th>\n",
       "      <td>78</td>\n",
       "      <td>119375.0</td>\n",
       "      <td>FELONY ASSAULT</td>\n",
       "      <td>99</td>\n",
       "      <td>95</td>\n",
       "      <td>-4.0</td>\n",
       "      <td>57</td>\n",
       "      <td>47</td>\n",
       "      <td>21.3</td>\n",
       "    </tr>\n",
       "    <tr>\n",
       "      <th>403</th>\n",
       "      <td>79</td>\n",
       "      <td>58872.0</td>\n",
       "      <td>FELONY ASSAULT</td>\n",
       "      <td>365</td>\n",
       "      <td>368</td>\n",
       "      <td>0.8</td>\n",
       "      <td>229</td>\n",
       "      <td>202</td>\n",
       "      <td>13.4</td>\n",
       "    </tr>\n",
       "    <tr>\n",
       "      <th>411</th>\n",
       "      <td>81</td>\n",
       "      <td>44905.0</td>\n",
       "      <td>FELONY ASSAULT</td>\n",
       "      <td>294</td>\n",
       "      <td>282</td>\n",
       "      <td>-4.1</td>\n",
       "      <td>177</td>\n",
       "      <td>151</td>\n",
       "      <td>17.2</td>\n",
       "    </tr>\n",
       "    <tr>\n",
       "      <th>483</th>\n",
       "      <td>103</td>\n",
       "      <td>62927.0</td>\n",
       "      <td>FELONY ASSAULT</td>\n",
       "      <td>448</td>\n",
       "      <td>447</td>\n",
       "      <td>-0.2</td>\n",
       "      <td>275</td>\n",
       "      <td>256</td>\n",
       "      <td>7.4</td>\n",
       "    </tr>\n",
       "    <tr>\n",
       "      <th>507</th>\n",
       "      <td>106</td>\n",
       "      <td>76351.5</td>\n",
       "      <td>FELONY ASSAULT</td>\n",
       "      <td>273</td>\n",
       "      <td>282</td>\n",
       "      <td>3.3</td>\n",
       "      <td>165</td>\n",
       "      <td>152</td>\n",
       "      <td>8.6</td>\n",
       "    </tr>\n",
       "    <tr>\n",
       "      <th>515</th>\n",
       "      <td>107</td>\n",
       "      <td>67642.0</td>\n",
       "      <td>FELONY ASSAULT</td>\n",
       "      <td>179</td>\n",
       "      <td>134</td>\n",
       "      <td>-25.1</td>\n",
       "      <td>84</td>\n",
       "      <td>77</td>\n",
       "      <td>9.1</td>\n",
       "    </tr>\n",
       "    <tr>\n",
       "      <th>523</th>\n",
       "      <td>108</td>\n",
       "      <td>74420.5</td>\n",
       "      <td>FELONY ASSAULT</td>\n",
       "      <td>150</td>\n",
       "      <td>156</td>\n",
       "      <td>4.0</td>\n",
       "      <td>108</td>\n",
       "      <td>90</td>\n",
       "      <td>20.0</td>\n",
       "    </tr>\n",
       "    <tr>\n",
       "      <th>555</th>\n",
       "      <td>112</td>\n",
       "      <td>79611.5</td>\n",
       "      <td>FELONY ASSAULT</td>\n",
       "      <td>62</td>\n",
       "      <td>52</td>\n",
       "      <td>-16.1</td>\n",
       "      <td>36</td>\n",
       "      <td>24</td>\n",
       "      <td>50.0</td>\n",
       "    </tr>\n",
       "    <tr>\n",
       "      <th>571</th>\n",
       "      <td>114</td>\n",
       "      <td>74420.5</td>\n",
       "      <td>FELONY ASSAULT</td>\n",
       "      <td>364</td>\n",
       "      <td>357</td>\n",
       "      <td>-1.9</td>\n",
       "      <td>237</td>\n",
       "      <td>197</td>\n",
       "      <td>20.3</td>\n",
       "    </tr>\n",
       "    <tr>\n",
       "      <th>579</th>\n",
       "      <td>115</td>\n",
       "      <td>57435.0</td>\n",
       "      <td>FELONY ASSAULT</td>\n",
       "      <td>344</td>\n",
       "      <td>311</td>\n",
       "      <td>-9.6</td>\n",
       "      <td>213</td>\n",
       "      <td>179</td>\n",
       "      <td>19.0</td>\n",
       "    </tr>\n",
       "  </tbody>\n",
       "</table>\n",
       "</div>"
      ],
      "text/plain": [
       "     PCT  household_median_income           CRIME  2019  2020  \\\n",
       "3      1                 186231.0  FELONY ASSAULT    98    81   \n",
       "19     6                 113191.0  FELONY ASSAULT   135   152   \n",
       "27     7                  63717.0  FELONY ASSAULT   187   122   \n",
       "43    10                 113138.0  FELONY ASSAULT   105   109   \n",
       "59    14                  95301.0  FELONY ASSAULT   213   223   \n",
       "67    17                 132016.5  FELONY ASSAULT    96    66   \n",
       "75    18                  99546.5  FELONY ASSAULT   162   126   \n",
       "91    20                 132605.0  FELONY ASSAULT    80    52   \n",
       "107   23                  31759.5  FELONY ASSAULT   330   318   \n",
       "123   25                  31759.5  FELONY ASSAULT   329   317   \n",
       "131   26                  46263.0  FELONY ASSAULT    94   115   \n",
       "139   28                  46263.0  FELONY ASSAULT   235   207   \n",
       "147   30                  53660.0  FELONY ASSAULT   178   167   \n",
       "155   32                  46263.0  FELONY ASSAULT   375   387   \n",
       "163   33                  53660.0  FELONY ASSAULT   202   205   \n",
       "171   34                  53660.0  FELONY ASSAULT   283   213   \n",
       "187   41                  25775.0  FELONY ASSAULT   265   266   \n",
       "195   42                  29136.0  FELONY ASSAULT   513   549   \n",
       "211   44                  29579.0  FELONY ASSAULT   793   749   \n",
       "235   47                  58393.0  FELONY ASSAULT   682   678   \n",
       "243   48                  29136.0  FELONY ASSAULT   376   461   \n",
       "251   49                  59829.5  FELONY ASSAULT   288   253   \n",
       "275   60                  54334.5  FELONY ASSAULT   252   219   \n",
       "291   62                  72902.0  FELONY ASSAULT   125   146   \n",
       "315   67                  59038.5  FELONY ASSAULT   485   552   \n",
       "363   73                  35713.0  FELONY ASSAULT   592   580   \n",
       "387   77                  44905.0  FELONY ASSAULT   255   263   \n",
       "395   78                 119375.0  FELONY ASSAULT    99    95   \n",
       "403   79                  58872.0  FELONY ASSAULT   365   368   \n",
       "411   81                  44905.0  FELONY ASSAULT   294   282   \n",
       "483  103                  62927.0  FELONY ASSAULT   448   447   \n",
       "507  106                  76351.5  FELONY ASSAULT   273   282   \n",
       "515  107                  67642.0  FELONY ASSAULT   179   134   \n",
       "523  108                  74420.5  FELONY ASSAULT   150   156   \n",
       "555  112                  79611.5  FELONY ASSAULT    62    52   \n",
       "571  114                  74420.5  FELONY ASSAULT   364   357   \n",
       "579  115                  57435.0  FELONY ASSAULT   344   311   \n",
       "\n",
       "     %_chg_2019-2020  2021_YTD  2020_YTD  %_Chg  \n",
       "3              -17.3        69        52   32.7  \n",
       "19              12.6       101        95    6.3  \n",
       "27             -34.8       101        75   34.7  \n",
       "43               3.8        67        60   11.7  \n",
       "59               4.7       268        96  179.2  \n",
       "67             -31.2        67        35   91.4  \n",
       "75             -22.2        88        67   31.3  \n",
       "91             -35.0        34        29   17.2  \n",
       "107             -3.6       207       185   11.9  \n",
       "123             -3.6       197       171   15.2  \n",
       "131             22.3        82        67   22.4  \n",
       "139            -11.9       135       111   21.6  \n",
       "147             -6.2       110       103    6.8  \n",
       "155              3.2       289       226   27.9  \n",
       "163              1.5       174       120   45.0  \n",
       "171            -24.7       165       143   15.4  \n",
       "187              0.4       179       161   11.2  \n",
       "195              7.0       358       312   14.7  \n",
       "211             -5.5       469       430    9.1  \n",
       "235             -0.6       406       369   10.0  \n",
       "243             22.6       262       239    9.6  \n",
       "251            -12.2       165       142   16.2  \n",
       "275            -13.1       213       132   61.4  \n",
       "291             16.8       106        75   41.3  \n",
       "315             13.8       371       306   21.2  \n",
       "363             -2.0       344       314    9.6  \n",
       "387              3.1       171       156    9.6  \n",
       "395             -4.0        57        47   21.3  \n",
       "403              0.8       229       202   13.4  \n",
       "411             -4.1       177       151   17.2  \n",
       "483             -0.2       275       256    7.4  \n",
       "507              3.3       165       152    8.6  \n",
       "515            -25.1        84        77    9.1  \n",
       "523              4.0       108        90   20.0  \n",
       "555            -16.1        36        24   50.0  \n",
       "571             -1.9       237       197   20.3  \n",
       "579             -9.6       213       179   19.0  "
      ]
     },
     "execution_count": 232,
     "metadata": {},
     "output_type": "execute_result"
    }
   ],
   "source": [
    "df_felonyassault[df_felonyassault['%_Chg'] > 5.8]"
   ]
  },
  {
   "cell_type": "code",
   "execution_count": 233,
   "metadata": {},
   "outputs": [
    {
     "data": {
      "text/plain": [
       "37"
      ]
     },
     "execution_count": 233,
     "metadata": {},
     "output_type": "execute_result"
    }
   ],
   "source": [
    "len(df_felonyassault[df_felonyassault['%_Chg'] > 5.8])"
   ]
  },
  {
   "cell_type": "code",
   "execution_count": 234,
   "metadata": {},
   "outputs": [
    {
     "data": {
      "text/plain": [
       "58872.0"
      ]
     },
     "execution_count": 234,
     "metadata": {},
     "output_type": "execute_result"
    }
   ],
   "source": [
    "df_felonyassault[df_felonyassault['%_Chg'] > 5.8].household_median_income.median()"
   ]
  },
  {
   "cell_type": "code",
   "execution_count": null,
   "metadata": {},
   "outputs": [],
   "source": []
  },
  {
   "cell_type": "code",
   "execution_count": 235,
   "metadata": {},
   "outputs": [
    {
     "data": {
      "text/plain": [
       "40"
      ]
     },
     "execution_count": 235,
     "metadata": {},
     "output_type": "execute_result"
    }
   ],
   "source": [
    "len(df_felonyassault[df_felonyassault['%_Chg'] < 5.8])"
   ]
  },
  {
   "cell_type": "code",
   "execution_count": 236,
   "metadata": {},
   "outputs": [
    {
     "data": {
      "text/plain": [
       "64311.75"
      ]
     },
     "execution_count": 236,
     "metadata": {},
     "output_type": "execute_result"
    }
   ],
   "source": [
    "df_felonyassault[df_felonyassault['%_Chg'] < 5.8].household_median_income.median()"
   ]
  },
  {
   "cell_type": "code",
   "execution_count": null,
   "metadata": {},
   "outputs": [],
   "source": []
  },
  {
   "cell_type": "markdown",
   "metadata": {},
   "source": [
    "### burglary"
   ]
  },
  {
   "cell_type": "code",
   "execution_count": 237,
   "metadata": {},
   "outputs": [],
   "source": [
    "df_burglary = df_MF4[df_MF4.CRIME.str.strip() == \"BURGLARY\"]"
   ]
  },
  {
   "cell_type": "code",
   "execution_count": 238,
   "metadata": {},
   "outputs": [
    {
     "data": {
      "text/plain": [
       "-23.707685269899358"
      ]
     },
     "execution_count": 238,
     "metadata": {},
     "output_type": "execute_result"
    }
   ],
   "source": [
    "((df_burglary['2021_YTD'].sum() - df_burglary['2020_YTD'].sum()) / df_burglary['2020_YTD'].sum())*100 "
   ]
  },
  {
   "cell_type": "code",
   "execution_count": 239,
   "metadata": {},
   "outputs": [
    {
     "data": {
      "text/html": [
       "<div>\n",
       "<style scoped>\n",
       "    .dataframe tbody tr th:only-of-type {\n",
       "        vertical-align: middle;\n",
       "    }\n",
       "\n",
       "    .dataframe tbody tr th {\n",
       "        vertical-align: top;\n",
       "    }\n",
       "\n",
       "    .dataframe thead th {\n",
       "        text-align: right;\n",
       "    }\n",
       "</style>\n",
       "<table border=\"1\" class=\"dataframe\">\n",
       "  <thead>\n",
       "    <tr style=\"text-align: right;\">\n",
       "      <th></th>\n",
       "      <th>PCT</th>\n",
       "      <th>household_median_income</th>\n",
       "      <th>CRIME</th>\n",
       "      <th>2019</th>\n",
       "      <th>2020</th>\n",
       "      <th>%_chg_2019-2020</th>\n",
       "      <th>2021_YTD</th>\n",
       "      <th>2020_YTD</th>\n",
       "      <th>%_Chg</th>\n",
       "    </tr>\n",
       "  </thead>\n",
       "  <tbody>\n",
       "    <tr>\n",
       "      <th>36</th>\n",
       "      <td>9</td>\n",
       "      <td>63717.0</td>\n",
       "      <td>BURGLARY</td>\n",
       "      <td>123</td>\n",
       "      <td>270</td>\n",
       "      <td>119.5</td>\n",
       "      <td>176</td>\n",
       "      <td>160</td>\n",
       "      <td>10.0</td>\n",
       "    </tr>\n",
       "    <tr>\n",
       "      <th>60</th>\n",
       "      <td>14</td>\n",
       "      <td>95301.0</td>\n",
       "      <td>BURGLARY</td>\n",
       "      <td>178</td>\n",
       "      <td>353</td>\n",
       "      <td>98.3</td>\n",
       "      <td>236</td>\n",
       "      <td>201</td>\n",
       "      <td>17.4</td>\n",
       "    </tr>\n",
       "    <tr>\n",
       "      <th>140</th>\n",
       "      <td>28</td>\n",
       "      <td>46263.0</td>\n",
       "      <td>BURGLARY</td>\n",
       "      <td>90</td>\n",
       "      <td>147</td>\n",
       "      <td>63.3</td>\n",
       "      <td>85</td>\n",
       "      <td>89</td>\n",
       "      <td>-4.5</td>\n",
       "    </tr>\n",
       "    <tr>\n",
       "      <th>148</th>\n",
       "      <td>30</td>\n",
       "      <td>53660.0</td>\n",
       "      <td>BURGLARY</td>\n",
       "      <td>69</td>\n",
       "      <td>103</td>\n",
       "      <td>49.3</td>\n",
       "      <td>77</td>\n",
       "      <td>58</td>\n",
       "      <td>32.8</td>\n",
       "    </tr>\n",
       "    <tr>\n",
       "      <th>156</th>\n",
       "      <td>32</td>\n",
       "      <td>46263.0</td>\n",
       "      <td>BURGLARY</td>\n",
       "      <td>110</td>\n",
       "      <td>128</td>\n",
       "      <td>16.4</td>\n",
       "      <td>98</td>\n",
       "      <td>61</td>\n",
       "      <td>60.7</td>\n",
       "    </tr>\n",
       "    <tr>\n",
       "      <th>204</th>\n",
       "      <td>43</td>\n",
       "      <td>37503.0</td>\n",
       "      <td>BURGLARY</td>\n",
       "      <td>140</td>\n",
       "      <td>244</td>\n",
       "      <td>74.3</td>\n",
       "      <td>136</td>\n",
       "      <td>134</td>\n",
       "      <td>1.5</td>\n",
       "    </tr>\n",
       "    <tr>\n",
       "      <th>212</th>\n",
       "      <td>44</td>\n",
       "      <td>29579.0</td>\n",
       "      <td>BURGLARY</td>\n",
       "      <td>173</td>\n",
       "      <td>253</td>\n",
       "      <td>46.2</td>\n",
       "      <td>151</td>\n",
       "      <td>155</td>\n",
       "      <td>-2.6</td>\n",
       "    </tr>\n",
       "    <tr>\n",
       "      <th>220</th>\n",
       "      <td>45</td>\n",
       "      <td>56291.5</td>\n",
       "      <td>BURGLARY</td>\n",
       "      <td>99</td>\n",
       "      <td>101</td>\n",
       "      <td>2.0</td>\n",
       "      <td>57</td>\n",
       "      <td>69</td>\n",
       "      <td>-17.4</td>\n",
       "    </tr>\n",
       "    <tr>\n",
       "      <th>236</th>\n",
       "      <td>47</td>\n",
       "      <td>58393.0</td>\n",
       "      <td>BURGLARY</td>\n",
       "      <td>245</td>\n",
       "      <td>241</td>\n",
       "      <td>-1.6</td>\n",
       "      <td>148</td>\n",
       "      <td>137</td>\n",
       "      <td>8.0</td>\n",
       "    </tr>\n",
       "    <tr>\n",
       "      <th>244</th>\n",
       "      <td>48</td>\n",
       "      <td>29136.0</td>\n",
       "      <td>BURGLARY</td>\n",
       "      <td>150</td>\n",
       "      <td>237</td>\n",
       "      <td>58.0</td>\n",
       "      <td>118</td>\n",
       "      <td>149</td>\n",
       "      <td>-20.8</td>\n",
       "    </tr>\n",
       "    <tr>\n",
       "      <th>252</th>\n",
       "      <td>49</td>\n",
       "      <td>59829.5</td>\n",
       "      <td>BURGLARY</td>\n",
       "      <td>133</td>\n",
       "      <td>167</td>\n",
       "      <td>25.6</td>\n",
       "      <td>97</td>\n",
       "      <td>111</td>\n",
       "      <td>-12.6</td>\n",
       "    </tr>\n",
       "    <tr>\n",
       "      <th>276</th>\n",
       "      <td>60</td>\n",
       "      <td>54334.5</td>\n",
       "      <td>BURGLARY</td>\n",
       "      <td>85</td>\n",
       "      <td>140</td>\n",
       "      <td>64.7</td>\n",
       "      <td>82</td>\n",
       "      <td>98</td>\n",
       "      <td>-16.3</td>\n",
       "    </tr>\n",
       "    <tr>\n",
       "      <th>284</th>\n",
       "      <td>61</td>\n",
       "      <td>54334.5</td>\n",
       "      <td>BURGLARY</td>\n",
       "      <td>144</td>\n",
       "      <td>215</td>\n",
       "      <td>49.3</td>\n",
       "      <td>103</td>\n",
       "      <td>115</td>\n",
       "      <td>-10.4</td>\n",
       "    </tr>\n",
       "    <tr>\n",
       "      <th>292</th>\n",
       "      <td>62</td>\n",
       "      <td>72902.0</td>\n",
       "      <td>BURGLARY</td>\n",
       "      <td>162</td>\n",
       "      <td>150</td>\n",
       "      <td>-7.4</td>\n",
       "      <td>83</td>\n",
       "      <td>77</td>\n",
       "      <td>7.8</td>\n",
       "    </tr>\n",
       "    <tr>\n",
       "      <th>300</th>\n",
       "      <td>63</td>\n",
       "      <td>70793.0</td>\n",
       "      <td>BURGLARY</td>\n",
       "      <td>88</td>\n",
       "      <td>97</td>\n",
       "      <td>10.2</td>\n",
       "      <td>55</td>\n",
       "      <td>55</td>\n",
       "      <td>0.0</td>\n",
       "    </tr>\n",
       "    <tr>\n",
       "      <th>308</th>\n",
       "      <td>66</td>\n",
       "      <td>53081.5</td>\n",
       "      <td>BURGLARY</td>\n",
       "      <td>164</td>\n",
       "      <td>171</td>\n",
       "      <td>4.3</td>\n",
       "      <td>69</td>\n",
       "      <td>90</td>\n",
       "      <td>-23.3</td>\n",
       "    </tr>\n",
       "    <tr>\n",
       "      <th>324</th>\n",
       "      <td>68</td>\n",
       "      <td>64906.5</td>\n",
       "      <td>BURGLARY</td>\n",
       "      <td>104</td>\n",
       "      <td>141</td>\n",
       "      <td>35.6</td>\n",
       "      <td>68</td>\n",
       "      <td>84</td>\n",
       "      <td>-19.0</td>\n",
       "    </tr>\n",
       "    <tr>\n",
       "      <th>340</th>\n",
       "      <td>70</td>\n",
       "      <td>59038.5</td>\n",
       "      <td>BURGLARY</td>\n",
       "      <td>133</td>\n",
       "      <td>217</td>\n",
       "      <td>63.2</td>\n",
       "      <td>109</td>\n",
       "      <td>141</td>\n",
       "      <td>-22.7</td>\n",
       "    </tr>\n",
       "    <tr>\n",
       "      <th>356</th>\n",
       "      <td>72</td>\n",
       "      <td>55695.5</td>\n",
       "      <td>BURGLARY</td>\n",
       "      <td>159</td>\n",
       "      <td>181</td>\n",
       "      <td>13.8</td>\n",
       "      <td>83</td>\n",
       "      <td>104</td>\n",
       "      <td>-20.2</td>\n",
       "    </tr>\n",
       "    <tr>\n",
       "      <th>364</th>\n",
       "      <td>73</td>\n",
       "      <td>35713.0</td>\n",
       "      <td>BURGLARY</td>\n",
       "      <td>166</td>\n",
       "      <td>195</td>\n",
       "      <td>17.5</td>\n",
       "      <td>72</td>\n",
       "      <td>91</td>\n",
       "      <td>-20.9</td>\n",
       "    </tr>\n",
       "    <tr>\n",
       "      <th>372</th>\n",
       "      <td>75</td>\n",
       "      <td>40892.5</td>\n",
       "      <td>BURGLARY</td>\n",
       "      <td>468</td>\n",
       "      <td>433</td>\n",
       "      <td>-7.5</td>\n",
       "      <td>231</td>\n",
       "      <td>249</td>\n",
       "      <td>-7.2</td>\n",
       "    </tr>\n",
       "    <tr>\n",
       "      <th>396</th>\n",
       "      <td>78</td>\n",
       "      <td>119375.0</td>\n",
       "      <td>BURGLARY</td>\n",
       "      <td>104</td>\n",
       "      <td>116</td>\n",
       "      <td>11.5</td>\n",
       "      <td>69</td>\n",
       "      <td>69</td>\n",
       "      <td>0.0</td>\n",
       "    </tr>\n",
       "    <tr>\n",
       "      <th>420</th>\n",
       "      <td>83</td>\n",
       "      <td>53303.0</td>\n",
       "      <td>BURGLARY</td>\n",
       "      <td>247</td>\n",
       "      <td>350</td>\n",
       "      <td>41.7</td>\n",
       "      <td>149</td>\n",
       "      <td>184</td>\n",
       "      <td>-19.0</td>\n",
       "    </tr>\n",
       "    <tr>\n",
       "      <th>428</th>\n",
       "      <td>84</td>\n",
       "      <td>124311.5</td>\n",
       "      <td>BURGLARY</td>\n",
       "      <td>111</td>\n",
       "      <td>181</td>\n",
       "      <td>63.1</td>\n",
       "      <td>71</td>\n",
       "      <td>92</td>\n",
       "      <td>-22.8</td>\n",
       "    </tr>\n",
       "    <tr>\n",
       "      <th>452</th>\n",
       "      <td>94</td>\n",
       "      <td>87358.0</td>\n",
       "      <td>BURGLARY</td>\n",
       "      <td>106</td>\n",
       "      <td>247</td>\n",
       "      <td>133.0</td>\n",
       "      <td>120</td>\n",
       "      <td>106</td>\n",
       "      <td>13.2</td>\n",
       "    </tr>\n",
       "    <tr>\n",
       "      <th>468</th>\n",
       "      <td>101</td>\n",
       "      <td>60569.0</td>\n",
       "      <td>BURGLARY</td>\n",
       "      <td>112</td>\n",
       "      <td>84</td>\n",
       "      <td>-25.0</td>\n",
       "      <td>33</td>\n",
       "      <td>41</td>\n",
       "      <td>-19.5</td>\n",
       "    </tr>\n",
       "    <tr>\n",
       "      <th>492</th>\n",
       "      <td>104</td>\n",
       "      <td>79611.5</td>\n",
       "      <td>BURGLARY</td>\n",
       "      <td>180</td>\n",
       "      <td>323</td>\n",
       "      <td>79.4</td>\n",
       "      <td>134</td>\n",
       "      <td>174</td>\n",
       "      <td>-23.0</td>\n",
       "    </tr>\n",
       "    <tr>\n",
       "      <th>516</th>\n",
       "      <td>107</td>\n",
       "      <td>67642.0</td>\n",
       "      <td>BURGLARY</td>\n",
       "      <td>231</td>\n",
       "      <td>204</td>\n",
       "      <td>-11.7</td>\n",
       "      <td>107</td>\n",
       "      <td>93</td>\n",
       "      <td>15.1</td>\n",
       "    </tr>\n",
       "    <tr>\n",
       "      <th>524</th>\n",
       "      <td>108</td>\n",
       "      <td>74420.5</td>\n",
       "      <td>BURGLARY</td>\n",
       "      <td>96</td>\n",
       "      <td>191</td>\n",
       "      <td>99.0</td>\n",
       "      <td>97</td>\n",
       "      <td>92</td>\n",
       "      <td>5.4</td>\n",
       "    </tr>\n",
       "    <tr>\n",
       "      <th>532</th>\n",
       "      <td>109</td>\n",
       "      <td>68848.0</td>\n",
       "      <td>BURGLARY</td>\n",
       "      <td>343</td>\n",
       "      <td>441</td>\n",
       "      <td>28.6</td>\n",
       "      <td>197</td>\n",
       "      <td>227</td>\n",
       "      <td>-13.2</td>\n",
       "    </tr>\n",
       "    <tr>\n",
       "      <th>540</th>\n",
       "      <td>110</td>\n",
       "      <td>54397.5</td>\n",
       "      <td>BURGLARY</td>\n",
       "      <td>125</td>\n",
       "      <td>196</td>\n",
       "      <td>56.8</td>\n",
       "      <td>103</td>\n",
       "      <td>131</td>\n",
       "      <td>-21.4</td>\n",
       "    </tr>\n",
       "    <tr>\n",
       "      <th>548</th>\n",
       "      <td>111</td>\n",
       "      <td>84301.0</td>\n",
       "      <td>BURGLARY</td>\n",
       "      <td>193</td>\n",
       "      <td>239</td>\n",
       "      <td>23.8</td>\n",
       "      <td>134</td>\n",
       "      <td>91</td>\n",
       "      <td>47.3</td>\n",
       "    </tr>\n",
       "    <tr>\n",
       "      <th>556</th>\n",
       "      <td>112</td>\n",
       "      <td>79611.5</td>\n",
       "      <td>BURGLARY</td>\n",
       "      <td>51</td>\n",
       "      <td>127</td>\n",
       "      <td>149.0</td>\n",
       "      <td>55</td>\n",
       "      <td>52</td>\n",
       "      <td>5.8</td>\n",
       "    </tr>\n",
       "    <tr>\n",
       "      <th>564</th>\n",
       "      <td>113</td>\n",
       "      <td>78876.5</td>\n",
       "      <td>BURGLARY</td>\n",
       "      <td>156</td>\n",
       "      <td>160</td>\n",
       "      <td>2.6</td>\n",
       "      <td>70</td>\n",
       "      <td>71</td>\n",
       "      <td>-1.4</td>\n",
       "    </tr>\n",
       "    <tr>\n",
       "      <th>572</th>\n",
       "      <td>114</td>\n",
       "      <td>74420.5</td>\n",
       "      <td>BURGLARY</td>\n",
       "      <td>196</td>\n",
       "      <td>273</td>\n",
       "      <td>39.3</td>\n",
       "      <td>149</td>\n",
       "      <td>123</td>\n",
       "      <td>21.1</td>\n",
       "    </tr>\n",
       "    <tr>\n",
       "      <th>596</th>\n",
       "      <td>121</td>\n",
       "      <td>71645.0</td>\n",
       "      <td>BURGLARY</td>\n",
       "      <td>94</td>\n",
       "      <td>91</td>\n",
       "      <td>-3.2</td>\n",
       "      <td>51</td>\n",
       "      <td>52</td>\n",
       "      <td>-1.9</td>\n",
       "    </tr>\n",
       "    <tr>\n",
       "      <th>604</th>\n",
       "      <td>122</td>\n",
       "      <td>97407.0</td>\n",
       "      <td>BURGLARY</td>\n",
       "      <td>64</td>\n",
       "      <td>92</td>\n",
       "      <td>43.8</td>\n",
       "      <td>47</td>\n",
       "      <td>38</td>\n",
       "      <td>23.7</td>\n",
       "    </tr>\n",
       "  </tbody>\n",
       "</table>\n",
       "</div>"
      ],
      "text/plain": [
       "     PCT  household_median_income     CRIME  2019  2020  %_chg_2019-2020  \\\n",
       "36     9                  63717.0  BURGLARY   123   270            119.5   \n",
       "60    14                  95301.0  BURGLARY   178   353             98.3   \n",
       "140   28                  46263.0  BURGLARY    90   147             63.3   \n",
       "148   30                  53660.0  BURGLARY    69   103             49.3   \n",
       "156   32                  46263.0  BURGLARY   110   128             16.4   \n",
       "204   43                  37503.0  BURGLARY   140   244             74.3   \n",
       "212   44                  29579.0  BURGLARY   173   253             46.2   \n",
       "220   45                  56291.5  BURGLARY    99   101              2.0   \n",
       "236   47                  58393.0  BURGLARY   245   241             -1.6   \n",
       "244   48                  29136.0  BURGLARY   150   237             58.0   \n",
       "252   49                  59829.5  BURGLARY   133   167             25.6   \n",
       "276   60                  54334.5  BURGLARY    85   140             64.7   \n",
       "284   61                  54334.5  BURGLARY   144   215             49.3   \n",
       "292   62                  72902.0  BURGLARY   162   150             -7.4   \n",
       "300   63                  70793.0  BURGLARY    88    97             10.2   \n",
       "308   66                  53081.5  BURGLARY   164   171              4.3   \n",
       "324   68                  64906.5  BURGLARY   104   141             35.6   \n",
       "340   70                  59038.5  BURGLARY   133   217             63.2   \n",
       "356   72                  55695.5  BURGLARY   159   181             13.8   \n",
       "364   73                  35713.0  BURGLARY   166   195             17.5   \n",
       "372   75                  40892.5  BURGLARY   468   433             -7.5   \n",
       "396   78                 119375.0  BURGLARY   104   116             11.5   \n",
       "420   83                  53303.0  BURGLARY   247   350             41.7   \n",
       "428   84                 124311.5  BURGLARY   111   181             63.1   \n",
       "452   94                  87358.0  BURGLARY   106   247            133.0   \n",
       "468  101                  60569.0  BURGLARY   112    84            -25.0   \n",
       "492  104                  79611.5  BURGLARY   180   323             79.4   \n",
       "516  107                  67642.0  BURGLARY   231   204            -11.7   \n",
       "524  108                  74420.5  BURGLARY    96   191             99.0   \n",
       "532  109                  68848.0  BURGLARY   343   441             28.6   \n",
       "540  110                  54397.5  BURGLARY   125   196             56.8   \n",
       "548  111                  84301.0  BURGLARY   193   239             23.8   \n",
       "556  112                  79611.5  BURGLARY    51   127            149.0   \n",
       "564  113                  78876.5  BURGLARY   156   160              2.6   \n",
       "572  114                  74420.5  BURGLARY   196   273             39.3   \n",
       "596  121                  71645.0  BURGLARY    94    91             -3.2   \n",
       "604  122                  97407.0  BURGLARY    64    92             43.8   \n",
       "\n",
       "     2021_YTD  2020_YTD  %_Chg  \n",
       "36        176       160   10.0  \n",
       "60        236       201   17.4  \n",
       "140        85        89   -4.5  \n",
       "148        77        58   32.8  \n",
       "156        98        61   60.7  \n",
       "204       136       134    1.5  \n",
       "212       151       155   -2.6  \n",
       "220        57        69  -17.4  \n",
       "236       148       137    8.0  \n",
       "244       118       149  -20.8  \n",
       "252        97       111  -12.6  \n",
       "276        82        98  -16.3  \n",
       "284       103       115  -10.4  \n",
       "292        83        77    7.8  \n",
       "300        55        55    0.0  \n",
       "308        69        90  -23.3  \n",
       "324        68        84  -19.0  \n",
       "340       109       141  -22.7  \n",
       "356        83       104  -20.2  \n",
       "364        72        91  -20.9  \n",
       "372       231       249   -7.2  \n",
       "396        69        69    0.0  \n",
       "420       149       184  -19.0  \n",
       "428        71        92  -22.8  \n",
       "452       120       106   13.2  \n",
       "468        33        41  -19.5  \n",
       "492       134       174  -23.0  \n",
       "516       107        93   15.1  \n",
       "524        97        92    5.4  \n",
       "532       197       227  -13.2  \n",
       "540       103       131  -21.4  \n",
       "548       134        91   47.3  \n",
       "556        55        52    5.8  \n",
       "564        70        71   -1.4  \n",
       "572       149       123   21.1  \n",
       "596        51        52   -1.9  \n",
       "604        47        38   23.7  "
      ]
     },
     "execution_count": 239,
     "metadata": {},
     "output_type": "execute_result"
    }
   ],
   "source": [
    "df_burglary[df_burglary['%_Chg']> -23.7]"
   ]
  },
  {
   "cell_type": "code",
   "execution_count": 240,
   "metadata": {},
   "outputs": [
    {
     "data": {
      "text/plain": [
       "37"
      ]
     },
     "execution_count": 240,
     "metadata": {},
     "output_type": "execute_result"
    }
   ],
   "source": [
    "len(df_burglary[df_burglary['%_Chg']> -23.7])"
   ]
  },
  {
   "cell_type": "code",
   "execution_count": 241,
   "metadata": {},
   "outputs": [
    {
     "data": {
      "text/plain": [
       "60569.0"
      ]
     },
     "execution_count": 241,
     "metadata": {},
     "output_type": "execute_result"
    }
   ],
   "source": [
    "df_burglary[df_burglary['%_Chg']> -23.7].household_median_income.median()"
   ]
  },
  {
   "cell_type": "code",
   "execution_count": 242,
   "metadata": {},
   "outputs": [
    {
     "data": {
      "text/plain": [
       "40"
      ]
     },
     "execution_count": 242,
     "metadata": {},
     "output_type": "execute_result"
    }
   ],
   "source": [
    "len(df_burglary[df_burglary['%_Chg'] < -23.7])"
   ]
  },
  {
   "cell_type": "code",
   "execution_count": 243,
   "metadata": {},
   "outputs": [
    {
     "data": {
      "text/plain": [
       "61626.0"
      ]
     },
     "execution_count": 243,
     "metadata": {},
     "output_type": "execute_result"
    }
   ],
   "source": [
    "df_burglary[df_burglary['%_Chg'] < -23.7].household_median_income.median()"
   ]
  },
  {
   "cell_type": "code",
   "execution_count": null,
   "metadata": {},
   "outputs": [],
   "source": []
  },
  {
   "cell_type": "markdown",
   "metadata": {},
   "source": [
    "### grand larceny"
   ]
  },
  {
   "cell_type": "code",
   "execution_count": 244,
   "metadata": {},
   "outputs": [],
   "source": [
    "df_grandlarceny = df_MF4[df_MF4.CRIME.str.strip() == \"GRAND LARCENY\"]\n",
    "# requires that the property value exceed $50,000"
   ]
  },
  {
   "cell_type": "code",
   "execution_count": 245,
   "metadata": {},
   "outputs": [
    {
     "data": {
      "text/plain": [
       "1.010048689526572"
      ]
     },
     "execution_count": 245,
     "metadata": {},
     "output_type": "execute_result"
    }
   ],
   "source": [
    "((df_grandlarceny['2021_YTD'].sum() - df_grandlarceny['2020_YTD'].sum()) / df_grandlarceny['2020_YTD'].sum())*100 "
   ]
  },
  {
   "cell_type": "code",
   "execution_count": 246,
   "metadata": {},
   "outputs": [
    {
     "data": {
      "text/plain": [
       "40"
      ]
     },
     "execution_count": 246,
     "metadata": {},
     "output_type": "execute_result"
    }
   ],
   "source": [
    "len(df_grandlarceny[df_grandlarceny['%_Chg'] > 1])"
   ]
  },
  {
   "cell_type": "code",
   "execution_count": 247,
   "metadata": {},
   "outputs": [
    {
     "data": {
      "text/plain": [
       "56863.25"
      ]
     },
     "execution_count": 247,
     "metadata": {},
     "output_type": "execute_result"
    }
   ],
   "source": [
    "df_grandlarceny[df_grandlarceny['%_Chg']> 1].household_median_income.median()"
   ]
  },
  {
   "cell_type": "code",
   "execution_count": 248,
   "metadata": {},
   "outputs": [
    {
     "data": {
      "text/plain": [
       "37"
      ]
     },
     "execution_count": 248,
     "metadata": {},
     "output_type": "execute_result"
    }
   ],
   "source": [
    "len(df_grandlarceny[df_grandlarceny['%_Chg'] < 1])"
   ]
  },
  {
   "cell_type": "code",
   "execution_count": 249,
   "metadata": {},
   "outputs": [
    {
     "data": {
      "text/plain": [
       "67642.0"
      ]
     },
     "execution_count": 249,
     "metadata": {},
     "output_type": "execute_result"
    }
   ],
   "source": [
    "df_grandlarceny[df_grandlarceny['%_Chg'] < 1].household_median_income.median()"
   ]
  },
  {
   "cell_type": "markdown",
   "metadata": {},
   "source": [
    "## motor vehicle heft"
   ]
  },
  {
   "cell_type": "code",
   "execution_count": 250,
   "metadata": {},
   "outputs": [],
   "source": [
    "df_motorvehicle = df_MF4[df_MF4.CRIME.str.strip() == \"GRAND LARCENY OF MOTOR VEHICLE\"]"
   ]
  },
  {
   "cell_type": "code",
   "execution_count": 251,
   "metadata": {},
   "outputs": [
    {
     "data": {
      "text/plain": [
       "22.79981760145919"
      ]
     },
     "execution_count": 251,
     "metadata": {},
     "output_type": "execute_result"
    }
   ],
   "source": [
    "((df_motorvehicle['2021_YTD'].sum() - df_motorvehicle['2020_YTD'].sum()) / df_motorvehicle['2020_YTD'].sum())*100 "
   ]
  },
  {
   "cell_type": "code",
   "execution_count": 252,
   "metadata": {},
   "outputs": [
    {
     "data": {
      "text/html": [
       "<div>\n",
       "<style scoped>\n",
       "    .dataframe tbody tr th:only-of-type {\n",
       "        vertical-align: middle;\n",
       "    }\n",
       "\n",
       "    .dataframe tbody tr th {\n",
       "        vertical-align: top;\n",
       "    }\n",
       "\n",
       "    .dataframe thead th {\n",
       "        text-align: right;\n",
       "    }\n",
       "</style>\n",
       "<table border=\"1\" class=\"dataframe\">\n",
       "  <thead>\n",
       "    <tr style=\"text-align: right;\">\n",
       "      <th></th>\n",
       "      <th>PCT</th>\n",
       "      <th>household_median_income</th>\n",
       "      <th>CRIME</th>\n",
       "      <th>2019</th>\n",
       "      <th>2020</th>\n",
       "      <th>%_chg_2019-2020</th>\n",
       "      <th>2021_YTD</th>\n",
       "      <th>2020_YTD</th>\n",
       "      <th>%_Chg</th>\n",
       "    </tr>\n",
       "  </thead>\n",
       "  <tbody>\n",
       "    <tr>\n",
       "      <th>6</th>\n",
       "      <td>1</td>\n",
       "      <td>186231.0</td>\n",
       "      <td>GRAND LARCENY OF MOTOR VEHICLE</td>\n",
       "      <td>19</td>\n",
       "      <td>31</td>\n",
       "      <td>63.2</td>\n",
       "      <td>28</td>\n",
       "      <td>17</td>\n",
       "      <td>64.7</td>\n",
       "    </tr>\n",
       "    <tr>\n",
       "      <th>14</th>\n",
       "      <td>5</td>\n",
       "      <td>186231.0</td>\n",
       "      <td>GRAND LARCENY OF MOTOR VEHICLE</td>\n",
       "      <td>16</td>\n",
       "      <td>24</td>\n",
       "      <td>50.0</td>\n",
       "      <td>20</td>\n",
       "      <td>12</td>\n",
       "      <td>66.7</td>\n",
       "    </tr>\n",
       "    <tr>\n",
       "      <th>30</th>\n",
       "      <td>7</td>\n",
       "      <td>63717.0</td>\n",
       "      <td>GRAND LARCENY OF MOTOR VEHICLE</td>\n",
       "      <td>18</td>\n",
       "      <td>55</td>\n",
       "      <td>205.6</td>\n",
       "      <td>41</td>\n",
       "      <td>25</td>\n",
       "      <td>64.0</td>\n",
       "    </tr>\n",
       "    <tr>\n",
       "      <th>38</th>\n",
       "      <td>9</td>\n",
       "      <td>63717.0</td>\n",
       "      <td>GRAND LARCENY OF MOTOR VEHICLE</td>\n",
       "      <td>37</td>\n",
       "      <td>61</td>\n",
       "      <td>64.9</td>\n",
       "      <td>59</td>\n",
       "      <td>24</td>\n",
       "      <td>145.8</td>\n",
       "    </tr>\n",
       "    <tr>\n",
       "      <th>46</th>\n",
       "      <td>10</td>\n",
       "      <td>113138.0</td>\n",
       "      <td>GRAND LARCENY OF MOTOR VEHICLE</td>\n",
       "      <td>23</td>\n",
       "      <td>49</td>\n",
       "      <td>113.0</td>\n",
       "      <td>31</td>\n",
       "      <td>23</td>\n",
       "      <td>34.8</td>\n",
       "    </tr>\n",
       "    <tr>\n",
       "      <th>70</th>\n",
       "      <td>17</td>\n",
       "      <td>132016.5</td>\n",
       "      <td>GRAND LARCENY OF MOTOR VEHICLE</td>\n",
       "      <td>16</td>\n",
       "      <td>48</td>\n",
       "      <td>200.0</td>\n",
       "      <td>31</td>\n",
       "      <td>21</td>\n",
       "      <td>47.6</td>\n",
       "    </tr>\n",
       "    <tr>\n",
       "      <th>86</th>\n",
       "      <td>19</td>\n",
       "      <td>122569.0</td>\n",
       "      <td>GRAND LARCENY OF MOTOR VEHICLE</td>\n",
       "      <td>65</td>\n",
       "      <td>121</td>\n",
       "      <td>86.2</td>\n",
       "      <td>90</td>\n",
       "      <td>43</td>\n",
       "      <td>109.3</td>\n",
       "    </tr>\n",
       "    <tr>\n",
       "      <th>94</th>\n",
       "      <td>20</td>\n",
       "      <td>132605.0</td>\n",
       "      <td>GRAND LARCENY OF MOTOR VEHICLE</td>\n",
       "      <td>38</td>\n",
       "      <td>44</td>\n",
       "      <td>15.8</td>\n",
       "      <td>53</td>\n",
       "      <td>10</td>\n",
       "      <td>430.0</td>\n",
       "    </tr>\n",
       "    <tr>\n",
       "      <th>118</th>\n",
       "      <td>24</td>\n",
       "      <td>132605.0</td>\n",
       "      <td>GRAND LARCENY OF MOTOR VEHICLE</td>\n",
       "      <td>39</td>\n",
       "      <td>77</td>\n",
       "      <td>97.4</td>\n",
       "      <td>48</td>\n",
       "      <td>30</td>\n",
       "      <td>60.0</td>\n",
       "    </tr>\n",
       "    <tr>\n",
       "      <th>126</th>\n",
       "      <td>25</td>\n",
       "      <td>31759.5</td>\n",
       "      <td>GRAND LARCENY OF MOTOR VEHICLE</td>\n",
       "      <td>21</td>\n",
       "      <td>51</td>\n",
       "      <td>142.9</td>\n",
       "      <td>42</td>\n",
       "      <td>20</td>\n",
       "      <td>110.0</td>\n",
       "    </tr>\n",
       "    <tr>\n",
       "      <th>134</th>\n",
       "      <td>26</td>\n",
       "      <td>46263.0</td>\n",
       "      <td>GRAND LARCENY OF MOTOR VEHICLE</td>\n",
       "      <td>21</td>\n",
       "      <td>47</td>\n",
       "      <td>123.8</td>\n",
       "      <td>19</td>\n",
       "      <td>12</td>\n",
       "      <td>58.3</td>\n",
       "    </tr>\n",
       "    <tr>\n",
       "      <th>142</th>\n",
       "      <td>28</td>\n",
       "      <td>46263.0</td>\n",
       "      <td>GRAND LARCENY OF MOTOR VEHICLE</td>\n",
       "      <td>28</td>\n",
       "      <td>47</td>\n",
       "      <td>67.9</td>\n",
       "      <td>32</td>\n",
       "      <td>24</td>\n",
       "      <td>33.3</td>\n",
       "    </tr>\n",
       "    <tr>\n",
       "      <th>174</th>\n",
       "      <td>34</td>\n",
       "      <td>53660.0</td>\n",
       "      <td>GRAND LARCENY OF MOTOR VEHICLE</td>\n",
       "      <td>62</td>\n",
       "      <td>166</td>\n",
       "      <td>167.7</td>\n",
       "      <td>108</td>\n",
       "      <td>65</td>\n",
       "      <td>66.2</td>\n",
       "    </tr>\n",
       "    <tr>\n",
       "      <th>182</th>\n",
       "      <td>40</td>\n",
       "      <td>25775.0</td>\n",
       "      <td>GRAND LARCENY OF MOTOR VEHICLE</td>\n",
       "      <td>118</td>\n",
       "      <td>177</td>\n",
       "      <td>50.0</td>\n",
       "      <td>106</td>\n",
       "      <td>84</td>\n",
       "      <td>26.2</td>\n",
       "    </tr>\n",
       "    <tr>\n",
       "      <th>190</th>\n",
       "      <td>41</td>\n",
       "      <td>25775.0</td>\n",
       "      <td>GRAND LARCENY OF MOTOR VEHICLE</td>\n",
       "      <td>54</td>\n",
       "      <td>109</td>\n",
       "      <td>101.9</td>\n",
       "      <td>80</td>\n",
       "      <td>54</td>\n",
       "      <td>48.1</td>\n",
       "    </tr>\n",
       "    <tr>\n",
       "      <th>198</th>\n",
       "      <td>42</td>\n",
       "      <td>29136.0</td>\n",
       "      <td>GRAND LARCENY OF MOTOR VEHICLE</td>\n",
       "      <td>108</td>\n",
       "      <td>155</td>\n",
       "      <td>43.5</td>\n",
       "      <td>121</td>\n",
       "      <td>70</td>\n",
       "      <td>72.9</td>\n",
       "    </tr>\n",
       "    <tr>\n",
       "      <th>206</th>\n",
       "      <td>43</td>\n",
       "      <td>37503.0</td>\n",
       "      <td>GRAND LARCENY OF MOTOR VEHICLE</td>\n",
       "      <td>143</td>\n",
       "      <td>233</td>\n",
       "      <td>62.9</td>\n",
       "      <td>209</td>\n",
       "      <td>104</td>\n",
       "      <td>101.0</td>\n",
       "    </tr>\n",
       "    <tr>\n",
       "      <th>222</th>\n",
       "      <td>45</td>\n",
       "      <td>56291.5</td>\n",
       "      <td>GRAND LARCENY OF MOTOR VEHICLE</td>\n",
       "      <td>125</td>\n",
       "      <td>150</td>\n",
       "      <td>20.0</td>\n",
       "      <td>148</td>\n",
       "      <td>85</td>\n",
       "      <td>74.1</td>\n",
       "    </tr>\n",
       "    <tr>\n",
       "      <th>238</th>\n",
       "      <td>47</td>\n",
       "      <td>58393.0</td>\n",
       "      <td>GRAND LARCENY OF MOTOR VEHICLE</td>\n",
       "      <td>183</td>\n",
       "      <td>285</td>\n",
       "      <td>55.7</td>\n",
       "      <td>291</td>\n",
       "      <td>119</td>\n",
       "      <td>144.5</td>\n",
       "    </tr>\n",
       "    <tr>\n",
       "      <th>246</th>\n",
       "      <td>48</td>\n",
       "      <td>29136.0</td>\n",
       "      <td>GRAND LARCENY OF MOTOR VEHICLE</td>\n",
       "      <td>86</td>\n",
       "      <td>150</td>\n",
       "      <td>74.4</td>\n",
       "      <td>98</td>\n",
       "      <td>61</td>\n",
       "      <td>60.7</td>\n",
       "    </tr>\n",
       "    <tr>\n",
       "      <th>254</th>\n",
       "      <td>49</td>\n",
       "      <td>59829.5</td>\n",
       "      <td>GRAND LARCENY OF MOTOR VEHICLE</td>\n",
       "      <td>98</td>\n",
       "      <td>191</td>\n",
       "      <td>94.9</td>\n",
       "      <td>134</td>\n",
       "      <td>99</td>\n",
       "      <td>35.4</td>\n",
       "    </tr>\n",
       "    <tr>\n",
       "      <th>270</th>\n",
       "      <td>52</td>\n",
       "      <td>37804.0</td>\n",
       "      <td>GRAND LARCENY OF MOTOR VEHICLE</td>\n",
       "      <td>78</td>\n",
       "      <td>186</td>\n",
       "      <td>138.5</td>\n",
       "      <td>117</td>\n",
       "      <td>83</td>\n",
       "      <td>41.0</td>\n",
       "    </tr>\n",
       "    <tr>\n",
       "      <th>350</th>\n",
       "      <td>71</td>\n",
       "      <td>44905.0</td>\n",
       "      <td>GRAND LARCENY OF MOTOR VEHICLE</td>\n",
       "      <td>89</td>\n",
       "      <td>122</td>\n",
       "      <td>37.1</td>\n",
       "      <td>70</td>\n",
       "      <td>56</td>\n",
       "      <td>25.0</td>\n",
       "    </tr>\n",
       "    <tr>\n",
       "      <th>366</th>\n",
       "      <td>73</td>\n",
       "      <td>35713.0</td>\n",
       "      <td>GRAND LARCENY OF MOTOR VEHICLE</td>\n",
       "      <td>75</td>\n",
       "      <td>99</td>\n",
       "      <td>32.0</td>\n",
       "      <td>78</td>\n",
       "      <td>53</td>\n",
       "      <td>47.2</td>\n",
       "    </tr>\n",
       "    <tr>\n",
       "      <th>374</th>\n",
       "      <td>75</td>\n",
       "      <td>40892.5</td>\n",
       "      <td>GRAND LARCENY OF MOTOR VEHICLE</td>\n",
       "      <td>296</td>\n",
       "      <td>426</td>\n",
       "      <td>43.9</td>\n",
       "      <td>301</td>\n",
       "      <td>201</td>\n",
       "      <td>49.8</td>\n",
       "    </tr>\n",
       "    <tr>\n",
       "      <th>382</th>\n",
       "      <td>76</td>\n",
       "      <td>61200.0</td>\n",
       "      <td>GRAND LARCENY OF MOTOR VEHICLE</td>\n",
       "      <td>23</td>\n",
       "      <td>45</td>\n",
       "      <td>95.7</td>\n",
       "      <td>28</td>\n",
       "      <td>18</td>\n",
       "      <td>55.6</td>\n",
       "    </tr>\n",
       "    <tr>\n",
       "      <th>446</th>\n",
       "      <td>90</td>\n",
       "      <td>53303.0</td>\n",
       "      <td>GRAND LARCENY OF MOTOR VEHICLE</td>\n",
       "      <td>72</td>\n",
       "      <td>135</td>\n",
       "      <td>87.5</td>\n",
       "      <td>82</td>\n",
       "      <td>58</td>\n",
       "      <td>41.4</td>\n",
       "    </tr>\n",
       "    <tr>\n",
       "      <th>478</th>\n",
       "      <td>102</td>\n",
       "      <td>72003.5</td>\n",
       "      <td>GRAND LARCENY OF MOTOR VEHICLE</td>\n",
       "      <td>70</td>\n",
       "      <td>152</td>\n",
       "      <td>117.1</td>\n",
       "      <td>132</td>\n",
       "      <td>87</td>\n",
       "      <td>51.7</td>\n",
       "    </tr>\n",
       "    <tr>\n",
       "      <th>494</th>\n",
       "      <td>104</td>\n",
       "      <td>79611.5</td>\n",
       "      <td>GRAND LARCENY OF MOTOR VEHICLE</td>\n",
       "      <td>141</td>\n",
       "      <td>182</td>\n",
       "      <td>29.1</td>\n",
       "      <td>123</td>\n",
       "      <td>86</td>\n",
       "      <td>43.0</td>\n",
       "    </tr>\n",
       "    <tr>\n",
       "      <th>526</th>\n",
       "      <td>108</td>\n",
       "      <td>74420.5</td>\n",
       "      <td>GRAND LARCENY OF MOTOR VEHICLE</td>\n",
       "      <td>88</td>\n",
       "      <td>167</td>\n",
       "      <td>89.8</td>\n",
       "      <td>108</td>\n",
       "      <td>66</td>\n",
       "      <td>63.6</td>\n",
       "    </tr>\n",
       "    <tr>\n",
       "      <th>534</th>\n",
       "      <td>109</td>\n",
       "      <td>68848.0</td>\n",
       "      <td>GRAND LARCENY OF MOTOR VEHICLE</td>\n",
       "      <td>91</td>\n",
       "      <td>159</td>\n",
       "      <td>74.7</td>\n",
       "      <td>122</td>\n",
       "      <td>77</td>\n",
       "      <td>58.4</td>\n",
       "    </tr>\n",
       "    <tr>\n",
       "      <th>542</th>\n",
       "      <td>110</td>\n",
       "      <td>54397.5</td>\n",
       "      <td>GRAND LARCENY OF MOTOR VEHICLE</td>\n",
       "      <td>81</td>\n",
       "      <td>138</td>\n",
       "      <td>70.4</td>\n",
       "      <td>95</td>\n",
       "      <td>60</td>\n",
       "      <td>58.3</td>\n",
       "    </tr>\n",
       "    <tr>\n",
       "      <th>582</th>\n",
       "      <td>115</td>\n",
       "      <td>57435.0</td>\n",
       "      <td>GRAND LARCENY OF MOTOR VEHICLE</td>\n",
       "      <td>128</td>\n",
       "      <td>204</td>\n",
       "      <td>59.4</td>\n",
       "      <td>118</td>\n",
       "      <td>93</td>\n",
       "      <td>26.9</td>\n",
       "    </tr>\n",
       "  </tbody>\n",
       "</table>\n",
       "</div>"
      ],
      "text/plain": [
       "     PCT  household_median_income                           CRIME  2019  2020  \\\n",
       "6      1                 186231.0  GRAND LARCENY OF MOTOR VEHICLE    19    31   \n",
       "14     5                 186231.0  GRAND LARCENY OF MOTOR VEHICLE    16    24   \n",
       "30     7                  63717.0  GRAND LARCENY OF MOTOR VEHICLE    18    55   \n",
       "38     9                  63717.0  GRAND LARCENY OF MOTOR VEHICLE    37    61   \n",
       "46    10                 113138.0  GRAND LARCENY OF MOTOR VEHICLE    23    49   \n",
       "70    17                 132016.5  GRAND LARCENY OF MOTOR VEHICLE    16    48   \n",
       "86    19                 122569.0  GRAND LARCENY OF MOTOR VEHICLE    65   121   \n",
       "94    20                 132605.0  GRAND LARCENY OF MOTOR VEHICLE    38    44   \n",
       "118   24                 132605.0  GRAND LARCENY OF MOTOR VEHICLE    39    77   \n",
       "126   25                  31759.5  GRAND LARCENY OF MOTOR VEHICLE    21    51   \n",
       "134   26                  46263.0  GRAND LARCENY OF MOTOR VEHICLE    21    47   \n",
       "142   28                  46263.0  GRAND LARCENY OF MOTOR VEHICLE    28    47   \n",
       "174   34                  53660.0  GRAND LARCENY OF MOTOR VEHICLE    62   166   \n",
       "182   40                  25775.0  GRAND LARCENY OF MOTOR VEHICLE   118   177   \n",
       "190   41                  25775.0  GRAND LARCENY OF MOTOR VEHICLE    54   109   \n",
       "198   42                  29136.0  GRAND LARCENY OF MOTOR VEHICLE   108   155   \n",
       "206   43                  37503.0  GRAND LARCENY OF MOTOR VEHICLE   143   233   \n",
       "222   45                  56291.5  GRAND LARCENY OF MOTOR VEHICLE   125   150   \n",
       "238   47                  58393.0  GRAND LARCENY OF MOTOR VEHICLE   183   285   \n",
       "246   48                  29136.0  GRAND LARCENY OF MOTOR VEHICLE    86   150   \n",
       "254   49                  59829.5  GRAND LARCENY OF MOTOR VEHICLE    98   191   \n",
       "270   52                  37804.0  GRAND LARCENY OF MOTOR VEHICLE    78   186   \n",
       "350   71                  44905.0  GRAND LARCENY OF MOTOR VEHICLE    89   122   \n",
       "366   73                  35713.0  GRAND LARCENY OF MOTOR VEHICLE    75    99   \n",
       "374   75                  40892.5  GRAND LARCENY OF MOTOR VEHICLE   296   426   \n",
       "382   76                  61200.0  GRAND LARCENY OF MOTOR VEHICLE    23    45   \n",
       "446   90                  53303.0  GRAND LARCENY OF MOTOR VEHICLE    72   135   \n",
       "478  102                  72003.5  GRAND LARCENY OF MOTOR VEHICLE    70   152   \n",
       "494  104                  79611.5  GRAND LARCENY OF MOTOR VEHICLE   141   182   \n",
       "526  108                  74420.5  GRAND LARCENY OF MOTOR VEHICLE    88   167   \n",
       "534  109                  68848.0  GRAND LARCENY OF MOTOR VEHICLE    91   159   \n",
       "542  110                  54397.5  GRAND LARCENY OF MOTOR VEHICLE    81   138   \n",
       "582  115                  57435.0  GRAND LARCENY OF MOTOR VEHICLE   128   204   \n",
       "\n",
       "     %_chg_2019-2020  2021_YTD  2020_YTD  %_Chg  \n",
       "6               63.2        28        17   64.7  \n",
       "14              50.0        20        12   66.7  \n",
       "30             205.6        41        25   64.0  \n",
       "38              64.9        59        24  145.8  \n",
       "46             113.0        31        23   34.8  \n",
       "70             200.0        31        21   47.6  \n",
       "86              86.2        90        43  109.3  \n",
       "94              15.8        53        10  430.0  \n",
       "118             97.4        48        30   60.0  \n",
       "126            142.9        42        20  110.0  \n",
       "134            123.8        19        12   58.3  \n",
       "142             67.9        32        24   33.3  \n",
       "174            167.7       108        65   66.2  \n",
       "182             50.0       106        84   26.2  \n",
       "190            101.9        80        54   48.1  \n",
       "198             43.5       121        70   72.9  \n",
       "206             62.9       209       104  101.0  \n",
       "222             20.0       148        85   74.1  \n",
       "238             55.7       291       119  144.5  \n",
       "246             74.4        98        61   60.7  \n",
       "254             94.9       134        99   35.4  \n",
       "270            138.5       117        83   41.0  \n",
       "350             37.1        70        56   25.0  \n",
       "366             32.0        78        53   47.2  \n",
       "374             43.9       301       201   49.8  \n",
       "382             95.7        28        18   55.6  \n",
       "446             87.5        82        58   41.4  \n",
       "478            117.1       132        87   51.7  \n",
       "494             29.1       123        86   43.0  \n",
       "526             89.8       108        66   63.6  \n",
       "534             74.7       122        77   58.4  \n",
       "542             70.4        95        60   58.3  \n",
       "582             59.4       118        93   26.9  "
      ]
     },
     "execution_count": 252,
     "metadata": {},
     "output_type": "execute_result"
    }
   ],
   "source": [
    "df_motorvehicle[df_motorvehicle['%_Chg'] > 22.8]"
   ]
  },
  {
   "cell_type": "code",
   "execution_count": 253,
   "metadata": {},
   "outputs": [
    {
     "data": {
      "text/plain": [
       "33"
      ]
     },
     "execution_count": 253,
     "metadata": {},
     "output_type": "execute_result"
    }
   ],
   "source": [
    "len(df_motorvehicle[df_motorvehicle['%_Chg'] > 22.8])"
   ]
  },
  {
   "cell_type": "code",
   "execution_count": 254,
   "metadata": {},
   "outputs": [
    {
     "data": {
      "text/plain": [
       "57435.0"
      ]
     },
     "execution_count": 254,
     "metadata": {},
     "output_type": "execute_result"
    }
   ],
   "source": [
    "df_motorvehicle[df_motorvehicle['%_Chg'] > 22.8].household_median_income.median()"
   ]
  },
  {
   "cell_type": "code",
   "execution_count": 255,
   "metadata": {},
   "outputs": [
    {
     "data": {
      "text/plain": [
       "44"
      ]
     },
     "execution_count": 255,
     "metadata": {},
     "output_type": "execute_result"
    }
   ],
   "source": [
    "len(df_motorvehicle[df_motorvehicle['%_Chg'] < 22.8])"
   ]
  },
  {
   "cell_type": "code",
   "execution_count": 256,
   "metadata": {},
   "outputs": [
    {
     "data": {
      "text/plain": [
       "66274.25"
      ]
     },
     "execution_count": 256,
     "metadata": {},
     "output_type": "execute_result"
    }
   ],
   "source": [
    "df_motorvehicle[df_motorvehicle['%_Chg'] <22.8].household_median_income.median()"
   ]
  },
  {
   "cell_type": "code",
   "execution_count": null,
   "metadata": {},
   "outputs": [],
   "source": []
  },
  {
   "cell_type": "markdown",
   "metadata": {},
   "source": [
    "### total seven major crimes"
   ]
  },
  {
   "cell_type": "code",
   "execution_count": 257,
   "metadata": {},
   "outputs": [],
   "source": [
    "df_total = df_MF4[df_MF4.CRIME.str.strip() == \"TOTAL SEVEN MAJOR FELONY OFFENSES\"]"
   ]
  },
  {
   "cell_type": "code",
   "execution_count": 258,
   "metadata": {},
   "outputs": [
    {
     "data": {
      "text/plain": [
       "-0.3873528345450035"
      ]
     },
     "execution_count": 258,
     "metadata": {},
     "output_type": "execute_result"
    }
   ],
   "source": [
    "((df_total['2021_YTD'].sum() - df_total['2020_YTD'].sum()) / df_total['2020_YTD'].sum())*100 "
   ]
  },
  {
   "cell_type": "code",
   "execution_count": 259,
   "metadata": {},
   "outputs": [
    {
     "data": {
      "text/html": [
       "<div>\n",
       "<style scoped>\n",
       "    .dataframe tbody tr th:only-of-type {\n",
       "        vertical-align: middle;\n",
       "    }\n",
       "\n",
       "    .dataframe tbody tr th {\n",
       "        vertical-align: top;\n",
       "    }\n",
       "\n",
       "    .dataframe thead th {\n",
       "        text-align: right;\n",
       "    }\n",
       "</style>\n",
       "<table border=\"1\" class=\"dataframe\">\n",
       "  <thead>\n",
       "    <tr style=\"text-align: right;\">\n",
       "      <th></th>\n",
       "      <th>PCT</th>\n",
       "      <th>household_median_income</th>\n",
       "      <th>CRIME</th>\n",
       "      <th>2019</th>\n",
       "      <th>2020</th>\n",
       "      <th>%_chg_2019-2020</th>\n",
       "      <th>2021_YTD</th>\n",
       "      <th>2020_YTD</th>\n",
       "      <th>%_Chg</th>\n",
       "    </tr>\n",
       "  </thead>\n",
       "  <tbody>\n",
       "    <tr>\n",
       "      <th>31</th>\n",
       "      <td>7</td>\n",
       "      <td>63717.0</td>\n",
       "      <td>TOTAL SEVEN MAJOR FELONY OFFENSES</td>\n",
       "      <td>962</td>\n",
       "      <td>941</td>\n",
       "      <td>-2.2</td>\n",
       "      <td>567</td>\n",
       "      <td>502</td>\n",
       "      <td>12.9</td>\n",
       "    </tr>\n",
       "    <tr>\n",
       "      <th>39</th>\n",
       "      <td>9</td>\n",
       "      <td>63717.0</td>\n",
       "      <td>TOTAL SEVEN MAJOR FELONY OFFENSES</td>\n",
       "      <td>1234</td>\n",
       "      <td>1202</td>\n",
       "      <td>-2.6</td>\n",
       "      <td>803</td>\n",
       "      <td>642</td>\n",
       "      <td>25.1</td>\n",
       "    </tr>\n",
       "    <tr>\n",
       "      <th>63</th>\n",
       "      <td>14</td>\n",
       "      <td>95301.0</td>\n",
       "      <td>TOTAL SEVEN MAJOR FELONY OFFENSES</td>\n",
       "      <td>2552</td>\n",
       "      <td>1990</td>\n",
       "      <td>-22.0</td>\n",
       "      <td>1462</td>\n",
       "      <td>1059</td>\n",
       "      <td>38.1</td>\n",
       "    </tr>\n",
       "    <tr>\n",
       "      <th>95</th>\n",
       "      <td>20</td>\n",
       "      <td>132605.0</td>\n",
       "      <td>TOTAL SEVEN MAJOR FELONY OFFENSES</td>\n",
       "      <td>900</td>\n",
       "      <td>835</td>\n",
       "      <td>-7.2</td>\n",
       "      <td>559</td>\n",
       "      <td>438</td>\n",
       "      <td>27.6</td>\n",
       "    </tr>\n",
       "    <tr>\n",
       "      <th>111</th>\n",
       "      <td>23</td>\n",
       "      <td>31759.5</td>\n",
       "      <td>TOTAL SEVEN MAJOR FELONY OFFENSES</td>\n",
       "      <td>917</td>\n",
       "      <td>1078</td>\n",
       "      <td>17.6</td>\n",
       "      <td>616</td>\n",
       "      <td>609</td>\n",
       "      <td>1.1</td>\n",
       "    </tr>\n",
       "    <tr>\n",
       "      <th>119</th>\n",
       "      <td>24</td>\n",
       "      <td>132605.0</td>\n",
       "      <td>TOTAL SEVEN MAJOR FELONY OFFENSES</td>\n",
       "      <td>1017</td>\n",
       "      <td>922</td>\n",
       "      <td>-9.3</td>\n",
       "      <td>524</td>\n",
       "      <td>497</td>\n",
       "      <td>5.4</td>\n",
       "    </tr>\n",
       "    <tr>\n",
       "      <th>143</th>\n",
       "      <td>28</td>\n",
       "      <td>46263.0</td>\n",
       "      <td>TOTAL SEVEN MAJOR FELONY OFFENSES</td>\n",
       "      <td>880</td>\n",
       "      <td>883</td>\n",
       "      <td>0.3</td>\n",
       "      <td>552</td>\n",
       "      <td>478</td>\n",
       "      <td>15.5</td>\n",
       "    </tr>\n",
       "    <tr>\n",
       "      <th>151</th>\n",
       "      <td>30</td>\n",
       "      <td>53660.0</td>\n",
       "      <td>TOTAL SEVEN MAJOR FELONY OFFENSES</td>\n",
       "      <td>777</td>\n",
       "      <td>774</td>\n",
       "      <td>-0.4</td>\n",
       "      <td>455</td>\n",
       "      <td>432</td>\n",
       "      <td>5.3</td>\n",
       "    </tr>\n",
       "    <tr>\n",
       "      <th>159</th>\n",
       "      <td>32</td>\n",
       "      <td>46263.0</td>\n",
       "      <td>TOTAL SEVEN MAJOR FELONY OFFENSES</td>\n",
       "      <td>1088</td>\n",
       "      <td>1100</td>\n",
       "      <td>1.1</td>\n",
       "      <td>696</td>\n",
       "      <td>613</td>\n",
       "      <td>13.5</td>\n",
       "    </tr>\n",
       "    <tr>\n",
       "      <th>167</th>\n",
       "      <td>33</td>\n",
       "      <td>53660.0</td>\n",
       "      <td>TOTAL SEVEN MAJOR FELONY OFFENSES</td>\n",
       "      <td>779</td>\n",
       "      <td>959</td>\n",
       "      <td>23.1</td>\n",
       "      <td>613</td>\n",
       "      <td>527</td>\n",
       "      <td>16.3</td>\n",
       "    </tr>\n",
       "    <tr>\n",
       "      <th>175</th>\n",
       "      <td>34</td>\n",
       "      <td>53660.0</td>\n",
       "      <td>TOTAL SEVEN MAJOR FELONY OFFENSES</td>\n",
       "      <td>1278</td>\n",
       "      <td>1277</td>\n",
       "      <td>-0.1</td>\n",
       "      <td>797</td>\n",
       "      <td>657</td>\n",
       "      <td>21.3</td>\n",
       "    </tr>\n",
       "    <tr>\n",
       "      <th>191</th>\n",
       "      <td>41</td>\n",
       "      <td>25775.0</td>\n",
       "      <td>TOTAL SEVEN MAJOR FELONY OFFENSES</td>\n",
       "      <td>948</td>\n",
       "      <td>1052</td>\n",
       "      <td>11.0</td>\n",
       "      <td>609</td>\n",
       "      <td>588</td>\n",
       "      <td>3.6</td>\n",
       "    </tr>\n",
       "    <tr>\n",
       "      <th>199</th>\n",
       "      <td>42</td>\n",
       "      <td>29136.0</td>\n",
       "      <td>TOTAL SEVEN MAJOR FELONY OFFENSES</td>\n",
       "      <td>1540</td>\n",
       "      <td>1721</td>\n",
       "      <td>11.8</td>\n",
       "      <td>1028</td>\n",
       "      <td>934</td>\n",
       "      <td>10.1</td>\n",
       "    </tr>\n",
       "    <tr>\n",
       "      <th>207</th>\n",
       "      <td>43</td>\n",
       "      <td>37503.0</td>\n",
       "      <td>TOTAL SEVEN MAJOR FELONY OFFENSES</td>\n",
       "      <td>1864</td>\n",
       "      <td>2272</td>\n",
       "      <td>21.9</td>\n",
       "      <td>1371</td>\n",
       "      <td>1203</td>\n",
       "      <td>14.0</td>\n",
       "    </tr>\n",
       "    <tr>\n",
       "      <th>215</th>\n",
       "      <td>44</td>\n",
       "      <td>29579.0</td>\n",
       "      <td>TOTAL SEVEN MAJOR FELONY OFFENSES</td>\n",
       "      <td>2286</td>\n",
       "      <td>2318</td>\n",
       "      <td>1.4</td>\n",
       "      <td>1397</td>\n",
       "      <td>1240</td>\n",
       "      <td>12.7</td>\n",
       "    </tr>\n",
       "    <tr>\n",
       "      <th>223</th>\n",
       "      <td>45</td>\n",
       "      <td>56291.5</td>\n",
       "      <td>TOTAL SEVEN MAJOR FELONY OFFENSES</td>\n",
       "      <td>1175</td>\n",
       "      <td>1052</td>\n",
       "      <td>-10.5</td>\n",
       "      <td>686</td>\n",
       "      <td>599</td>\n",
       "      <td>14.5</td>\n",
       "    </tr>\n",
       "    <tr>\n",
       "      <th>239</th>\n",
       "      <td>47</td>\n",
       "      <td>58393.0</td>\n",
       "      <td>TOTAL SEVEN MAJOR FELONY OFFENSES</td>\n",
       "      <td>2037</td>\n",
       "      <td>2014</td>\n",
       "      <td>-1.1</td>\n",
       "      <td>1344</td>\n",
       "      <td>1073</td>\n",
       "      <td>25.3</td>\n",
       "    </tr>\n",
       "    <tr>\n",
       "      <th>247</th>\n",
       "      <td>48</td>\n",
       "      <td>29136.0</td>\n",
       "      <td>TOTAL SEVEN MAJOR FELONY OFFENSES</td>\n",
       "      <td>1371</td>\n",
       "      <td>1613</td>\n",
       "      <td>17.7</td>\n",
       "      <td>929</td>\n",
       "      <td>825</td>\n",
       "      <td>12.6</td>\n",
       "    </tr>\n",
       "    <tr>\n",
       "      <th>255</th>\n",
       "      <td>49</td>\n",
       "      <td>59829.5</td>\n",
       "      <td>TOTAL SEVEN MAJOR FELONY OFFENSES</td>\n",
       "      <td>1155</td>\n",
       "      <td>1212</td>\n",
       "      <td>4.9</td>\n",
       "      <td>775</td>\n",
       "      <td>660</td>\n",
       "      <td>17.4</td>\n",
       "    </tr>\n",
       "    <tr>\n",
       "      <th>271</th>\n",
       "      <td>52</td>\n",
       "      <td>37804.0</td>\n",
       "      <td>TOTAL SEVEN MAJOR FELONY OFFENSES</td>\n",
       "      <td>1957</td>\n",
       "      <td>1903</td>\n",
       "      <td>-2.8</td>\n",
       "      <td>1107</td>\n",
       "      <td>1047</td>\n",
       "      <td>5.7</td>\n",
       "    </tr>\n",
       "    <tr>\n",
       "      <th>279</th>\n",
       "      <td>60</td>\n",
       "      <td>54334.5</td>\n",
       "      <td>TOTAL SEVEN MAJOR FELONY OFFENSES</td>\n",
       "      <td>946</td>\n",
       "      <td>904</td>\n",
       "      <td>-4.4</td>\n",
       "      <td>620</td>\n",
       "      <td>566</td>\n",
       "      <td>9.5</td>\n",
       "    </tr>\n",
       "    <tr>\n",
       "      <th>295</th>\n",
       "      <td>62</td>\n",
       "      <td>72902.0</td>\n",
       "      <td>TOTAL SEVEN MAJOR FELONY OFFENSES</td>\n",
       "      <td>1057</td>\n",
       "      <td>976</td>\n",
       "      <td>-7.7</td>\n",
       "      <td>625</td>\n",
       "      <td>516</td>\n",
       "      <td>21.1</td>\n",
       "    </tr>\n",
       "    <tr>\n",
       "      <th>319</th>\n",
       "      <td>67</td>\n",
       "      <td>59038.5</td>\n",
       "      <td>TOTAL SEVEN MAJOR FELONY OFFENSES</td>\n",
       "      <td>1630</td>\n",
       "      <td>1669</td>\n",
       "      <td>2.4</td>\n",
       "      <td>956</td>\n",
       "      <td>929</td>\n",
       "      <td>2.9</td>\n",
       "    </tr>\n",
       "    <tr>\n",
       "      <th>367</th>\n",
       "      <td>73</td>\n",
       "      <td>35713.0</td>\n",
       "      <td>TOTAL SEVEN MAJOR FELONY OFFENSES</td>\n",
       "      <td>1548</td>\n",
       "      <td>1469</td>\n",
       "      <td>-5.1</td>\n",
       "      <td>812</td>\n",
       "      <td>786</td>\n",
       "      <td>3.3</td>\n",
       "    </tr>\n",
       "    <tr>\n",
       "      <th>375</th>\n",
       "      <td>75</td>\n",
       "      <td>40892.5</td>\n",
       "      <td>TOTAL SEVEN MAJOR FELONY OFFENSES</td>\n",
       "      <td>3525</td>\n",
       "      <td>3383</td>\n",
       "      <td>-4.0</td>\n",
       "      <td>1961</td>\n",
       "      <td>1905</td>\n",
       "      <td>2.9</td>\n",
       "    </tr>\n",
       "    <tr>\n",
       "      <th>399</th>\n",
       "      <td>78</td>\n",
       "      <td>119375.0</td>\n",
       "      <td>TOTAL SEVEN MAJOR FELONY OFFENSES</td>\n",
       "      <td>830</td>\n",
       "      <td>774</td>\n",
       "      <td>-6.7</td>\n",
       "      <td>470</td>\n",
       "      <td>433</td>\n",
       "      <td>8.5</td>\n",
       "    </tr>\n",
       "    <tr>\n",
       "      <th>431</th>\n",
       "      <td>84</td>\n",
       "      <td>124311.5</td>\n",
       "      <td>TOTAL SEVEN MAJOR FELONY OFFENSES</td>\n",
       "      <td>1085</td>\n",
       "      <td>918</td>\n",
       "      <td>-15.4</td>\n",
       "      <td>539</td>\n",
       "      <td>464</td>\n",
       "      <td>16.2</td>\n",
       "    </tr>\n",
       "    <tr>\n",
       "      <th>455</th>\n",
       "      <td>94</td>\n",
       "      <td>87358.0</td>\n",
       "      <td>TOTAL SEVEN MAJOR FELONY OFFENSES</td>\n",
       "      <td>798</td>\n",
       "      <td>1011</td>\n",
       "      <td>26.7</td>\n",
       "      <td>512</td>\n",
       "      <td>490</td>\n",
       "      <td>4.5</td>\n",
       "    </tr>\n",
       "    <tr>\n",
       "      <th>527</th>\n",
       "      <td>108</td>\n",
       "      <td>74420.5</td>\n",
       "      <td>TOTAL SEVEN MAJOR FELONY OFFENSES</td>\n",
       "      <td>1028</td>\n",
       "      <td>1066</td>\n",
       "      <td>3.7</td>\n",
       "      <td>616</td>\n",
       "      <td>525</td>\n",
       "      <td>17.3</td>\n",
       "    </tr>\n",
       "    <tr>\n",
       "      <th>551</th>\n",
       "      <td>111</td>\n",
       "      <td>84301.0</td>\n",
       "      <td>TOTAL SEVEN MAJOR FELONY OFFENSES</td>\n",
       "      <td>742</td>\n",
       "      <td>782</td>\n",
       "      <td>5.4</td>\n",
       "      <td>433</td>\n",
       "      <td>404</td>\n",
       "      <td>7.2</td>\n",
       "    </tr>\n",
       "    <tr>\n",
       "      <th>559</th>\n",
       "      <td>112</td>\n",
       "      <td>79611.5</td>\n",
       "      <td>TOTAL SEVEN MAJOR FELONY OFFENSES</td>\n",
       "      <td>536</td>\n",
       "      <td>604</td>\n",
       "      <td>12.7</td>\n",
       "      <td>351</td>\n",
       "      <td>317</td>\n",
       "      <td>10.7</td>\n",
       "    </tr>\n",
       "    <tr>\n",
       "      <th>575</th>\n",
       "      <td>114</td>\n",
       "      <td>74420.5</td>\n",
       "      <td>TOTAL SEVEN MAJOR FELONY OFFENSES</td>\n",
       "      <td>1698</td>\n",
       "      <td>1793</td>\n",
       "      <td>5.6</td>\n",
       "      <td>1028</td>\n",
       "      <td>874</td>\n",
       "      <td>17.6</td>\n",
       "    </tr>\n",
       "    <tr>\n",
       "      <th>583</th>\n",
       "      <td>115</td>\n",
       "      <td>57435.0</td>\n",
       "      <td>TOTAL SEVEN MAJOR FELONY OFFENSES</td>\n",
       "      <td>1416</td>\n",
       "      <td>1467</td>\n",
       "      <td>3.6</td>\n",
       "      <td>858</td>\n",
       "      <td>799</td>\n",
       "      <td>7.4</td>\n",
       "    </tr>\n",
       "    <tr>\n",
       "      <th>607</th>\n",
       "      <td>122</td>\n",
       "      <td>97407.0</td>\n",
       "      <td>TOTAL SEVEN MAJOR FELONY OFFENSES</td>\n",
       "      <td>511</td>\n",
       "      <td>566</td>\n",
       "      <td>10.8</td>\n",
       "      <td>363</td>\n",
       "      <td>298</td>\n",
       "      <td>21.8</td>\n",
       "    </tr>\n",
       "  </tbody>\n",
       "</table>\n",
       "</div>"
      ],
      "text/plain": [
       "     PCT  household_median_income                              CRIME  2019  \\\n",
       "31     7                  63717.0  TOTAL SEVEN MAJOR FELONY OFFENSES   962   \n",
       "39     9                  63717.0  TOTAL SEVEN MAJOR FELONY OFFENSES  1234   \n",
       "63    14                  95301.0  TOTAL SEVEN MAJOR FELONY OFFENSES  2552   \n",
       "95    20                 132605.0  TOTAL SEVEN MAJOR FELONY OFFENSES   900   \n",
       "111   23                  31759.5  TOTAL SEVEN MAJOR FELONY OFFENSES   917   \n",
       "119   24                 132605.0  TOTAL SEVEN MAJOR FELONY OFFENSES  1017   \n",
       "143   28                  46263.0  TOTAL SEVEN MAJOR FELONY OFFENSES   880   \n",
       "151   30                  53660.0  TOTAL SEVEN MAJOR FELONY OFFENSES   777   \n",
       "159   32                  46263.0  TOTAL SEVEN MAJOR FELONY OFFENSES  1088   \n",
       "167   33                  53660.0  TOTAL SEVEN MAJOR FELONY OFFENSES   779   \n",
       "175   34                  53660.0  TOTAL SEVEN MAJOR FELONY OFFENSES  1278   \n",
       "191   41                  25775.0  TOTAL SEVEN MAJOR FELONY OFFENSES   948   \n",
       "199   42                  29136.0  TOTAL SEVEN MAJOR FELONY OFFENSES  1540   \n",
       "207   43                  37503.0  TOTAL SEVEN MAJOR FELONY OFFENSES  1864   \n",
       "215   44                  29579.0  TOTAL SEVEN MAJOR FELONY OFFENSES  2286   \n",
       "223   45                  56291.5  TOTAL SEVEN MAJOR FELONY OFFENSES  1175   \n",
       "239   47                  58393.0  TOTAL SEVEN MAJOR FELONY OFFENSES  2037   \n",
       "247   48                  29136.0  TOTAL SEVEN MAJOR FELONY OFFENSES  1371   \n",
       "255   49                  59829.5  TOTAL SEVEN MAJOR FELONY OFFENSES  1155   \n",
       "271   52                  37804.0  TOTAL SEVEN MAJOR FELONY OFFENSES  1957   \n",
       "279   60                  54334.5  TOTAL SEVEN MAJOR FELONY OFFENSES   946   \n",
       "295   62                  72902.0  TOTAL SEVEN MAJOR FELONY OFFENSES  1057   \n",
       "319   67                  59038.5  TOTAL SEVEN MAJOR FELONY OFFENSES  1630   \n",
       "367   73                  35713.0  TOTAL SEVEN MAJOR FELONY OFFENSES  1548   \n",
       "375   75                  40892.5  TOTAL SEVEN MAJOR FELONY OFFENSES  3525   \n",
       "399   78                 119375.0  TOTAL SEVEN MAJOR FELONY OFFENSES   830   \n",
       "431   84                 124311.5  TOTAL SEVEN MAJOR FELONY OFFENSES  1085   \n",
       "455   94                  87358.0  TOTAL SEVEN MAJOR FELONY OFFENSES   798   \n",
       "527  108                  74420.5  TOTAL SEVEN MAJOR FELONY OFFENSES  1028   \n",
       "551  111                  84301.0  TOTAL SEVEN MAJOR FELONY OFFENSES   742   \n",
       "559  112                  79611.5  TOTAL SEVEN MAJOR FELONY OFFENSES   536   \n",
       "575  114                  74420.5  TOTAL SEVEN MAJOR FELONY OFFENSES  1698   \n",
       "583  115                  57435.0  TOTAL SEVEN MAJOR FELONY OFFENSES  1416   \n",
       "607  122                  97407.0  TOTAL SEVEN MAJOR FELONY OFFENSES   511   \n",
       "\n",
       "     2020  %_chg_2019-2020  2021_YTD  2020_YTD  %_Chg  \n",
       "31    941             -2.2       567       502   12.9  \n",
       "39   1202             -2.6       803       642   25.1  \n",
       "63   1990            -22.0      1462      1059   38.1  \n",
       "95    835             -7.2       559       438   27.6  \n",
       "111  1078             17.6       616       609    1.1  \n",
       "119   922             -9.3       524       497    5.4  \n",
       "143   883              0.3       552       478   15.5  \n",
       "151   774             -0.4       455       432    5.3  \n",
       "159  1100              1.1       696       613   13.5  \n",
       "167   959             23.1       613       527   16.3  \n",
       "175  1277             -0.1       797       657   21.3  \n",
       "191  1052             11.0       609       588    3.6  \n",
       "199  1721             11.8      1028       934   10.1  \n",
       "207  2272             21.9      1371      1203   14.0  \n",
       "215  2318              1.4      1397      1240   12.7  \n",
       "223  1052            -10.5       686       599   14.5  \n",
       "239  2014             -1.1      1344      1073   25.3  \n",
       "247  1613             17.7       929       825   12.6  \n",
       "255  1212              4.9       775       660   17.4  \n",
       "271  1903             -2.8      1107      1047    5.7  \n",
       "279   904             -4.4       620       566    9.5  \n",
       "295   976             -7.7       625       516   21.1  \n",
       "319  1669              2.4       956       929    2.9  \n",
       "367  1469             -5.1       812       786    3.3  \n",
       "375  3383             -4.0      1961      1905    2.9  \n",
       "399   774             -6.7       470       433    8.5  \n",
       "431   918            -15.4       539       464   16.2  \n",
       "455  1011             26.7       512       490    4.5  \n",
       "527  1066              3.7       616       525   17.3  \n",
       "551   782              5.4       433       404    7.2  \n",
       "559   604             12.7       351       317   10.7  \n",
       "575  1793              5.6      1028       874   17.6  \n",
       "583  1467              3.6       858       799    7.4  \n",
       "607   566             10.8       363       298   21.8  "
      ]
     },
     "execution_count": 259,
     "metadata": {},
     "output_type": "execute_result"
    }
   ],
   "source": [
    "df_total[df_total['%_Chg'] > -0.4]"
   ]
  },
  {
   "cell_type": "code",
   "execution_count": 260,
   "metadata": {},
   "outputs": [
    {
     "data": {
      "text/plain": [
       "34"
      ]
     },
     "execution_count": 260,
     "metadata": {},
     "output_type": "execute_result"
    }
   ],
   "source": [
    "len(df_total[df_total['%_Chg'] > -0.4])"
   ]
  },
  {
   "cell_type": "code",
   "execution_count": 261,
   "metadata": {},
   "outputs": [
    {
     "data": {
      "text/plain": [
       "57914.0"
      ]
     },
     "execution_count": 261,
     "metadata": {},
     "output_type": "execute_result"
    }
   ],
   "source": [
    "df_total[df_total['%_Chg'] > -0.4].household_median_income.median()"
   ]
  },
  {
   "cell_type": "code",
   "execution_count": 262,
   "metadata": {},
   "outputs": [
    {
     "data": {
      "text/plain": [
       "43"
      ]
     },
     "execution_count": 262,
     "metadata": {},
     "output_type": "execute_result"
    }
   ],
   "source": [
    "len(df_total[df_total['%_Chg'] < -0.4])"
   ]
  },
  {
   "cell_type": "code",
   "execution_count": 263,
   "metadata": {},
   "outputs": [
    {
     "data": {
      "text/plain": [
       "64906.5"
      ]
     },
     "execution_count": 263,
     "metadata": {},
     "output_type": "execute_result"
    }
   ],
   "source": [
    "df_total[df_total['%_Chg'] < -0.4].household_median_income.median()"
   ]
  },
  {
   "cell_type": "code",
   "execution_count": null,
   "metadata": {},
   "outputs": [],
   "source": []
  },
  {
   "cell_type": "code",
   "execution_count": 264,
   "metadata": {},
   "outputs": [
    {
     "data": {
      "text/plain": [
       "43"
      ]
     },
     "execution_count": 264,
     "metadata": {},
     "output_type": "execute_result"
    }
   ],
   "source": [
    "len(df_total[df_total['%_Chg'] < 0])"
   ]
  },
  {
   "cell_type": "code",
   "execution_count": 265,
   "metadata": {},
   "outputs": [
    {
     "data": {
      "text/plain": [
       "64906.5"
      ]
     },
     "execution_count": 265,
     "metadata": {},
     "output_type": "execute_result"
    }
   ],
   "source": [
    "df_total[df_total['%_Chg'] < 0].household_median_income.median()"
   ]
  },
  {
   "cell_type": "code",
   "execution_count": 266,
   "metadata": {},
   "outputs": [
    {
     "data": {
      "text/plain": [
       "57914.0"
      ]
     },
     "execution_count": 266,
     "metadata": {},
     "output_type": "execute_result"
    }
   ],
   "source": [
    "df_total[df_total['%_Chg'] > 0].household_median_income.median()"
   ]
  },
  {
   "cell_type": "code",
   "execution_count": null,
   "metadata": {},
   "outputs": [],
   "source": []
  },
  {
   "cell_type": "code",
   "execution_count": 267,
   "metadata": {},
   "outputs": [
    {
     "data": {
      "text/plain": [
       "34"
      ]
     },
     "execution_count": 267,
     "metadata": {},
     "output_type": "execute_result"
    }
   ],
   "source": [
    "len(df_total[df_total['%_Chg'] > 0])"
   ]
  },
  {
   "cell_type": "code",
   "execution_count": 268,
   "metadata": {},
   "outputs": [
    {
     "data": {
      "text/plain": [
       "43"
      ]
     },
     "execution_count": 268,
     "metadata": {},
     "output_type": "execute_result"
    }
   ],
   "source": [
    "len(df_total[df_total['%_Chg'] < 0])"
   ]
  },
  {
   "cell_type": "code",
   "execution_count": 269,
   "metadata": {},
   "outputs": [
    {
     "ename": "NameError",
     "evalue": "name 'df_19_20' is not defined",
     "output_type": "error",
     "traceback": [
      "\u001b[0;31m---------------------------------------------------------------------------\u001b[0m",
      "\u001b[0;31mNameError\u001b[0m                                 Traceback (most recent call last)",
      "\u001b[0;32m<ipython-input-269-93c6c9079b3c>\u001b[0m in \u001b[0;36m<module>\u001b[0;34m\u001b[0m\n\u001b[0;32m----> 1\u001b[0;31m \u001b[0mlen\u001b[0m\u001b[0;34m(\u001b[0m\u001b[0mdf_19_20\u001b[0m\u001b[0;34m[\u001b[0m\u001b[0mdf_19_20\u001b[0m\u001b[0;34m[\u001b[0m\u001b[0;34m'%_chg_2019-2020'\u001b[0m\u001b[0;34m]\u001b[0m \u001b[0;34m<\u001b[0m \u001b[0;36m0\u001b[0m\u001b[0;34m]\u001b[0m\u001b[0;34m)\u001b[0m\u001b[0;34m\u001b[0m\u001b[0;34m\u001b[0m\u001b[0m\n\u001b[0m",
      "\u001b[0;31mNameError\u001b[0m: name 'df_19_20' is not defined"
     ]
    }
   ],
   "source": [
    "len(df_19_20[df_19_20['%_chg_2019-2020'] < 0])"
   ]
  },
  {
   "cell_type": "code",
   "execution_count": null,
   "metadata": {},
   "outputs": [],
   "source": [
    "len(df_19_20[df_19_20['%_chg_2019-2020'] > 0])"
   ]
  },
  {
   "cell_type": "code",
   "execution_count": null,
   "metadata": {},
   "outputs": [],
   "source": []
  },
  {
   "cell_type": "code",
   "execution_count": 270,
   "metadata": {},
   "outputs": [
    {
     "ename": "NameError",
     "evalue": "name 'MF4' is not defined",
     "output_type": "error",
     "traceback": [
      "\u001b[0;31m---------------------------------------------------------------------------\u001b[0m",
      "\u001b[0;31mNameError\u001b[0m                                 Traceback (most recent call last)",
      "\u001b[0;32m<ipython-input-270-bbbabf8b0ae2>\u001b[0m in \u001b[0;36m<module>\u001b[0;34m\u001b[0m\n\u001b[0;32m----> 1\u001b[0;31m \u001b[0mMF4\u001b[0m\u001b[0;34m.\u001b[0m\u001b[0mhead\u001b[0m\u001b[0;34m(\u001b[0m\u001b[0;36m1\u001b[0m\u001b[0;34m)\u001b[0m\u001b[0;34m\u001b[0m\u001b[0;34m\u001b[0m\u001b[0m\n\u001b[0m",
      "\u001b[0;31mNameError\u001b[0m: name 'MF4' is not defined"
     ]
    }
   ],
   "source": [
    "MF4.head(1)"
   ]
  },
  {
   "cell_type": "markdown",
   "metadata": {},
   "source": [
    "# Step 6: Violent crimes by precinct (murder, rape, robbery, felon assault)\n",
    "### violent crimes rose abt 3.4% YoY between Jan.-Aug. 2 2021; dropped in 2020, rose 2.6% in 2019\n",
    "#### violent crimes rose > 0 in 39 precicnts; top 5: precints 14, 22, 17, 33, 63  led by rises in ROBBERY & FELONY ASSAULT; both have been on a downward trend in the past five years 2016-2020 "
   ]
  },
  {
   "cell_type": "code",
   "execution_count": null,
   "metadata": {},
   "outputs": [],
   "source": [
    "Violent_Crimes = df_MF4[(df_MF4['CRIME'] == \"MURDER & NON NEGL. MANSLAUGHTER\") | (df_MF4['CRIME'] == \"RAPE\") | (df_MF4['CRIME'] == \"ROBBERY\") | (df_MF4['CRIME'] == \"FELONY ASSAULT\")]"
   ]
  },
  {
   "cell_type": "code",
   "execution_count": null,
   "metadata": {},
   "outputs": [],
   "source": [
    "Violent_Crimes = Violent_Crimes[['PCT', 'CRIME', '2021_YTD', '2020_YTD', '%_Chg','household_median_income']]"
   ]
  },
  {
   "cell_type": "code",
   "execution_count": null,
   "metadata": {},
   "outputs": [],
   "source": [
    "(Violent_Crimes['2021_YTD'].sum() - Violent_Crimes['2020_YTD'].sum()) / Violent_Crimes['2020_YTD'].sum() * 100"
   ]
  },
  {
   "cell_type": "code",
   "execution_count": null,
   "metadata": {},
   "outputs": [],
   "source": [
    "Violent_Crimes.head(1)"
   ]
  },
  {
   "cell_type": "code",
   "execution_count": null,
   "metadata": {},
   "outputs": [],
   "source": [
    "# grouping by PCT and getting the sum of 2021_YTD\n",
    "ViolentCrimes2021 = Violent_Crimes.groupby(\"PCT\")['2021_YTD'].sum()"
   ]
  },
  {
   "cell_type": "code",
   "execution_count": null,
   "metadata": {},
   "outputs": [],
   "source": [
    "ViolentCrimes2021 = ViolentCrimes2021.to_frame()\n",
    "ViolentCrimes2021.reset_index(level=0, inplace=True)\n",
    "#ViolentCrimes2021 = ViolentCrimes2021.rename(columns={0: \"NumOfHomicides\"})"
   ]
  },
  {
   "cell_type": "code",
   "execution_count": null,
   "metadata": {},
   "outputs": [],
   "source": [
    "ViolentCrimes2021 = ViolentCrimes2021.sort_values(by=\"PCT\", ascending = True)"
   ]
  },
  {
   "cell_type": "code",
   "execution_count": null,
   "metadata": {},
   "outputs": [],
   "source": [
    "ViolentCrimes2020 = Violent_Crimes.groupby(\"PCT\")['2020_YTD'].sum()"
   ]
  },
  {
   "cell_type": "code",
   "execution_count": null,
   "metadata": {},
   "outputs": [],
   "source": [
    "ViolentCrimes2020 = ViolentCrimes2020.to_frame()\n",
    "ViolentCrimes2020.reset_index(level=0, inplace=True)\n",
    "#ViolentCrimes2020 = ViolentCrimes2020.rename(columns={0: \"NumOfHomicides\"})"
   ]
  },
  {
   "cell_type": "code",
   "execution_count": null,
   "metadata": {},
   "outputs": [],
   "source": [
    "ViolentCrimes2020 = ViolentCrimes2020.sort_values(by=\"PCT\", ascending = True)"
   ]
  },
  {
   "cell_type": "code",
   "execution_count": null,
   "metadata": {},
   "outputs": [],
   "source": [
    "ViolentCrimes_Precinct = pd.merge(ViolentCrimes2020, ViolentCrimes2021, on='PCT', how='outer')"
   ]
  },
  {
   "cell_type": "code",
   "execution_count": null,
   "metadata": {},
   "outputs": [],
   "source": [
    "ViolentCrimes_Precinct['%chng'] = (ViolentCrimes_Precinct['2021_YTD'] - ViolentCrimes_Precinct['2020_YTD']) / ViolentCrimes_Precinct['2020_YTD'] * 100"
   ]
  },
  {
   "cell_type": "code",
   "execution_count": null,
   "metadata": {},
   "outputs": [],
   "source": [
    "ViolentCrimes_Precinct['%chng'] = round(ViolentCrimes_Precinct['%chng'], 1)"
   ]
  },
  {
   "cell_type": "code",
   "execution_count": null,
   "metadata": {},
   "outputs": [],
   "source": [
    "len(ViolentCrimes_Precinct[ViolentCrimes_Precinct['%chng'] > 0])"
   ]
  },
  {
   "cell_type": "code",
   "execution_count": null,
   "metadata": {},
   "outputs": [],
   "source": [
    "# IMPORTANT\n",
    "ViolentCrimes_Precinct.sort_values(by=\"%chng\", ascending=False)"
   ]
  },
  {
   "cell_type": "code",
   "execution_count": null,
   "metadata": {},
   "outputs": [],
   "source": [
    "# spot checking\n",
    "Violent_Crimes[Violent_Crimes.PCT == 66]"
   ]
  },
  {
   "cell_type": "code",
   "execution_count": null,
   "metadata": {},
   "outputs": [],
   "source": [
    "# IMPORTANT\n",
    "ViolentCrimes_Precinct.sort_values(by=\"%chng\", ascending=True)"
   ]
  },
  {
   "cell_type": "code",
   "execution_count": null,
   "metadata": {},
   "outputs": [],
   "source": [
    "# # murder\n",
    "# Violent_Crimes_murder = df_MF4[(df_MF4['CRIME'] == \"MURDER & NON NEGL. MANSLAUGHTER\")]"
   ]
  },
  {
   "cell_type": "code",
   "execution_count": null,
   "metadata": {},
   "outputs": [],
   "source": [
    "# Violent_Crimes_murder.to_csv(\"Violent_Crimes_murder.csv\", index=False)"
   ]
  },
  {
   "cell_type": "code",
   "execution_count": null,
   "metadata": {},
   "outputs": [],
   "source": [
    "# # rape\n",
    "# Violent_Crimes_rape = df_MF4[(df_MF4['CRIME'] == \"RAPE\")]\n",
    "# Violent_Crimes_rape.to_csv(\"Violent_Crimes_rape.csv\", index=False)"
   ]
  },
  {
   "cell_type": "code",
   "execution_count": null,
   "metadata": {},
   "outputs": [],
   "source": [
    "# # robbery\n",
    "# Violent_Crimes_robbery = df_MF4[(df_MF4['CRIME'] == \"ROBBERY\")]\n",
    "# Violent_Crimes_robbery.to_csv(\"Violent_Crimes_robbery.csv\", index=False)"
   ]
  },
  {
   "cell_type": "code",
   "execution_count": null,
   "metadata": {},
   "outputs": [],
   "source": [
    "# # felony assault\n",
    "# Violent_Crimes_felonyassault = df_MF4[(df_MF4['CRIME'] == \"FELONY ASSAULT\")]\n",
    "# Violent_Crimes_felonyassault.to_csv(\"Violent_Crimes_felonyassault.csv\", index=False)"
   ]
  },
  {
   "cell_type": "code",
   "execution_count": null,
   "metadata": {},
   "outputs": [],
   "source": [
    "# Violent_Crimes.to_excel(\"Violent_Crimes.xlsx\",index=False)"
   ]
  },
  {
   "cell_type": "code",
   "execution_count": null,
   "metadata": {},
   "outputs": [],
   "source": [
    "# Violent_Crimes_new = pd.read_excel('Violent_Crimes_new.xlsx')"
   ]
  },
  {
   "cell_type": "code",
   "execution_count": null,
   "metadata": {},
   "outputs": [],
   "source": [
    "# Violent_Crimes_new"
   ]
  },
  {
   "cell_type": "code",
   "execution_count": null,
   "metadata": {},
   "outputs": [],
   "source": [
    "df_MF2"
   ]
  },
  {
   "cell_type": "code",
   "execution_count": null,
   "metadata": {},
   "outputs": [],
   "source": [
    "df_MF2['OFFENSE'] = df_MF2.index"
   ]
  },
  {
   "cell_type": "code",
   "execution_count": null,
   "metadata": {},
   "outputs": [],
   "source": [
    "df_MF2"
   ]
  },
  {
   "cell_type": "code",
   "execution_count": null,
   "metadata": {},
   "outputs": [],
   "source": [
    "# murder, rape, robbery, felon assault\n",
    "annual_ViolentCrimes = df_MF2[(df_MF2.OFFENSE==\"MURDER & NON-NEGL. MANSLAUGHTER\")|\\\n",
    "                               (df_MF2.OFFENSE==\"RAPE\")|(df_MF2.OFFENSE==\"ROBBERY\")|\\\n",
    "                              (df_MF2.OFFENSE==\"FELONY ASSAULT\")]"
   ]
  },
  {
   "cell_type": "code",
   "execution_count": null,
   "metadata": {},
   "outputs": [],
   "source": [
    "# IMPORTANT\n",
    "annual_ViolentCrimes"
   ]
  },
  {
   "cell_type": "code",
   "execution_count": null,
   "metadata": {},
   "outputs": [],
   "source": [
    "(annual_ViolentCrimes[2020.0].sum() - annual_ViolentCrimes[2019.0].sum()) / annual_ViolentCrimes[2019.0].sum() * 100"
   ]
  },
  {
   "cell_type": "code",
   "execution_count": null,
   "metadata": {},
   "outputs": [],
   "source": [
    "(annual_ViolentCrimes[2019.0].sum() - annual_ViolentCrimes[2018.0].sum()) / annual_ViolentCrimes[2018.0].sum() * 100"
   ]
  },
  {
   "cell_type": "code",
   "execution_count": null,
   "metadata": {},
   "outputs": [],
   "source": []
  },
  {
   "cell_type": "markdown",
   "metadata": {},
   "source": [
    "### comparing overall crimes with Google mobility data"
   ]
  },
  {
   "cell_type": "code",
   "execution_count": null,
   "metadata": {},
   "outputs": [],
   "source": [
    "# os.chdir(\"..\")"
   ]
  },
  {
   "cell_type": "code",
   "execution_count": null,
   "metadata": {},
   "outputs": [],
   "source": [
    "# Google mobility: https://www.google.com/covid19/mobility/\n",
    "# Data updated Aug.8\n",
    "\n",
    "df_mobility = pd.read_csv(\"2021_US_Region_Mobility_Report.csv\")"
   ]
  },
  {
   "cell_type": "code",
   "execution_count": null,
   "metadata": {},
   "outputs": [],
   "source": [
    "# filtering for: New York County (Manhattan), Kings County (Brooklyn), \n",
    "# Bronx County (The Bronx), Richmond County (Staten Island) and Queens County (Queens).\n",
    "df_NYmobility =  df_mobility[(df_mobility.sub_region_2 == \"Bronx County\") |\\\n",
    "                             (df_mobility.sub_region_2 == \"New York County\") | \\\n",
    "            (df_mobility.sub_region_2 == \"Kings County\") | (df_mobility.sub_region_2 == \"Richmond County\")| \\\n",
    "            (df_mobility.sub_region_2 == \"Queens County\")]"
   ]
  },
  {
   "cell_type": "code",
   "execution_count": null,
   "metadata": {},
   "outputs": [],
   "source": [
    "df_NYmobility.sub_region_2=df_NYmobility.sub_region_2.replace({'Bronx County':'Bronx',\\\n",
    "                                                    'New York County':'Manhattan',\\\n",
    "                                                    'Kings County':'Brooklyn',\\\n",
    "                                                    'Richmond County':'Staten Island',\\\n",
    "                                                    'Queens County':'Queens'})"
   ]
  },
  {
   "cell_type": "code",
   "execution_count": null,
   "metadata": {},
   "outputs": [],
   "source": [
    "df_NYmobility = df_NYmobility[df_NYmobility.sub_region_1 == \"New York\"]"
   ]
  },
  {
   "cell_type": "code",
   "execution_count": null,
   "metadata": {},
   "outputs": [],
   "source": [
    "df_NYmobility = df_NYmobility.reset_index(drop=True)"
   ]
  },
  {
   "cell_type": "code",
   "execution_count": null,
   "metadata": {},
   "outputs": [],
   "source": [
    "df_NYmobility.retail_and_recreation_percent_change_from_baseline =\\\n",
    "df_NYmobility.retail_and_recreation_percent_change_from_baseline.astype(int)"
   ]
  },
  {
   "cell_type": "code",
   "execution_count": null,
   "metadata": {},
   "outputs": [],
   "source": [
    "df_NYmobility.grocery_and_pharmacy_percent_change_from_baseline =\\\n",
    "df_NYmobility.grocery_and_pharmacy_percent_change_from_baseline.astype(int)"
   ]
  },
  {
   "cell_type": "code",
   "execution_count": null,
   "metadata": {},
   "outputs": [],
   "source": [
    "df_NYmobility.parks_percent_change_from_baseline =\\\n",
    "df_NYmobility.parks_percent_change_from_baseline.astype(int)"
   ]
  },
  {
   "cell_type": "code",
   "execution_count": null,
   "metadata": {},
   "outputs": [],
   "source": [
    "df_NYmobility.transit_stations_percent_change_from_baseline =\\\n",
    "df_NYmobility.transit_stations_percent_change_from_baseline.astype(int)"
   ]
  },
  {
   "cell_type": "code",
   "execution_count": null,
   "metadata": {},
   "outputs": [],
   "source": [
    "df_NYmobility.workplaces_percent_change_from_baseline =\\\n",
    "df_NYmobility.workplaces_percent_change_from_baseline.astype(int)"
   ]
  },
  {
   "cell_type": "code",
   "execution_count": null,
   "metadata": {},
   "outputs": [],
   "source": [
    "df_NYmobility.residential_percent_change_from_baseline =\\\n",
    "df_NYmobility.residential_percent_change_from_baseline.astype(int)"
   ]
  },
  {
   "cell_type": "code",
   "execution_count": null,
   "metadata": {},
   "outputs": [],
   "source": []
  },
  {
   "cell_type": "code",
   "execution_count": null,
   "metadata": {},
   "outputs": [],
   "source": [
    "df_NYmobility =df_NYmobility.rename(columns={\"sub_region_2\": \"Borough\",\\\n",
    "                              \"retail_and_recreation_percent_change_from_baseline\": \"Retail, Recreation % Change\",\\\n",
    "                             \"parks_percent_change_from_baseline\":\"Parks % Change\",\\\n",
    "                             \"workplaces_percent_change_from_baseline\":\"Workplaces % Change\",\\\n",
    "                             \"residential_percent_change_from_baseline\":\"Residential % Change\",\\\n",
    "                             \"transit_stations_percent_change_from_baseline\": \"Transit Station % Change\"})"
   ]
  },
  {
   "cell_type": "code",
   "execution_count": null,
   "metadata": {},
   "outputs": [],
   "source": [
    "df_NYmobility = df_NYmobility.rename(columns={\"date\": \"Date\"})"
   ]
  },
  {
   "cell_type": "code",
   "execution_count": null,
   "metadata": {},
   "outputs": [],
   "source": [
    "df_NYmobility.head(1)"
   ]
  },
  {
   "cell_type": "code",
   "execution_count": null,
   "metadata": {},
   "outputs": [],
   "source": [
    "# IMPORTANT\n",
    "from vega_datasets import data\n",
    "import altair as alt\n",
    "\n",
    "alt.Chart(df_NYmobility).mark_circle().encode(\n",
    "    alt.X(\"Date:T\"),\n",
    "    alt.Y(alt.repeat(\"row\"), type='quantitative'),\n",
    "    color='Borough:N'\n",
    ").properties(\n",
    "    width=250,\n",
    "    height=270,\n",
    ").repeat(\n",
    "    row=['Retail, Recreation % Change',\\\n",
    "         'Parks % Change', 'Transit Station % Change',\\\n",
    "        'Residential % Change'],\\\n",
    "    column=['Date'],\n",
    "    title = \"Mobility trends in NYC by borough, Jan.-Aug.6 2021\"\n",
    ")"
   ]
  },
  {
   "cell_type": "code",
   "execution_count": null,
   "metadata": {},
   "outputs": [],
   "source": []
  },
  {
   "cell_type": "markdown",
   "metadata": {},
   "source": [
    "## NYPD historic data"
   ]
  },
  {
   "cell_type": "code",
   "execution_count": null,
   "metadata": {},
   "outputs": [],
   "source": [
    "#os.chdir(\"..\")"
   ]
  },
  {
   "cell_type": "code",
   "execution_count": null,
   "metadata": {},
   "outputs": [],
   "source": [
    "# nypd historic complaint data until March 30\n",
    "# https://data.cityofnewyork.us/Public-Safety/NYPD-Complaint-Data-Historic/qgea-i56i\n",
    "df_complaint = pd.read_csv(\"NYPD_Complaint_Data_Historic.csv\")"
   ]
  },
  {
   "cell_type": "code",
   "execution_count": null,
   "metadata": {},
   "outputs": [],
   "source": [
    "df_complaint.shape"
   ]
  },
  {
   "cell_type": "code",
   "execution_count": null,
   "metadata": {},
   "outputs": [],
   "source": [
    "# df_Robbery_FelonyAssault = df_complaint[(df_complaint.OFNS_DESC == \"ROBBERY\") |\\\n",
    "#                                         (df_complaint.OFNS_DESC == \"FELONY ASSAULT\")]"
   ]
  },
  {
   "cell_type": "code",
   "execution_count": null,
   "metadata": {},
   "outputs": [],
   "source": [
    "# df_Robbery_FelonyAssault = df_Robbery_FelonyAssault.reset_index(drop=True)"
   ]
  },
  {
   "cell_type": "code",
   "execution_count": null,
   "metadata": {},
   "outputs": [],
   "source": [
    "df_complaint=df_complaint.rename(columns={\"BORO_NM\":\"Borough\",\\\n",
    "                                                                 \"OFNS_DESC\":\"Crime\"})"
   ]
  },
  {
   "cell_type": "code",
   "execution_count": null,
   "metadata": {},
   "outputs": [],
   "source": [
    "df_complaint=df_complaint.rename(columns={\"CMPLNT_FR_DT\":\"Date\"})"
   ]
  },
  {
   "cell_type": "code",
   "execution_count": null,
   "metadata": {},
   "outputs": [],
   "source": [
    "df_complaint.Date = df_complaint.Date.astype(str)"
   ]
  },
  {
   "cell_type": "code",
   "execution_count": null,
   "metadata": {},
   "outputs": [],
   "source": [
    "import re\n",
    "df_complaint['Month']=df_complaint.Date.apply(lambda txt: re.findall(\"^\\d\\d\\D\", txt))"
   ]
  },
  {
   "cell_type": "code",
   "execution_count": null,
   "metadata": {},
   "outputs": [],
   "source": [
    "df_complaint.Month = df_complaint.Month.astype(str)"
   ]
  },
  {
   "cell_type": "code",
   "execution_count": null,
   "metadata": {},
   "outputs": [],
   "source": [
    "df_complaint.head(2)"
   ]
  },
  {
   "cell_type": "code",
   "execution_count": null,
   "metadata": {},
   "outputs": [],
   "source": [
    "df_complaint.Month = df_complaint.Month.str.replace(\"[\",\"\")\n",
    "df_complaint.Month = df_complaint.Month.str.replace(\"]\",\"\")\n",
    "df_complaint.Month = df_complaint.Month.str.replace(\"'\",\"\")\n",
    "df_complaint.Month = df_complaint.Month.str.replace(\"/\",\"\")"
   ]
  },
  {
   "cell_type": "code",
   "execution_count": null,
   "metadata": {},
   "outputs": [],
   "source": [
    "df_complaint['Year']=df_complaint.Date.apply(lambda txt: re.findall(\"\\d\\d\\d\\d$\", txt))"
   ]
  },
  {
   "cell_type": "code",
   "execution_count": null,
   "metadata": {},
   "outputs": [],
   "source": [
    "df_complaint.Year = df_complaint.Year.astype(str)"
   ]
  },
  {
   "cell_type": "code",
   "execution_count": null,
   "metadata": {},
   "outputs": [],
   "source": [
    "df_complaint.Year = df_complaint.Year.str.replace(\"[\",\"\")\n",
    "df_complaint.Year = df_complaint.Year.str.replace(\"]\",\"\")\n",
    "df_complaint.Year = df_complaint.Year.str.replace(\"'\",\"\")"
   ]
  },
  {
   "cell_type": "code",
   "execution_count": null,
   "metadata": {},
   "outputs": [],
   "source": [
    "df_complaint.head(2)"
   ]
  },
  {
   "cell_type": "code",
   "execution_count": null,
   "metadata": {},
   "outputs": [],
   "source": []
  },
  {
   "cell_type": "markdown",
   "metadata": {},
   "source": [
    "## NYPD complaint data second half of 2020 & 2019\n",
    "### July 19"
   ]
  },
  {
   "cell_type": "code",
   "execution_count": null,
   "metadata": {},
   "outputs": [],
   "source": [
    "df_complaint2020 = df_complaint[df_complaint.Year == '2020']"
   ]
  },
  {
   "cell_type": "code",
   "execution_count": null,
   "metadata": {},
   "outputs": [],
   "source": [
    "# Some 300 homicide reports in 2020\n",
    "df_complaint2020.value_counts(\"Crime\").head(10)"
   ]
  },
  {
   "cell_type": "code",
   "execution_count": null,
   "metadata": {},
   "outputs": [],
   "source": [
    "df_complaint2020.head(1)"
   ]
  },
  {
   "cell_type": "code",
   "execution_count": null,
   "metadata": {},
   "outputs": [],
   "source": [
    "df_complaint2020_h2 = df_complaint2020[(df_complaint2020.Month == '06') | (df_complaint2020.Month == '07') |\\\n",
    "                 (df_complaint2020.Month == '08') | (df_complaint2020.Month == '09') |\\\n",
    "                (df_complaint2020.Month == '10') | (df_complaint2020.Month == '11')|\\\n",
    "                (df_complaint2020.Month == '12')]"
   ]
  },
  {
   "cell_type": "code",
   "execution_count": null,
   "metadata": {},
   "outputs": [],
   "source": [
    "df_complaint2020_new = df_complaint2020_h2.groupby(\"Month\").count()"
   ]
  },
  {
   "cell_type": "code",
   "execution_count": null,
   "metadata": {},
   "outputs": [],
   "source": [
    "df_complaint2020_new"
   ]
  },
  {
   "cell_type": "code",
   "execution_count": null,
   "metadata": {},
   "outputs": [],
   "source": [
    "df_complaint2020_new['Month'] = df_complaint2020_new.index"
   ]
  },
  {
   "cell_type": "code",
   "execution_count": null,
   "metadata": {},
   "outputs": [],
   "source": [
    "col_list = ['CMPLNT_NUM','Month']\n",
    "df_complaint2020_new = df_complaint2020_new[col_list]\n",
    "df_complaint2020_new"
   ]
  },
  {
   "cell_type": "code",
   "execution_count": null,
   "metadata": {},
   "outputs": [],
   "source": [
    "df_complaint2020_new = df_complaint2020_new.rename(columns={\"CMPLNT_NUM\":\"Crimes_2020\"})"
   ]
  },
  {
   "cell_type": "code",
   "execution_count": null,
   "metadata": {},
   "outputs": [],
   "source": []
  },
  {
   "cell_type": "code",
   "execution_count": null,
   "metadata": {},
   "outputs": [],
   "source": [
    "# combining 'df_Precincts_Income_Final_update' with df_complaint202"
   ]
  },
  {
   "cell_type": "code",
   "execution_count": null,
   "metadata": {},
   "outputs": [],
   "source": [
    "df_complaint2020.ADDR_PCT_CD = df_complaint2020.ADDR_PCT_CD.astype(int)"
   ]
  },
  {
   "cell_type": "code",
   "execution_count": null,
   "metadata": {},
   "outputs": [],
   "source": [
    "complaint2020_gb = df_complaint2020.rename(columns={\"ADDR_PCT_CD\":\"Precinct\"})"
   ]
  },
  {
   "cell_type": "code",
   "execution_count": null,
   "metadata": {},
   "outputs": [],
   "source": [
    "col_list = ['CMPLNT_NUM', 'Precinct']\n",
    "complaint2020_gb = complaint2020_gb[col_list]"
   ]
  },
  {
   "cell_type": "code",
   "execution_count": null,
   "metadata": {},
   "outputs": [],
   "source": [
    "complaint2020_gb = complaint2020_gb.rename(columns={\"CMPLNT_NUM\":\"totalComplaints\"})"
   ]
  },
  {
   "cell_type": "code",
   "execution_count": null,
   "metadata": {},
   "outputs": [],
   "source": [
    "complaint2020_gb  = complaint2020_gb.groupby(\"Precinct\").count()"
   ]
  },
  {
   "cell_type": "code",
   "execution_count": null,
   "metadata": {},
   "outputs": [],
   "source": [
    "complaint2020_gb"
   ]
  },
  {
   "cell_type": "code",
   "execution_count": null,
   "metadata": {},
   "outputs": [],
   "source": [
    "df_Precincts_Income_Final_update = pd.read_csv(\"df_Precincts_Income_Final_update.csv\")"
   ]
  },
  {
   "cell_type": "code",
   "execution_count": null,
   "metadata": {},
   "outputs": [],
   "source": [
    "df_Precincts_Income_Final_update.shape"
   ]
  },
  {
   "cell_type": "code",
   "execution_count": null,
   "metadata": {},
   "outputs": [],
   "source": [
    "testing = pd.merge(complaint2020_gb, df_Precincts_Income_Final_update, how=\"left\", on=[\"Precinct\"])"
   ]
  },
  {
   "cell_type": "code",
   "execution_count": null,
   "metadata": {},
   "outputs": [],
   "source": [
    "testingUpper = testing[testing.incomeTier == \"Upper\"]"
   ]
  },
  {
   "cell_type": "code",
   "execution_count": null,
   "metadata": {},
   "outputs": [],
   "source": [
    "testingUpper.shape"
   ]
  },
  {
   "cell_type": "code",
   "execution_count": null,
   "metadata": {},
   "outputs": [],
   "source": [
    "testing = testing[testing.Precinct != 22]"
   ]
  },
  {
   "cell_type": "code",
   "execution_count": null,
   "metadata": {},
   "outputs": [],
   "source": [
    "testingLower = testing[testing.incomeTier == \"Lower\"]"
   ]
  },
  {
   "cell_type": "code",
   "execution_count": null,
   "metadata": {},
   "outputs": [],
   "source": [
    "testing.head(1)"
   ]
  },
  {
   "cell_type": "code",
   "execution_count": null,
   "metadata": {},
   "outputs": [],
   "source": [
    "testing = testing.sort_values(\"totalComplaints\", ascending=False)"
   ]
  },
  {
   "cell_type": "code",
   "execution_count": null,
   "metadata": {},
   "outputs": [],
   "source": [
    "import altair as alt\n",
    "from vega_datasets import data\n",
    "\n",
    "top20 = alt.Chart(testing.head(10)).mark_bar(opacity=0.8).encode(\n",
    "    alt.X(\"totalComplaints:Q\", title=\"Total Number of Complaints\", scale=alt.Scale(domain=[0, 13000])),\n",
    "    alt.Y(\"Precinct:N\", sort='-x'),\n",
    "    color=alt.Color('incomeTier', scale=alt.Scale(\n",
    "            domain=['Lower', 'Upper'],\n",
    "            range=['purple', 'yellow']))).properties(\n",
    "title=\"Top 10 precincts with greatest police complaints in 2020\")"
   ]
  },
  {
   "cell_type": "code",
   "execution_count": null,
   "metadata": {},
   "outputs": [],
   "source": [
    "import altair as alt\n",
    "from vega_datasets import data\n",
    "\n",
    "bottom20 = alt.Chart(testing.tail(10)).mark_bar(opacity=0.8).encode(\n",
    "    alt.X(\"totalComplaints:Q\", title=\"Total Number of Complaints\", scale=alt.Scale(domain=[0, 13000])),\n",
    "    alt.Y(\"Precinct:N\", sort='-x'),\n",
    "    color=alt.Color('incomeTier', scale=alt.Scale(\n",
    "            domain=['Lower', 'Upper'],\n",
    "            range=['purple', 'yellow']))).properties(\n",
    "title=\"Bottom 20 precincts with fewest police complaints in 2020\")"
   ]
  },
  {
   "cell_type": "code",
   "execution_count": null,
   "metadata": {},
   "outputs": [],
   "source": [
    "top20 | bottom20"
   ]
  },
  {
   "cell_type": "code",
   "execution_count": null,
   "metadata": {},
   "outputs": [],
   "source": []
  },
  {
   "cell_type": "code",
   "execution_count": null,
   "metadata": {},
   "outputs": [],
   "source": [
    "# reading NYPD precinct map"
   ]
  },
  {
   "cell_type": "code",
   "execution_count": null,
   "metadata": {},
   "outputs": [],
   "source": [
    "nypd = gpd.read_file('https://opendata.arcgis.com/datasets/c35786feb0ac4d1b964f41f874f151c1_0.geojson')"
   ]
  },
  {
   "cell_type": "code",
   "execution_count": null,
   "metadata": {},
   "outputs": [],
   "source": [
    "# ask Juan and Michael"
   ]
  },
  {
   "cell_type": "code",
   "execution_count": null,
   "metadata": {},
   "outputs": [],
   "source": [
    "nypd.head(1)"
   ]
  },
  {
   "cell_type": "code",
   "execution_count": null,
   "metadata": {},
   "outputs": [],
   "source": [
    "testing.head(1)"
   ]
  },
  {
   "cell_type": "code",
   "execution_count": null,
   "metadata": {},
   "outputs": [],
   "source": [
    "df_nypd = pd.merge(testing, nypd , on=\"Precinct\")"
   ]
  },
  {
   "cell_type": "code",
   "execution_count": null,
   "metadata": {},
   "outputs": [],
   "source": [
    "nypdMap = alt.Chart(df_nypd).mark_geoshape().encode(color=alt.Color('totalComplaints:Q',\n",
    "                        legend=alt.Legend(title='Income Tier')\n",
    "                        ), \n",
    "                        tooltip=[alt.Tooltip('Precinct')]\n",
    ").properties(\n",
    "    title='Avg. Bridge Rating by County',\n",
    "    width=500,\n",
    "    height=600\n",
    ")\n",
    "\n",
    "# .project(\"albersUsa\")"
   ]
  },
  {
   "cell_type": "code",
   "execution_count": null,
   "metadata": {},
   "outputs": [],
   "source": [
    "nypdMap"
   ]
  },
  {
   "cell_type": "code",
   "execution_count": null,
   "metadata": {},
   "outputs": [],
   "source": []
  },
  {
   "cell_type": "code",
   "execution_count": null,
   "metadata": {},
   "outputs": [],
   "source": []
  },
  {
   "cell_type": "code",
   "execution_count": null,
   "metadata": {},
   "outputs": [],
   "source": []
  },
  {
   "cell_type": "code",
   "execution_count": null,
   "metadata": {},
   "outputs": [],
   "source": []
  },
  {
   "cell_type": "code",
   "execution_count": null,
   "metadata": {},
   "outputs": [],
   "source": [
    "df_complaint2019 = df_complaint[df_complaint.Year == '2019']"
   ]
  },
  {
   "cell_type": "code",
   "execution_count": null,
   "metadata": {},
   "outputs": [],
   "source": [
    "df_complaint2019_h2 = df_complaint2019[(df_complaint2019.Month == '06') | (df_complaint2019.Month == '07') |\\\n",
    "                 (df_complaint2019.Month == '08') | (df_complaint2019.Month == '09') |\\\n",
    "                (df_complaint2019.Month == '10') | (df_complaint2019.Month == '11')|\\\n",
    "                (df_complaint2019.Month == '12')]"
   ]
  },
  {
   "cell_type": "code",
   "execution_count": null,
   "metadata": {},
   "outputs": [],
   "source": [
    "df_complaint2019_new = df_complaint2019_h2.groupby(\"Month\").count()"
   ]
  },
  {
   "cell_type": "code",
   "execution_count": null,
   "metadata": {},
   "outputs": [],
   "source": [
    "df_complaint2019_new['Month'] = df_complaint2019_new.index"
   ]
  },
  {
   "cell_type": "code",
   "execution_count": null,
   "metadata": {},
   "outputs": [],
   "source": [
    "col_list = ['CMPLNT_NUM','Month']\n",
    "df_complaint2019_new = df_complaint2019_new[col_list]\n",
    "df_complaint2019_new"
   ]
  },
  {
   "cell_type": "code",
   "execution_count": null,
   "metadata": {},
   "outputs": [],
   "source": [
    "df_complaint2019_new = df_complaint2019_new.rename(columns={\"CMPLNT_NUM\":\"Crimes_2019\"})"
   ]
  },
  {
   "cell_type": "code",
   "execution_count": null,
   "metadata": {},
   "outputs": [],
   "source": [
    "df_complaint2019_new = df_complaint2019_new.rename(columns={\"Month\":\"month\"})"
   ]
  },
  {
   "cell_type": "code",
   "execution_count": null,
   "metadata": {},
   "outputs": [],
   "source": [
    "df_complaint2020_new = df_complaint2020_new.rename(columns={\"Month\":\"month\"})"
   ]
  },
  {
   "cell_type": "code",
   "execution_count": null,
   "metadata": {},
   "outputs": [],
   "source": [
    "df_complaint_final = pd.merge(df_complaint2019_new, df_complaint2020_new , on=\"month\")"
   ]
  },
  {
   "cell_type": "code",
   "execution_count": null,
   "metadata": {},
   "outputs": [],
   "source": [
    "df_complaint_final"
   ]
  },
  {
   "cell_type": "code",
   "execution_count": null,
   "metadata": {},
   "outputs": [],
   "source": [
    "df_complaint2018 = df_complaint[df_complaint.Year == '2018']"
   ]
  },
  {
   "cell_type": "code",
   "execution_count": null,
   "metadata": {},
   "outputs": [],
   "source": [
    "df_complaint2018_h2 = df_complaint2018[(df_complaint2018.Month == '06') | (df_complaint2018.Month == '07') |\\\n",
    "                 (df_complaint2018.Month == '08') | (df_complaint2018.Month == '09') |\\\n",
    "                (df_complaint2018.Month == '10') | (df_complaint2018.Month == '11')|\\\n",
    "                (df_complaint2018.Month == '12')]"
   ]
  },
  {
   "cell_type": "code",
   "execution_count": null,
   "metadata": {},
   "outputs": [],
   "source": [
    "df_complaint2018_new = df_complaint2018_h2.groupby(\"Month\").count()"
   ]
  },
  {
   "cell_type": "code",
   "execution_count": null,
   "metadata": {},
   "outputs": [],
   "source": [
    "df_complaint2018_new['Month'] = df_complaint2018_new.index"
   ]
  },
  {
   "cell_type": "code",
   "execution_count": null,
   "metadata": {},
   "outputs": [],
   "source": [
    "col_list = ['CMPLNT_NUM','Month']\n",
    "df_complaint2018_new = df_complaint2018_new[col_list]\n",
    "df_complaint2018_new"
   ]
  },
  {
   "cell_type": "code",
   "execution_count": null,
   "metadata": {},
   "outputs": [],
   "source": [
    "df_complaint2018_new = df_complaint2018_new.rename(columns={\"Month\":\"month\"})"
   ]
  },
  {
   "cell_type": "code",
   "execution_count": null,
   "metadata": {},
   "outputs": [],
   "source": [
    "df_complaint2018_new = df_complaint2018_new.rename(columns={\"CMPLNT_NUM\":\"Crimes_2018\"})"
   ]
  },
  {
   "cell_type": "code",
   "execution_count": null,
   "metadata": {},
   "outputs": [],
   "source": [
    "df_complaint_final = pd.merge(df_complaint2018_new, df_complaint_final , on=\"month\")"
   ]
  },
  {
   "cell_type": "code",
   "execution_count": null,
   "metadata": {},
   "outputs": [],
   "source": [
    "df_complaint_final = df_complaint_final[df_complaint_final.month != \"06\"]"
   ]
  },
  {
   "cell_type": "code",
   "execution_count": null,
   "metadata": {},
   "outputs": [],
   "source": [
    "# IMPORTANT\n",
    "import matplotlib.pyplot as plt\n",
    "\n",
    "plt.plot(df_complaint_final['Crimes_2018'], label = '2018', linewidth=2, marker='o', markersize=8)\n",
    "plt.plot(df_complaint_final['Crimes_2019'], label = '2019', linewidth=2, marker='o', markersize=8)\n",
    "plt.plot(df_complaint_final['Crimes_2020'], label = '2020', linewidth=5, marker='o', markersize=12)\n",
    "\n",
    "# add legend\n",
    "plt.legend()\n",
    "\n",
    "#add axis labels and a title\n",
    "plt.ylabel('Total number of complaints', fontsize=14)\n",
    "plt.xlabel('Month', fontsize=14)\n",
    "plt.title('Complaints filed to the NYPD between July-Dec.', fontsize=16)\n",
    "\n",
    "# customizing x-axis\n",
    "values = ['July', 'Aug.', 'Sept.', 'Oct.','Nov.','Dec.'] \n",
    "x=[1,2,3,4,5,6]\n",
    "plt.xticks(x,values)\n",
    "    \n",
    "plt.show()"
   ]
  },
  {
   "cell_type": "code",
   "execution_count": null,
   "metadata": {},
   "outputs": [],
   "source": []
  },
  {
   "cell_type": "code",
   "execution_count": null,
   "metadata": {},
   "outputs": [],
   "source": [
    "# finding complaints filed in 2020 by income"
   ]
  },
  {
   "cell_type": "code",
   "execution_count": null,
   "metadata": {},
   "outputs": [],
   "source": [
    "df_complaint2020.ADDR_PCT_CD = df_complaint2020.ADDR_PCT_CD.astype(int)"
   ]
  },
  {
   "cell_type": "code",
   "execution_count": null,
   "metadata": {},
   "outputs": [],
   "source": [
    "df_complaint2020.head(1)"
   ]
  },
  {
   "cell_type": "code",
   "execution_count": null,
   "metadata": {},
   "outputs": [],
   "source": [
    "df_complaint2020_update = df_complaint2020.rename(columns={\"DDR_PCT_CD\": \"Precinct\"})"
   ]
  },
  {
   "cell_type": "code",
   "execution_count": null,
   "metadata": {},
   "outputs": [],
   "source": [
    "df_Precincts_Income_Final_update.head(5)"
   ]
  },
  {
   "cell_type": "code",
   "execution_count": null,
   "metadata": {},
   "outputs": [],
   "source": [
    "col_list = [\"Precinct\", \"median_of_household_incomes\"]\n",
    "df_Precincts_Income_Final_update = df_Precincts_Income_Final[col_list]"
   ]
  },
  {
   "cell_type": "code",
   "execution_count": null,
   "metadata": {},
   "outputs": [],
   "source": [
    "df_Precincts_Income_Final_update['incomeTier'] = df_Precincts_Income_Final_update.median_of_household_incomes > 68920 "
   ]
  },
  {
   "cell_type": "code",
   "execution_count": null,
   "metadata": {},
   "outputs": [],
   "source": [
    "df_Precincts_Income_Final_update['incomeTier'] = df_Precincts_Income_Final_update['incomeTier'].astype(str)"
   ]
  },
  {
   "cell_type": "code",
   "execution_count": null,
   "metadata": {},
   "outputs": [],
   "source": [
    "df_Precincts_Income_Final_update['incomeTier'] = df_Precincts_Income_Final_update['incomeTier'].str.replace('True', 'Upper')"
   ]
  },
  {
   "cell_type": "code",
   "execution_count": null,
   "metadata": {},
   "outputs": [],
   "source": [
    "df_Precincts_Income_Final_update['incomeTier'] =df_Precincts_Income_Final_update['incomeTier'].str.replace('False', 'Lower')"
   ]
  },
  {
   "cell_type": "code",
   "execution_count": null,
   "metadata": {},
   "outputs": [],
   "source": [
    "df_Precincts_Income_Final_update.to_csv(\"df_Precincts_Income_Final_update.csv\")"
   ]
  },
  {
   "cell_type": "code",
   "execution_count": null,
   "metadata": {},
   "outputs": [],
   "source": []
  },
  {
   "cell_type": "code",
   "execution_count": null,
   "metadata": {},
   "outputs": [],
   "source": []
  },
  {
   "cell_type": "markdown",
   "metadata": {},
   "source": [
    "## suspect, victime by age\n",
    "### July 31 2021"
   ]
  },
  {
   "cell_type": "code",
   "execution_count": null,
   "metadata": {},
   "outputs": [],
   "source": [
    "# df_complaint2020, df_complaint2019, df_complaint2018"
   ]
  },
  {
   "cell_type": "code",
   "execution_count": null,
   "metadata": {},
   "outputs": [],
   "source": [
    "df_complaint2020_suspect = df_complaint2020[df_complaint2020.SUSP_AGE_GROUP != \"UNKNOWN\"]"
   ]
  },
  {
   "cell_type": "code",
   "execution_count": null,
   "metadata": {},
   "outputs": [],
   "source": [
    "df_complaint2020_suspect.SUSP_AGE_GROUP.value_counts(normalize=True) * 100"
   ]
  },
  {
   "cell_type": "code",
   "execution_count": null,
   "metadata": {},
   "outputs": [],
   "source": [
    "df_complaint2020_victim = df_complaint2020[df_complaint2020.VIC_AGE_GROUP != \"UNKNOWN\"]"
   ]
  },
  {
   "cell_type": "code",
   "execution_count": null,
   "metadata": {},
   "outputs": [],
   "source": [
    "df_complaint2020_victim.VIC_AGE_GROUP.value_counts(normalize=True) * 100"
   ]
  },
  {
   "cell_type": "code",
   "execution_count": null,
   "metadata": {},
   "outputs": [],
   "source": [
    "# violent crimes: ROBBERY, RAPE, ASSAULT 3 & RELATED OFFENSES, MURDER & NON-NEGL. MANSLAUGHTER,\n",
    "df_complaint2020_violent = df_complaint2020[(df_complaint2020.Crime == \"ROBBERY\") | (df_complaint2020.Crime == \"RAPE\")|\\\n",
    "                                             (df_complaint2020.Crime == \"ASSAULT 3 & RELATED OFFENSES\") | \\\n",
    "                                             (df_complaint2020.Crime == \"MURDER & NON-NEGL. MANSLAUGHTER\")]"
   ]
  },
  {
   "cell_type": "code",
   "execution_count": null,
   "metadata": {},
   "outputs": [],
   "source": [
    "df_complaint2020_violent_suspect = df_complaint2020_violent[df_complaint2020_violent.SUSP_AGE_GROUP != \"UNKNOWN\"]"
   ]
  },
  {
   "cell_type": "code",
   "execution_count": null,
   "metadata": {},
   "outputs": [],
   "source": [
    "df_complaint2020_violent_suspect.SUSP_AGE_GROUP.value_counts(normalize=True) * 100"
   ]
  },
  {
   "cell_type": "code",
   "execution_count": null,
   "metadata": {},
   "outputs": [],
   "source": [
    "df_complaint2019_suspect = df_complaint2019[df_complaint2019.SUSP_AGE_GROUP != \"UNKNOWN\"]"
   ]
  },
  {
   "cell_type": "code",
   "execution_count": null,
   "metadata": {},
   "outputs": [],
   "source": [
    "df_complaint2019_suspect.SUSP_AGE_GROUP.value_counts(normalize=True) * 100"
   ]
  },
  {
   "cell_type": "code",
   "execution_count": null,
   "metadata": {},
   "outputs": [],
   "source": [
    "df_complaint2019_victim = df_complaint2019[df_complaint2019.VIC_AGE_GROUP != \"UNKNOWN\"]"
   ]
  },
  {
   "cell_type": "code",
   "execution_count": null,
   "metadata": {},
   "outputs": [],
   "source": [
    "df_complaint2019_victim.VIC_AGE_GROUP.value_counts(normalize=True) * 100"
   ]
  },
  {
   "cell_type": "code",
   "execution_count": null,
   "metadata": {},
   "outputs": [],
   "source": [
    "df_complaint2018_suspect = df_complaint2018[df_complaint2018.SUSP_AGE_GROUP != \"UNKNOWN\"]"
   ]
  },
  {
   "cell_type": "code",
   "execution_count": null,
   "metadata": {},
   "outputs": [],
   "source": [
    "df_complaint2018_suspect.SUSP_AGE_GROUP.value_counts(normalize=True) * 100"
   ]
  },
  {
   "cell_type": "code",
   "execution_count": null,
   "metadata": {},
   "outputs": [],
   "source": [
    "df_complaint2018_victim = df_complaint2018[df_complaint2018.VIC_AGE_GROUP != \"UNKNOWN\"]"
   ]
  },
  {
   "cell_type": "code",
   "execution_count": null,
   "metadata": {},
   "outputs": [],
   "source": [
    "df_complaint2021_victim = df_complaint2021[df_complaint2021.VIC_AGE_GROUP != \"UNKNOWN\"]"
   ]
  },
  {
   "cell_type": "code",
   "execution_count": null,
   "metadata": {},
   "outputs": [],
   "source": [
    "df_complaint2021_victim.VIC_AGE_GROUP.value_counts(normalize=True) * 100"
   ]
  },
  {
   "cell_type": "code",
   "execution_count": null,
   "metadata": {},
   "outputs": [],
   "source": [
    "df_complaint2018_victim.VIC_AGE_GROUP.value_counts(normalize=True) * 100"
   ]
  },
  {
   "cell_type": "code",
   "execution_count": null,
   "metadata": {},
   "outputs": [],
   "source": [
    "df_complaint2021_suspect = df_complaint2021[df_complaint2021.SUSP_AGE_GROUP != \"UNKNOWN\"]"
   ]
  },
  {
   "cell_type": "code",
   "execution_count": null,
   "metadata": {},
   "outputs": [],
   "source": [
    "df_complaint2021_suspect.SUSP_AGE_GROUP.value_counts(normalize=True) * 100"
   ]
  },
  {
   "cell_type": "code",
   "execution_count": null,
   "metadata": {},
   "outputs": [],
   "source": [
    "# violent crimes: ROBBERY, RAPE, ASSAULT 3 & RELATED OFFENSES, MURDER & NON-NEGL. MANSLAUGHTER,\n",
    "df_complaint2019_violent = df_complaint2019[(df_complaint2019.Crime == \"ROBBERY\") | (df_complaint2019.Crime == \"RAPE\")|\\\n",
    "                                             (df_complaint2019.Crime == \"ASSAULT 3 & RELATED OFFENSES\") | \\\n",
    "                                             (df_complaint2019.Crime == \"MURDER & NON-NEGL. MANSLAUGHTER\")]\n",
    "\n",
    "df_complaint2019_violent_suspect = df_complaint2019_violent[df_complaint2019_violent.SUSP_AGE_GROUP != \"UNKNOWN\"]\n",
    "\n",
    "df_complaint2019_violent_suspect.SUSP_AGE_GROUP.value_counts(normalize=True) * 100"
   ]
  },
  {
   "cell_type": "code",
   "execution_count": null,
   "metadata": {},
   "outputs": [],
   "source": [
    "# violent crimes: ROBBERY, RAPE, ASSAULT 3 & RELATED OFFENSES, MURDER & NON-NEGL. MANSLAUGHTER,\n",
    "df_complaint2018_violent = df_complaint2018[(df_complaint2018.Crime == \"ROBBERY\") | (df_complaint2018.Crime == \"RAPE\")|\\\n",
    "                                             (df_complaint2018.Crime == \"ASSAULT 3 & RELATED OFFENSES\") | \\\n",
    "                                             (df_complaint2018.Crime == \"MURDER & NON-NEGL. MANSLAUGHTER\")]\n",
    "\n",
    "df_complaint2018_violent_suspect = df_complaint2018_violent[df_complaint2018_violent.SUSP_AGE_GROUP != \"UNKNOWN\"]\n",
    "\n",
    "df_complaint2018_violent_suspect.SUSP_AGE_GROUP.value_counts(normalize=True) * 100"
   ]
  },
  {
   "cell_type": "code",
   "execution_count": null,
   "metadata": {},
   "outputs": [],
   "source": [
    "df_complaint2021.head(1)"
   ]
  },
  {
   "cell_type": "code",
   "execution_count": null,
   "metadata": {},
   "outputs": [],
   "source": [
    "# violent crimes: ROBBERY, RAPE, ASSAULT 3 & RELATED OFFENSES, MURDER & NON-NEGL. MANSLAUGHTER,\n",
    "df_complaint2021_violent = df_complaint2021[(df_complaint2021.OFNS_DESC == \"ROBBERY\") | (df_complaint2021.OFNS_DESC == \"RAPE\")|\\\n",
    "                                             (df_complaint2021.OFNS_DESC == \"ASSAULT 3 & RELATED OFFENSES\") | \\\n",
    "                                             (df_complaint2021.OFNS_DESC == \"MURDER & NON-NEGL. MANSLAUGHTER\")]\n",
    "\n",
    "df_complaint2021_violent_suspect = df_complaint2021_violent[df_complaint2021_violent.SUSP_AGE_GROUP != \"UNKNOWN\"]\n",
    "\n",
    "df_complaint2021_violent_suspect.SUSP_AGE_GROUP.value_counts(normalize=True) * 100"
   ]
  },
  {
   "cell_type": "code",
   "execution_count": null,
   "metadata": {},
   "outputs": [],
   "source": []
  },
  {
   "cell_type": "code",
   "execution_count": null,
   "metadata": {},
   "outputs": [],
   "source": [
    "# violent crimes: ROBBERY, RAPE, ASSAULT 3 & RELATED OFFENSES, MURDER & NON-NEGL. MANSLAUGHTER,\n",
    "df_complaint2021_violent = df_complaint2021[(df_complaint2021.OFNS_DESC == \"ROBBERY\") | (df_complaint2021.OFNS_DESC == \"RAPE\")|\\\n",
    "                                             (df_complaint2021.OFNS_DESC == \"ASSAULT 3 & RELATED OFFENSES\") | \\\n",
    "                                             (df_complaint2021.OFNS_DESC == \"MURDER & NON-NEGL. MANSLAUGHTER\")]\n",
    "\n",
    "df_complaint2021_violent_suspect = df_complaint2021_violent[df_complaint2021_violent.VIC_AGE_GROUP != \"UNKNOWN\"]\n",
    "\n",
    "df_complaint2021_violent_suspect.VIC_AGE_GROUP.value_counts(normalize=True) * 100"
   ]
  },
  {
   "cell_type": "code",
   "execution_count": null,
   "metadata": {},
   "outputs": [],
   "source": [
    "df_complaint2020.head(1)"
   ]
  },
  {
   "cell_type": "code",
   "execution_count": null,
   "metadata": {},
   "outputs": [],
   "source": [
    "# violent crimes: ROBBERY, RAPE, ASSAULT 3 & RELATED OFFENSES, MURDER & NON-NEGL. MANSLAUGHTER,\n",
    "df_complaint2020_violent = df_complaint2020[(df_complaint2020.Crime == \"ROBBERY\") | (df_complaint2020.Crime == \"RAPE\")|\\\n",
    "                                             (df_complaint2020.Crime == \"ASSAULT 3 & RELATED OFFENSES\") | \\\n",
    "                                             (df_complaint2020.Crime == \"MURDER & NON-NEGL. MANSLAUGHTER\")]\n",
    "\n",
    "df_complaint2020_violent_suspect = df_complaint2020_violent[df_complaint2020_violent.VIC_AGE_GROUP != \"UNKNOWN\"]\n",
    "\n",
    "df_complaint2020_violent_suspect.VIC_AGE_GROUP.value_counts(normalize=True) * 100"
   ]
  },
  {
   "cell_type": "code",
   "execution_count": null,
   "metadata": {},
   "outputs": [],
   "source": [
    "# violent crimes: ROBBERY, RAPE, ASSAULT 3 & RELATED OFFENSES, MURDER & NON-NEGL. MANSLAUGHTER,\n",
    "df_complaint2019_violent = df_complaint2019[(df_complaint2019.Crime == \"ROBBERY\") | (df_complaint2019.Crime == \"RAPE\")|\\\n",
    "                                             (df_complaint2019.Crime == \"ASSAULT 3 & RELATED OFFENSES\") | \\\n",
    "                                             (df_complaint2019.Crime == \"MURDER & NON-NEGL. MANSLAUGHTER\")]\n",
    "\n",
    "df_complaint2019_violent_suspect = df_complaint2019_violent[df_complaint2019_violent.VIC_AGE_GROUP != \"UNKNOWN\"]\n",
    "\n",
    "df_complaint2019_violent_suspect.VIC_AGE_GROUP.value_counts(normalize=True) * 100"
   ]
  },
  {
   "cell_type": "code",
   "execution_count": null,
   "metadata": {},
   "outputs": [],
   "source": [
    "# violent crimes: ROBBERY, RAPE, ASSAULT 3 & RELATED OFFENSES, MURDER & NON-NEGL. MANSLAUGHTER,\n",
    "df_complaint2018_violent = df_complaint2018[(df_complaint2018.Crime == \"ROBBERY\") | (df_complaint2018.Crime == \"RAPE\")|\\\n",
    "                                             (df_complaint2018.Crime == \"ASSAULT 3 & RELATED OFFENSES\") | \\\n",
    "                                             (df_complaint2018.Crime == \"MURDER & NON-NEGL. MANSLAUGHTER\")]\n",
    "\n",
    "df_complaint2018_violent_suspect = df_complaint2018_violent[df_complaint2018_violent.VIC_AGE_GROUP != \"UNKNOWN\"]\n",
    "\n",
    "df_complaint2018_violent_suspect.VIC_AGE_GROUP.value_counts(normalize=True) * 100"
   ]
  },
  {
   "cell_type": "code",
   "execution_count": null,
   "metadata": {},
   "outputs": [],
   "source": [
    "# suspectByAgeGroup.xlsx\n",
    "# victimByAgeGroup.xlsx"
   ]
  },
  {
   "cell_type": "code",
   "execution_count": null,
   "metadata": {},
   "outputs": [],
   "source": [
    "violent_susp_ageGroup = pd.read_excel(\"violent_suspectByAgeGroup.xlsx\")"
   ]
  },
  {
   "cell_type": "code",
   "execution_count": null,
   "metadata": {},
   "outputs": [],
   "source": [
    "violent_susp_ageGroup"
   ]
  },
  {
   "cell_type": "code",
   "execution_count": null,
   "metadata": {},
   "outputs": [],
   "source": [
    "# IMPORTANT\n",
    "\n",
    "import altair as alt\n",
    "from vega_datasets import data\n",
    "\n",
    "chart = alt.Chart(violent_vic_ageGroup, title=\"Victims' age group 2018-2021\").mark_bar(opacity=0.8).encode(\n",
    "    alt.X('Percentage:Q', title=\"Percentage of Victims\", scale=alt.Scale(domain=[0, 60])),\n",
    "    y='Year:N',\n",
    "    color='Age Group:N',\n",
    "     row='Age Group:N'\n",
    ").properties(width=500)\n",
    "\n",
    "chart.configure_title(fontSize=20, offset=5, orient='top', anchor='middle')"
   ]
  },
  {
   "cell_type": "code",
   "execution_count": null,
   "metadata": {},
   "outputs": [],
   "source": [
    "chart2 = alt.Chart(violent_susp_ageGroup, title=\"Suspects' age group 2018-2021\").mark_bar(opacity=0.8).encode(\n",
    "    alt.X('Percentage:Q', title=\"Percentage of Suspects\"),\n",
    "    y='Year:N',\n",
    "    color='Age Group:N',\n",
    "     row='Age Group:N'\n",
    ").properties(width=500)\n",
    "\n",
    "chart2.configure_title(fontSize=20, offset=5, orient='top', anchor='middle')"
   ]
  },
  {
   "cell_type": "code",
   "execution_count": null,
   "metadata": {},
   "outputs": [],
   "source": [
    "chart | chart2"
   ]
  },
  {
   "cell_type": "code",
   "execution_count": null,
   "metadata": {},
   "outputs": [],
   "source": []
  },
  {
   "cell_type": "code",
   "execution_count": null,
   "metadata": {},
   "outputs": [],
   "source": [
    "vic_ageGroup = pd.read_excel(\"victimByAgeGroup.xlsx\")"
   ]
  },
  {
   "cell_type": "code",
   "execution_count": null,
   "metadata": {},
   "outputs": [],
   "source": [
    "vic_ageGroup = vic_ageGroup.set_index('victim_ageGroup')"
   ]
  },
  {
   "cell_type": "code",
   "execution_count": null,
   "metadata": {},
   "outputs": [],
   "source": [
    "vic_ageGroup_violent = vic_ageGroup.drop(columns=['victim_ageGroup_2021', 'victim_ageGroup_2020',\\\n",
    "                                                 'victim_ageGroup_2019', 'victim_ageGroup_2018'])"
   ]
  },
  {
   "cell_type": "code",
   "execution_count": null,
   "metadata": {},
   "outputs": [],
   "source": [
    "vic_ageGroup_violent"
   ]
  },
  {
   "cell_type": "code",
   "execution_count": null,
   "metadata": {},
   "outputs": [],
   "source": []
  },
  {
   "cell_type": "code",
   "execution_count": null,
   "metadata": {},
   "outputs": [],
   "source": []
  },
  {
   "cell_type": "markdown",
   "metadata": {},
   "source": [
    "## complaint 2021"
   ]
  },
  {
   "cell_type": "code",
   "execution_count": null,
   "metadata": {},
   "outputs": [],
   "source": [
    "# updated quarterly\n",
    "# https://www1.nyc.gov/site/nypd/stats/crime-statistics/citywide-crime-stats.page"
   ]
  },
  {
   "cell_type": "code",
   "execution_count": null,
   "metadata": {},
   "outputs": [],
   "source": [
    "df_complaint2021 = pd.read_csv(\"NYPD_Complaint_Data_YTD_FINAL.csv\")"
   ]
  },
  {
   "cell_type": "code",
   "execution_count": null,
   "metadata": {},
   "outputs": [],
   "source": [
    "df_complaint2021.shape"
   ]
  },
  {
   "cell_type": "code",
   "execution_count": null,
   "metadata": {},
   "outputs": [],
   "source": [
    "df_complaint2021 = df_complaint2021.rename(columns={\"CMPLNT_FR_DT\":\"Date\"})"
   ]
  },
  {
   "cell_type": "code",
   "execution_count": null,
   "metadata": {},
   "outputs": [],
   "source": [
    "df_complaint2021.head(1)"
   ]
  },
  {
   "cell_type": "code",
   "execution_count": null,
   "metadata": {},
   "outputs": [],
   "source": [
    "## making complaint line graph by month to compare with Google mobility data"
   ]
  },
  {
   "cell_type": "code",
   "execution_count": null,
   "metadata": {},
   "outputs": [],
   "source": [
    "df_complaint2021['Year']=df_complaint2021.Date.apply(lambda txt: re.findall(\"\\d\\d\\d\\d$\", txt))"
   ]
  },
  {
   "cell_type": "code",
   "execution_count": null,
   "metadata": {},
   "outputs": [],
   "source": [
    "df_complaint2021['Month']=df_complaint2021.Date.apply(lambda txt: re.findall(\"^\\d\\d\", txt))"
   ]
  },
  {
   "cell_type": "code",
   "execution_count": null,
   "metadata": {},
   "outputs": [],
   "source": [
    "df_complaint2021.Year = df_complaint2021.Year.astype(str)\n",
    "df_complaint2021.Year = df_complaint2021.Year.str.replace(\"[\",\"\")\n",
    "df_complaint2021.Year = df_complaint2021.Year.str.replace(\"]\",\"\")"
   ]
  },
  {
   "cell_type": "code",
   "execution_count": null,
   "metadata": {},
   "outputs": [],
   "source": [
    "df_complaint2021.Year = df_complaint2021.Year.str.replace(\"'\",\"\")"
   ]
  },
  {
   "cell_type": "code",
   "execution_count": null,
   "metadata": {},
   "outputs": [],
   "source": [
    "df_complaint2021.Month = df_complaint2021.Month.astype(str)\n",
    "df_complaint2021.Month = df_complaint2021.Month.str.replace(\"[\",\"\")\n",
    "df_complaint2021.Month = df_complaint2021.Month.str.replace(\"]\",\"\")"
   ]
  },
  {
   "cell_type": "code",
   "execution_count": null,
   "metadata": {},
   "outputs": [],
   "source": [
    "df_complaint2021.Month = df_complaint2021.Month.str.replace(\"'\",\"\")"
   ]
  },
  {
   "cell_type": "code",
   "execution_count": null,
   "metadata": {},
   "outputs": [],
   "source": [
    "df_complaint2021 = df_complaint2021[df_complaint2021.Year==\"2021\"]"
   ]
  },
  {
   "cell_type": "code",
   "execution_count": null,
   "metadata": {},
   "outputs": [],
   "source": [
    "df_complaint2021_groupby = df_complaint2021.groupby(\"Month\").count()"
   ]
  },
  {
   "cell_type": "code",
   "execution_count": null,
   "metadata": {},
   "outputs": [],
   "source": [
    "df_complaint2021_groupby "
   ]
  },
  {
   "cell_type": "code",
   "execution_count": null,
   "metadata": {},
   "outputs": [],
   "source": [
    "col_list = [\"CMPLNT_NUM\"]\n",
    "df_complaint2021_groupby = df_complaint2021_groupby[col_list]"
   ]
  },
  {
   "cell_type": "code",
   "execution_count": null,
   "metadata": {},
   "outputs": [],
   "source": [
    "df_complaint2021_groupby['month'] = df_complaint2021_groupby.index"
   ]
  },
  {
   "cell_type": "code",
   "execution_count": null,
   "metadata": {},
   "outputs": [],
   "source": [
    "df_complaint2021_groupby = df_complaint2021_groupby.rename(columns={\"CMPLNT_NUM\": \"Total Number of Complaints\"})"
   ]
  },
  {
   "cell_type": "code",
   "execution_count": null,
   "metadata": {},
   "outputs": [],
   "source": [
    "df_complaint2021_groupby = df_complaint2021_groupby.rename(columns={\"Total Number of Complaints\": \"TotalComplaints2021\"})"
   ]
  },
  {
   "cell_type": "code",
   "execution_count": null,
   "metadata": {},
   "outputs": [],
   "source": [
    "df_complaint2020_h1 = df_complaint2020[(df_complaint2020.Month == '01') | (df_complaint2020.Month == '02') |\\\n",
    "                 (df_complaint2020.Month == '03') | (df_complaint2020.Month == '04') |\\\n",
    "                (df_complaint2020.Month == '05') | (df_complaint2020.Month == '06')]"
   ]
  },
  {
   "cell_type": "code",
   "execution_count": null,
   "metadata": {},
   "outputs": [],
   "source": [
    "df_complaint2020_h1_groupby = df_complaint2020_h1.groupby(\"Month\").count()"
   ]
  },
  {
   "cell_type": "code",
   "execution_count": null,
   "metadata": {},
   "outputs": [],
   "source": [
    "df_complaint2020_h1_groupby.head(1)"
   ]
  },
  {
   "cell_type": "code",
   "execution_count": null,
   "metadata": {},
   "outputs": [],
   "source": [
    "col_list = [\"CMPLNT_NUM\"]\n",
    "df_complaint2020_h1_groupby = df_complaint2020_h1_groupby[col_list]\n",
    "df_complaint2020_h1_groupby['month'] = df_complaint2020_h1_groupby.index"
   ]
  },
  {
   "cell_type": "code",
   "execution_count": null,
   "metadata": {},
   "outputs": [],
   "source": [
    "df_complaint2020_h1_groupby = df_complaint2020_h1_groupby.rename(columns={\"CMPLNT_NUM\": \"TotalComplaints2020\"})"
   ]
  },
  {
   "cell_type": "code",
   "execution_count": null,
   "metadata": {},
   "outputs": [],
   "source": [
    "result = pd.merge(df_complaint2021_groupby, df_complaint2020_h1_groupby, on=\"month\")"
   ]
  },
  {
   "cell_type": "code",
   "execution_count": null,
   "metadata": {},
   "outputs": [],
   "source": [
    "result"
   ]
  },
  {
   "cell_type": "code",
   "execution_count": null,
   "metadata": {},
   "outputs": [],
   "source": [
    "result[\"Chng2021_h1\"] = (result['TotalComplaints2021'] - result['TotalComplaints2020'])/result.TotalComplaints2020*100"
   ]
  },
  {
   "cell_type": "code",
   "execution_count": null,
   "metadata": {},
   "outputs": [],
   "source": [
    "result[\"Chng2021_h1\"] = round(result[\"Chng2021_h1\"],1)"
   ]
  },
  {
   "cell_type": "code",
   "execution_count": null,
   "metadata": {},
   "outputs": [],
   "source": [
    "result[\"zero\"] = 0"
   ]
  },
  {
   "cell_type": "code",
   "execution_count": null,
   "metadata": {},
   "outputs": [],
   "source": [
    "import altair as alt\n",
    "from vega_datasets import data\n",
    "\n",
    "chart = alt.Chart(result).mark_circle(color=\"coral\").encode(\n",
    "    alt.X('month:T', title=\"Month\"),\n",
    "    alt.Y('Chng2021_h1:Q', title=\"Percent Change in Complaints\"),\n",
    "    alt.Size('TotalComplaints2021:Q',\n",
    "        scale=alt.Scale(range=[10, 1200]),\n",
    "        legend=alt.Legend(title='Number of Complaints in 2021'))).properties(\n",
    "height=300, width=350, title=\"More police complaints have been filed this year than last year\")\n",
    "\n",
    "line = alt.Chart(result).mark_rule(color='gray').encode(\n",
    "    alt.Y('zero:Q'),\n",
    "    size=alt.SizeValue(3),\n",
    ")"
   ]
  },
  {
   "cell_type": "code",
   "execution_count": null,
   "metadata": {},
   "outputs": [],
   "source": [
    "chart + line"
   ]
  },
  {
   "cell_type": "code",
   "execution_count": null,
   "metadata": {},
   "outputs": [],
   "source": []
  },
  {
   "cell_type": "code",
   "execution_count": null,
   "metadata": {},
   "outputs": [],
   "source": []
  },
  {
   "cell_type": "code",
   "execution_count": null,
   "metadata": {},
   "outputs": [],
   "source": []
  },
  {
   "cell_type": "code",
   "execution_count": null,
   "metadata": {},
   "outputs": [],
   "source": []
  },
  {
   "cell_type": "code",
   "execution_count": null,
   "metadata": {},
   "outputs": [],
   "source": [
    "df_2021Murder = df_complaint2021[df_complaint2021.OFNS_DESC == \"MURDER & NON-NEGL. MANSLAUGHTER\"]"
   ]
  },
  {
   "cell_type": "code",
   "execution_count": null,
   "metadata": {},
   "outputs": [],
   "source": [
    "# IMPORTANT \n",
    "df_2021Murder.value_counts(\"VIC_RACE\", normalize=True) * 100"
   ]
  },
  {
   "cell_type": "code",
   "execution_count": null,
   "metadata": {},
   "outputs": [],
   "source": [
    "df_2020Murder = df_complaint2020[df_complaint2020.Crime == \"MURDER & NON-NEGL. MANSLAUGHTER\"]"
   ]
  },
  {
   "cell_type": "code",
   "execution_count": null,
   "metadata": {},
   "outputs": [],
   "source": [
    "# IMPORTANT \n",
    "df_2020Murder.value_counts(\"VIC_RACE\", normalize=True) * 100"
   ]
  },
  {
   "cell_type": "code",
   "execution_count": null,
   "metadata": {},
   "outputs": [],
   "source": [
    "# IMPORTANT\n",
    "\n",
    "import geopandas as gpd\n",
    "\n",
    "ntaData = gpd.read_file\\\n",
    "('https://services5.arcgis.com/GfwWNkhOj9bNBqoJ/ArcGIS/rest/services/NYC_Neighborhood_Tabulation_Areas/FeatureServer/0/query?where=1=1&outFields=*&outSR=4326&f=pgeojson')\n",
    "\n",
    "import altair as alt\n",
    "\n",
    "ntaMap = alt.Chart(ntaData).mark_geoshape(\n",
    "    fill='whitesmoke',\n",
    "    stroke='gray',\n",
    "    strokeWidth=0.5\n",
    ").properties(\n",
    "    width=500,\n",
    "    height=600,\n",
    ")\n",
    "\n",
    "murderReports2020 = alt.Chart(df_2020Murder).mark_circle(\n",
    "    filled=True, color='brown', size=12).encode(\n",
    "    latitude='Latitude:Q',\n",
    "    longitude='Longitude:Q',\n",
    "    tooltip=[alt.Tooltip('PATROL_BORO', title='Borough'), alt.Tooltip('ADDR_PCT_CD', title='Precinct')]\n",
    "    )\n",
    "\n",
    "murderReports2021 = alt.Chart(df_2021Murder).mark_circle(\n",
    "    filled=True, color='black', opacity=0.7, size=12).encode(\n",
    "    latitude='Latitude:Q',\n",
    "    longitude='Longitude:Q',\n",
    "    tooltip=[alt.Tooltip('PATROL_BORO', title='Borough'), alt.Tooltip('ADDR_PCT_CD', title='Precinct')]\n",
    "    )\n",
    "\n",
    "alt.layer(ntaMap, murderReports2020, murderReports2021,\\\n",
    "          title=\"Murder reports in NYC\"\n",
    ")"
   ]
  },
  {
   "cell_type": "code",
   "execution_count": null,
   "metadata": {},
   "outputs": [],
   "source": []
  },
  {
   "cell_type": "code",
   "execution_count": null,
   "metadata": {},
   "outputs": [],
   "source": [
    "# df_complaint.Crime=df_complaint.Crime.replace({'ROBBERY':'Robbery',\\\n",
    "#                                                                        'FELONY ASSAULT':\"Felony Assault\"})"
   ]
  },
  {
   "cell_type": "code",
   "execution_count": null,
   "metadata": {},
   "outputs": [],
   "source": [
    "# QUESTION: Overlap data by borough with mobility line graph "
   ]
  },
  {
   "cell_type": "code",
   "execution_count": null,
   "metadata": {},
   "outputs": [],
   "source": [
    "alt.data_transformers.disable_max_rows()"
   ]
  },
  {
   "cell_type": "code",
   "execution_count": null,
   "metadata": {},
   "outputs": [],
   "source": [
    "# import re\n",
    "# df_Robbery_FelonyAssault['Month']=df_Robbery_FelonyAssault.Date.apply(lambda txt: re.findall(\"^\\d\\d\", txt))"
   ]
  },
  {
   "cell_type": "code",
   "execution_count": null,
   "metadata": {},
   "outputs": [],
   "source": [
    "# df_Robbery_FelonyAssault['Month']=df_Robbery_FelonyAssault['Month'].astype(str)"
   ]
  },
  {
   "cell_type": "code",
   "execution_count": null,
   "metadata": {},
   "outputs": [],
   "source": [
    "# df_Robbery_FelonyAssault.Month = df_Robbery_FelonyAssault.Month.str.replace(\"[\",\"\")\n",
    "# df_Robbery_FelonyAssault.Month = df_Robbery_FelonyAssault.Month.str.replace(\"]\",\"\")\n",
    "# df_Robbery_FelonyAssault.Month = df_Robbery_FelonyAssault.Month.str.replace(\"'\",\"\")"
   ]
  },
  {
   "cell_type": "code",
   "execution_count": null,
   "metadata": {},
   "outputs": [],
   "source": [
    "# crimeCount = df_complaint.groupby(\"Date\")['Crime'].count()\n",
    "# df_crimeCount = pd.DataFrame([crimeCount])\n",
    "# df_crimeCount = df_crimeCount.T\n",
    "# df_crimeCount['Date'] = df_crimeCount.index"
   ]
  },
  {
   "cell_type": "code",
   "execution_count": null,
   "metadata": {},
   "outputs": [],
   "source": [
    "# df_crimeCount['sevenMajorCrimes'] = \"crimes\""
   ]
  },
  {
   "cell_type": "code",
   "execution_count": null,
   "metadata": {},
   "outputs": [],
   "source": [
    "# df_crimeCount['%change']=df_crimeCount['Crime'].pct_change()*100"
   ]
  },
  {
   "cell_type": "code",
   "execution_count": null,
   "metadata": {},
   "outputs": [],
   "source": [
    "# df_crimeCount['%change'] = df_crimeCount['%change'].fillna(0)"
   ]
  },
  {
   "cell_type": "code",
   "execution_count": null,
   "metadata": {},
   "outputs": [],
   "source": [
    "# # IMPORTANT - %change has to be YoY\n",
    "# alt.Chart(df_crimeCount).mark_line().encode(\n",
    "#    x=\"Date:T\",\n",
    "#    y=\"Crime:Q\",\n",
    "#    color=\"sevenMajorCrimes\"\n",
    "# ).properties(\n",
    "#    height=200, width=300\n",
    "# ) "
   ]
  },
  {
   "cell_type": "code",
   "execution_count": null,
   "metadata": {},
   "outputs": [],
   "source": []
  },
  {
   "cell_type": "code",
   "execution_count": null,
   "metadata": {},
   "outputs": [],
   "source": []
  },
  {
   "cell_type": "markdown",
   "metadata": {},
   "source": [
    "# Step 6.1: Property crime (burglary, grand larceny, motor vehicle theft)\n",
    "### nonviolent crimes dropped -3.3% YoY in Jan-July 2021 & and rose 1% in 2020\n",
    "#### in top 10 precincts with biggest increase, three crimes rose across the board\n",
    "#### GL was flat 2016 - 2019 and DROPPED in 2020; vehicle theft, burglary was flat 2016-2019 and SURGED in 2020"
   ]
  },
  {
   "cell_type": "code",
   "execution_count": null,
   "metadata": {},
   "outputs": [],
   "source": [
    "NonViolent_Crimes = df_MF4[(df_MF4['CRIME'] == \"GRAND LARCENY\") |\\\n",
    "                           (df_MF4['CRIME'] == \"GRAND LARCENY OF MOTOR VEHICLE\") |\\\n",
    "                           (df_MF4['CRIME'] == \"BURGLARY\")]\n",
    "NonViolent_Crimes = NonViolent_Crimes[['PCT', 'CRIME', '2021_YTD', '2020_YTD', '%_Chg','household_median_income']]"
   ]
  },
  {
   "cell_type": "code",
   "execution_count": null,
   "metadata": {},
   "outputs": [],
   "source": [
    "NonViolent_Crimes.head()"
   ]
  },
  {
   "cell_type": "code",
   "execution_count": null,
   "metadata": {},
   "outputs": [],
   "source": [
    "(NonViolent_Crimes['2021_YTD'].sum() - NonViolent_Crimes['2020_YTD'].sum()) / NonViolent_Crimes['2020_YTD'].sum() * 100"
   ]
  },
  {
   "cell_type": "code",
   "execution_count": null,
   "metadata": {},
   "outputs": [],
   "source": [
    "NonViolent_Crimes[NonViolent_Crimes['%_Chg'] > -2.7].household_median_income.median()"
   ]
  },
  {
   "cell_type": "code",
   "execution_count": null,
   "metadata": {},
   "outputs": [],
   "source": [
    "NonViolent_Crimes[NonViolent_Crimes['%_Chg'] < -2.7].household_median_income.median()"
   ]
  },
  {
   "cell_type": "code",
   "execution_count": null,
   "metadata": {},
   "outputs": [],
   "source": [
    "NonViolent_Crimes.head(1)"
   ]
  },
  {
   "cell_type": "code",
   "execution_count": null,
   "metadata": {},
   "outputs": [],
   "source": [
    "annual_NonViolentCrimes = df_MF2.loc[[\"GRAND LARCENY\", \"GRAND LARCENY OF MOTOR VEHICLE\", \"BURGLARY\"]]"
   ]
  },
  {
   "cell_type": "code",
   "execution_count": null,
   "metadata": {},
   "outputs": [],
   "source": [
    "(annual_NonViolentCrimes[2020.0].sum() - annual_NonViolentCrimes[2019.0].sum()) / annual_NonViolentCrimes[2019.0].sum() * 100"
   ]
  },
  {
   "cell_type": "code",
   "execution_count": null,
   "metadata": {},
   "outputs": [],
   "source": [
    "NonViolentCrimes2021 = NonViolent_Crimes.groupby(\"PCT\")['2021_YTD'].sum()\n",
    "NonViolentCrimes2021 = NonViolentCrimes2021.to_frame()\n",
    "NonViolentCrimes2021.reset_index(level=0, inplace=True)\n",
    "NonViolentCrimes2021 = NonViolentCrimes2021.sort_values(by=\"PCT\", ascending = True)"
   ]
  },
  {
   "cell_type": "code",
   "execution_count": null,
   "metadata": {},
   "outputs": [],
   "source": [
    "NonViolentCrimes2020 = NonViolent_Crimes.groupby(\"PCT\")['2020_YTD'].sum()\n",
    "NonViolentCrimes2020 = NonViolentCrimes2020.to_frame()\n",
    "NonViolentCrimes2020.reset_index(level=0, inplace=True)\n",
    "NonViolentCrimes2020 = NonViolentCrimes2020.sort_values(by=\"PCT\", ascending = True)"
   ]
  },
  {
   "cell_type": "code",
   "execution_count": null,
   "metadata": {},
   "outputs": [],
   "source": [
    "NonViolentCrimes_Precinct = pd.merge(NonViolentCrimes2020, NonViolentCrimes2021, on='PCT', how='outer')\n",
    "NonViolentCrimes_Precinct['%chng'] = (NonViolentCrimes_Precinct['2021_YTD'] - NonViolentCrimes_Precinct['2020_YTD']) / NonViolentCrimes_Precinct['2020_YTD'] * 100\n",
    "NonViolentCrimes_Precinct['%chng'] = round(NonViolentCrimes_Precinct['%chng'], 1)"
   ]
  },
  {
   "cell_type": "code",
   "execution_count": null,
   "metadata": {},
   "outputs": [],
   "source": [
    "# IMPORTANT\n",
    "NonViolentCrimes_Precinct.sort_values(by=\"%chng\", ascending=False).head(10)"
   ]
  },
  {
   "cell_type": "code",
   "execution_count": null,
   "metadata": {},
   "outputs": [],
   "source": [
    "# spot checking\n",
    "NonViolent_Crimes[NonViolent_Crimes.PCT == 114]"
   ]
  },
  {
   "cell_type": "code",
   "execution_count": null,
   "metadata": {},
   "outputs": [],
   "source": [
    "# Grand Larceny\n",
    "GL = NonViolent_Crimes[NonViolent_Crimes.CRIME == 'GRAND LARCENY']"
   ]
  },
  {
   "cell_type": "code",
   "execution_count": null,
   "metadata": {},
   "outputs": [],
   "source": [
    "GL.to_csv(\"GrandLarceny2021.csv\", index=False)"
   ]
  },
  {
   "cell_type": "code",
   "execution_count": null,
   "metadata": {},
   "outputs": [],
   "source": [
    "# Burglary\n",
    "Burglary = NonViolent_Crimes[NonViolent_Crimes.CRIME == 'BURGLARY']"
   ]
  },
  {
   "cell_type": "code",
   "execution_count": null,
   "metadata": {},
   "outputs": [],
   "source": [
    "Burglary.to_csv(\"Burglary2021.csv\", index=False)"
   ]
  },
  {
   "cell_type": "code",
   "execution_count": null,
   "metadata": {},
   "outputs": [],
   "source": [
    "# vehicle theft\n",
    "VehicleTheft = NonViolent_Crimes[NonViolent_Crimes.CRIME == 'GRAND LARCENY OF MOTOR VEHICLE']"
   ]
  },
  {
   "cell_type": "code",
   "execution_count": null,
   "metadata": {},
   "outputs": [],
   "source": [
    "VehicleTheft = VehicleTheft[VehicleTheft['%_Chg']>0]"
   ]
  },
  {
   "cell_type": "code",
   "execution_count": null,
   "metadata": {},
   "outputs": [],
   "source": [
    "VehicleTheft.to_csv(\"VehicleTheft2021.csv\", index=False)"
   ]
  },
  {
   "cell_type": "code",
   "execution_count": null,
   "metadata": {},
   "outputs": [],
   "source": []
  },
  {
   "cell_type": "code",
   "execution_count": null,
   "metadata": {},
   "outputs": [],
   "source": []
  },
  {
   "cell_type": "markdown",
   "metadata": {},
   "source": [
    "# Shootings "
   ]
  },
  {
   "cell_type": "code",
   "execution_count": null,
   "metadata": {},
   "outputs": [],
   "source": [
    "import pandas as pd\n",
    "import numpy as np\n",
    "\n",
    "pd.set_option(\"display.max_columns\", 200)\n",
    "pd.set_option(\"display.max_colwidth\", 200)"
   ]
  },
  {
   "cell_type": "code",
   "execution_count": null,
   "metadata": {},
   "outputs": [],
   "source": [
    "import requests\n",
    "import json"
   ]
  },
  {
   "cell_type": "code",
   "execution_count": null,
   "metadata": {},
   "outputs": [],
   "source": [
    "df_shootings2021 = pd.read_csv('NYPD_Shooting_Incident_Data__Year_To_Date_.csv')"
   ]
  },
  {
   "cell_type": "code",
   "execution_count": null,
   "metadata": {},
   "outputs": [],
   "source": [
    "df_shootings2021.head(1)"
   ]
  },
  {
   "cell_type": "code",
   "execution_count": null,
   "metadata": {},
   "outputs": [],
   "source": [
    "df_shootings2021['year'] = df_shootings2021.OCCUR_DATE"
   ]
  },
  {
   "cell_type": "code",
   "execution_count": null,
   "metadata": {},
   "outputs": [],
   "source": [
    "df_shootings2021['year'] = df_shootings2021['year'].astype(str)"
   ]
  },
  {
   "cell_type": "code",
   "execution_count": null,
   "metadata": {},
   "outputs": [],
   "source": [
    "import datetime as dt"
   ]
  },
  {
   "cell_type": "code",
   "execution_count": null,
   "metadata": {},
   "outputs": [],
   "source": [
    "import re"
   ]
  },
  {
   "cell_type": "code",
   "execution_count": null,
   "metadata": {},
   "outputs": [],
   "source": [
    "df_shootings2021['year'] = df_shootings2021['year'].apply(lambda txt: re.findall(\"\\d\\d\\d\\d\", txt))"
   ]
  },
  {
   "cell_type": "code",
   "execution_count": null,
   "metadata": {},
   "outputs": [],
   "source": [
    "df_shootings2021['year'] = df_shootings2021['year'].astype(str)"
   ]
  },
  {
   "cell_type": "code",
   "execution_count": null,
   "metadata": {},
   "outputs": [],
   "source": [
    "df_shootings2021['year'] = df_shootings2021['year'].str.strip('[]').str.strip(\"''\").astype(int)"
   ]
  },
  {
   "cell_type": "code",
   "execution_count": null,
   "metadata": {},
   "outputs": [],
   "source": [
    "df_shootings2021.head(5)"
   ]
  },
  {
   "cell_type": "code",
   "execution_count": null,
   "metadata": {},
   "outputs": [],
   "source": [
    "df_shootings2021 = df_shootings2021[df_shootings2021['year'] == 2021]"
   ]
  },
  {
   "cell_type": "code",
   "execution_count": null,
   "metadata": {},
   "outputs": [],
   "source": [
    "df_shootings2021.shape"
   ]
  },
  {
   "cell_type": "code",
   "execution_count": null,
   "metadata": {},
   "outputs": [],
   "source": [
    "import geopandas as gpd\n",
    "\n",
    "ntaData = gpd.read_file\\\n",
    "('https://services5.arcgis.com/GfwWNkhOj9bNBqoJ/ArcGIS/rest/services/NYC_Neighborhood_Tabulation_Areas/FeatureServer/0/query?where=1=1&outFields=*&outSR=4326&f=pgeojson')\n",
    "\n",
    "import altair as alt\n",
    "\n",
    "ntaMap = alt.Chart(ntaData).mark_geoshape(\n",
    "    fill='whitesmoke',\n",
    "    stroke='gray',\n",
    "    strokeWidth=0.5\n",
    ").encode(tooltip=[alt.Tooltip('Precinct')])\n",
    "\n",
    "ntaMap"
   ]
  },
  {
   "cell_type": "code",
   "execution_count": null,
   "metadata": {},
   "outputs": [],
   "source": [
    "df_shootings2021.head(1)"
   ]
  },
  {
   "cell_type": "code",
   "execution_count": null,
   "metadata": {},
   "outputs": [],
   "source": [
    "alt.data_transformers.disable_max_rows()"
   ]
  },
  {
   "cell_type": "code",
   "execution_count": null,
   "metadata": {
    "scrolled": true
   },
   "outputs": [],
   "source": [
    "# IMPORTANT\n",
    "ntaMap = alt.Chart(ntaData).mark_geoshape(\n",
    "    fill='whitesmoke',\n",
    "    stroke='gray',\n",
    "    strokeWidth=0.5\n",
    ").properties(\n",
    "    width=600,\n",
    "    height=700\n",
    ")\n",
    "\n",
    "shootingMap2021 = alt.Chart(df_shootings2021).mark_circle(filled=True, color='orange', size=7, strokeWidth=0.2, stroke='black').encode(\n",
    "    latitude='Latitude:Q',\n",
    "    longitude='Longitude:Q',\n",
    "    color='year:N',\n",
    "    tooltip=[alt.Tooltip('OCCUR_DATE', title=\"Occurance date\"), alt.Tooltip('PRECINCT', title=\"Precinct\"),\\\n",
    "             alt.Tooltip('BORO',title=\"Borough\"), alt.Tooltip('LOCATION_DESC', title=\"Location description\")])\\\n",
    ".properties(\n",
    "    title='Shootings in NYC, Jan.-June 2021',\n",
    "    width=600,\n",
    "    height=700\n",
    ")\n",
    "\n",
    "shootings2021 = alt.layer(ntaMap, shootingMap2021)"
   ]
  },
  {
   "cell_type": "code",
   "execution_count": null,
   "metadata": {},
   "outputs": [],
   "source": [
    "shootings2021"
   ]
  },
  {
   "cell_type": "code",
   "execution_count": null,
   "metadata": {},
   "outputs": [],
   "source": []
  },
  {
   "cell_type": "markdown",
   "metadata": {},
   "source": [
    "## historic shooting data"
   ]
  },
  {
   "cell_type": "code",
   "execution_count": null,
   "metadata": {},
   "outputs": [],
   "source": [
    "df_shootings_historic = pd.read_csv('NYPD_Shooting_Incident_Data__Historic_.csv')"
   ]
  },
  {
   "cell_type": "code",
   "execution_count": null,
   "metadata": {},
   "outputs": [],
   "source": [
    "df_shootings_historic.shape"
   ]
  },
  {
   "cell_type": "code",
   "execution_count": null,
   "metadata": {},
   "outputs": [],
   "source": [
    "# import geopandas as gpd"
   ]
  },
  {
   "cell_type": "code",
   "execution_count": null,
   "metadata": {},
   "outputs": [],
   "source": [
    "# cityPropertiesGeo = gpd.read_file('https://data.cityofnewyork.us/resource/833y-fsy8.geojson')"
   ]
  },
  {
   "cell_type": "code",
   "execution_count": null,
   "metadata": {},
   "outputs": [],
   "source": [
    "df_shootings_historic.head(2)"
   ]
  },
  {
   "cell_type": "code",
   "execution_count": null,
   "metadata": {},
   "outputs": [],
   "source": [
    "df_shootings_historic['year'] = pd.to_datetime(df_shootings_historic.OCCUR_DATE)"
   ]
  },
  {
   "cell_type": "code",
   "execution_count": null,
   "metadata": {},
   "outputs": [],
   "source": [
    "df_shootings_historic['year'] = df_shootings_historic['year'].dt.year"
   ]
  },
  {
   "cell_type": "code",
   "execution_count": null,
   "metadata": {},
   "outputs": [],
   "source": [
    "df_shootings_historic['month'] = pd.to_datetime(df_shootings_historic.OCCUR_DATE)"
   ]
  },
  {
   "cell_type": "code",
   "execution_count": null,
   "metadata": {},
   "outputs": [],
   "source": [
    "df_shootings_historic['month'] = df_shootings_historic['month'].dt.month"
   ]
  },
  {
   "cell_type": "code",
   "execution_count": null,
   "metadata": {},
   "outputs": [],
   "source": [
    "df_shootings_historic.head(2)"
   ]
  },
  {
   "cell_type": "code",
   "execution_count": null,
   "metadata": {},
   "outputs": [],
   "source": [
    "df_fiveYear_shootings =  df_shootings_historic[(df_shootings_historic.year == 2015) | (df_shootings_historic.year == 2016)|\\\n",
    "    (df_shootings_historic.year == 2017) |(df_shootings_historic.year == 2018)|\\\n",
    "                                       (df_shootings_historic.year == 2019) |(df_shootings_historic.year == 2020)]"
   ]
  },
  {
   "cell_type": "code",
   "execution_count": null,
   "metadata": {},
   "outputs": [],
   "source": [
    "shootings2020 = df_fiveYear_shootings[df_fiveYear_shootings.year == 2020]"
   ]
  },
  {
   "cell_type": "code",
   "execution_count": null,
   "metadata": {},
   "outputs": [],
   "source": [
    "shootings2020_h2 = shootings2020[(shootings2020.month == 1)| (shootings2020.month == 2) |(shootings2020.month == 3) |\\\n",
    "             (shootings2020.month == 4) | (shootings2020.month == 5) | (shootings2020.month == 6)]"
   ]
  },
  {
   "cell_type": "code",
   "execution_count": null,
   "metadata": {},
   "outputs": [],
   "source": []
  },
  {
   "cell_type": "code",
   "execution_count": null,
   "metadata": {},
   "outputs": [],
   "source": [
    "##DO NOT ERASE, KEEP THIS COLUMN!!!\n",
    "\n",
    "## grouping shootings by precinct\n",
    "\n",
    "# df_shootings2021_groupby = df_shootings2021.groupby(\"PRECINCT\").count()\n",
    "\n",
    "# col_list = ['INCIDENT_KEY']\n",
    "# df_shootings2021_groupby = df_shootings2021_groupby[col_list]\n",
    "# df_shootings2021_groupby = df_shootings2021_groupby.rename(columns={\"INCIDENT_KEY\": \"Shootings_2021_h2\"})\n",
    "\n",
    "# shootings2020_h2_groupby = shootings2020_h2.groupby(\"PRECINCT\").count()\n",
    "\n",
    "# col_list = ['INCIDENT_KEY']\n",
    "# shootings2020_h2_groupby = shootings2020_h2_groupby[col_list]\n",
    "# shootings2020_h2_groupby = shootings2020_h2_groupby.rename(columns={\"INCIDENT_KEY\": \"Shootings_2020_h2\"})\n",
    "\n",
    "# df_shootings2021_groupby.reset_index(inplace=True)\n",
    "# shootings2020_h2_groupby.reset_index(inplace=True)\n",
    "\n",
    "# dfinal = pd.merge(df_shootings2021_groupby, shootings2020_h2_groupby, on=\"PRECINCT\", how=\"outer\")\n",
    "\n",
    "# dfinal = dfinal.fillna(0)\n",
    "\n",
    "# dfinal = dfinal.rename(columns={\"PRECINCT\": \"PCT\"})\n",
    "\n",
    "# dfinal['Chg2021'] = (dfinal.Shootings_2021_h2 - dfinal.Shootings_2020_h2)/dfinal.Shootings_2020_h2*100\n",
    "\n",
    "# dfinal['Chg2021'] = round(dfinal['Chg2021'], 1)\n",
    "\n",
    "# dfinal['CRIME'] = \"Shooting\"\n",
    "\n",
    "# # col_list = ['PCT', 'household_median_income']\n",
    "# # dfinal = dfinal[col_list]\n",
    "\n",
    "# temp = df_d3[df_d3.CRIME.str.strip() == \"Murder\"]\n",
    "\n",
    "# col_list = ['PCT', 'Chg2021', 'CRIME']\n",
    "# dfinal  = dfinal[col_list]\n",
    "\n",
    "# dfinal_new = pd.merge(dfinal, temp, on=\"PCT\", how=\"outer\")\n",
    "# dfinal_new.CRIME_x = dfinal_new.CRIME_x.fillna(\"Shooting\")\n",
    "# dfinal_new.Chg2021_x = dfinal_new.Chg2021_x.fillna(0)\n",
    "\n",
    "## dfinal_new.to_csv(\"dfinal_new.csv\",index=False)"
   ]
  },
  {
   "cell_type": "code",
   "execution_count": null,
   "metadata": {},
   "outputs": [],
   "source": [
    "dfinal_new2"
   ]
  },
  {
   "cell_type": "code",
   "execution_count": null,
   "metadata": {},
   "outputs": [],
   "source": []
  },
  {
   "cell_type": "code",
   "execution_count": null,
   "metadata": {},
   "outputs": [],
   "source": [
    "df_fiveYear_shootings.head(1)"
   ]
  },
  {
   "cell_type": "code",
   "execution_count": null,
   "metadata": {},
   "outputs": [],
   "source": [
    "# IMPORTANT\n",
    "ntaMap = alt.Chart(ntaData).mark_geoshape(\n",
    "    fill='whitesmoke',\n",
    "    stroke='gray',\n",
    "    strokeWidth=0.5\n",
    ").properties(\n",
    "    width=600,\n",
    "    height=700\n",
    ")\n",
    "\n",
    "fiveYear_shootingMap = alt.Chart(df_fiveYear_shootings).mark_circle(filled=True, opacity=0.7, size=6, strokeWidth=0.15, stroke='black').encode(\n",
    "    latitude='Latitude:Q',\n",
    "    longitude='Longitude:Q',\n",
    "    color='year:N',\n",
    "    tooltip=[alt.Tooltip('OCCUR_DATE', title=\"Occurance date\"), alt.Tooltip('PRECINCT', title=\"Precinct\"),\\\n",
    "             alt.Tooltip('BORO',title=\"Borough\"), alt.Tooltip('LOCATION_DESC', title=\"Location description\")])\\\n",
    ".properties(\n",
    "    title='Shootings in NYC, 2015 - 2020',\n",
    "    width=600,\n",
    "    height=700\n",
    ")\n",
    "\n",
    "fiveYear_shooting  = alt.layer(ntaMap, fiveYear_shootingMap )"
   ]
  },
  {
   "cell_type": "code",
   "execution_count": null,
   "metadata": {},
   "outputs": [],
   "source": [
    "fiveYear_shooting"
   ]
  },
  {
   "cell_type": "code",
   "execution_count": null,
   "metadata": {},
   "outputs": [],
   "source": [
    "shootings2021 | fiveYear_shooting"
   ]
  },
  {
   "cell_type": "code",
   "execution_count": null,
   "metadata": {},
   "outputs": [],
   "source": [
    "df_shootings1920 = df_shootings_historic[(df_shootings_historic.year == 2019) |(df_shootings_historic.year == 2020)]"
   ]
  },
  {
   "cell_type": "code",
   "execution_count": null,
   "metadata": {},
   "outputs": [],
   "source": [
    "df_shootings2019 = df_shootings_historic[df_shootings_historic.year == 2019]"
   ]
  },
  {
   "cell_type": "code",
   "execution_count": null,
   "metadata": {},
   "outputs": [],
   "source": [
    "df_shootings2019.shape"
   ]
  },
  {
   "cell_type": "code",
   "execution_count": null,
   "metadata": {},
   "outputs": [],
   "source": [
    "df_shootings2020map = df_shootings_historic[df_shootings_historic.year == 2020]"
   ]
  },
  {
   "cell_type": "code",
   "execution_count": null,
   "metadata": {},
   "outputs": [],
   "source": [
    "df_shootings2020map"
   ]
  },
  {
   "cell_type": "code",
   "execution_count": null,
   "metadata": {},
   "outputs": [],
   "source": [
    "df_shootings2018 = df_shootings_historic[df_shootings_historic.year == 2018]"
   ]
  },
  {
   "cell_type": "code",
   "execution_count": null,
   "metadata": {},
   "outputs": [],
   "source": [
    "df_shootings2018.shape"
   ]
  },
  {
   "cell_type": "code",
   "execution_count": null,
   "metadata": {},
   "outputs": [],
   "source": [
    "df_shootings2019.shape"
   ]
  },
  {
   "cell_type": "code",
   "execution_count": null,
   "metadata": {},
   "outputs": [],
   "source": [
    "1918/2"
   ]
  },
  {
   "cell_type": "code",
   "execution_count": null,
   "metadata": {},
   "outputs": [],
   "source": [
    "(1942 - 959) / 959 * 100"
   ]
  },
  {
   "cell_type": "code",
   "execution_count": null,
   "metadata": {},
   "outputs": [],
   "source": [
    "df_shootings1819 = df_shootings_historic[(df_shootings_historic.year == 2018) | (df_shootings_historic.year == 2019)]"
   ]
  },
  {
   "cell_type": "code",
   "execution_count": null,
   "metadata": {},
   "outputs": [],
   "source": [
    "df_shootings1819_new = df_shootings1819.groupby(\"PRECINCT\").count()\n",
    "df_shootings1819_new"
   ]
  },
  {
   "cell_type": "code",
   "execution_count": null,
   "metadata": {},
   "outputs": [],
   "source": [
    "df_shootings1819_new['Precinct'] = df_shootings1819_new.index\n",
    "\n",
    "col_list = ['Precinct','INCIDENT_KEY']\n",
    "df_shootings1819_new = df_shootings1819_new[col_list]"
   ]
  },
  {
   "cell_type": "code",
   "execution_count": null,
   "metadata": {},
   "outputs": [],
   "source": [
    "df_shootings1819_new['Avg_Shootings_2018_2019'] = df_shootings1819_new.INCIDENT_KEY/2"
   ]
  },
  {
   "cell_type": "code",
   "execution_count": null,
   "metadata": {},
   "outputs": [],
   "source": [
    "df_shootings1819_new"
   ]
  },
  {
   "cell_type": "code",
   "execution_count": null,
   "metadata": {},
   "outputs": [],
   "source": [
    "df_shootings2020 = df_shootings_historic[df_shootings_historic.year == 2020]"
   ]
  },
  {
   "cell_type": "code",
   "execution_count": null,
   "metadata": {},
   "outputs": [],
   "source": [
    "df_shootings2020.shape"
   ]
  },
  {
   "cell_type": "code",
   "execution_count": null,
   "metadata": {},
   "outputs": [],
   "source": [
    "col_list = ['INCIDENT_KEY','PRECINCT']\n",
    "df_shootings2020 = df_shootings2020[col_list]"
   ]
  },
  {
   "cell_type": "code",
   "execution_count": null,
   "metadata": {},
   "outputs": [],
   "source": [
    "df_shootings2020_new = df_shootings2020.groupby(\"PRECINCT\").count()\n",
    "df_shootings2020_new['Precinct'] = df_shootings2020_new.index"
   ]
  },
  {
   "cell_type": "code",
   "execution_count": null,
   "metadata": {},
   "outputs": [],
   "source": [
    "df_shootings2020_new.head()"
   ]
  },
  {
   "cell_type": "code",
   "execution_count": null,
   "metadata": {},
   "outputs": [],
   "source": [
    "df_shootings1819_new[df_shootings1819_new.Precinct == 104]"
   ]
  },
  {
   "cell_type": "code",
   "execution_count": null,
   "metadata": {},
   "outputs": [],
   "source": [
    "df_shootings_final_new = df_shootings1819_new.merge(df_shootings2020_new, left_on='Precinct', right_on='Precinct', how='outer')"
   ]
  },
  {
   "cell_type": "code",
   "execution_count": null,
   "metadata": {},
   "outputs": [],
   "source": [
    "df_shootings_final_new.head(1)"
   ]
  },
  {
   "cell_type": "code",
   "execution_count": null,
   "metadata": {},
   "outputs": [],
   "source": [
    "df_shootings_final_new = df_shootings_final_new.rename(columns={\"INCIDENT_KEY_y\":\"Shootings2020\"})"
   ]
  },
  {
   "cell_type": "code",
   "execution_count": null,
   "metadata": {},
   "outputs": [],
   "source": [
    "df_shootings_final_new"
   ]
  },
  {
   "cell_type": "code",
   "execution_count": null,
   "metadata": {},
   "outputs": [],
   "source": [
    "df_shootings_final_new = df_shootings_final_new.drop(columns=['INCIDENT_KEY_x'])"
   ]
  },
  {
   "cell_type": "code",
   "execution_count": null,
   "metadata": {},
   "outputs": [],
   "source": [
    "df_shootings_final_new"
   ]
  },
  {
   "cell_type": "code",
   "execution_count": null,
   "metadata": {},
   "outputs": [],
   "source": [
    "df_shootings_final_new['%_Change_Shootings_2020'] = (df_shootings_final_new['Shootings2020']- df_shootings_final_new['Avg_Shootings_2018_2019'])/ df_shootings_final_new['Avg_Shootings_2018_2019'] * 100"
   ]
  },
  {
   "cell_type": "code",
   "execution_count": null,
   "metadata": {},
   "outputs": [],
   "source": [
    "df_shootings_final_new['%_Change_Shootings_2020'] = round(df_shootings_final_new['%_Change_Shootings_2020'],1)"
   ]
  },
  {
   "cell_type": "code",
   "execution_count": null,
   "metadata": {},
   "outputs": [],
   "source": [
    "df_shootings_final_new.sort_values(['%_Change_Shootings_2020'], ascending = True).head(20)"
   ]
  },
  {
   "cell_type": "code",
   "execution_count": null,
   "metadata": {},
   "outputs": [],
   "source": [
    "df_shootings_final_new.to_csv(\"ShootingsPercentChange.csv\", index=False)"
   ]
  },
  {
   "cell_type": "code",
   "execution_count": null,
   "metadata": {},
   "outputs": [],
   "source": []
  },
  {
   "cell_type": "code",
   "execution_count": null,
   "metadata": {},
   "outputs": [],
   "source": []
  },
  {
   "cell_type": "markdown",
   "metadata": {},
   "source": [
    "## homicide data\n",
    "#### homicides have been on an uptick since 2017; soared in 2020; and rose again Jan-July 2021\n",
    "#### 64% of homicides in 2020 used guns\n",
    "#### 51% of homicides in 2019 used guns\n",
    "#### 54% of homicides in 2018 used guns"
   ]
  },
  {
   "cell_type": "code",
   "execution_count": null,
   "metadata": {},
   "outputs": [],
   "source": [
    "# https://www1.nyc.gov/site/nypd/stats/reports-analysis/homicide.page\n",
    "df_homicide2020 = pd.read_excel(\"supplementary-homicide-report-cy2020 (1).xlsx\")"
   ]
  },
  {
   "cell_type": "code",
   "execution_count": null,
   "metadata": {},
   "outputs": [],
   "source": [
    "df_homicide2020.head()"
   ]
  },
  {
   "cell_type": "code",
   "execution_count": null,
   "metadata": {},
   "outputs": [],
   "source": [
    "new_header = df_homicide2020.iloc[3] #grab the first row for the header\n",
    "df_homicide2020 = df_homicide2020[4:] #take the data less the header row\n",
    "df_homicide2020.columns = new_header #set the header row as the df header"
   ]
  },
  {
   "cell_type": "code",
   "execution_count": null,
   "metadata": {},
   "outputs": [],
   "source": [
    "df_homicide2020.head(2)"
   ]
  },
  {
   "cell_type": "code",
   "execution_count": null,
   "metadata": {},
   "outputs": [],
   "source": [
    "df_homicide2020.PRECINCT = df_homicide2020.PRECINCT.astype(int)"
   ]
  },
  {
   "cell_type": "code",
   "execution_count": null,
   "metadata": {},
   "outputs": [],
   "source": [
    "df_homicide2020.to_csv(\"homicides2020.csv\", index=False)"
   ]
  },
  {
   "cell_type": "code",
   "execution_count": null,
   "metadata": {},
   "outputs": [],
   "source": [
    "df_homicide2020.value_counts(\"WEAPON USE\")"
   ]
  },
  {
   "cell_type": "code",
   "execution_count": null,
   "metadata": {},
   "outputs": [],
   "source": [
    "29500/464"
   ]
  },
  {
   "cell_type": "code",
   "execution_count": null,
   "metadata": {},
   "outputs": [],
   "source": [
    "df_homicide2020_new = df_homicide2020.value_counts(\"PRECINCT\")"
   ]
  },
  {
   "cell_type": "code",
   "execution_count": null,
   "metadata": {},
   "outputs": [],
   "source": [
    "df_homicide2020_new = df_homicide2020_new.to_frame()"
   ]
  },
  {
   "cell_type": "code",
   "execution_count": null,
   "metadata": {},
   "outputs": [],
   "source": [
    "df_homicide2020_new"
   ]
  },
  {
   "cell_type": "code",
   "execution_count": null,
   "metadata": {},
   "outputs": [],
   "source": [
    "df_homicide2020_new.reset_index(level=0, inplace=True)"
   ]
  },
  {
   "cell_type": "code",
   "execution_count": null,
   "metadata": {},
   "outputs": [],
   "source": [
    "df_homicide2020_new = df_homicide2020_new.rename(columns={0: \"NumOfHomicides\"})"
   ]
  },
  {
   "cell_type": "code",
   "execution_count": null,
   "metadata": {},
   "outputs": [],
   "source": [
    "df_homicide2020_new['percentage'] = df_homicide2020_new.NumOfHomicides / 69 * 100\n",
    "df_homicide2020_new['percentage'] = round(df_homicide2020_new['percentage'],1)"
   ]
  },
  {
   "cell_type": "code",
   "execution_count": null,
   "metadata": {},
   "outputs": [],
   "source": [
    "df_homicide2020_new.PRECINCT = df_homicide2020_new.PRECINCT.astype(int)"
   ]
  },
  {
   "cell_type": "code",
   "execution_count": null,
   "metadata": {},
   "outputs": [],
   "source": [
    "df_homicide2020_new"
   ]
  },
  {
   "cell_type": "code",
   "execution_count": null,
   "metadata": {},
   "outputs": [],
   "source": [
    "df_homicide2020_new.to_csv(\"homicides2020.csv\", index=False)"
   ]
  },
  {
   "cell_type": "code",
   "execution_count": null,
   "metadata": {},
   "outputs": [],
   "source": [
    "df_homicide2019 = pd.read_excel(\"supplementary-homicide-report-cy2019.xlsx\")"
   ]
  },
  {
   "cell_type": "code",
   "execution_count": null,
   "metadata": {},
   "outputs": [],
   "source": [
    "new_header = df_homicide2019.iloc[3] #grab the first row for the header\n",
    "df_homicide2019 = df_homicide2019[4:] #take the data less the header row\n",
    "df_homicide2019.columns = new_header #set the header row as the df header"
   ]
  },
  {
   "cell_type": "code",
   "execution_count": null,
   "metadata": {},
   "outputs": [],
   "source": [
    "len(df_homicide2019)"
   ]
  },
  {
   "cell_type": "code",
   "execution_count": null,
   "metadata": {},
   "outputs": [],
   "source": [
    "df_homicide2019.value_counts(\"WEAPON USE\")"
   ]
  },
  {
   "cell_type": "code",
   "execution_count": null,
   "metadata": {},
   "outputs": [],
   "source": [
    "16300/319"
   ]
  },
  {
   "cell_type": "code",
   "execution_count": null,
   "metadata": {},
   "outputs": [],
   "source": [
    "df_homicide2019_new = df_homicide2019.value_counts(\"PRECINCT\")\n",
    "df_homicide2019_new = df_homicide2019_new.to_frame()\n",
    "df_homicide2019_new.reset_index(level=0, inplace=True)\n",
    "df_homicide2019_new = df_homicide2019_new.rename(columns={0: \"NumOfHomicides\"})"
   ]
  },
  {
   "cell_type": "code",
   "execution_count": null,
   "metadata": {},
   "outputs": [],
   "source": [
    "df_homicide2019_new['percentage'] = df_homicide2019_new.NumOfHomicides / 69 * 100\n",
    "df_homicide2019_new['percentage'] = round(df_homicide2019_new['percentage'],1)"
   ]
  },
  {
   "cell_type": "code",
   "execution_count": null,
   "metadata": {},
   "outputs": [],
   "source": [
    "df_homicide2019_new.PRECINCT = df_homicide2019_new.PRECINCT.astype(int)"
   ]
  },
  {
   "cell_type": "code",
   "execution_count": null,
   "metadata": {},
   "outputs": [],
   "source": [
    "df_homicide2019_new.to_csv(\"homicides2019.csv\", index=False)"
   ]
  },
  {
   "cell_type": "code",
   "execution_count": null,
   "metadata": {},
   "outputs": [],
   "source": [
    "df_homicide2018 = pd.read_excel(\"supplementary-homicide-report-cy2018.xlsx\")"
   ]
  },
  {
   "cell_type": "code",
   "execution_count": null,
   "metadata": {},
   "outputs": [],
   "source": [
    "new_header = df_homicide2018.iloc[3] #grab the first row for the header\n",
    "df_homicide2018 = df_homicide2018[4:] #take the data less the header row\n",
    "df_homicide2018.columns = new_header #set the header row as the df header"
   ]
  },
  {
   "cell_type": "code",
   "execution_count": null,
   "metadata": {},
   "outputs": [],
   "source": [
    "df_homicide2018.value_counts(\"WEAPON USE\")"
   ]
  },
  {
   "cell_type": "code",
   "execution_count": null,
   "metadata": {},
   "outputs": [],
   "source": [
    "len(df_homicide2018)"
   ]
  },
  {
   "cell_type": "code",
   "execution_count": null,
   "metadata": {},
   "outputs": [],
   "source": [
    "16100/295"
   ]
  },
  {
   "cell_type": "code",
   "execution_count": null,
   "metadata": {},
   "outputs": [],
   "source": [
    "df_homicide2018_new = df_homicide2018.value_counts(\"PRECINCT\")\n",
    "df_homicide2018_new = df_homicide2018_new.to_frame()\n",
    "df_homicide2018_new.reset_index(level=0, inplace=True)\n",
    "df_homicide2018_new = df_homicide2018_new.rename(columns={0: \"NumOfHomicides\"})"
   ]
  },
  {
   "cell_type": "code",
   "execution_count": null,
   "metadata": {},
   "outputs": [],
   "source": [
    "df_homicide2018_new['percentage'] = df_homicide2018_new.NumOfHomicides / 69 * 100\n",
    "df_homicide2018_new['percentage'] = round(df_homicide2018_new['percentage'],1)"
   ]
  },
  {
   "cell_type": "code",
   "execution_count": null,
   "metadata": {},
   "outputs": [],
   "source": [
    "df_homicide2018_new.PRECINCT = df_homicide2018_new.PRECINCT.astype(int)"
   ]
  },
  {
   "cell_type": "code",
   "execution_count": null,
   "metadata": {},
   "outputs": [],
   "source": [
    "df_homicide2018_new.to_csv(\"homicides2018.csv\", index=False)"
   ]
  },
  {
   "cell_type": "code",
   "execution_count": null,
   "metadata": {},
   "outputs": [],
   "source": []
  },
  {
   "cell_type": "code",
   "execution_count": null,
   "metadata": {},
   "outputs": [],
   "source": []
  },
  {
   "cell_type": "markdown",
   "metadata": {},
   "source": [
    "# assign income tiers\n",
    "### lower: - 54103.5\n",
    "### lower-middle: 54103.5 - 68920.0\n",
    "### upper-midde: 68920.0 - 91735.0\n",
    "### upper: 91735.0+"
   ]
  },
  {
   "cell_type": "code",
   "execution_count": null,
   "metadata": {},
   "outputs": [],
   "source": [
    "os.chdir(\"MedianIncomeData\")"
   ]
  },
  {
   "cell_type": "code",
   "execution_count": null,
   "metadata": {},
   "outputs": [],
   "source": [
    "df_MI = pd.read_csv(\"df_MI.csv\")"
   ]
  },
  {
   "cell_type": "code",
   "execution_count": null,
   "metadata": {},
   "outputs": [],
   "source": [
    "df_MI['Median household income2019'].isna().sum()"
   ]
  },
  {
   "cell_type": "code",
   "execution_count": null,
   "metadata": {},
   "outputs": [],
   "source": [
    "# IMPORTANT\n",
    "a = np.array([df_MI['Median household income2019']])\n",
    "fifty = np.percentile(a, 50) # return 50th percentile, e.g median."
   ]
  },
  {
   "cell_type": "code",
   "execution_count": null,
   "metadata": {},
   "outputs": [],
   "source": [
    "fifty"
   ]
  },
  {
   "cell_type": "code",
   "execution_count": null,
   "metadata": {},
   "outputs": [],
   "source": [
    "twentyfive = np.percentile(a, 25) # return 25th percentile, e.g low"
   ]
  },
  {
   "cell_type": "code",
   "execution_count": null,
   "metadata": {},
   "outputs": [],
   "source": [
    "twentyfive"
   ]
  },
  {
   "cell_type": "code",
   "execution_count": null,
   "metadata": {},
   "outputs": [],
   "source": [
    "seventyfive = np.percentile(a, 75) # return 75th percentile, e.g up"
   ]
  },
  {
   "cell_type": "code",
   "execution_count": null,
   "metadata": {},
   "outputs": [],
   "source": [
    "seventyfive"
   ]
  },
  {
   "cell_type": "code",
   "execution_count": null,
   "metadata": {},
   "outputs": [],
   "source": []
  },
  {
   "cell_type": "markdown",
   "metadata": {},
   "source": [
    "## scatter plot map % change in crimes & income tiers"
   ]
  },
  {
   "cell_type": "code",
   "execution_count": null,
   "metadata": {},
   "outputs": [],
   "source": [
    "df_sevenMajorIncome = df_MF4[df_MF4.CRIME == \"TOTAL SEVEN MAJOR FELONY OFFENSES\"]"
   ]
  },
  {
   "cell_type": "code",
   "execution_count": null,
   "metadata": {},
   "outputs": [],
   "source": [
    "df_sevenMajorIncome.head(2)"
   ]
  },
  {
   "cell_type": "code",
   "execution_count": null,
   "metadata": {},
   "outputs": [],
   "source": [
    "df_sevenMajorIncome.columns = df_sevenMajorIncome.columns.astype(str)"
   ]
  },
  {
   "cell_type": "code",
   "execution_count": null,
   "metadata": {},
   "outputs": [],
   "source": [
    "# lower income: - 54103.5"
   ]
  },
  {
   "cell_type": "code",
   "execution_count": null,
   "metadata": {},
   "outputs": [],
   "source": [
    "lower = df_sevenMajorIncome[df_sevenMajorIncome.household_median_income < 54103.5]"
   ]
  },
  {
   "cell_type": "code",
   "execution_count": null,
   "metadata": {},
   "outputs": [],
   "source": [
    "lower['Income_Tier'] = \"Lower\""
   ]
  },
  {
   "cell_type": "code",
   "execution_count": null,
   "metadata": {},
   "outputs": [],
   "source": [
    "len(lower)"
   ]
  },
  {
   "cell_type": "code",
   "execution_count": null,
   "metadata": {},
   "outputs": [],
   "source": [
    "(lower['2021_YTD'].sum() - lower['2020_YTD'].sum()) / lower['2019'].sum() * 100"
   ]
  },
  {
   "cell_type": "code",
   "execution_count": null,
   "metadata": {},
   "outputs": [],
   "source": [
    "# lower-middle: 54103.5 - 68920.0"
   ]
  },
  {
   "cell_type": "code",
   "execution_count": null,
   "metadata": {},
   "outputs": [],
   "source": [
    "lowerMiddle = df_sevenMajorIncome[(df_sevenMajorIncome.household_median_income > 54103.6) &\\\n",
    "                                 (df_sevenMajorIncome.household_median_income < 68920.0)]"
   ]
  },
  {
   "cell_type": "code",
   "execution_count": null,
   "metadata": {},
   "outputs": [],
   "source": [
    "lowerMiddle['Income_Tier'] = \"Lower Middle\""
   ]
  },
  {
   "cell_type": "code",
   "execution_count": null,
   "metadata": {},
   "outputs": [],
   "source": [
    "len(lowerMiddle)"
   ]
  },
  {
   "cell_type": "code",
   "execution_count": null,
   "metadata": {},
   "outputs": [],
   "source": [
    "(lowerMiddle['2020'].sum() - lowerMiddle['2019'].sum()) / lowerMiddle['2019'].sum() * 100"
   ]
  },
  {
   "cell_type": "code",
   "execution_count": null,
   "metadata": {},
   "outputs": [],
   "source": [
    "(lower['2021_YTD'].sum() + lowerMiddle['2021_YTD'].sum()) - (lower['2020_YTD'].sum()+lowerMiddle['2020_YTD'].sum())"
   ]
  },
  {
   "cell_type": "code",
   "execution_count": null,
   "metadata": {},
   "outputs": [],
   "source": [
    "lower['2020_YTD'].sum()+lowerMiddle['2020_YTD'].sum()"
   ]
  },
  {
   "cell_type": "code",
   "execution_count": null,
   "metadata": {},
   "outputs": [],
   "source": [
    "143/29615*100"
   ]
  },
  {
   "cell_type": "code",
   "execution_count": null,
   "metadata": {},
   "outputs": [],
   "source": [
    "# upper-midde: 68920.0 - 91735.0"
   ]
  },
  {
   "cell_type": "code",
   "execution_count": null,
   "metadata": {},
   "outputs": [],
   "source": [
    "upperMiddle = df_sevenMajorIncome[(df_sevenMajorIncome.household_median_income > 68920.1) &\\\n",
    "                                 (df_sevenMajorIncome.household_median_income < 91735.0)]"
   ]
  },
  {
   "cell_type": "code",
   "execution_count": null,
   "metadata": {},
   "outputs": [],
   "source": [
    "upperMiddle['Income_Tier'] = \"Upper Middle\""
   ]
  },
  {
   "cell_type": "code",
   "execution_count": null,
   "metadata": {},
   "outputs": [],
   "source": [
    "len(upperMiddle)"
   ]
  },
  {
   "cell_type": "code",
   "execution_count": null,
   "metadata": {},
   "outputs": [],
   "source": [
    "(upperMiddle['2020'].sum() - upperMiddle['2019'].sum()) / upperMiddle['2019'].sum() * 100"
   ]
  },
  {
   "cell_type": "code",
   "execution_count": null,
   "metadata": {},
   "outputs": [],
   "source": [
    "# upper: 91735.0+"
   ]
  },
  {
   "cell_type": "code",
   "execution_count": null,
   "metadata": {},
   "outputs": [],
   "source": [
    "upper = df_sevenMajorIncome[df_sevenMajorIncome.household_median_income > 91735.1]"
   ]
  },
  {
   "cell_type": "code",
   "execution_count": null,
   "metadata": {},
   "outputs": [],
   "source": [
    "upper['Income_Tier'] = \"Upper\""
   ]
  },
  {
   "cell_type": "code",
   "execution_count": null,
   "metadata": {},
   "outputs": [],
   "source": [
    "len(upper)"
   ]
  },
  {
   "cell_type": "code",
   "execution_count": null,
   "metadata": {},
   "outputs": [],
   "source": [
    "(upper['2020'].sum() - upper['2019'].sum()) / upper['2019'].sum() * 100"
   ]
  },
  {
   "cell_type": "code",
   "execution_count": null,
   "metadata": {},
   "outputs": [],
   "source": [
    "(upperMiddle['2021_YTD'].sum() + upper['2021_YTD'].sum()) - (upperMiddle['2020_YTD'].sum() +upper['2020_YTD'].sum())"
   ]
  },
  {
   "cell_type": "code",
   "execution_count": null,
   "metadata": {},
   "outputs": [],
   "source": [
    "upperMiddle['2020_YTD'].sum() +upper['2020_YTD'].sum()"
   ]
  },
  {
   "cell_type": "code",
   "execution_count": null,
   "metadata": {},
   "outputs": [],
   "source": [
    "-504 / 16816 * 100"
   ]
  },
  {
   "cell_type": "code",
   "execution_count": null,
   "metadata": {},
   "outputs": [],
   "source": [
    "frames = [lower, lowerMiddle, upperMiddle, upper]\n",
    "\n",
    "result = pd.concat(frames)"
   ]
  },
  {
   "cell_type": "code",
   "execution_count": null,
   "metadata": {},
   "outputs": [],
   "source": [
    "result.head(1)"
   ]
  },
  {
   "cell_type": "code",
   "execution_count": null,
   "metadata": {},
   "outputs": [],
   "source": [
    "result=result.rename(columns={\"%_chg_2019-2020\": \"Percent_change_between_2019-2020\", \"%_Chg\": \"Percent_change_between_2020-2021\",\\\n",
    "                             \"household_median_income\":\"Household_Median_Income\"\n",
    "                             })"
   ]
  },
  {
   "cell_type": "code",
   "execution_count": null,
   "metadata": {},
   "outputs": [],
   "source": [
    "result = result[result.PCT!=22]"
   ]
  },
  {
   "cell_type": "code",
   "execution_count": null,
   "metadata": {},
   "outputs": [],
   "source": [
    "import altair as alt\n",
    "from vega_datasets import data\n",
    "\n",
    "incomeTier2020 = alt.Chart(result).mark_circle(size=60).encode(\n",
    "    alt.X('Household_Median_Income:Q'),\n",
    "    alt.Y('Percent_change_between_2019-2020:Q',\n",
    "        scale=alt.Scale(domain=(-40, 40))),\n",
    "    color='Income_Tier',\n",
    "    tooltip=['PCT:N', '%_chg_2019-2020:N']\n",
    ").properties(\n",
    "    width=450,\n",
    "    height=300,\n",
    "    title = 'Change in major crimes by income tier in NYC in 2020'\n",
    ")\n",
    "\n",
    "final_plot2020 = incomeTier2020 + incomeTier2020.transform_regression('Household_Median_Income','Percent_change_between_2019-2020').mark_line()\n",
    "\n",
    "final_plot2020"
   ]
  },
  {
   "cell_type": "code",
   "execution_count": null,
   "metadata": {},
   "outputs": [],
   "source": [
    "# final.save('chart.html')"
   ]
  },
  {
   "cell_type": "code",
   "execution_count": null,
   "metadata": {},
   "outputs": [],
   "source": [
    "## plotting for 2021"
   ]
  },
  {
   "cell_type": "code",
   "execution_count": null,
   "metadata": {},
   "outputs": [],
   "source": [
    "incomeTier2021 = alt.Chart(result).mark_circle(size=60).encode(\n",
    "    alt.X('Household_Median_Income:Q'),\n",
    "    alt.Y('Percent_change_between_2020-2021:Q',\n",
    "        scale=alt.Scale(domain=(-40, 40))),\n",
    "    color='Income_Tier',\n",
    "    tooltip=['PCT:N', 'Percent_change_between_2020-2021:N']\n",
    ").properties(\n",
    "    width=450,\n",
    "    height=300,\n",
    "    title = 'Change in major crimes by income tier in NYC, Jan.-July 2021'\n",
    ") \n",
    "\n",
    "# making the regression line using transform_regression\n",
    "# function and add with the scatter plot\n",
    "final_plot2021 = incomeTier2021 + incomeTier2021.transform_regression('Household_Median_Income','Percent_change_between_2020-2021').mark_line()"
   ]
  },
  {
   "cell_type": "code",
   "execution_count": null,
   "metadata": {},
   "outputs": [],
   "source": [
    "final_plot2021"
   ]
  },
  {
   "cell_type": "code",
   "execution_count": null,
   "metadata": {},
   "outputs": [],
   "source": [
    "final_plot2020|final_plot2021"
   ]
  },
  {
   "cell_type": "code",
   "execution_count": null,
   "metadata": {},
   "outputs": [],
   "source": []
  },
  {
   "cell_type": "code",
   "execution_count": null,
   "metadata": {},
   "outputs": [],
   "source": []
  },
  {
   "cell_type": "code",
   "execution_count": null,
   "metadata": {},
   "outputs": [],
   "source": []
  }
 ],
 "metadata": {
  "kernelspec": {
   "display_name": "Python 3",
   "language": "python",
   "name": "python3"
  },
  "language_info": {
   "codemirror_mode": {
    "name": "ipython",
    "version": 3
   },
   "file_extension": ".py",
   "mimetype": "text/x-python",
   "name": "python",
   "nbconvert_exporter": "python",
   "pygments_lexer": "ipython3",
   "version": "3.8.2"
  }
 },
 "nbformat": 4,
 "nbformat_minor": 4
}
